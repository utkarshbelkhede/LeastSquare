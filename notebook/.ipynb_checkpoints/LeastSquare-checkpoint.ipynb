{
 "cells": [
  {
   "cell_type": "markdown",
   "id": "879cfe26",
   "metadata": {},
   "source": [
    "#### 1. Loading required Libraries"
   ]
  },
  {
   "cell_type": "code",
   "execution_count": 1,
   "id": "f5673b66",
   "metadata": {},
   "outputs": [],
   "source": [
    "import numpy as np               # Linear Algebra\n",
    "import pandas as pd              # Data Handling\n",
    "import seaborn as sns            # Visualization\n",
    "import matplotlib.pyplot as plt  # Visualization\n",
    "from datetime import date        # Use Year\n",
    "import warnings                  # For warnings\n",
    "warnings.filterwarnings('ignore')"
   ]
  },
  {
   "cell_type": "markdown",
   "id": "8b31fe9b",
   "metadata": {},
   "source": [
    "#### 2. Importing dataset into 'cars' dataframe"
   ]
  },
  {
   "cell_type": "code",
   "execution_count": 2,
   "id": "8f1a6bf2",
   "metadata": {},
   "outputs": [
    {
     "data": {
      "text/html": [
       "<div>\n",
       "<style scoped>\n",
       "    .dataframe tbody tr th:only-of-type {\n",
       "        vertical-align: middle;\n",
       "    }\n",
       "\n",
       "    .dataframe tbody tr th {\n",
       "        vertical-align: top;\n",
       "    }\n",
       "\n",
       "    .dataframe thead th {\n",
       "        text-align: right;\n",
       "    }\n",
       "</style>\n",
       "<table border=\"1\" class=\"dataframe\">\n",
       "  <thead>\n",
       "    <tr style=\"text-align: right;\">\n",
       "      <th></th>\n",
       "      <th>name</th>\n",
       "      <th>year</th>\n",
       "      <th>selling_price</th>\n",
       "      <th>km_driven</th>\n",
       "      <th>fuel</th>\n",
       "      <th>seller_type</th>\n",
       "      <th>transmission</th>\n",
       "      <th>owner</th>\n",
       "      <th>mileage</th>\n",
       "      <th>engine</th>\n",
       "      <th>max_power</th>\n",
       "      <th>torque</th>\n",
       "      <th>seats</th>\n",
       "    </tr>\n",
       "  </thead>\n",
       "  <tbody>\n",
       "    <tr>\n",
       "      <th>0</th>\n",
       "      <td>Maruti Swift Dzire VDI</td>\n",
       "      <td>2014</td>\n",
       "      <td>450000</td>\n",
       "      <td>145500</td>\n",
       "      <td>Diesel</td>\n",
       "      <td>Individual</td>\n",
       "      <td>Manual</td>\n",
       "      <td>First Owner</td>\n",
       "      <td>23.4 kmpl</td>\n",
       "      <td>1248 CC</td>\n",
       "      <td>74 bhp</td>\n",
       "      <td>190Nm@ 2000rpm</td>\n",
       "      <td>5.0</td>\n",
       "    </tr>\n",
       "    <tr>\n",
       "      <th>1</th>\n",
       "      <td>Skoda Rapid 1.5 TDI Ambition</td>\n",
       "      <td>2014</td>\n",
       "      <td>370000</td>\n",
       "      <td>120000</td>\n",
       "      <td>Diesel</td>\n",
       "      <td>Individual</td>\n",
       "      <td>Manual</td>\n",
       "      <td>Second Owner</td>\n",
       "      <td>21.14 kmpl</td>\n",
       "      <td>1498 CC</td>\n",
       "      <td>103.52 bhp</td>\n",
       "      <td>250Nm@ 1500-2500rpm</td>\n",
       "      <td>5.0</td>\n",
       "    </tr>\n",
       "    <tr>\n",
       "      <th>2</th>\n",
       "      <td>Honda City 2017-2020 EXi</td>\n",
       "      <td>2006</td>\n",
       "      <td>158000</td>\n",
       "      <td>140000</td>\n",
       "      <td>Petrol</td>\n",
       "      <td>Individual</td>\n",
       "      <td>Manual</td>\n",
       "      <td>Third Owner</td>\n",
       "      <td>17.7 kmpl</td>\n",
       "      <td>1497 CC</td>\n",
       "      <td>78 bhp</td>\n",
       "      <td>12.7@ 2,700(kgm@ rpm)</td>\n",
       "      <td>5.0</td>\n",
       "    </tr>\n",
       "    <tr>\n",
       "      <th>3</th>\n",
       "      <td>Hyundai i20 Sportz Diesel</td>\n",
       "      <td>2010</td>\n",
       "      <td>225000</td>\n",
       "      <td>127000</td>\n",
       "      <td>Diesel</td>\n",
       "      <td>Individual</td>\n",
       "      <td>Manual</td>\n",
       "      <td>First Owner</td>\n",
       "      <td>23.0 kmpl</td>\n",
       "      <td>1396 CC</td>\n",
       "      <td>90 bhp</td>\n",
       "      <td>22.4 kgm at 1750-2750rpm</td>\n",
       "      <td>5.0</td>\n",
       "    </tr>\n",
       "    <tr>\n",
       "      <th>4</th>\n",
       "      <td>Maruti Swift VXI BSIII</td>\n",
       "      <td>2007</td>\n",
       "      <td>130000</td>\n",
       "      <td>120000</td>\n",
       "      <td>Petrol</td>\n",
       "      <td>Individual</td>\n",
       "      <td>Manual</td>\n",
       "      <td>First Owner</td>\n",
       "      <td>16.1 kmpl</td>\n",
       "      <td>1298 CC</td>\n",
       "      <td>88.2 bhp</td>\n",
       "      <td>11.5@ 4,500(kgm@ rpm)</td>\n",
       "      <td>5.0</td>\n",
       "    </tr>\n",
       "  </tbody>\n",
       "</table>\n",
       "</div>"
      ],
      "text/plain": [
       "                           name  year  selling_price  km_driven    fuel  \\\n",
       "0        Maruti Swift Dzire VDI  2014         450000     145500  Diesel   \n",
       "1  Skoda Rapid 1.5 TDI Ambition  2014         370000     120000  Diesel   \n",
       "2      Honda City 2017-2020 EXi  2006         158000     140000  Petrol   \n",
       "3     Hyundai i20 Sportz Diesel  2010         225000     127000  Diesel   \n",
       "4        Maruti Swift VXI BSIII  2007         130000     120000  Petrol   \n",
       "\n",
       "  seller_type transmission         owner     mileage   engine   max_power  \\\n",
       "0  Individual       Manual   First Owner   23.4 kmpl  1248 CC      74 bhp   \n",
       "1  Individual       Manual  Second Owner  21.14 kmpl  1498 CC  103.52 bhp   \n",
       "2  Individual       Manual   Third Owner   17.7 kmpl  1497 CC      78 bhp   \n",
       "3  Individual       Manual   First Owner   23.0 kmpl  1396 CC      90 bhp   \n",
       "4  Individual       Manual   First Owner   16.1 kmpl  1298 CC    88.2 bhp   \n",
       "\n",
       "                     torque  seats  \n",
       "0            190Nm@ 2000rpm    5.0  \n",
       "1       250Nm@ 1500-2500rpm    5.0  \n",
       "2     12.7@ 2,700(kgm@ rpm)    5.0  \n",
       "3  22.4 kgm at 1750-2750rpm    5.0  \n",
       "4     11.5@ 4,500(kgm@ rpm)    5.0  "
      ]
     },
     "execution_count": 2,
     "metadata": {},
     "output_type": "execute_result"
    }
   ],
   "source": [
    "cars = pd.read_csv(\"../datasets/Car_details_v3.csv\")\n",
    "cars.head()"
   ]
  },
  {
   "cell_type": "code",
   "execution_count": 39,
   "id": "dfa10beb",
   "metadata": {},
   "outputs": [
    {
     "data": {
      "image/png": "[encoded data removed]",
      "text/plain": [
       "<Figure size 1080x720 with 1 Axes>"
      ]
     },
     "metadata": {},
     "output_type": "display_data"
    }
   ],
   "source": [
    "sns.kdeplot(x=\"selling_price\", data=cars)\n",
    "plt.show()"
   ]
  },
  {
   "cell_type": "markdown",
   "id": "3dec43dd",
   "metadata": {},
   "source": [
    "#### 3. Description of Dataset"
   ]
  },
  {
   "cell_type": "markdown",
   "id": "5edea187",
   "metadata": {},
   "source": [
    "#### 3.1 Shape of Dataset"
   ]
  },
  {
   "cell_type": "code",
   "execution_count": 3,
   "id": "77f929f6",
   "metadata": {},
   "outputs": [
    {
     "name": "stdout",
     "output_type": "stream",
     "text": [
      "There are \u001b[1m 8128 rows\\patterns \u001b[0m and \u001b[1m13 features\u001b[0m.\n"
     ]
    }
   ],
   "source": [
    "shape = cars.shape\n",
    "print(f\"There are \\033[1m {shape[0]} rows\\patterns \\033[0m and \\033[1m{shape[1]} features\\033[0m.\")"
   ]
  },
  {
   "cell_type": "markdown",
   "id": "28463486",
   "metadata": {},
   "source": [
    "#### 3.2 info"
   ]
  },
  {
   "cell_type": "code",
   "execution_count": 4,
   "id": "d1cd33ee",
   "metadata": {},
   "outputs": [
    {
     "name": "stdout",
     "output_type": "stream",
     "text": [
      "<class 'pandas.core.frame.DataFrame'>\n",
      "RangeIndex: 8128 entries, 0 to 8127\n",
      "Data columns (total 13 columns):\n",
      " #   Column         Non-Null Count  Dtype  \n",
      "---  ------         --------------  -----  \n",
      " 0   name           8128 non-null   object \n",
      " 1   year           8128 non-null   int64  \n",
      " 2   selling_price  8128 non-null   int64  \n",
      " 3   km_driven      8128 non-null   int64  \n",
      " 4   fuel           8128 non-null   object \n",
      " 5   seller_type    8128 non-null   object \n",
      " 6   transmission   8128 non-null   object \n",
      " 7   owner          8128 non-null   object \n",
      " 8   mileage        7907 non-null   object \n",
      " 9   engine         7907 non-null   object \n",
      " 10  max_power      7913 non-null   object \n",
      " 11  torque         7906 non-null   object \n",
      " 12  seats          7907 non-null   float64\n",
      "dtypes: float64(1), int64(3), object(9)\n",
      "memory usage: 825.6+ KB\n"
     ]
    }
   ],
   "source": [
    "cars.info()"
   ]
  },
  {
   "cell_type": "markdown",
   "id": "c55f105e",
   "metadata": {},
   "source": [
    "#### 3.3 Missing Values for features"
   ]
  },
  {
   "cell_type": "code",
   "execution_count": 5,
   "id": "89159871",
   "metadata": {},
   "outputs": [
    {
     "data": {
      "text/plain": [
       "[['mileage', 221],\n",
       " ['engine', 221],\n",
       " ['max_power', 215],\n",
       " ['torque', 222],\n",
       " ['seats', 221]]"
      ]
     },
     "execution_count": 5,
     "metadata": {},
     "output_type": "execute_result"
    }
   ],
   "source": [
    "[[features,cars[features].isnull().sum()] for features in cars.columns if cars[features].isnull().sum()>0]"
   ]
  },
  {
   "cell_type": "markdown",
   "id": "918152da",
   "metadata": {},
   "source": [
    "#### 3.4 Heat Map for Missing Values"
   ]
  },
  {
   "cell_type": "code",
   "execution_count": 6,
   "id": "5ce4232c",
   "metadata": {},
   "outputs": [
    {
     "data": {
      "image/png": "[encoded data removed]",
      "text/plain": [
       "<Figure size 576x360 with 1 Axes>"
      ]
     },
     "metadata": {},
     "output_type": "display_data"
    }
   ],
   "source": [
    "fig = sns.set(rc={'figure.figsize': (8, 5)})\n",
    "plt.title(\"Heat Map for Missing Values\")\n",
    "sns.heatmap(cars.isnull(),yticklabels=False,cbar=False,cmap='viridis')\n",
    "plt.show()"
   ]
  },
  {
   "cell_type": "markdown",
   "id": "9cd0e7a6",
   "metadata": {},
   "source": [
    "#### 3.5 Dropping NA values"
   ]
  },
  {
   "cell_type": "code",
   "execution_count": 7,
   "id": "9c037006",
   "metadata": {},
   "outputs": [],
   "source": [
    "cars.dropna(inplace=True)"
   ]
  },
  {
   "cell_type": "markdown",
   "id": "f69b857a",
   "metadata": {},
   "source": [
    "Approximately, **2% values are Na**. Therefore, to simplify things, we dropped them."
   ]
  },
  {
   "cell_type": "markdown",
   "id": "5e24b2ee",
   "metadata": {},
   "source": [
    "#### 4. Exploratory Data Analysis"
   ]
  },
  {
   "cell_type": "markdown",
   "id": "b695f850",
   "metadata": {},
   "source": [
    "#### 4.1.1. Type of Owner and Number of Cars"
   ]
  },
  {
   "cell_type": "code",
   "execution_count": 8,
   "id": "a3b0f94f",
   "metadata": {},
   "outputs": [
    {
     "data": {
      "text/plain": [
       "First Owner             5215\n",
       "Second Owner            2016\n",
       "Third Owner              510\n",
       "Fourth & Above Owner     160\n",
       "Test Drive Car             5\n",
       "Name: owner, dtype: int64"
      ]
     },
     "execution_count": 8,
     "metadata": {},
     "output_type": "execute_result"
    }
   ],
   "source": [
    "cars['owner'].value_counts()"
   ]
  },
  {
   "cell_type": "markdown",
   "id": "74025c60",
   "metadata": {},
   "source": [
    "#### 4.1.2. Countplot Owner Type Vs Number of Cars"
   ]
  },
  {
   "cell_type": "code",
   "execution_count": 9,
   "id": "fab268b4",
   "metadata": {},
   "outputs": [
    {
     "data": {
      "image/png": "[encoded data removed]",
      "text/plain": [
       "<Figure size 720x576 with 1 Axes>"
      ]
     },
     "metadata": {},
     "output_type": "display_data"
    }
   ],
   "source": [
    "fig = sns.set(rc={'figure.figsize': (10, 8)})\n",
    "plt.title(\"Countplot Owner Type Vs Number of Cars\")\n",
    "sns.countplot(x ='owner', data = cars).set_ylabel(\"No. Of Cars\", fontsize = 10)\n",
    "plt.show()"
   ]
  },
  {
   "cell_type": "markdown",
   "id": "028085d2",
   "metadata": {},
   "source": [
    "#### Observation\n",
    "**First Owned Cars** are **highest among all**."
   ]
  },
  {
   "cell_type": "markdown",
   "id": "5b639e93",
   "metadata": {},
   "source": [
    "#### 4.1.4. Pie Chart Type of Owner Vs Number of cars."
   ]
  },
  {
   "cell_type": "code",
   "execution_count": 10,
   "id": "f79bd03c",
   "metadata": {},
   "outputs": [
    {
     "data": {
      "image/png": "[encoded data removed]",
      "text/plain": [
       "<Figure size 720x576 with 1 Axes>"
      ]
     },
     "metadata": {},
     "output_type": "display_data"
    }
   ],
   "source": [
    "fig = sns.set(rc={'figure.figsize': (10, 8)})\n",
    "plt.title(\"Type of Owner Vs Number of cars\")\n",
    "plt.pie(cars['owner'].value_counts(),labels=cars['owner'].unique(),pctdistance=1.1, labeldistance=1.2,autopct='%.2f')\n",
    "plt.show()"
   ]
  },
  {
   "cell_type": "markdown",
   "id": "c0dacfe4",
   "metadata": {},
   "source": [
    "#### Observation\n",
    "\n",
    "1. **65.96 %** of cars are **First Owned**.\n",
    "2. **25.50 %** of cars are **Second Owned**.\n",
    "3. **6.45 %** of cars are **Third Owned**.\n",
    "4. **2.02 %** of cars are **Fourth and Above Owned**.\n",
    "5. **0.06 %** of cars are **Test Drive Cars**."
   ]
  },
  {
   "cell_type": "markdown",
   "id": "4098722b",
   "metadata": {},
   "source": [
    "#### 4.2. Barplot Owner Vs Selling Price"
   ]
  },
  {
   "cell_type": "code",
   "execution_count": 11,
   "id": "f66b7300",
   "metadata": {},
   "outputs": [
    {
     "data": {
      "image/png": "[encoded data removed]",
      "text/plain": [
       "<Figure size 720x576 with 1 Axes>"
      ]
     },
     "metadata": {},
     "output_type": "display_data"
    }
   ],
   "source": [
    "fig = sns.set(rc={'figure.figsize': (10, 8)})\n",
    "plt.title(\"Owner Vs Selling Price\")\n",
    "sns.barplot(x='owner',y='selling_price',data=cars,palette='spring')\n",
    "plt.show()"
   ]
  },
  {
   "cell_type": "markdown",
   "id": "1a1629e6",
   "metadata": {},
   "source": [
    "#### Observation\n",
    "\n",
    "**Test Drive cars** have **high average selling price**. \n",
    "\n",
    "As **number of owners** increases the **selling price** of car **decreases**."
   ]
  },
  {
   "cell_type": "markdown",
   "id": "48b5ba84",
   "metadata": {},
   "source": [
    "#### 4.3.1. Automatic Vs Manual"
   ]
  },
  {
   "cell_type": "code",
   "execution_count": 12,
   "id": "b7c969b5",
   "metadata": {},
   "outputs": [
    {
     "data": {
      "text/plain": [
       "Manual       6865\n",
       "Automatic    1041\n",
       "Name: transmission, dtype: int64"
      ]
     },
     "execution_count": 12,
     "metadata": {},
     "output_type": "execute_result"
    }
   ],
   "source": [
    "cars['transmission'].value_counts()"
   ]
  },
  {
   "cell_type": "markdown",
   "id": "ec5203b4",
   "metadata": {},
   "source": [
    "#### 4.3.2. Countplot Transmission Vs Number of Cars"
   ]
  },
  {
   "cell_type": "code",
   "execution_count": 13,
   "id": "2dbb5f27",
   "metadata": {},
   "outputs": [
    {
     "data": {
      "image/png": "[encoded data removed]",
      "text/plain": [
       "<Figure size 720x576 with 1 Axes>"
      ]
     },
     "metadata": {},
     "output_type": "display_data"
    }
   ],
   "source": [
    "fig = sns.set(rc={'figure.figsize': (10, 8)})\n",
    "plt.title(\"Transmission Vs Number of Cars\")\n",
    "sns.countplot(x ='transmission', data = cars).set_ylabel(\"No. Of Cars\", fontsize = 10)\n",
    "plt.show()"
   ]
  },
  {
   "cell_type": "markdown",
   "id": "1ee3abc7",
   "metadata": {},
   "source": [
    "#### Observation\n",
    "\n",
    "Most of the cars are **Manual**."
   ]
  },
  {
   "cell_type": "markdown",
   "id": "d69a55a0",
   "metadata": {},
   "source": [
    "#### 4.4. Barplot Transmission Vs Selling Price"
   ]
  },
  {
   "cell_type": "code",
   "execution_count": 14,
   "id": "79b55c73",
   "metadata": {},
   "outputs": [
    {
     "data": {
      "image/png": "[encoded data removed]",
      "text/plain": [
       "<Figure size 720x576 with 1 Axes>"
      ]
     },
     "metadata": {},
     "output_type": "display_data"
    }
   ],
   "source": [
    "fig = sns.set(rc={'figure.figsize': (10, 8)})\n",
    "plt.title(\"Transmission Vs Selling Price\")\n",
    "sns.barplot(x='transmission',y='selling_price',data=cars,palette='spring')\n",
    "plt.show()"
   ]
  },
  {
   "cell_type": "markdown",
   "id": "117672fe",
   "metadata": {},
   "source": [
    "#### Observation\n",
    "\n",
    "Cars having **Automatic Transmission have high selling price**."
   ]
  },
  {
   "cell_type": "markdown",
   "id": "f23605ad",
   "metadata": {},
   "source": [
    "#### 4.5. Countplot Fuel Vs Number of Cars"
   ]
  },
  {
   "cell_type": "code",
   "execution_count": 15,
   "id": "7b1b8a0e",
   "metadata": {},
   "outputs": [
    {
     "data": {
      "image/png": "[encoded data removed]",
      "text/plain": [
       "<Figure size 720x576 with 1 Axes>"
      ]
     },
     "metadata": {},
     "output_type": "display_data"
    }
   ],
   "source": [
    "fig = sns.set(rc={'figure.figsize': (10, 8)})\n",
    "plt.title(\"Fuel Vs Number of Cars\")\n",
    "sns.countplot(x ='fuel', data = cars).set_ylabel(\"No. Of Cars\", fontsize = 10)\n",
    "plt.show()"
   ]
  },
  {
   "cell_type": "markdown",
   "id": "49d85670",
   "metadata": {},
   "source": [
    "#### Observation\n",
    "\n",
    "Most of the cars are **Diesel**."
   ]
  },
  {
   "cell_type": "markdown",
   "id": "51457ab9",
   "metadata": {},
   "source": [
    "#### 4.6. Barplot Fuel Vs Selling Price"
   ]
  },
  {
   "cell_type": "code",
   "execution_count": 16,
   "id": "6875283e",
   "metadata": {},
   "outputs": [
    {
     "data": {
      "image/png": "[encoded data removed]",
      "text/plain": [
       "<Figure size 720x576 with 1 Axes>"
      ]
     },
     "metadata": {},
     "output_type": "display_data"
    }
   ],
   "source": [
    "fig = sns.set(rc={'figure.figsize': (10, 8)})\n",
    "plt.title(\"Fuel Vs Selling Price\")\n",
    "sns.barplot(x='fuel',y='selling_price',data=cars,palette='spring')\n",
    "plt.show()"
   ]
  },
  {
   "cell_type": "markdown",
   "id": "fc822d9e",
   "metadata": {},
   "source": [
    "#### Observation\n",
    "\n",
    "**Diesel cars** have **high average selling price**."
   ]
  },
  {
   "cell_type": "markdown",
   "id": "bf1d9a19",
   "metadata": {},
   "source": [
    "#### 4.7. Countplot Number of cars sold per year."
   ]
  },
  {
   "cell_type": "code",
   "execution_count": 17,
   "id": "4fe7d2f6",
   "metadata": {
    "scrolled": true
   },
   "outputs": [
    {
     "data": {
      "image/png": "[encoded data removed]",
      "text/plain": [
       "<Figure size 1080x720 with 1 Axes>"
      ]
     },
     "metadata": {},
     "output_type": "display_data"
    }
   ],
   "source": [
    "fig = sns.set(rc={'figure.figsize': (15, 10)})\n",
    "plt.title(\"Fuel Vs Selling Price\")\n",
    "sns.countplot(x ='year', data = cars).set_ylabel(\"No. Of Cars\", fontsize = 10)\n",
    "plt.show()"
   ]
  },
  {
   "cell_type": "markdown",
   "id": "e0e1b794",
   "metadata": {},
   "source": [
    "#### Observation\n",
    "\n",
    "In the year 2017, Most of the cars were sold."
   ]
  },
  {
   "cell_type": "markdown",
   "id": "82b8f1a9",
   "metadata": {},
   "source": [
    "#### 5. Feature Engineering"
   ]
  },
  {
   "cell_type": "code",
   "execution_count": 18,
   "id": "98e9ba18",
   "metadata": {},
   "outputs": [],
   "source": [
    "def feature_eng(cars):\n",
    "    \n",
    "    # extracts the company name from name column\n",
    "    #cars[\"company\"] = cars[\"name\"].str.split().str.slice(start=0,stop=1).str.join(' ')\n",
    "    \n",
    "    # extracts the model name from name column\n",
    "    #cars[\"model\"] = cars[\"name\"].str.split().str.slice(start=1,stop=2).str.join(' ')\n",
    "    \n",
    "    cars[\"name\"] = cars[\"name\"].str.split().str.slice(start=1,stop=2).str.join(' ')\n",
    "    \n",
    "    # We compute age of car and store it in the age columns\n",
    "    cars[\"age\"] = date.today().year - cars.year\n",
    "    \n",
    "    # extracting numbers from mileage and converting into float\n",
    "    cars[\"mileage_kmpl\"] = cars.mileage.str.extract(r'(^[0-9]*.[0-9]*)').astype(\"float64\")\n",
    "    \n",
    "    # extracting numbers from max_power and converting into float\n",
    "    cars[\"max_power_bhp\"] = cars.max_power.str.extract(r'(^[0-9]*.[0-9]*)').astype(\"float64\")\n",
    "    \n",
    "    # extracting numbers from engine and converting into int\n",
    "    cars[\"engine_cc\"] = cars.engine.str.extract(r'(^[0-9]*.[0-9]*)').astype(int)\n",
    "    \n",
    "    # We encode the owner categories in the order : \n",
    "    # 'Test Drive Car' > 'First Owner' > 'Second Owner' > 'Third Owner' > 'Fourth & Above Owner'\n",
    "    cars[\"owner\"] = cars.owner.map({'Test Drive Car': 5, 'First Owner': 4, 'Second Owner': 3, 'Third Owner': 2, 'Fourth & Above Owner': 1})\n",
    "    \n",
    "    # Encoding Transmission values\n",
    "    cars[\"transmission_manual\"] = cars.transmission.map({'Manual': 1, 'Automatic': 0})\n",
    "\n",
    "    # Encoding Seller Information in the order: \n",
    "    # 'Individual' < 'Dealer' < 'Trustmark Dealer'\n",
    "    cars[\"seller_type\"] = cars.seller_type.map({'Trustmark Dealer': 3, 'Dealer': 2, 'Individual': 1})\n",
    "\n",
    "    # converting column seats into int\n",
    "    cars[\"seats\"] = cars.seats.astype(int)\n",
    "    \n",
    "    # columns to remove\n",
    "    remove_cols = [\"year\", \"mileage\",\"engine\",\"torque\",\"max_power\",\"transmission\"]\n",
    "    \n",
    "    # removing the columns\n",
    "    cars.drop(columns =remove_cols, inplace=True)\n",
    "    \n",
    "    return cars"
   ]
  },
  {
   "cell_type": "code",
   "execution_count": 19,
   "id": "d561691f",
   "metadata": {},
   "outputs": [
    {
     "data": {
      "text/html": [
       "<div>\n",
       "<style scoped>\n",
       "    .dataframe tbody tr th:only-of-type {\n",
       "        vertical-align: middle;\n",
       "    }\n",
       "\n",
       "    .dataframe tbody tr th {\n",
       "        vertical-align: top;\n",
       "    }\n",
       "\n",
       "    .dataframe thead th {\n",
       "        text-align: right;\n",
       "    }\n",
       "</style>\n",
       "<table border=\"1\" class=\"dataframe\">\n",
       "  <thead>\n",
       "    <tr style=\"text-align: right;\">\n",
       "      <th></th>\n",
       "      <th>name</th>\n",
       "      <th>selling_price</th>\n",
       "      <th>km_driven</th>\n",
       "      <th>fuel</th>\n",
       "      <th>seller_type</th>\n",
       "      <th>owner</th>\n",
       "      <th>seats</th>\n",
       "      <th>age</th>\n",
       "      <th>mileage_kmpl</th>\n",
       "      <th>max_power_bhp</th>\n",
       "      <th>engine_cc</th>\n",
       "      <th>transmission_manual</th>\n",
       "    </tr>\n",
       "  </thead>\n",
       "  <tbody>\n",
       "    <tr>\n",
       "      <th>0</th>\n",
       "      <td>Swift</td>\n",
       "      <td>450000</td>\n",
       "      <td>145500</td>\n",
       "      <td>Diesel</td>\n",
       "      <td>1</td>\n",
       "      <td>4</td>\n",
       "      <td>5</td>\n",
       "      <td>8</td>\n",
       "      <td>23.40</td>\n",
       "      <td>74.00</td>\n",
       "      <td>1248</td>\n",
       "      <td>1</td>\n",
       "    </tr>\n",
       "    <tr>\n",
       "      <th>1</th>\n",
       "      <td>Rapid</td>\n",
       "      <td>370000</td>\n",
       "      <td>120000</td>\n",
       "      <td>Diesel</td>\n",
       "      <td>1</td>\n",
       "      <td>3</td>\n",
       "      <td>5</td>\n",
       "      <td>8</td>\n",
       "      <td>21.14</td>\n",
       "      <td>103.52</td>\n",
       "      <td>1498</td>\n",
       "      <td>1</td>\n",
       "    </tr>\n",
       "    <tr>\n",
       "      <th>2</th>\n",
       "      <td>City</td>\n",
       "      <td>158000</td>\n",
       "      <td>140000</td>\n",
       "      <td>Petrol</td>\n",
       "      <td>1</td>\n",
       "      <td>2</td>\n",
       "      <td>5</td>\n",
       "      <td>16</td>\n",
       "      <td>17.70</td>\n",
       "      <td>78.00</td>\n",
       "      <td>1497</td>\n",
       "      <td>1</td>\n",
       "    </tr>\n",
       "    <tr>\n",
       "      <th>3</th>\n",
       "      <td>i20</td>\n",
       "      <td>225000</td>\n",
       "      <td>127000</td>\n",
       "      <td>Diesel</td>\n",
       "      <td>1</td>\n",
       "      <td>4</td>\n",
       "      <td>5</td>\n",
       "      <td>12</td>\n",
       "      <td>23.00</td>\n",
       "      <td>90.00</td>\n",
       "      <td>1396</td>\n",
       "      <td>1</td>\n",
       "    </tr>\n",
       "    <tr>\n",
       "      <th>4</th>\n",
       "      <td>Swift</td>\n",
       "      <td>130000</td>\n",
       "      <td>120000</td>\n",
       "      <td>Petrol</td>\n",
       "      <td>1</td>\n",
       "      <td>4</td>\n",
       "      <td>5</td>\n",
       "      <td>15</td>\n",
       "      <td>16.10</td>\n",
       "      <td>88.20</td>\n",
       "      <td>1298</td>\n",
       "      <td>1</td>\n",
       "    </tr>\n",
       "  </tbody>\n",
       "</table>\n",
       "</div>"
      ],
      "text/plain": [
       "    name  selling_price  km_driven    fuel  seller_type  owner  seats  age  \\\n",
       "0  Swift         450000     145500  Diesel            1      4      5    8   \n",
       "1  Rapid         370000     120000  Diesel            1      3      5    8   \n",
       "2   City         158000     140000  Petrol            1      2      5   16   \n",
       "3    i20         225000     127000  Diesel            1      4      5   12   \n",
       "4  Swift         130000     120000  Petrol            1      4      5   15   \n",
       "\n",
       "   mileage_kmpl  max_power_bhp  engine_cc  transmission_manual  \n",
       "0         23.40          74.00       1248                    1  \n",
       "1         21.14         103.52       1498                    1  \n",
       "2         17.70          78.00       1497                    1  \n",
       "3         23.00          90.00       1396                    1  \n",
       "4         16.10          88.20       1298                    1  "
      ]
     },
     "execution_count": 19,
     "metadata": {},
     "output_type": "execute_result"
    }
   ],
   "source": [
    "cars = feature_eng(cars)\n",
    "cars.head()"
   ]
  },
  {
   "cell_type": "markdown",
   "id": "5389ec13",
   "metadata": {},
   "source": [
    "#### 6. Model Fitting"
   ]
  },
  {
   "cell_type": "markdown",
   "id": "c01fb68a",
   "metadata": {},
   "source": [
    "#### 6.1. Splitting Data into X and y"
   ]
  },
  {
   "cell_type": "code",
   "execution_count": 20,
   "id": "a3d24c3a",
   "metadata": {},
   "outputs": [],
   "source": [
    "X = cars.drop(columns =['selling_price'])\n",
    "y = cars['selling_price']"
   ]
  },
  {
   "cell_type": "markdown",
   "id": "49b7698b",
   "metadata": {},
   "source": [
    "#### 6.2. Importing libraries for model fitting"
   ]
  },
  {
   "cell_type": "code",
   "execution_count": 21,
   "id": "aa935629",
   "metadata": {},
   "outputs": [],
   "source": [
    "from sklearn.model_selection import train_test_split\n",
    "from sklearn.preprocessing import OneHotEncoder\n",
    "from sklearn.compose import make_column_transformer\n",
    "from sklearn.preprocessing import StandardScaler\n",
    "from sklearn.pipeline import make_pipeline\n",
    "from sklearn.linear_model import LinearRegression, RidgeCV, LassoCV\n",
    "from sklearn.metrics import r2_score, mean_squared_error, mean_absolute_error"
   ]
  },
  {
   "cell_type": "markdown",
   "id": "1a93f129",
   "metadata": {},
   "source": [
    "#### 6.3. Pipeline"
   ]
  },
  {
   "cell_type": "markdown",
   "id": "bee2538c",
   "metadata": {},
   "source": [
    "#### 6.3.1. One Hot Encoding"
   ]
  },
  {
   "cell_type": "code",
   "execution_count": 22,
   "id": "82164a21",
   "metadata": {},
   "outputs": [
    {
     "data": {
      "text/html": [
       "<style>#sk-container-id-1 {color: black;background-color: white;}#sk-container-id-1 pre{padding: 0;}#sk-container-id-1 div.sk-toggleable {background-color: white;}#sk-container-id-1 label.sk-toggleable__label {cursor: pointer;display: block;width: 100%;margin-bottom: 0;padding: 0.3em;box-sizing: border-box;text-align: center;}#sk-container-id-1 label.sk-toggleable__label-arrow:before {content: \"▸\";float: left;margin-right: 0.25em;color: #696969;}#sk-container-id-1 label.sk-toggleable__label-arrow:hover:before {color: black;}#sk-container-id-1 div.sk-estimator:hover label.sk-toggleable__label-arrow:before {color: black;}#sk-container-id-1 div.sk-toggleable__content {max-height: 0;max-width: 0;overflow: hidden;text-align: left;background-color: #f0f8ff;}#sk-container-id-1 div.sk-toggleable__content pre {margin: 0.2em;color: black;border-radius: 0.25em;background-color: #f0f8ff;}#sk-container-id-1 input.sk-toggleable__control:checked~div.sk-toggleable__content {max-height: 200px;max-width: 100%;overflow: auto;}#sk-container-id-1 input.sk-toggleable__control:checked~label.sk-toggleable__label-arrow:before {content: \"▾\";}#sk-container-id-1 div.sk-estimator input.sk-toggleable__control:checked~label.sk-toggleable__label {background-color: #d4ebff;}#sk-container-id-1 div.sk-label input.sk-toggleable__control:checked~label.sk-toggleable__label {background-color: #d4ebff;}#sk-container-id-1 input.sk-hidden--visually {border: 0;clip: rect(1px 1px 1px 1px);clip: rect(1px, 1px, 1px, 1px);height: 1px;margin: -1px;overflow: hidden;padding: 0;position: absolute;width: 1px;}#sk-container-id-1 div.sk-estimator {font-family: monospace;background-color: #f0f8ff;border: 1px dotted black;border-radius: 0.25em;box-sizing: border-box;margin-bottom: 0.5em;}#sk-container-id-1 div.sk-estimator:hover {background-color: #d4ebff;}#sk-container-id-1 div.sk-parallel-item::after {content: \"\";width: 100%;border-bottom: 1px solid gray;flex-grow: 1;}#sk-container-id-1 div.sk-label:hover label.sk-toggleable__label {background-color: #d4ebff;}#sk-container-id-1 div.sk-serial::before {content: \"\";position: absolute;border-left: 1px solid gray;box-sizing: border-box;top: 0;bottom: 0;left: 50%;z-index: 0;}#sk-container-id-1 div.sk-serial {display: flex;flex-direction: column;align-items: center;background-color: white;padding-right: 0.2em;padding-left: 0.2em;position: relative;}#sk-container-id-1 div.sk-item {position: relative;z-index: 1;}#sk-container-id-1 div.sk-parallel {display: flex;align-items: stretch;justify-content: center;background-color: white;position: relative;}#sk-container-id-1 div.sk-item::before, #sk-container-id-1 div.sk-parallel-item::before {content: \"\";position: absolute;border-left: 1px solid gray;box-sizing: border-box;top: 0;bottom: 0;left: 50%;z-index: -1;}#sk-container-id-1 div.sk-parallel-item {display: flex;flex-direction: column;z-index: 1;position: relative;background-color: white;}#sk-container-id-1 div.sk-parallel-item:first-child::after {align-self: flex-end;width: 50%;}#sk-container-id-1 div.sk-parallel-item:last-child::after {align-self: flex-start;width: 50%;}#sk-container-id-1 div.sk-parallel-item:only-child::after {width: 0;}#sk-container-id-1 div.sk-dashed-wrapped {border: 1px dashed gray;margin: 0 0.4em 0.5em 0.4em;box-sizing: border-box;padding-bottom: 0.4em;background-color: white;}#sk-container-id-1 div.sk-label label {font-family: monospace;font-weight: bold;display: inline-block;line-height: 1.2em;}#sk-container-id-1 div.sk-label-container {text-align: center;}#sk-container-id-1 div.sk-container {/* jupyter's `normalize.less` sets `[hidden] { display: none; }` but bootstrap.min.css set `[hidden] { display: none !important; }` so we also need the `!important` here to be able to override the default hidden behavior on the sphinx rendered scikit-learn.org. See: https://github.com/scikit-learn/scikit-learn/issues/21755 */display: inline-block !important;position: relative;}#sk-container-id-1 div.sk-text-repr-fallback {display: none;}</style><div id=\"sk-container-id-1\" class=\"sk-top-container\"><div class=\"sk-text-repr-fallback\"><pre>OneHotEncoder()</pre><b>In a Jupyter environment, please rerun this cell to show the HTML representation or trust the notebook. <br />On GitHub, the HTML representation is unable to render, please try loading this page with nbviewer.org.</b></div><div class=\"sk-container\" hidden><div class=\"sk-item\"><div class=\"sk-estimator sk-toggleable\"><input class=\"sk-toggleable__control sk-hidden--visually\" id=\"sk-estimator-id-1\" type=\"checkbox\" checked><label for=\"sk-estimator-id-1\" class=\"sk-toggleable__label sk-toggleable__label-arrow\">OneHotEncoder</label><div class=\"sk-toggleable__content\"><pre>OneHotEncoder()</pre></div></div></div></div></div>"
      ],
      "text/plain": [
       "OneHotEncoder()"
      ]
     },
     "execution_count": 22,
     "metadata": {},
     "output_type": "execute_result"
    }
   ],
   "source": [
    "ohe = OneHotEncoder()\n",
    "ohe.fit(X[['name','fuel']])"
   ]
  },
  {
   "cell_type": "code",
   "execution_count": 23,
   "id": "2b88f61a",
   "metadata": {},
   "outputs": [],
   "source": [
    "column_trans = make_column_transformer(\n",
    "    (OneHotEncoder(categories=ohe.categories_),['name','fuel']),\n",
    "    remainder='passthrough')"
   ]
  },
  {
   "cell_type": "markdown",
   "id": "19f52698",
   "metadata": {},
   "source": [
    "#### 6.3.2. Standard Scaler"
   ]
  },
  {
   "cell_type": "code",
   "execution_count": 24,
   "id": "26e5f2aa",
   "metadata": {},
   "outputs": [],
   "source": [
    "scaler = StandardScaler(with_mean=False)"
   ]
  },
  {
   "cell_type": "markdown",
   "id": "5754dbc6",
   "metadata": {},
   "source": [
    "#### 6.3.3. Regression Models"
   ]
  },
  {
   "cell_type": "code",
   "execution_count": 25,
   "id": "d34ccb6f",
   "metadata": {},
   "outputs": [],
   "source": [
    "# Linear Regression\n",
    "lr = LinearRegression()\n",
    "\n",
    "# Alpha values\n",
    "alphas = [0.005, 0.05, 0.1, 0.3, 1, 3, 5, 10, 15, 30, 80]\n",
    "\n",
    "# Ridge and Lasso\n",
    "ridgecv = RidgeCV(alphas=alphas,cv=4)\n",
    "lassocv = LassoCV(alphas=alphas,cv=4,normalize=True)"
   ]
  },
  {
   "cell_type": "markdown",
   "id": "7e6dd5d8",
   "metadata": {},
   "source": [
    "#### 6.3.4. Pipeline Structure"
   ]
  },
  {
   "cell_type": "code",
   "execution_count": 26,
   "id": "d21b7736",
   "metadata": {},
   "outputs": [
    {
     "data": {
      "text/html": [
       "<style>#sk-container-id-2 {color: black;background-color: white;}#sk-container-id-2 pre{padding: 0;}#sk-container-id-2 div.sk-toggleable {background-color: white;}#sk-container-id-2 label.sk-toggleable__label {cursor: pointer;display: block;width: 100%;margin-bottom: 0;padding: 0.3em;box-sizing: border-box;text-align: center;}#sk-container-id-2 label.sk-toggleable__label-arrow:before {content: \"▸\";float: left;margin-right: 0.25em;color: #696969;}#sk-container-id-2 label.sk-toggleable__label-arrow:hover:before {color: black;}#sk-container-id-2 div.sk-estimator:hover label.sk-toggleable__label-arrow:before {color: black;}#sk-container-id-2 div.sk-toggleable__content {max-height: 0;max-width: 0;overflow: hidden;text-align: left;background-color: #f0f8ff;}#sk-container-id-2 div.sk-toggleable__content pre {margin: 0.2em;color: black;border-radius: 0.25em;background-color: #f0f8ff;}#sk-container-id-2 input.sk-toggleable__control:checked~div.sk-toggleable__content {max-height: 200px;max-width: 100%;overflow: auto;}#sk-container-id-2 input.sk-toggleable__control:checked~label.sk-toggleable__label-arrow:before {content: \"▾\";}#sk-container-id-2 div.sk-estimator input.sk-toggleable__control:checked~label.sk-toggleable__label {background-color: #d4ebff;}#sk-container-id-2 div.sk-label input.sk-toggleable__control:checked~label.sk-toggleable__label {background-color: #d4ebff;}#sk-container-id-2 input.sk-hidden--visually {border: 0;clip: rect(1px 1px 1px 1px);clip: rect(1px, 1px, 1px, 1px);height: 1px;margin: -1px;overflow: hidden;padding: 0;position: absolute;width: 1px;}#sk-container-id-2 div.sk-estimator {font-family: monospace;background-color: #f0f8ff;border: 1px dotted black;border-radius: 0.25em;box-sizing: border-box;margin-bottom: 0.5em;}#sk-container-id-2 div.sk-estimator:hover {background-color: #d4ebff;}#sk-container-id-2 div.sk-parallel-item::after {content: \"\";width: 100%;border-bottom: 1px solid gray;flex-grow: 1;}#sk-container-id-2 div.sk-label:hover label.sk-toggleable__label {background-color: #d4ebff;}#sk-container-id-2 div.sk-serial::before {content: \"\";position: absolute;border-left: 1px solid gray;box-sizing: border-box;top: 0;bottom: 0;left: 50%;z-index: 0;}#sk-container-id-2 div.sk-serial {display: flex;flex-direction: column;align-items: center;background-color: white;padding-right: 0.2em;padding-left: 0.2em;position: relative;}#sk-container-id-2 div.sk-item {position: relative;z-index: 1;}#sk-container-id-2 div.sk-parallel {display: flex;align-items: stretch;justify-content: center;background-color: white;position: relative;}#sk-container-id-2 div.sk-item::before, #sk-container-id-2 div.sk-parallel-item::before {content: \"\";position: absolute;border-left: 1px solid gray;box-sizing: border-box;top: 0;bottom: 0;left: 50%;z-index: -1;}#sk-container-id-2 div.sk-parallel-item {display: flex;flex-direction: column;z-index: 1;position: relative;background-color: white;}#sk-container-id-2 div.sk-parallel-item:first-child::after {align-self: flex-end;width: 50%;}#sk-container-id-2 div.sk-parallel-item:last-child::after {align-self: flex-start;width: 50%;}#sk-container-id-2 div.sk-parallel-item:only-child::after {width: 0;}#sk-container-id-2 div.sk-dashed-wrapped {border: 1px dashed gray;margin: 0 0.4em 0.5em 0.4em;box-sizing: border-box;padding-bottom: 0.4em;background-color: white;}#sk-container-id-2 div.sk-label label {font-family: monospace;font-weight: bold;display: inline-block;line-height: 1.2em;}#sk-container-id-2 div.sk-label-container {text-align: center;}#sk-container-id-2 div.sk-container {/* jupyter's `normalize.less` sets `[hidden] { display: none; }` but bootstrap.min.css set `[hidden] { display: none !important; }` so we also need the `!important` here to be able to override the default hidden behavior on the sphinx rendered scikit-learn.org. See: https://github.com/scikit-learn/scikit-learn/issues/21755 */display: inline-block !important;position: relative;}#sk-container-id-2 div.sk-text-repr-fallback {display: none;}</style><div id=\"sk-container-id-2\" class=\"sk-top-container\"><div class=\"sk-text-repr-fallback\"><pre>Pipeline(steps=[(&#x27;columntransformer&#x27;,\n",
       "                 ColumnTransformer(remainder=&#x27;passthrough&#x27;,\n",
       "                                   transformers=[(&#x27;onehotencoder&#x27;,\n",
       "                                                  OneHotEncoder(categories=[array([&#x27;3&#x27;, &#x27;5&#x27;, &#x27;6&#x27;, &#x27;7&#x27;, &#x27;800&#x27;, &#x27;A-Star&#x27;, &#x27;A3&#x27;, &#x27;A4&#x27;, &#x27;A6&#x27;, &#x27;Accent&#x27;,\n",
       "       &#x27;Accord&#x27;, &#x27;Alto&#x27;, &#x27;Amaze&#x27;, &#x27;Ameo&#x27;, &#x27;Aria&#x27;, &#x27;Aspire&#x27;, &#x27;Astra&#x27;,\n",
       "       &#x27;Aveo&#x27;, &#x27;Avventura&#x27;, &#x27;B&#x27;, &#x27;BR-V&#x27;, &#x27;BRV&#x27;, &#x27;Baleno&#x27;, &#x27;Beat&#x27;,\n",
       "       &#x27;Bolero&#x27;, &#x27;Bolt&#x27;, &#x27;Brio&#x27;, &#x27;CLA&#x27;, &#x27;CLASSIC&#x27;, &#x27;CR-V&#x27;...\n",
       "       &#x27;Venue&#x27;, &#x27;Verito&#x27;, &#x27;Verna&#x27;, &#x27;Vitara&#x27;, &#x27;WR-V&#x27;, &#x27;Wagon&#x27;, &#x27;Winger&#x27;,\n",
       "       &#x27;Wrangler&#x27;, &#x27;X1&#x27;, &#x27;X3&#x27;, &#x27;X4&#x27;, &#x27;X5&#x27;, &#x27;X6&#x27;, &#x27;X7&#x27;, &#x27;XC40&#x27;, &#x27;XC60&#x27;,\n",
       "       &#x27;XC90&#x27;, &#x27;XE&#x27;, &#x27;XF&#x27;, &#x27;XL6&#x27;, &#x27;XUV300&#x27;, &#x27;XUV500&#x27;, &#x27;Xcent&#x27;, &#x27;Xenon&#x27;,\n",
       "       &#x27;Xylo&#x27;, &#x27;Yaris&#x27;, &#x27;Yeti&#x27;, &#x27;Zen&#x27;, &#x27;Zest&#x27;, &#x27;i10&#x27;, &#x27;i20&#x27;], dtype=object),\n",
       "                                                                            array([&#x27;CNG&#x27;, &#x27;Diesel&#x27;, &#x27;LPG&#x27;, &#x27;Petrol&#x27;], dtype=object)]),\n",
       "                                                  [&#x27;name&#x27;, &#x27;fuel&#x27;])])),\n",
       "                (&#x27;standardscaler&#x27;, StandardScaler(with_mean=False)),\n",
       "                (&#x27;linearregression&#x27;, LinearRegression())])</pre><b>In a Jupyter environment, please rerun this cell to show the HTML representation or trust the notebook. <br />On GitHub, the HTML representation is unable to render, please try loading this page with nbviewer.org.</b></div><div class=\"sk-container\" hidden><div class=\"sk-item sk-dashed-wrapped\"><div class=\"sk-label-container\"><div class=\"sk-label sk-toggleable\"><input class=\"sk-toggleable__control sk-hidden--visually\" id=\"sk-estimator-id-2\" type=\"checkbox\" ><label for=\"sk-estimator-id-2\" class=\"sk-toggleable__label sk-toggleable__label-arrow\">Pipeline</label><div class=\"sk-toggleable__content\"><pre>Pipeline(steps=[(&#x27;columntransformer&#x27;,\n",
       "                 ColumnTransformer(remainder=&#x27;passthrough&#x27;,\n",
       "                                   transformers=[(&#x27;onehotencoder&#x27;,\n",
       "                                                  OneHotEncoder(categories=[array([&#x27;3&#x27;, &#x27;5&#x27;, &#x27;6&#x27;, &#x27;7&#x27;, &#x27;800&#x27;, &#x27;A-Star&#x27;, &#x27;A3&#x27;, &#x27;A4&#x27;, &#x27;A6&#x27;, &#x27;Accent&#x27;,\n",
       "       &#x27;Accord&#x27;, &#x27;Alto&#x27;, &#x27;Amaze&#x27;, &#x27;Ameo&#x27;, &#x27;Aria&#x27;, &#x27;Aspire&#x27;, &#x27;Astra&#x27;,\n",
       "       &#x27;Aveo&#x27;, &#x27;Avventura&#x27;, &#x27;B&#x27;, &#x27;BR-V&#x27;, &#x27;BRV&#x27;, &#x27;Baleno&#x27;, &#x27;Beat&#x27;,\n",
       "       &#x27;Bolero&#x27;, &#x27;Bolt&#x27;, &#x27;Brio&#x27;, &#x27;CLA&#x27;, &#x27;CLASSIC&#x27;, &#x27;CR-V&#x27;...\n",
       "       &#x27;Venue&#x27;, &#x27;Verito&#x27;, &#x27;Verna&#x27;, &#x27;Vitara&#x27;, &#x27;WR-V&#x27;, &#x27;Wagon&#x27;, &#x27;Winger&#x27;,\n",
       "       &#x27;Wrangler&#x27;, &#x27;X1&#x27;, &#x27;X3&#x27;, &#x27;X4&#x27;, &#x27;X5&#x27;, &#x27;X6&#x27;, &#x27;X7&#x27;, &#x27;XC40&#x27;, &#x27;XC60&#x27;,\n",
       "       &#x27;XC90&#x27;, &#x27;XE&#x27;, &#x27;XF&#x27;, &#x27;XL6&#x27;, &#x27;XUV300&#x27;, &#x27;XUV500&#x27;, &#x27;Xcent&#x27;, &#x27;Xenon&#x27;,\n",
       "       &#x27;Xylo&#x27;, &#x27;Yaris&#x27;, &#x27;Yeti&#x27;, &#x27;Zen&#x27;, &#x27;Zest&#x27;, &#x27;i10&#x27;, &#x27;i20&#x27;], dtype=object),\n",
       "                                                                            array([&#x27;CNG&#x27;, &#x27;Diesel&#x27;, &#x27;LPG&#x27;, &#x27;Petrol&#x27;], dtype=object)]),\n",
       "                                                  [&#x27;name&#x27;, &#x27;fuel&#x27;])])),\n",
       "                (&#x27;standardscaler&#x27;, StandardScaler(with_mean=False)),\n",
       "                (&#x27;linearregression&#x27;, LinearRegression())])</pre></div></div></div><div class=\"sk-serial\"><div class=\"sk-item sk-dashed-wrapped\"><div class=\"sk-label-container\"><div class=\"sk-label sk-toggleable\"><input class=\"sk-toggleable__control sk-hidden--visually\" id=\"sk-estimator-id-3\" type=\"checkbox\" ><label for=\"sk-estimator-id-3\" class=\"sk-toggleable__label sk-toggleable__label-arrow\">columntransformer: ColumnTransformer</label><div class=\"sk-toggleable__content\"><pre>ColumnTransformer(remainder=&#x27;passthrough&#x27;,\n",
       "                  transformers=[(&#x27;onehotencoder&#x27;,\n",
       "                                 OneHotEncoder(categories=[array([&#x27;3&#x27;, &#x27;5&#x27;, &#x27;6&#x27;, &#x27;7&#x27;, &#x27;800&#x27;, &#x27;A-Star&#x27;, &#x27;A3&#x27;, &#x27;A4&#x27;, &#x27;A6&#x27;, &#x27;Accent&#x27;,\n",
       "       &#x27;Accord&#x27;, &#x27;Alto&#x27;, &#x27;Amaze&#x27;, &#x27;Ameo&#x27;, &#x27;Aria&#x27;, &#x27;Aspire&#x27;, &#x27;Astra&#x27;,\n",
       "       &#x27;Aveo&#x27;, &#x27;Avventura&#x27;, &#x27;B&#x27;, &#x27;BR-V&#x27;, &#x27;BRV&#x27;, &#x27;Baleno&#x27;, &#x27;Beat&#x27;,\n",
       "       &#x27;Bolero&#x27;, &#x27;Bolt&#x27;, &#x27;Brio&#x27;, &#x27;CLA&#x27;, &#x27;CLASSIC&#x27;, &#x27;CR-V&#x27;, &#x27;Camry&#x27;,\n",
       "       &#x27;Captiva&#x27;, &#x27;Captur&#x27;, &#x27;Celerio&#x27;...\n",
       "       &#x27;Trailblazer&#x27;, &#x27;Triber&#x27;, &#x27;Tucson&#x27;, &#x27;V40&#x27;, &#x27;Vento&#x27;, &#x27;Venture&#x27;,\n",
       "       &#x27;Venue&#x27;, &#x27;Verito&#x27;, &#x27;Verna&#x27;, &#x27;Vitara&#x27;, &#x27;WR-V&#x27;, &#x27;Wagon&#x27;, &#x27;Winger&#x27;,\n",
       "       &#x27;Wrangler&#x27;, &#x27;X1&#x27;, &#x27;X3&#x27;, &#x27;X4&#x27;, &#x27;X5&#x27;, &#x27;X6&#x27;, &#x27;X7&#x27;, &#x27;XC40&#x27;, &#x27;XC60&#x27;,\n",
       "       &#x27;XC90&#x27;, &#x27;XE&#x27;, &#x27;XF&#x27;, &#x27;XL6&#x27;, &#x27;XUV300&#x27;, &#x27;XUV500&#x27;, &#x27;Xcent&#x27;, &#x27;Xenon&#x27;,\n",
       "       &#x27;Xylo&#x27;, &#x27;Yaris&#x27;, &#x27;Yeti&#x27;, &#x27;Zen&#x27;, &#x27;Zest&#x27;, &#x27;i10&#x27;, &#x27;i20&#x27;], dtype=object),\n",
       "                                                           array([&#x27;CNG&#x27;, &#x27;Diesel&#x27;, &#x27;LPG&#x27;, &#x27;Petrol&#x27;], dtype=object)]),\n",
       "                                 [&#x27;name&#x27;, &#x27;fuel&#x27;])])</pre></div></div></div><div class=\"sk-parallel\"><div class=\"sk-parallel-item\"><div class=\"sk-item\"><div class=\"sk-label-container\"><div class=\"sk-label sk-toggleable\"><input class=\"sk-toggleable__control sk-hidden--visually\" id=\"sk-estimator-id-4\" type=\"checkbox\" ><label for=\"sk-estimator-id-4\" class=\"sk-toggleable__label sk-toggleable__label-arrow\">onehotencoder</label><div class=\"sk-toggleable__content\"><pre>[&#x27;name&#x27;, &#x27;fuel&#x27;]</pre></div></div></div><div class=\"sk-serial\"><div class=\"sk-item\"><div class=\"sk-estimator sk-toggleable\"><input class=\"sk-toggleable__control sk-hidden--visually\" id=\"sk-estimator-id-5\" type=\"checkbox\" ><label for=\"sk-estimator-id-5\" class=\"sk-toggleable__label sk-toggleable__label-arrow\">OneHotEncoder</label><div class=\"sk-toggleable__content\"><pre>OneHotEncoder(categories=[array([&#x27;3&#x27;, &#x27;5&#x27;, &#x27;6&#x27;, &#x27;7&#x27;, &#x27;800&#x27;, &#x27;A-Star&#x27;, &#x27;A3&#x27;, &#x27;A4&#x27;, &#x27;A6&#x27;, &#x27;Accent&#x27;,\n",
       "       &#x27;Accord&#x27;, &#x27;Alto&#x27;, &#x27;Amaze&#x27;, &#x27;Ameo&#x27;, &#x27;Aria&#x27;, &#x27;Aspire&#x27;, &#x27;Astra&#x27;,\n",
       "       &#x27;Aveo&#x27;, &#x27;Avventura&#x27;, &#x27;B&#x27;, &#x27;BR-V&#x27;, &#x27;BRV&#x27;, &#x27;Baleno&#x27;, &#x27;Beat&#x27;,\n",
       "       &#x27;Bolero&#x27;, &#x27;Bolt&#x27;, &#x27;Brio&#x27;, &#x27;CLA&#x27;, &#x27;CLASSIC&#x27;, &#x27;CR-V&#x27;, &#x27;Camry&#x27;,\n",
       "       &#x27;Captiva&#x27;, &#x27;Captur&#x27;, &#x27;Celerio&#x27;, &#x27;Ciaz&#x27;, &#x27;City&#x27;, &#x27;Civic&#x27;, &#x27;Classic&#x27;,\n",
       "       &#x27;Compass&#x27;, &#x27;Corolla&#x27;, &#x27;Creta&#x27;, &#x27;CrossPolo&#x27;,...\n",
       "       &#x27;TUV&#x27;, &#x27;Tavera&#x27;, &#x27;Teana&#x27;, &#x27;Terrano&#x27;, &#x27;Thar&#x27;, &#x27;Tiago&#x27;, &#x27;Tigor&#x27;,\n",
       "       &#x27;Trailblazer&#x27;, &#x27;Triber&#x27;, &#x27;Tucson&#x27;, &#x27;V40&#x27;, &#x27;Vento&#x27;, &#x27;Venture&#x27;,\n",
       "       &#x27;Venue&#x27;, &#x27;Verito&#x27;, &#x27;Verna&#x27;, &#x27;Vitara&#x27;, &#x27;WR-V&#x27;, &#x27;Wagon&#x27;, &#x27;Winger&#x27;,\n",
       "       &#x27;Wrangler&#x27;, &#x27;X1&#x27;, &#x27;X3&#x27;, &#x27;X4&#x27;, &#x27;X5&#x27;, &#x27;X6&#x27;, &#x27;X7&#x27;, &#x27;XC40&#x27;, &#x27;XC60&#x27;,\n",
       "       &#x27;XC90&#x27;, &#x27;XE&#x27;, &#x27;XF&#x27;, &#x27;XL6&#x27;, &#x27;XUV300&#x27;, &#x27;XUV500&#x27;, &#x27;Xcent&#x27;, &#x27;Xenon&#x27;,\n",
       "       &#x27;Xylo&#x27;, &#x27;Yaris&#x27;, &#x27;Yeti&#x27;, &#x27;Zen&#x27;, &#x27;Zest&#x27;, &#x27;i10&#x27;, &#x27;i20&#x27;], dtype=object),\n",
       "                          array([&#x27;CNG&#x27;, &#x27;Diesel&#x27;, &#x27;LPG&#x27;, &#x27;Petrol&#x27;], dtype=object)])</pre></div></div></div></div></div></div><div class=\"sk-parallel-item\"><div class=\"sk-item\"><div class=\"sk-label-container\"><div class=\"sk-label sk-toggleable\"><input class=\"sk-toggleable__control sk-hidden--visually\" id=\"sk-estimator-id-6\" type=\"checkbox\" ><label for=\"sk-estimator-id-6\" class=\"sk-toggleable__label sk-toggleable__label-arrow\">remainder</label><div class=\"sk-toggleable__content\"><pre></pre></div></div></div><div class=\"sk-serial\"><div class=\"sk-item\"><div class=\"sk-estimator sk-toggleable\"><input class=\"sk-toggleable__control sk-hidden--visually\" id=\"sk-estimator-id-7\" type=\"checkbox\" ><label for=\"sk-estimator-id-7\" class=\"sk-toggleable__label sk-toggleable__label-arrow\">passthrough</label><div class=\"sk-toggleable__content\"><pre>passthrough</pre></div></div></div></div></div></div></div></div><div class=\"sk-item\"><div class=\"sk-estimator sk-toggleable\"><input class=\"sk-toggleable__control sk-hidden--visually\" id=\"sk-estimator-id-8\" type=\"checkbox\" ><label for=\"sk-estimator-id-8\" class=\"sk-toggleable__label sk-toggleable__label-arrow\">StandardScaler</label><div class=\"sk-toggleable__content\"><pre>StandardScaler(with_mean=False)</pre></div></div></div><div class=\"sk-item\"><div class=\"sk-estimator sk-toggleable\"><input class=\"sk-toggleable__control sk-hidden--visually\" id=\"sk-estimator-id-9\" type=\"checkbox\" ><label for=\"sk-estimator-id-9\" class=\"sk-toggleable__label sk-toggleable__label-arrow\">LinearRegression</label><div class=\"sk-toggleable__content\"><pre>LinearRegression()</pre></div></div></div></div></div></div></div>"
      ],
      "text/plain": [
       "Pipeline(steps=[('columntransformer',\n",
       "                 ColumnTransformer(remainder='passthrough',\n",
       "                                   transformers=[('onehotencoder',\n",
       "                                                  OneHotEncoder(categories=[array(['3', '5', '6', '7', '800', 'A-Star', 'A3', 'A4', 'A6', 'Accent',\n",
       "       'Accord', 'Alto', 'Amaze', 'Ameo', 'Aria', 'Aspire', 'Astra',\n",
       "       'Aveo', 'Avventura', 'B', 'BR-V', 'BRV', 'Baleno', 'Beat',\n",
       "       'Bolero', 'Bolt', 'Brio', 'CLA', 'CLASSIC', 'CR-V'...\n",
       "       'Venue', 'Verito', 'Verna', 'Vitara', 'WR-V', 'Wagon', 'Winger',\n",
       "       'Wrangler', 'X1', 'X3', 'X4', 'X5', 'X6', 'X7', 'XC40', 'XC60',\n",
       "       'XC90', 'XE', 'XF', 'XL6', 'XUV300', 'XUV500', 'Xcent', 'Xenon',\n",
       "       'Xylo', 'Yaris', 'Yeti', 'Zen', 'Zest', 'i10', 'i20'], dtype=object),\n",
       "                                                                            array(['CNG', 'Diesel', 'LPG', 'Petrol'], dtype=object)]),\n",
       "                                                  ['name', 'fuel'])])),\n",
       "                ('standardscaler', StandardScaler(with_mean=False)),\n",
       "                ('linearregression', LinearRegression())])"
      ]
     },
     "execution_count": 26,
     "metadata": {},
     "output_type": "execute_result"
    }
   ],
   "source": [
    "pipe = make_pipeline(column_trans, scaler,lr)\n",
    "pipe"
   ]
  },
  {
   "cell_type": "markdown",
   "id": "98c0d560",
   "metadata": {},
   "source": [
    "#### 7. Functions"
   ]
  },
  {
   "cell_type": "markdown",
   "id": "90a78801",
   "metadata": {},
   "source": [
    "#### 7.1 For converting big values into readable form"
   ]
  },
  {
   "cell_type": "code",
   "execution_count": 27,
   "id": "00db2edf",
   "metadata": {},
   "outputs": [],
   "source": [
    "def format_float(num):\n",
    "    return np.format_float_positional(round(num,2), trim='-')"
   ]
  },
  {
   "cell_type": "markdown",
   "id": "a9d2e103",
   "metadata": {},
   "source": [
    "#### 7.2. Returns Dataframe consisting all errors"
   ]
  },
  {
   "cell_type": "code",
   "execution_count": 28,
   "id": "98f2e82f",
   "metadata": {},
   "outputs": [],
   "source": [
    "def metrics(y_test, y_pred):\n",
    "    mae = mean_absolute_error(y_test, y_pred)\n",
    "    mse = mean_squared_error(y_test, y_pred)\n",
    "    rmse = np.sqrt(mse)\n",
    "    r2 = r2_score(y_test, y_pred)\n",
    "\n",
    "    dict_ = {\n",
    "        \"MAE\": [format_float(mae)],\n",
    "        \"MSE\": [format_float(mse)],\n",
    "        \"RMSE\": [format_float(rmse)],\n",
    "        \"R2\": [(r2)]\n",
    "    }\n",
    "\n",
    "    results = pd.DataFrame(dict_)\n",
    "    results.index = [\"Values\"]\n",
    "\n",
    "    return results"
   ]
  },
  {
   "cell_type": "markdown",
   "id": "30b35b36",
   "metadata": {},
   "source": [
    "#### 7.3. For Training model"
   ]
  },
  {
   "cell_type": "code",
   "execution_count": 29,
   "id": "53c10760",
   "metadata": {},
   "outputs": [],
   "source": [
    "def train_model(X, y, transformer, scaler, model):\n",
    "    X_train, x_test, Y_train, y_test = train_test_split(X, y, test_size=0.3, random_state=1)\n",
    "    pipe = make_pipeline(transformer, scaler, model)\n",
    "    pipe.fit(X_train, Y_train)\n",
    "    y_pred = pipe.predict(x_test)\n",
    "    \n",
    "    return metrics(y_test,y_pred), pipe"
   ]
  },
  {
   "cell_type": "markdown",
   "id": "818d56f5",
   "metadata": {},
   "source": [
    "#### 8. Train"
   ]
  },
  {
   "cell_type": "code",
   "execution_count": 30,
   "id": "a9ca7469",
   "metadata": {},
   "outputs": [
    {
     "data": {
      "text/html": [
       "<div>\n",
       "<style scoped>\n",
       "    .dataframe tbody tr th:only-of-type {\n",
       "        vertical-align: middle;\n",
       "    }\n",
       "\n",
       "    .dataframe tbody tr th {\n",
       "        vertical-align: top;\n",
       "    }\n",
       "\n",
       "    .dataframe thead th {\n",
       "        text-align: right;\n",
       "    }\n",
       "</style>\n",
       "<table border=\"1\" class=\"dataframe\">\n",
       "  <thead>\n",
       "    <tr style=\"text-align: right;\">\n",
       "      <th></th>\n",
       "      <th>MAE</th>\n",
       "      <th>MSE</th>\n",
       "      <th>RMSE</th>\n",
       "      <th>R2</th>\n",
       "    </tr>\n",
       "  </thead>\n",
       "  <tbody>\n",
       "    <tr>\n",
       "      <th>Values</th>\n",
       "      <td>106739.11</td>\n",
       "      <td>42682804193.98</td>\n",
       "      <td>206598.17</td>\n",
       "      <td>0.926512</td>\n",
       "    </tr>\n",
       "  </tbody>\n",
       "</table>\n",
       "</div>"
      ],
      "text/plain": [
       "              MAE             MSE       RMSE        R2\n",
       "Values  106739.11  42682804193.98  206598.17  0.926512"
      ]
     },
     "execution_count": 30,
     "metadata": {},
     "output_type": "execute_result"
    }
   ],
   "source": [
    "metrics, pipe = train_model(X, y, column_trans, scaler, lr)\n",
    "metrics"
   ]
  },
  {
   "cell_type": "markdown",
   "id": "ce4ff539",
   "metadata": {},
   "source": [
    "#### 9. Dumping into pickle"
   ]
  },
  {
   "cell_type": "code",
   "execution_count": 31,
   "id": "985efd87",
   "metadata": {},
   "outputs": [],
   "source": [
    "import pickle"
   ]
  },
  {
   "cell_type": "code",
   "execution_count": 32,
   "id": "3a7ced5f",
   "metadata": {},
   "outputs": [],
   "source": [
    "pickle.dump(pipe,open('../pickle/LinearRegressionModel.pkl','wb'))"
   ]
  },
  {
   "cell_type": "markdown",
   "id": "47f12d82",
   "metadata": {},
   "source": [
    "#### 10. Prediction"
   ]
  },
  {
   "cell_type": "markdown",
   "id": "5ceaf2ca",
   "metadata": {},
   "source": [
    "#### 10.1. Input from User"
   ]
  },
  {
   "cell_type": "code",
   "execution_count": 33,
   "id": "87264fca",
   "metadata": {},
   "outputs": [],
   "source": [
    "name = \"Maruti Swift\"\n",
    "year = 2014\n",
    "km_driven = 145500\n",
    "fuel = \"Diesel\"\n",
    "seller_type = \"Individual\"\n",
    "transmission = \"Manual\"\n",
    "owner = \"First Owner\"\n",
    "mileage = 23.4\n",
    "engine = 1248\n",
    "max_power = 74\n",
    "torque = \"\"\n",
    "seats = 5"
   ]
  },
  {
   "cell_type": "markdown",
   "id": "1dde51e1",
   "metadata": {},
   "source": [
    "#### 10.2. User Input to Dataframe"
   ]
  },
  {
   "cell_type": "code",
   "execution_count": 34,
   "id": "57186b05",
   "metadata": {},
   "outputs": [],
   "source": [
    "dict_ = {\n",
    "            \"name\": [name],\n",
    "            \"year\": [year],\n",
    "            \"km_driven\": [km_driven],\n",
    "            \"fuel\":[fuel],\n",
    "            \"seller_type\": [seller_type],\n",
    "            \"transmission\": [transmission],\n",
    "            \"owner\": [owner],\n",
    "            \"mileage\": [str(mileage) + \" kmpl\"],\n",
    "            \"engine\":[str(engine) + \" CC\"],\n",
    "            \"max_power\":[str(max_power) + \" bmph\"],\n",
    "            \"torque\":[torque],\n",
    "            \"seats\":[seats]\n",
    "        }\n",
    "\n",
    "results = pd.DataFrame(dict_)"
   ]
  },
  {
   "cell_type": "markdown",
   "id": "8144f367",
   "metadata": {},
   "source": [
    "#### 10.3. Passing to Feature Engineering"
   ]
  },
  {
   "cell_type": "code",
   "execution_count": 35,
   "id": "cc11bfbc",
   "metadata": {},
   "outputs": [],
   "source": [
    "results = feature_eng(results)"
   ]
  },
  {
   "cell_type": "markdown",
   "id": "4e258754",
   "metadata": {},
   "source": [
    "#### 10.4. Prediction Result"
   ]
  },
  {
   "cell_type": "code",
   "execution_count": 36,
   "id": "76ba10f0",
   "metadata": {},
   "outputs": [
    {
     "data": {
      "text/plain": [
       "array([437301.2627377])"
      ]
     },
     "execution_count": 36,
     "metadata": {},
     "output_type": "execute_result"
    }
   ],
   "source": [
    "pipe.predict(results)"
   ]
  },
  {
   "cell_type": "markdown",
   "id": "24682ffe",
   "metadata": {},
   "source": [
    "#### 11. References\n",
    "\n",
    "https://towardsdatascience.com/ridge-and-lasso-regression-a-complete-guide-with-python-scikit-learn-e20e34bcbf0b\n",
    "\n",
    "https://www.geeksforgeeks.org/seaborn-lineplot-method-in-python/\n",
    "\n",
    "https://stackoverflow.com/questions/21572870/matplotlib-percent-label-position-in-pie-chart\n",
    "\n",
    "https://stackoverflow.com/questions/20681864/lasso-on-sklearn-does-not-converge\n",
    "\n",
    "https://machinelearninghd.com/ridgecv-regression-python/\n",
    "\n",
    "https://www.geeksforgeeks.org/convert-string-to-float-in-python/\n",
    "\n",
    "https://www.digitalocean.com/community/tutorials/python-convert-string-to-float\n",
    "\n",
    "https://www.w3schools.com/python/ref_func_round.asp\n",
    "\n",
    "https://stackoverflow.com/questions/52008548/python-running-into-x-test-y-test-fit-errors\n",
    "\n",
    "https://scikit-learn.org/stable/auto_examples/compose/plot_column_transformer_mixed_types.html\n",
    "\n",
    "https://www.kaggle.com/getting-started/146568\n",
    "\n",
    "https://github.com/scikit-learn/scikit-learn/blob/a24c8b46/sklearn/preprocessing/label.py#L39\n",
    "\n",
    "https://stackoverflow.com/questions/48929124/scikit-learn-how-to-compose-labelencoder-and-onehotencoder-with-a-pipeline\n",
    "\n",
    "https://scikit-learn.org/stable/modules/generated/sklearn.preprocessing.LabelEncoder.html\n",
    "\n",
    "https://towardsdatascience.com/scale-standardize-or-normalize-with-scikit-learn-6ccc7d176a02#:~:text=Use%20StandardScaler%20if%20you%20want,okay%20with%20transforming%20your%20data.\n",
    "\n",
    "https://towardsdatascience.com/what-and-why-behind-fit-transform-vs-transform-in-scikit-learn-78f915cf96fe\n",
    "\n",
    "https://analyticsindiamag.com/complete-guide-to-handling-categorical-data-using-scikit-learn/\n",
    "\n",
    "https://pbpython.com/categorical-encoding.html\n",
    "\n",
    "https://www.geeksforgeeks.org/get-unique-values-from-a-column-in-pandas-dataframe/\n",
    "\n",
    "https://sparkbyexamples.com/pandas/pandas-convert-column-to-int/\n",
    "\n",
    "https://www.geeksforgeeks.org/python-program-to-convert-a-list-to-string/\n",
    "\n",
    "https://www.geeksforgeeks.org/split-a-text-column-into-two-columns-in-pandas-dataframe/\n",
    "\n",
    "https://www.youtube.com/watch?v=VqKq78PVO9g\n",
    "\n",
    "https://scikit-learn.org/stable/auto_examples/miscellaneous/plot_pipeline_display.html#:~:text=The%20default%20configuration%20for%20displaying,set_config(display%3D'text')%20.\n",
    "\n",
    "https://scikit-learn.org/stable/modules/generated/sklearn.pipeline.Pipeline.html\n",
    "\n",
    "https://www.geeksforgeeks.org/what-is-the-difference-between-pipeline-and-make_pipeline-in-scikit/\n",
    "\n",
    "https://github.com/krishnaik06/Pipelines-Using-Sklearn/blob/master/SklearnPipeline.ipynb\n",
    "\n",
    "https://www.youtube.com/watch?v=w9IGkBfOoic\n",
    "\n",
    "https://github.com/rajtilakls2510/car_price_predictor/blob/master/Quikr%20Analysis.ipynb\n",
    "\n",
    "https://www.youtube.com/watch?v=iRCaMnR_bpA&t=144s"
   ]
  },
  {
   "cell_type": "code",
   "execution_count": null,
   "id": "3d10f31a",
   "metadata": {},
   "outputs": [],
   "source": []
  }
 ],
 "metadata": {
  "kernelspec": {
   "display_name": "Python 3 (ipykernel)",
   "language": "python",
   "name": "python3"
  },
  "language_info": {
   "codemirror_mode": {
    "name": "ipython",
    "version": 3
   },
   "file_extension": ".py",
   "mimetype": "text/x-python",
   "name": "python",
   "nbconvert_exporter": "python",
   "pygments_lexer": "ipython3",
   "version": "3.10.4"
  }
 },
 "nbformat": 4,
 "nbformat_minor": 5
}
