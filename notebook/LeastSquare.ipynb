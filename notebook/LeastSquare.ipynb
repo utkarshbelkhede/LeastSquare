{
 "cells": [
  {
   "cell_type": "markdown",
   "id": "879cfe26",
   "metadata": {},
   "source": [
    "#### 1. Loading required Libraries"
   ]
  },
  {
   "cell_type": "code",
   "execution_count": 304,
   "id": "f5673b66",
   "metadata": {},
   "outputs": [],
   "source": [
    "import numpy as np               # Linear Algebra\n",
    "import pandas as pd              # Data Handling\n",
    "import seaborn as sns            # Visualization\n",
    "import matplotlib.pyplot as plt  # Visualization\n",
    "from datetime import date        # Use Year\n",
    "import warnings                  # For warnings\n",
    "warnings.filterwarnings('ignore')"
   ]
  },
  {
   "cell_type": "markdown",
   "id": "8b31fe9b",
   "metadata": {},
   "source": [
    "#### 2. Importing dataset into 'cars' dataframe"
   ]
  },
  {
   "cell_type": "code",
   "execution_count": 305,
   "id": "8f1a6bf2",
   "metadata": {},
   "outputs": [
    {
     "data": {
      "text/html": [
       "<div>\n",
       "<style scoped>\n",
       "    .dataframe tbody tr th:only-of-type {\n",
       "        vertical-align: middle;\n",
       "    }\n",
       "\n",
       "    .dataframe tbody tr th {\n",
       "        vertical-align: top;\n",
       "    }\n",
       "\n",
       "    .dataframe thead th {\n",
       "        text-align: right;\n",
       "    }\n",
       "</style>\n",
       "<table border=\"1\" class=\"dataframe\">\n",
       "  <thead>\n",
       "    <tr style=\"text-align: right;\">\n",
       "      <th></th>\n",
       "      <th>Title</th>\n",
       "      <th>cvakb</th>\n",
       "      <th>cvakb1</th>\n",
       "      <th>bvr0c</th>\n",
       "      <th>bvr0c2</th>\n",
       "      <th>bvr0c3</th>\n",
       "      <th>_7udzz</th>\n",
       "      <th>Unnamed: 7</th>\n",
       "      <th>Unnamed: 8</th>\n",
       "      <th>Unnamed: 9</th>\n",
       "      <th>Unnamed: 10</th>\n",
       "      <th>Unnamed: 11</th>\n",
       "      <th>Unnamed: 12</th>\n",
       "    </tr>\n",
       "  </thead>\n",
       "  <tbody>\n",
       "    <tr>\n",
       "      <th>0</th>\n",
       "      <td>2020 KIA SELTOS</td>\n",
       "      <td>GTX + AT PETROL Automatic</td>\n",
       "      <td>Automatic</td>\n",
       "      <td>8,241 km</td>\n",
       "      <td>1st Owner</td>\n",
       "      <td>Petrol</td>\n",
       "      <td>?18,95,199</td>\n",
       "      <td>NaN</td>\n",
       "      <td>NaN</td>\n",
       "      <td>NaN</td>\n",
       "      <td>NaN</td>\n",
       "      <td>NaN</td>\n",
       "      <td>NaN</td>\n",
       "    </tr>\n",
       "    <tr>\n",
       "      <th>1</th>\n",
       "      <td>2020 Maruti Swift</td>\n",
       "      <td>LXI Manual</td>\n",
       "      <td>Manual</td>\n",
       "      <td>10,568 km</td>\n",
       "      <td>1st Owner</td>\n",
       "      <td>Petrol</td>\n",
       "      <td>?5,92,499</td>\n",
       "      <td>NaN</td>\n",
       "      <td>NaN</td>\n",
       "      <td>NaN</td>\n",
       "      <td>NaN</td>\n",
       "      <td>NaN</td>\n",
       "      <td>NaN</td>\n",
       "    </tr>\n",
       "    <tr>\n",
       "      <th>2</th>\n",
       "      <td>2019 Maruti Swift</td>\n",
       "      <td>LXI Manual</td>\n",
       "      <td>Manual</td>\n",
       "      <td>27,659 km</td>\n",
       "      <td>1st Owner</td>\n",
       "      <td>Petrol</td>\n",
       "      <td>?5,33,399</td>\n",
       "      <td>NaN</td>\n",
       "      <td>NaN</td>\n",
       "      <td>NaN</td>\n",
       "      <td>NaN</td>\n",
       "      <td>NaN</td>\n",
       "      <td>NaN</td>\n",
       "    </tr>\n",
       "    <tr>\n",
       "      <th>3</th>\n",
       "      <td>2020 KIA SELTOS</td>\n",
       "      <td>HTX 1.5 PETROL MT Manual</td>\n",
       "      <td>Manual</td>\n",
       "      <td>32,799 km</td>\n",
       "      <td>1st Owner</td>\n",
       "      <td>Petrol</td>\n",
       "      <td>?13,83,099</td>\n",
       "      <td>NaN</td>\n",
       "      <td>NaN</td>\n",
       "      <td>NaN</td>\n",
       "      <td>NaN</td>\n",
       "      <td>NaN</td>\n",
       "      <td>NaN</td>\n",
       "    </tr>\n",
       "    <tr>\n",
       "      <th>4</th>\n",
       "      <td>2014 Mercedes Benz C Class</td>\n",
       "      <td>C 200 AVANTGARDE Automatic</td>\n",
       "      <td>Automatic</td>\n",
       "      <td>37,531 km</td>\n",
       "      <td>1st Owner</td>\n",
       "      <td>Petrol</td>\n",
       "      <td>?20,33,499</td>\n",
       "      <td>NaN</td>\n",
       "      <td>NaN</td>\n",
       "      <td>NaN</td>\n",
       "      <td>NaN</td>\n",
       "      <td>NaN</td>\n",
       "      <td>NaN</td>\n",
       "    </tr>\n",
       "  </tbody>\n",
       "</table>\n",
       "</div>"
      ],
      "text/plain": [
       "                        Title                       cvakb     cvakb1  \\\n",
       "0             2020 KIA SELTOS   GTX + AT PETROL Automatic  Automatic   \n",
       "1           2020 Maruti Swift                  LXI Manual     Manual   \n",
       "2           2019 Maruti Swift                  LXI Manual     Manual   \n",
       "3             2020 KIA SELTOS    HTX 1.5 PETROL MT Manual     Manual   \n",
       "4  2014 Mercedes Benz C Class  C 200 AVANTGARDE Automatic  Automatic   \n",
       "\n",
       "       bvr0c     bvr0c2  bvr0c3      _7udzz Unnamed: 7 Unnamed: 8 Unnamed: 9  \\\n",
       "0   8,241 km  1st Owner  Petrol  ?18,95,199        NaN        NaN        NaN   \n",
       "1  10,568 km  1st Owner  Petrol   ?5,92,499        NaN        NaN        NaN   \n",
       "2  27,659 km  1st Owner  Petrol   ?5,33,399        NaN        NaN        NaN   \n",
       "3  32,799 km  1st Owner  Petrol  ?13,83,099        NaN        NaN        NaN   \n",
       "4  37,531 km  1st Owner  Petrol  ?20,33,499        NaN        NaN        NaN   \n",
       "\n",
       "  Unnamed: 10 Unnamed: 11 Unnamed: 12  \n",
       "0         NaN         NaN         NaN  \n",
       "1         NaN         NaN         NaN  \n",
       "2         NaN         NaN         NaN  \n",
       "3         NaN         NaN         NaN  \n",
       "4         NaN         NaN         NaN  "
      ]
     },
     "execution_count": 305,
     "metadata": {},
     "output_type": "execute_result"
    }
   ],
   "source": [
    "cars = pd.read_csv(\"../datasets/Cars24.csv\")\n",
    "cars.head()"
   ]
  },
  {
   "cell_type": "markdown",
   "id": "d19168b6",
   "metadata": {},
   "source": [
    "#### 3. Feature Engineering"
   ]
  },
  {
   "cell_type": "code",
   "execution_count": 306,
   "id": "27ca9dd7",
   "metadata": {},
   "outputs": [],
   "source": [
    "# To Perform Regex Operation\n",
    "import re \n",
    "\n",
    "# Will return string containing numbers\n",
    "def find_number(text):\n",
    "    num = re.findall(r'[0-9]+',text)\n",
    "    return \"\".join(num)\n",
    "\n",
    "# For Feature Engineering\n",
    "def feature_engineering(cars):\n",
    "    # First seven columns are relevant\n",
    "    cars = cars.iloc[:,:7]\n",
    "\n",
    "    # Giving Proper names to features\n",
    "    cars.rename(columns = {'Title':'Name', 'cvakb':'Variant', 'cvakb1':'Transmission', 'bvr0c':'km_driven', 'bvr0c2':'Owner_Type', 'bvr0c3':'Fuel', '_7udzz':'Price'}, inplace = True)\n",
    "\n",
    "    # Extracting only numbers\n",
    "    cars[\"Price\"] = cars[\"Price\"].apply(lambda x: find_number(x))\n",
    "\n",
    "    # Extracting year of purchase from Name\n",
    "    cars[\"Year_Purchased\"] = cars[\"Name\"].str.split().str.slice(start=0,stop=1).str.join(' ')\n",
    "\n",
    "    # Extracting name excluding year of purchase\n",
    "    cars[\"Name\"] = cars[\"Name\"].str.split().str.slice(start=1,stop=3).str.join(' ')\n",
    "\n",
    "    # Removing \"km\"\n",
    "    cars[\"km_driven\"] = cars[\"km_driven\"].str.split().str.slice(start=0,stop=1).str.join(' ')\n",
    "\n",
    "    # Extracting only numbers\n",
    "    cars[\"km_driven\"] = cars[\"km_driven\"].apply(lambda x: find_number(x))\n",
    "\n",
    "    # Removing Transmission type from the end of Variant\n",
    "    cars[\"Variant\"] = cars[\"Variant\"].str.rsplit(' ',1).str[0]\n",
    "\n",
    "    # Converting features to int\n",
    "    cars = cars.astype({\"km_driven\":\"int\",\"Price\":\"int\", \"Year_Purchased\":\"int\"})\n",
    "\n",
    "    # Deriving Age of Vehical from Year of Purchase\n",
    "    cars[\"Age\"] = date.today().year - cars[\"Year_Purchased\"]\n",
    "    cars.drop(['Year_Purchased'], axis=1, inplace=True)\n",
    "\n",
    "    return cars"
   ]
  },
  {
   "cell_type": "code",
   "execution_count": 307,
   "metadata": {},
   "outputs": [],
   "source": [
    "cars = feature_engineering(cars)"
   ]
  },
  {
   "cell_type": "code",
   "execution_count": 308,
   "id": "ddfd9833",
   "metadata": {},
   "outputs": [
    {
     "data": {
      "text/html": [
       "<div>\n",
       "<style scoped>\n",
       "    .dataframe tbody tr th:only-of-type {\n",
       "        vertical-align: middle;\n",
       "    }\n",
       "\n",
       "    .dataframe tbody tr th {\n",
       "        vertical-align: top;\n",
       "    }\n",
       "\n",
       "    .dataframe thead th {\n",
       "        text-align: right;\n",
       "    }\n",
       "</style>\n",
       "<table border=\"1\" class=\"dataframe\">\n",
       "  <thead>\n",
       "    <tr style=\"text-align: right;\">\n",
       "      <th></th>\n",
       "      <th>Name</th>\n",
       "      <th>Variant</th>\n",
       "      <th>Transmission</th>\n",
       "      <th>km_driven</th>\n",
       "      <th>Owner_Type</th>\n",
       "      <th>Fuel</th>\n",
       "      <th>Price</th>\n",
       "      <th>Age</th>\n",
       "    </tr>\n",
       "  </thead>\n",
       "  <tbody>\n",
       "    <tr>\n",
       "      <th>0</th>\n",
       "      <td>KIA SELTOS</td>\n",
       "      <td>GTX + AT PETROL</td>\n",
       "      <td>Automatic</td>\n",
       "      <td>8241</td>\n",
       "      <td>1st Owner</td>\n",
       "      <td>Petrol</td>\n",
       "      <td>1895199</td>\n",
       "      <td>2</td>\n",
       "    </tr>\n",
       "    <tr>\n",
       "      <th>1</th>\n",
       "      <td>Maruti Swift</td>\n",
       "      <td>LXI</td>\n",
       "      <td>Manual</td>\n",
       "      <td>10568</td>\n",
       "      <td>1st Owner</td>\n",
       "      <td>Petrol</td>\n",
       "      <td>592499</td>\n",
       "      <td>2</td>\n",
       "    </tr>\n",
       "    <tr>\n",
       "      <th>2</th>\n",
       "      <td>Maruti Swift</td>\n",
       "      <td>LXI</td>\n",
       "      <td>Manual</td>\n",
       "      <td>27659</td>\n",
       "      <td>1st Owner</td>\n",
       "      <td>Petrol</td>\n",
       "      <td>533399</td>\n",
       "      <td>3</td>\n",
       "    </tr>\n",
       "    <tr>\n",
       "      <th>3</th>\n",
       "      <td>KIA SELTOS</td>\n",
       "      <td>HTX 1.5 PETROL MT</td>\n",
       "      <td>Manual</td>\n",
       "      <td>32799</td>\n",
       "      <td>1st Owner</td>\n",
       "      <td>Petrol</td>\n",
       "      <td>1383099</td>\n",
       "      <td>2</td>\n",
       "    </tr>\n",
       "    <tr>\n",
       "      <th>4</th>\n",
       "      <td>Mercedes Benz</td>\n",
       "      <td>C 200 AVANTGARDE</td>\n",
       "      <td>Automatic</td>\n",
       "      <td>37531</td>\n",
       "      <td>1st Owner</td>\n",
       "      <td>Petrol</td>\n",
       "      <td>2033499</td>\n",
       "      <td>8</td>\n",
       "    </tr>\n",
       "  </tbody>\n",
       "</table>\n",
       "</div>"
      ],
      "text/plain": [
       "            Name            Variant Transmission  km_driven Owner_Type  \\\n",
       "0     KIA SELTOS    GTX + AT PETROL    Automatic       8241  1st Owner   \n",
       "1   Maruti Swift                LXI       Manual      10568  1st Owner   \n",
       "2   Maruti Swift                LXI       Manual      27659  1st Owner   \n",
       "3     KIA SELTOS  HTX 1.5 PETROL MT       Manual      32799  1st Owner   \n",
       "4  Mercedes Benz   C 200 AVANTGARDE    Automatic      37531  1st Owner   \n",
       "\n",
       "     Fuel    Price  Age  \n",
       "0  Petrol  1895199    2  \n",
       "1  Petrol   592499    2  \n",
       "2  Petrol   533399    3  \n",
       "3  Petrol  1383099    2  \n",
       "4  Petrol  2033499    8  "
      ]
     },
     "execution_count": 308,
     "metadata": {},
     "output_type": "execute_result"
    }
   ],
   "source": [
    "cars.head()"
   ]
  },
  {
   "cell_type": "markdown",
   "id": "3dec43dd",
   "metadata": {},
   "source": [
    "#### 4. Description of Dataset"
   ]
  },
  {
   "cell_type": "markdown",
   "id": "5edea187",
   "metadata": {},
   "source": [
    "##### 4.1 Shape of Dataset"
   ]
  },
  {
   "cell_type": "code",
   "execution_count": 309,
   "id": "77f929f6",
   "metadata": {},
   "outputs": [
    {
     "name": "stdout",
     "output_type": "stream",
     "text": [
      "There are \u001b[1m 656 rows\\patterns \u001b[0m and \u001b[1m8 features\u001b[0m.\n"
     ]
    }
   ],
   "source": [
    "shape = cars.shape\n",
    "print(f\"There are \\033[1m {shape[0]} rows\\patterns \\033[0m and \\033[1m{shape[1]} features\\033[0m.\")"
   ]
  },
  {
   "cell_type": "markdown",
   "id": "28463486",
   "metadata": {},
   "source": [
    "##### 4.2 info"
   ]
  },
  {
   "cell_type": "code",
   "execution_count": 310,
   "id": "d1cd33ee",
   "metadata": {},
   "outputs": [
    {
     "name": "stdout",
     "output_type": "stream",
     "text": [
      "<class 'pandas.core.frame.DataFrame'>\n",
      "RangeIndex: 656 entries, 0 to 655\n",
      "Data columns (total 8 columns):\n",
      " #   Column        Non-Null Count  Dtype \n",
      "---  ------        --------------  ----- \n",
      " 0   Name          656 non-null    object\n",
      " 1   Variant       656 non-null    object\n",
      " 2   Transmission  632 non-null    object\n",
      " 3   km_driven     656 non-null    int64 \n",
      " 4   Owner_Type    656 non-null    object\n",
      " 5   Fuel          656 non-null    object\n",
      " 6   Price         656 non-null    int64 \n",
      " 7   Age           656 non-null    int64 \n",
      "dtypes: int64(3), object(5)\n",
      "memory usage: 41.1+ KB\n"
     ]
    }
   ],
   "source": [
    "cars.info()"
   ]
  },
  {
   "cell_type": "markdown",
   "id": "c55f105e",
   "metadata": {},
   "source": [
    "##### 4.3 Missing Values for features"
   ]
  },
  {
   "cell_type": "code",
   "execution_count": 311,
   "id": "89159871",
   "metadata": {},
   "outputs": [
    {
     "data": {
      "text/plain": [
       "[['Transmission', 24]]"
      ]
     },
     "execution_count": 311,
     "metadata": {},
     "output_type": "execute_result"
    }
   ],
   "source": [
    "[[features,cars[features].isnull().sum()] for features in cars.columns if cars[features].isnull().sum()>0]"
   ]
  },
  {
   "cell_type": "markdown",
   "id": "918152da",
   "metadata": {},
   "source": [
    "##### 4.4 Heat Map for Missing Values"
   ]
  },
  {
   "cell_type": "code",
   "execution_count": 312,
   "id": "5ce4232c",
   "metadata": {},
   "outputs": [
    {
     "data": {
      "image/png": "[encoded data removed]",
      "text/plain": [
       "<Figure size 576x360 with 1 Axes>"
      ]
     },
     "metadata": {},
     "output_type": "display_data"
    }
   ],
   "source": [
    "fig = sns.set(rc={'figure.figsize': (8, 5)})\n",
    "plt.title(\"Heat Map for Missing Values\")\n",
    "sns.heatmap(cars.isnull(),yticklabels=False,cbar=False,cmap='viridis')\n",
    "plt.show()"
   ]
  },
  {
   "cell_type": "markdown",
   "id": "9cd0e7a6",
   "metadata": {},
   "source": [
    "##### 4.5 Dropping NA values"
   ]
  },
  {
   "cell_type": "code",
   "execution_count": 313,
   "id": "9c037006",
   "metadata": {},
   "outputs": [],
   "source": [
    "cars.dropna(inplace=True)"
   ]
  },
  {
   "cell_type": "markdown",
   "id": "f69b857a",
   "metadata": {},
   "source": [
    "Approximately, **3% values are Na**. Therefore, to simplify things, we dropped them."
   ]
  },
  {
   "cell_type": "markdown",
   "id": "5e24b2ee",
   "metadata": {},
   "source": [
    "#### 5. Exploratory Data Analysis"
   ]
  },
  {
   "cell_type": "markdown",
   "id": "b695f850",
   "metadata": {},
   "source": [
    "##### 5.1.1. Type of Owner and Number of Cars"
   ]
  },
  {
   "cell_type": "code",
   "execution_count": 314,
   "id": "a3b0f94f",
   "metadata": {},
   "outputs": [
    {
     "data": {
      "text/plain": [
       "1st Owner    504\n",
       "2nd Owner    123\n",
       "3rd Owner      5\n",
       "Name: Owner_Type, dtype: int64"
      ]
     },
     "execution_count": 314,
     "metadata": {},
     "output_type": "execute_result"
    }
   ],
   "source": [
    "cars['Owner_Type'].value_counts()"
   ]
  },
  {
   "cell_type": "markdown",
   "id": "74025c60",
   "metadata": {},
   "source": [
    "##### 5.1.2. Countplot Owner Type Vs Number of Cars"
   ]
  },
  {
   "cell_type": "code",
   "execution_count": 315,
   "id": "fab268b4",
   "metadata": {},
   "outputs": [
    {
     "data": {
      "image/png": "[encoded data removed]",
      "text/plain": [
       "<Figure size 720x576 with 1 Axes>"
      ]
     },
     "metadata": {},
     "output_type": "display_data"
    }
   ],
   "source": [
    "fig = sns.set(rc={'figure.figsize': (10, 8)})\n",
    "plt.title(\"Countplot Owner Type Vs Number of Cars\")\n",
    "sns.countplot(x ='Owner_Type', data = cars)\n",
    "plt.show()"
   ]
  },
  {
   "cell_type": "markdown",
   "id": "028085d2",
   "metadata": {},
   "source": [
    "**Observation**\n",
    "\n",
    "**First Owned Cars** are **highest among all**."
   ]
  },
  {
   "cell_type": "markdown",
   "id": "5b639e93",
   "metadata": {},
   "source": [
    "##### 5.1.4. Pie Chart Type of Owner Vs Number of cars."
   ]
  },
  {
   "cell_type": "code",
   "execution_count": 316,
   "id": "f79bd03c",
   "metadata": {},
   "outputs": [
    {
     "data": {
      "image/png": "[encoded data removed]",
      "text/plain": [
       "<Figure size 720x576 with 1 Axes>"
      ]
     },
     "metadata": {},
     "output_type": "display_data"
    }
   ],
   "source": [
    "fig = sns.set(rc={'figure.figsize': (10, 8)})\n",
    "plt.title(\"Type of Owner Vs Number of cars\")\n",
    "plt.pie(cars['Owner_Type'].value_counts(),labels=cars['Owner_Type'].unique(),pctdistance=1.1, labeldistance=1.2,autopct='%.2f')\n",
    "plt.show()"
   ]
  },
  {
   "cell_type": "markdown",
   "id": "c0dacfe4",
   "metadata": {},
   "source": [
    "**Observation**\n",
    "\n",
    "1. **79.75 %** of cars are **First Owned**.\n",
    "2. **19.46 %** of cars are **Second Owned**.\n",
    "3. **0.79 %** of cars are **Third Owned**."
   ]
  },
  {
   "cell_type": "markdown",
   "id": "4098722b",
   "metadata": {},
   "source": [
    "##### 5.2. Barplot Owner Type Vs Selling Price"
   ]
  },
  {
   "cell_type": "code",
   "execution_count": 317,
   "id": "f66b7300",
   "metadata": {},
   "outputs": [
    {
     "data": {
      "image/png": "[encoded data removed]",
      "text/plain": [
       "<Figure size 720x576 with 1 Axes>"
      ]
     },
     "metadata": {},
     "output_type": "display_data"
    }
   ],
   "source": [
    "fig = sns.set(rc={'figure.figsize': (10, 8)})\n",
    "plt.title(\"Owner Type Vs Price\")\n",
    "sns.barplot(x='Owner_Type',y='Price',data=cars,palette='spring')\n",
    "plt.show()"
   ]
  },
  {
   "cell_type": "markdown",
   "id": "1a1629e6",
   "metadata": {},
   "source": [
    "**Observation**\n",
    "\n",
    "**First Owner cars** have **high average selling price**. \n",
    "\n",
    "As **number of owners** increases the **selling price** of car **decreases**."
   ]
  },
  {
   "cell_type": "markdown",
   "id": "48b5ba84",
   "metadata": {},
   "source": [
    "##### 5.3.1. Automatic Vs Manual"
   ]
  },
  {
   "cell_type": "code",
   "execution_count": 318,
   "id": "60da393d",
   "metadata": {},
   "outputs": [
    {
     "data": {
      "text/plain": [
       "array(['Automatic', 'Manual', 'AUTOMATIC'], dtype=object)"
      ]
     },
     "execution_count": 318,
     "metadata": {},
     "output_type": "execute_result"
    }
   ],
   "source": [
    "cars['Transmission'].unique()"
   ]
  },
  {
   "cell_type": "code",
   "execution_count": 319,
   "id": "3418c130",
   "metadata": {},
   "outputs": [],
   "source": [
    "cars['Transmission'] = np.where(cars['Transmission'] == 'AUTOMATIC', 'Automatic', cars['Transmission'])"
   ]
  },
  {
   "cell_type": "code",
   "execution_count": 320,
   "id": "b7c969b5",
   "metadata": {},
   "outputs": [
    {
     "data": {
      "text/plain": [
       "Manual       515\n",
       "Automatic    117\n",
       "Name: Transmission, dtype: int64"
      ]
     },
     "execution_count": 320,
     "metadata": {},
     "output_type": "execute_result"
    }
   ],
   "source": [
    "cars['Transmission'].value_counts()"
   ]
  },
  {
   "cell_type": "markdown",
   "id": "ec5203b4",
   "metadata": {},
   "source": [
    "##### 5.3.2. Countplot Transmission Vs Number of Cars"
   ]
  },
  {
   "cell_type": "code",
   "execution_count": 321,
   "id": "2dbb5f27",
   "metadata": {},
   "outputs": [
    {
     "data": {
      "image/png": "[encoded data removed]",
      "text/plain": [
       "<Figure size 720x576 with 1 Axes>"
      ]
     },
     "metadata": {},
     "output_type": "display_data"
    }
   ],
   "source": [
    "fig = sns.set(rc={'figure.figsize': (10, 8)})\n",
    "plt.title(\"Transmission Vs Number of Cars\")\n",
    "sns.countplot(x ='Transmission', data = cars)\n",
    "plt.show()"
   ]
  },
  {
   "cell_type": "markdown",
   "id": "1ee3abc7",
   "metadata": {},
   "source": [
    "**Observation**\n",
    "\n",
    "Most of the cars are **Manual**."
   ]
  },
  {
   "cell_type": "markdown",
   "id": "d69a55a0",
   "metadata": {},
   "source": [
    "##### 5.4. Barplot Transmission Vs Selling Price"
   ]
  },
  {
   "cell_type": "code",
   "execution_count": 322,
   "id": "79b55c73",
   "metadata": {},
   "outputs": [
    {
     "data": {
      "image/png": "[encoded data removed]",
      "text/plain": [
       "<Figure size 720x576 with 1 Axes>"
      ]
     },
     "metadata": {},
     "output_type": "display_data"
    }
   ],
   "source": [
    "fig = sns.set(rc={'figure.figsize': (10, 8)})\n",
    "plt.title(\"Transmission Vs Selling Price\")\n",
    "sns.barplot(x='Transmission',y='Price',data=cars,palette='spring')\n",
    "plt.show()"
   ]
  },
  {
   "cell_type": "markdown",
   "id": "117672fe",
   "metadata": {},
   "source": [
    "**Observation**\n",
    "\n",
    "Cars having **Automatic Transmission have high selling price**."
   ]
  },
  {
   "cell_type": "markdown",
   "id": "f23605ad",
   "metadata": {},
   "source": [
    "##### 5.5. Countplot Fuel Vs Number of Cars"
   ]
  },
  {
   "cell_type": "code",
   "execution_count": 323,
   "id": "7b1b8a0e",
   "metadata": {},
   "outputs": [
    {
     "data": {
      "image/png": "[encoded data removed]",
      "text/plain": [
       "<Figure size 720x576 with 1 Axes>"
      ]
     },
     "metadata": {},
     "output_type": "display_data"
    }
   ],
   "source": [
    "fig = sns.set(rc={'figure.figsize': (10, 8)})\n",
    "plt.title(\"Fuel Vs Number of Cars\")\n",
    "sns.countplot(x ='Fuel', data = cars)\n",
    "plt.show()"
   ]
  },
  {
   "cell_type": "markdown",
   "id": "49d85670",
   "metadata": {},
   "source": [
    "**Observation**\n",
    "\n",
    "Most of the cars are **Petrol**."
   ]
  },
  {
   "cell_type": "markdown",
   "id": "51457ab9",
   "metadata": {},
   "source": [
    "##### 5.6. Barplot Fuel Vs Selling Price"
   ]
  },
  {
   "cell_type": "code",
   "execution_count": 324,
   "id": "6875283e",
   "metadata": {},
   "outputs": [
    {
     "data": {
      "image/png": "[encoded data removed]",
      "text/plain": [
       "<Figure size 720x576 with 1 Axes>"
      ]
     },
     "metadata": {},
     "output_type": "display_data"
    }
   ],
   "source": [
    "fig = sns.set(rc={'figure.figsize': (10, 8)})\n",
    "plt.title(\"Fuel Vs Price\")\n",
    "sns.barplot(x='Fuel',y='Price',data=cars,palette='spring')\n",
    "plt.show()"
   ]
  },
  {
   "cell_type": "markdown",
   "id": "fc822d9e",
   "metadata": {},
   "source": [
    "**Observation**\n",
    "\n",
    "**Diesel cars** have **high average selling price**."
   ]
  },
  {
   "cell_type": "markdown",
   "id": "bf1d9a19",
   "metadata": {},
   "source": [
    "##### 5.7. Age Vs Price"
   ]
  },
  {
   "cell_type": "code",
   "execution_count": 325,
   "id": "4fe7d2f6",
   "metadata": {
    "scrolled": true
   },
   "outputs": [
    {
     "data": {
      "image/png": "[encoded data removed]",
      "text/plain": [
       "<Figure size 1080x720 with 1 Axes>"
      ]
     },
     "metadata": {},
     "output_type": "display_data"
    }
   ],
   "source": [
    "fig = sns.set(rc={'figure.figsize': (15, 10)})\n",
    "plt.title(\"Fuel Vs Selling Price\")\n",
    "sns.barplot(x ='Age', y=\"Price\", data = cars ,palette='spring')\n",
    "plt.show()"
   ]
  },
  {
   "cell_type": "markdown",
   "id": "e0e1b794",
   "metadata": {},
   "source": [
    "**Observation**\n",
    "\n",
    "As the age of Vehical increases, Price Decreases."
   ]
  },
  {
   "cell_type": "markdown",
   "id": "5389ec13",
   "metadata": {},
   "source": [
    "#### 6. Model Fitting"
   ]
  },
  {
   "cell_type": "markdown",
   "id": "d8763a4d",
   "metadata": {},
   "source": [
    "##### 6.0 Outliers\n",
    "\n",
    "Before, fitting any model we need to analyse outliers in the dataset."
   ]
  },
  {
   "cell_type": "code",
   "execution_count": 326,
   "id": "6d817a1a",
   "metadata": {},
   "outputs": [
    {
     "data": {
      "image/png": "[encoded data removed]",
      "text/plain": [
       "<Figure size 720x360 with 1 Axes>"
      ]
     },
     "metadata": {},
     "output_type": "display_data"
    }
   ],
   "source": [
    "fig = sns.set(rc={'figure.figsize': (10, 5)})\n",
    "sns.histplot(cars['Price'])\n",
    "# plt.hist(cars['Price'], bins=20, rwidth=0.8)\n",
    "plt.show()"
   ]
  },
  {
   "cell_type": "code",
   "execution_count": 327,
   "id": "d50a2384",
   "metadata": {},
   "outputs": [
    {
     "data": {
      "image/png": "[encoded data removed]",
      "text/plain": [
       "<Figure size 720x144 with 1 Axes>"
      ]
     },
     "metadata": {},
     "output_type": "display_data"
    }
   ],
   "source": [
    "fig = sns.set(rc={'figure.figsize': (10, 2)})\n",
    "sns.boxplot(cars['Price'])\n",
    "plt.show()"
   ]
  },
  {
   "cell_type": "markdown",
   "id": "ce3a8e01",
   "metadata": {},
   "source": [
    "**Observation**\n",
    "\n",
    "As we can see, there are more than one outliers in the feature **Price**."
   ]
  },
  {
   "cell_type": "code",
   "execution_count": 328,
   "id": "ebff9f4d",
   "metadata": {},
   "outputs": [
    {
     "data": {
      "text/html": [
       "<div>\n",
       "<style scoped>\n",
       "    .dataframe tbody tr th:only-of-type {\n",
       "        vertical-align: middle;\n",
       "    }\n",
       "\n",
       "    .dataframe tbody tr th {\n",
       "        vertical-align: top;\n",
       "    }\n",
       "\n",
       "    .dataframe thead th {\n",
       "        text-align: right;\n",
       "    }\n",
       "</style>\n",
       "<table border=\"1\" class=\"dataframe\">\n",
       "  <thead>\n",
       "    <tr style=\"text-align: right;\">\n",
       "      <th></th>\n",
       "      <th>Name</th>\n",
       "      <th>Variant</th>\n",
       "      <th>Transmission</th>\n",
       "      <th>km_driven</th>\n",
       "      <th>Owner_Type</th>\n",
       "      <th>Fuel</th>\n",
       "      <th>Price</th>\n",
       "      <th>Age</th>\n",
       "      <th>zscore</th>\n",
       "    </tr>\n",
       "  </thead>\n",
       "  <tbody>\n",
       "    <tr>\n",
       "      <th>0</th>\n",
       "      <td>KIA SELTOS</td>\n",
       "      <td>GTX + AT PETROL</td>\n",
       "      <td>Automatic</td>\n",
       "      <td>8241</td>\n",
       "      <td>1st Owner</td>\n",
       "      <td>Petrol</td>\n",
       "      <td>1895199</td>\n",
       "      <td>2</td>\n",
       "      <td>3.225112</td>\n",
       "    </tr>\n",
       "    <tr>\n",
       "      <th>1</th>\n",
       "      <td>Maruti Swift</td>\n",
       "      <td>LXI</td>\n",
       "      <td>Manual</td>\n",
       "      <td>10568</td>\n",
       "      <td>1st Owner</td>\n",
       "      <td>Petrol</td>\n",
       "      <td>592499</td>\n",
       "      <td>2</td>\n",
       "      <td>-0.257488</td>\n",
       "    </tr>\n",
       "    <tr>\n",
       "      <th>2</th>\n",
       "      <td>Maruti Swift</td>\n",
       "      <td>LXI</td>\n",
       "      <td>Manual</td>\n",
       "      <td>27659</td>\n",
       "      <td>1st Owner</td>\n",
       "      <td>Petrol</td>\n",
       "      <td>533399</td>\n",
       "      <td>3</td>\n",
       "      <td>-0.415484</td>\n",
       "    </tr>\n",
       "    <tr>\n",
       "      <th>3</th>\n",
       "      <td>KIA SELTOS</td>\n",
       "      <td>HTX 1.5 PETROL MT</td>\n",
       "      <td>Manual</td>\n",
       "      <td>32799</td>\n",
       "      <td>1st Owner</td>\n",
       "      <td>Petrol</td>\n",
       "      <td>1383099</td>\n",
       "      <td>2</td>\n",
       "      <td>1.856079</td>\n",
       "    </tr>\n",
       "    <tr>\n",
       "      <th>4</th>\n",
       "      <td>Mercedes Benz</td>\n",
       "      <td>C 200 AVANTGARDE</td>\n",
       "      <td>Automatic</td>\n",
       "      <td>37531</td>\n",
       "      <td>1st Owner</td>\n",
       "      <td>Petrol</td>\n",
       "      <td>2033499</td>\n",
       "      <td>8</td>\n",
       "      <td>3.594840</td>\n",
       "    </tr>\n",
       "  </tbody>\n",
       "</table>\n",
       "</div>"
      ],
      "text/plain": [
       "            Name            Variant Transmission  km_driven Owner_Type  \\\n",
       "0     KIA SELTOS    GTX + AT PETROL    Automatic       8241  1st Owner   \n",
       "1   Maruti Swift                LXI       Manual      10568  1st Owner   \n",
       "2   Maruti Swift                LXI       Manual      27659  1st Owner   \n",
       "3     KIA SELTOS  HTX 1.5 PETROL MT       Manual      32799  1st Owner   \n",
       "4  Mercedes Benz   C 200 AVANTGARDE    Automatic      37531  1st Owner   \n",
       "\n",
       "     Fuel    Price  Age    zscore  \n",
       "0  Petrol  1895199    2  3.225112  \n",
       "1  Petrol   592499    2 -0.257488  \n",
       "2  Petrol   533399    3 -0.415484  \n",
       "3  Petrol  1383099    2  1.856079  \n",
       "4  Petrol  2033499    8  3.594840  "
      ]
     },
     "execution_count": 328,
     "metadata": {},
     "output_type": "execute_result"
    }
   ],
   "source": [
    "cars['zscore'] = (cars['Price'] - cars['Price'].mean()) / cars['Price'].std()\n",
    "cars.head()"
   ]
  },
  {
   "cell_type": "code",
   "execution_count": 329,
   "id": "36c2b7b2",
   "metadata": {},
   "outputs": [
    {
     "data": {
      "text/html": [
       "<div>\n",
       "<style scoped>\n",
       "    .dataframe tbody tr th:only-of-type {\n",
       "        vertical-align: middle;\n",
       "    }\n",
       "\n",
       "    .dataframe tbody tr th {\n",
       "        vertical-align: top;\n",
       "    }\n",
       "\n",
       "    .dataframe thead th {\n",
       "        text-align: right;\n",
       "    }\n",
       "</style>\n",
       "<table border=\"1\" class=\"dataframe\">\n",
       "  <thead>\n",
       "    <tr style=\"text-align: right;\">\n",
       "      <th></th>\n",
       "      <th>Name</th>\n",
       "      <th>Variant</th>\n",
       "      <th>Transmission</th>\n",
       "      <th>km_driven</th>\n",
       "      <th>Owner_Type</th>\n",
       "      <th>Fuel</th>\n",
       "      <th>Price</th>\n",
       "      <th>Age</th>\n",
       "      <th>zscore</th>\n",
       "    </tr>\n",
       "  </thead>\n",
       "  <tbody>\n",
       "    <tr>\n",
       "      <th>0</th>\n",
       "      <td>KIA SELTOS</td>\n",
       "      <td>GTX + AT PETROL</td>\n",
       "      <td>Automatic</td>\n",
       "      <td>8241</td>\n",
       "      <td>1st Owner</td>\n",
       "      <td>Petrol</td>\n",
       "      <td>1895199</td>\n",
       "      <td>2</td>\n",
       "      <td>3.225112</td>\n",
       "    </tr>\n",
       "    <tr>\n",
       "      <th>4</th>\n",
       "      <td>Mercedes Benz</td>\n",
       "      <td>C 200 AVANTGARDE</td>\n",
       "      <td>Automatic</td>\n",
       "      <td>37531</td>\n",
       "      <td>1st Owner</td>\n",
       "      <td>Petrol</td>\n",
       "      <td>2033499</td>\n",
       "      <td>8</td>\n",
       "      <td>3.594840</td>\n",
       "    </tr>\n",
       "    <tr>\n",
       "      <th>34</th>\n",
       "      <td>MG HECTOR</td>\n",
       "      <td>SHARP HYBRID PETROL</td>\n",
       "      <td>Manual</td>\n",
       "      <td>12185</td>\n",
       "      <td>2nd Owner</td>\n",
       "      <td>Petrol</td>\n",
       "      <td>1848299</td>\n",
       "      <td>2</td>\n",
       "      <td>3.099731</td>\n",
       "    </tr>\n",
       "    <tr>\n",
       "      <th>37</th>\n",
       "      <td>Jeep Compass</td>\n",
       "      <td>1.4  LONGITUDE (O) AT</td>\n",
       "      <td>Automatic</td>\n",
       "      <td>23327</td>\n",
       "      <td>1st Owner</td>\n",
       "      <td>Petrol</td>\n",
       "      <td>2012799</td>\n",
       "      <td>3</td>\n",
       "      <td>3.539501</td>\n",
       "    </tr>\n",
       "    <tr>\n",
       "      <th>38</th>\n",
       "      <td>Jeep Compass</td>\n",
       "      <td>2.0 LIMITED</td>\n",
       "      <td>Manual</td>\n",
       "      <td>46860</td>\n",
       "      <td>1st Owner</td>\n",
       "      <td>Diesel</td>\n",
       "      <td>1941699</td>\n",
       "      <td>3</td>\n",
       "      <td>3.349424</td>\n",
       "    </tr>\n",
       "  </tbody>\n",
       "</table>\n",
       "</div>"
      ],
      "text/plain": [
       "             Name                Variant Transmission  km_driven Owner_Type  \\\n",
       "0      KIA SELTOS        GTX + AT PETROL    Automatic       8241  1st Owner   \n",
       "4   Mercedes Benz       C 200 AVANTGARDE    Automatic      37531  1st Owner   \n",
       "34      MG HECTOR    SHARP HYBRID PETROL       Manual      12185  2nd Owner   \n",
       "37   Jeep Compass  1.4  LONGITUDE (O) AT    Automatic      23327  1st Owner   \n",
       "38   Jeep Compass            2.0 LIMITED       Manual      46860  1st Owner   \n",
       "\n",
       "      Fuel    Price  Age    zscore  \n",
       "0   Petrol  1895199    2  3.225112  \n",
       "4   Petrol  2033499    8  3.594840  \n",
       "34  Petrol  1848299    2  3.099731  \n",
       "37  Petrol  2012799    3  3.539501  \n",
       "38  Diesel  1941699    3  3.349424  "
      ]
     },
     "execution_count": 329,
     "metadata": {},
     "output_type": "execute_result"
    }
   ],
   "source": [
    "outliers = cars[(cars['zscore'] < -3) | (cars['zscore'] > 3)]\n",
    "outliers.head()"
   ]
  },
  {
   "cell_type": "code",
   "execution_count": 330,
   "id": "8b3e1bd9",
   "metadata": {},
   "outputs": [
    {
     "data": {
      "text/plain": [
       "(12, 9)"
      ]
     },
     "execution_count": 330,
     "metadata": {},
     "output_type": "execute_result"
    }
   ],
   "source": [
    "outliers.shape"
   ]
  },
  {
   "cell_type": "code",
   "execution_count": 331,
   "id": "9cdea307",
   "metadata": {},
   "outputs": [
    {
     "data": {
      "text/html": [
       "<div>\n",
       "<style scoped>\n",
       "    .dataframe tbody tr th:only-of-type {\n",
       "        vertical-align: middle;\n",
       "    }\n",
       "\n",
       "    .dataframe tbody tr th {\n",
       "        vertical-align: top;\n",
       "    }\n",
       "\n",
       "    .dataframe thead th {\n",
       "        text-align: right;\n",
       "    }\n",
       "</style>\n",
       "<table border=\"1\" class=\"dataframe\">\n",
       "  <thead>\n",
       "    <tr style=\"text-align: right;\">\n",
       "      <th></th>\n",
       "      <th>Name</th>\n",
       "      <th>Variant</th>\n",
       "      <th>Transmission</th>\n",
       "      <th>km_driven</th>\n",
       "      <th>Owner_Type</th>\n",
       "      <th>Fuel</th>\n",
       "      <th>Price</th>\n",
       "      <th>Age</th>\n",
       "      <th>zscore</th>\n",
       "    </tr>\n",
       "  </thead>\n",
       "  <tbody>\n",
       "    <tr>\n",
       "      <th>1</th>\n",
       "      <td>Maruti Swift</td>\n",
       "      <td>LXI</td>\n",
       "      <td>Manual</td>\n",
       "      <td>10568</td>\n",
       "      <td>1st Owner</td>\n",
       "      <td>Petrol</td>\n",
       "      <td>592499</td>\n",
       "      <td>2</td>\n",
       "      <td>-0.257488</td>\n",
       "    </tr>\n",
       "    <tr>\n",
       "      <th>2</th>\n",
       "      <td>Maruti Swift</td>\n",
       "      <td>LXI</td>\n",
       "      <td>Manual</td>\n",
       "      <td>27659</td>\n",
       "      <td>1st Owner</td>\n",
       "      <td>Petrol</td>\n",
       "      <td>533399</td>\n",
       "      <td>3</td>\n",
       "      <td>-0.415484</td>\n",
       "    </tr>\n",
       "    <tr>\n",
       "      <th>3</th>\n",
       "      <td>KIA SELTOS</td>\n",
       "      <td>HTX 1.5 PETROL MT</td>\n",
       "      <td>Manual</td>\n",
       "      <td>32799</td>\n",
       "      <td>1st Owner</td>\n",
       "      <td>Petrol</td>\n",
       "      <td>1383099</td>\n",
       "      <td>2</td>\n",
       "      <td>1.856079</td>\n",
       "    </tr>\n",
       "    <tr>\n",
       "      <th>6</th>\n",
       "      <td>Hyundai i10</td>\n",
       "      <td>ERA 1.1 IRDE</td>\n",
       "      <td>Manual</td>\n",
       "      <td>37928</td>\n",
       "      <td>1st Owner</td>\n",
       "      <td>Petrol</td>\n",
       "      <td>271699</td>\n",
       "      <td>9</td>\n",
       "      <td>-1.115106</td>\n",
       "    </tr>\n",
       "    <tr>\n",
       "      <th>7</th>\n",
       "      <td>Honda City</td>\n",
       "      <td>VX MT PETROL</td>\n",
       "      <td>Manual</td>\n",
       "      <td>61168</td>\n",
       "      <td>2nd Owner</td>\n",
       "      <td>Petrol</td>\n",
       "      <td>658499</td>\n",
       "      <td>8</td>\n",
       "      <td>-0.081046</td>\n",
       "    </tr>\n",
       "  </tbody>\n",
       "</table>\n",
       "</div>"
      ],
      "text/plain": [
       "           Name            Variant Transmission  km_driven Owner_Type    Fuel  \\\n",
       "1  Maruti Swift                LXI       Manual      10568  1st Owner  Petrol   \n",
       "2  Maruti Swift                LXI       Manual      27659  1st Owner  Petrol   \n",
       "3    KIA SELTOS  HTX 1.5 PETROL MT       Manual      32799  1st Owner  Petrol   \n",
       "6   Hyundai i10       ERA 1.1 IRDE       Manual      37928  1st Owner  Petrol   \n",
       "7    Honda City       VX MT PETROL       Manual      61168  2nd Owner  Petrol   \n",
       "\n",
       "     Price  Age    zscore  \n",
       "1   592499    2 -0.257488  \n",
       "2   533399    3 -0.415484  \n",
       "3  1383099    2  1.856079  \n",
       "6   271699    9 -1.115106  \n",
       "7   658499    8 -0.081046  "
      ]
     },
     "execution_count": 331,
     "metadata": {},
     "output_type": "execute_result"
    }
   ],
   "source": [
    "cars = cars[(cars['zscore'] > -3) & (cars['zscore'] < 3)]\n",
    "cars.head()"
   ]
  },
  {
   "cell_type": "code",
   "execution_count": 332,
   "id": "3bd79a30",
   "metadata": {},
   "outputs": [],
   "source": [
    "del cars[\"zscore\"]"
   ]
  },
  {
   "cell_type": "markdown",
   "id": "c01fb68a",
   "metadata": {},
   "source": [
    "##### 6.1. Splitting Data into X and y"
   ]
  },
  {
   "cell_type": "code",
   "execution_count": 333,
   "id": "a3d24c3a",
   "metadata": {},
   "outputs": [],
   "source": [
    "X = cars.drop(columns =['Price'])\n",
    "y = cars['Price']"
   ]
  },
  {
   "cell_type": "markdown",
   "id": "49b7698b",
   "metadata": {},
   "source": [
    "##### 6.2. Importing libraries for model fitting"
   ]
  },
  {
   "cell_type": "code",
   "execution_count": 334,
   "id": "aa935629",
   "metadata": {},
   "outputs": [],
   "source": [
    "from sklearn.model_selection import train_test_split\n",
    "from sklearn.preprocessing import OneHotEncoder\n",
    "from sklearn.compose import make_column_transformer\n",
    "from sklearn.preprocessing import StandardScaler\n",
    "from sklearn.pipeline import make_pipeline\n",
    "from sklearn.linear_model import LinearRegression, RidgeCV, LassoCV\n",
    "from sklearn.metrics import r2_score, mean_squared_error, mean_absolute_error"
   ]
  },
  {
   "cell_type": "markdown",
   "id": "1a93f129",
   "metadata": {},
   "source": [
    "##### 6.3. Pipeline"
   ]
  },
  {
   "cell_type": "markdown",
   "id": "bee2538c",
   "metadata": {},
   "source": [
    "##### 6.3.1. One Hot Encoding"
   ]
  },
  {
   "cell_type": "code",
   "execution_count": 335,
   "id": "82164a21",
   "metadata": {},
   "outputs": [
    {
     "data": {
      "text/html": [
       "<style>#sk-container-id-13 {color: black;background-color: white;}#sk-container-id-13 pre{padding: 0;}#sk-container-id-13 div.sk-toggleable {background-color: white;}#sk-container-id-13 label.sk-toggleable__label {cursor: pointer;display: block;width: 100%;margin-bottom: 0;padding: 0.3em;box-sizing: border-box;text-align: center;}#sk-container-id-13 label.sk-toggleable__label-arrow:before {content: \"▸\";float: left;margin-right: 0.25em;color: #696969;}#sk-container-id-13 label.sk-toggleable__label-arrow:hover:before {color: black;}#sk-container-id-13 div.sk-estimator:hover label.sk-toggleable__label-arrow:before {color: black;}#sk-container-id-13 div.sk-toggleable__content {max-height: 0;max-width: 0;overflow: hidden;text-align: left;background-color: #f0f8ff;}#sk-container-id-13 div.sk-toggleable__content pre {margin: 0.2em;color: black;border-radius: 0.25em;background-color: #f0f8ff;}#sk-container-id-13 input.sk-toggleable__control:checked~div.sk-toggleable__content {max-height: 200px;max-width: 100%;overflow: auto;}#sk-container-id-13 input.sk-toggleable__control:checked~label.sk-toggleable__label-arrow:before {content: \"▾\";}#sk-container-id-13 div.sk-estimator input.sk-toggleable__control:checked~label.sk-toggleable__label {background-color: #d4ebff;}#sk-container-id-13 div.sk-label input.sk-toggleable__control:checked~label.sk-toggleable__label {background-color: #d4ebff;}#sk-container-id-13 input.sk-hidden--visually {border: 0;clip: rect(1px 1px 1px 1px);clip: rect(1px, 1px, 1px, 1px);height: 1px;margin: -1px;overflow: hidden;padding: 0;position: absolute;width: 1px;}#sk-container-id-13 div.sk-estimator {font-family: monospace;background-color: #f0f8ff;border: 1px dotted black;border-radius: 0.25em;box-sizing: border-box;margin-bottom: 0.5em;}#sk-container-id-13 div.sk-estimator:hover {background-color: #d4ebff;}#sk-container-id-13 div.sk-parallel-item::after {content: \"\";width: 100%;border-bottom: 1px solid gray;flex-grow: 1;}#sk-container-id-13 div.sk-label:hover label.sk-toggleable__label {background-color: #d4ebff;}#sk-container-id-13 div.sk-serial::before {content: \"\";position: absolute;border-left: 1px solid gray;box-sizing: border-box;top: 0;bottom: 0;left: 50%;z-index: 0;}#sk-container-id-13 div.sk-serial {display: flex;flex-direction: column;align-items: center;background-color: white;padding-right: 0.2em;padding-left: 0.2em;position: relative;}#sk-container-id-13 div.sk-item {position: relative;z-index: 1;}#sk-container-id-13 div.sk-parallel {display: flex;align-items: stretch;justify-content: center;background-color: white;position: relative;}#sk-container-id-13 div.sk-item::before, #sk-container-id-13 div.sk-parallel-item::before {content: \"\";position: absolute;border-left: 1px solid gray;box-sizing: border-box;top: 0;bottom: 0;left: 50%;z-index: -1;}#sk-container-id-13 div.sk-parallel-item {display: flex;flex-direction: column;z-index: 1;position: relative;background-color: white;}#sk-container-id-13 div.sk-parallel-item:first-child::after {align-self: flex-end;width: 50%;}#sk-container-id-13 div.sk-parallel-item:last-child::after {align-self: flex-start;width: 50%;}#sk-container-id-13 div.sk-parallel-item:only-child::after {width: 0;}#sk-container-id-13 div.sk-dashed-wrapped {border: 1px dashed gray;margin: 0 0.4em 0.5em 0.4em;box-sizing: border-box;padding-bottom: 0.4em;background-color: white;}#sk-container-id-13 div.sk-label label {font-family: monospace;font-weight: bold;display: inline-block;line-height: 1.2em;}#sk-container-id-13 div.sk-label-container {text-align: center;}#sk-container-id-13 div.sk-container {/* jupyter's `normalize.less` sets `[hidden] { display: none; }` but bootstrap.min.css set `[hidden] { display: none !important; }` so we also need the `!important` here to be able to override the default hidden behavior on the sphinx rendered scikit-learn.org. See: https://github.com/scikit-learn/scikit-learn/issues/21755 */display: inline-block !important;position: relative;}#sk-container-id-13 div.sk-text-repr-fallback {display: none;}</style><div id=\"sk-container-id-13\" class=\"sk-top-container\"><div class=\"sk-text-repr-fallback\"><pre>OneHotEncoder()</pre><b>In a Jupyter environment, please rerun this cell to show the HTML representation or trust the notebook. <br />On GitHub, the HTML representation is unable to render, please try loading this page with nbviewer.org.</b></div><div class=\"sk-container\" hidden><div class=\"sk-item\"><div class=\"sk-estimator sk-toggleable\"><input class=\"sk-toggleable__control sk-hidden--visually\" id=\"sk-estimator-id-55\" type=\"checkbox\" checked><label for=\"sk-estimator-id-55\" class=\"sk-toggleable__label sk-toggleable__label-arrow\">OneHotEncoder</label><div class=\"sk-toggleable__content\"><pre>OneHotEncoder()</pre></div></div></div></div></div>"
      ],
      "text/plain": [
       "OneHotEncoder()"
      ]
     },
     "execution_count": 335,
     "metadata": {},
     "output_type": "execute_result"
    }
   ],
   "source": [
    "ohe = OneHotEncoder()\n",
    "ohe.fit(X[['Name','Variant','Transmission','Owner_Type','Fuel']])"
   ]
  },
  {
   "cell_type": "code",
   "execution_count": 336,
   "id": "2b88f61a",
   "metadata": {},
   "outputs": [],
   "source": [
    "column_trans = make_column_transformer(\n",
    "    (OneHotEncoder(categories=ohe.categories_),['Name','Variant','Transmission','Owner_Type','Fuel']),\n",
    "    remainder='passthrough'\n",
    ")"
   ]
  },
  {
   "cell_type": "markdown",
   "id": "19f52698",
   "metadata": {},
   "source": [
    "##### 6.3.2. Standard Scaler"
   ]
  },
  {
   "cell_type": "code",
   "execution_count": 337,
   "id": "26e5f2aa",
   "metadata": {},
   "outputs": [],
   "source": [
    "scaler = StandardScaler(with_mean=False)"
   ]
  },
  {
   "cell_type": "markdown",
   "id": "5754dbc6",
   "metadata": {},
   "source": [
    "##### 6.3.3. Regression Models"
   ]
  },
  {
   "cell_type": "code",
   "execution_count": 338,
   "id": "d34ccb6f",
   "metadata": {},
   "outputs": [],
   "source": [
    "# Linear Regression\n",
    "lr = LinearRegression()\n",
    "\n",
    "# Alpha values\n",
    "alphas = [0.005, 0.05, 0.1, 0.3, 1, 3, 5, 10, 15, 30, 80]\n",
    "\n",
    "# Ridge and Lasso\n",
    "ridgecv = RidgeCV(alphas=alphas,cv=4)\n",
    "lassocv = LassoCV(alphas=alphas,cv=4,normalize=True)"
   ]
  },
  {
   "cell_type": "markdown",
   "id": "7e6dd5d8",
   "metadata": {},
   "source": [
    "##### 6.3.4. Pipeline Structure"
   ]
  },
  {
   "cell_type": "code",
   "execution_count": 339,
   "id": "d21b7736",
   "metadata": {},
   "outputs": [
    {
     "data": {
      "text/html": [
       "<style>#sk-container-id-14 {color: black;background-color: white;}#sk-container-id-14 pre{padding: 0;}#sk-container-id-14 div.sk-toggleable {background-color: white;}#sk-container-id-14 label.sk-toggleable__label {cursor: pointer;display: block;width: 100%;margin-bottom: 0;padding: 0.3em;box-sizing: border-box;text-align: center;}#sk-container-id-14 label.sk-toggleable__label-arrow:before {content: \"▸\";float: left;margin-right: 0.25em;color: #696969;}#sk-container-id-14 label.sk-toggleable__label-arrow:hover:before {color: black;}#sk-container-id-14 div.sk-estimator:hover label.sk-toggleable__label-arrow:before {color: black;}#sk-container-id-14 div.sk-toggleable__content {max-height: 0;max-width: 0;overflow: hidden;text-align: left;background-color: #f0f8ff;}#sk-container-id-14 div.sk-toggleable__content pre {margin: 0.2em;color: black;border-radius: 0.25em;background-color: #f0f8ff;}#sk-container-id-14 input.sk-toggleable__control:checked~div.sk-toggleable__content {max-height: 200px;max-width: 100%;overflow: auto;}#sk-container-id-14 input.sk-toggleable__control:checked~label.sk-toggleable__label-arrow:before {content: \"▾\";}#sk-container-id-14 div.sk-estimator input.sk-toggleable__control:checked~label.sk-toggleable__label {background-color: #d4ebff;}#sk-container-id-14 div.sk-label input.sk-toggleable__control:checked~label.sk-toggleable__label {background-color: #d4ebff;}#sk-container-id-14 input.sk-hidden--visually {border: 0;clip: rect(1px 1px 1px 1px);clip: rect(1px, 1px, 1px, 1px);height: 1px;margin: -1px;overflow: hidden;padding: 0;position: absolute;width: 1px;}#sk-container-id-14 div.sk-estimator {font-family: monospace;background-color: #f0f8ff;border: 1px dotted black;border-radius: 0.25em;box-sizing: border-box;margin-bottom: 0.5em;}#sk-container-id-14 div.sk-estimator:hover {background-color: #d4ebff;}#sk-container-id-14 div.sk-parallel-item::after {content: \"\";width: 100%;border-bottom: 1px solid gray;flex-grow: 1;}#sk-container-id-14 div.sk-label:hover label.sk-toggleable__label {background-color: #d4ebff;}#sk-container-id-14 div.sk-serial::before {content: \"\";position: absolute;border-left: 1px solid gray;box-sizing: border-box;top: 0;bottom: 0;left: 50%;z-index: 0;}#sk-container-id-14 div.sk-serial {display: flex;flex-direction: column;align-items: center;background-color: white;padding-right: 0.2em;padding-left: 0.2em;position: relative;}#sk-container-id-14 div.sk-item {position: relative;z-index: 1;}#sk-container-id-14 div.sk-parallel {display: flex;align-items: stretch;justify-content: center;background-color: white;position: relative;}#sk-container-id-14 div.sk-item::before, #sk-container-id-14 div.sk-parallel-item::before {content: \"\";position: absolute;border-left: 1px solid gray;box-sizing: border-box;top: 0;bottom: 0;left: 50%;z-index: -1;}#sk-container-id-14 div.sk-parallel-item {display: flex;flex-direction: column;z-index: 1;position: relative;background-color: white;}#sk-container-id-14 div.sk-parallel-item:first-child::after {align-self: flex-end;width: 50%;}#sk-container-id-14 div.sk-parallel-item:last-child::after {align-self: flex-start;width: 50%;}#sk-container-id-14 div.sk-parallel-item:only-child::after {width: 0;}#sk-container-id-14 div.sk-dashed-wrapped {border: 1px dashed gray;margin: 0 0.4em 0.5em 0.4em;box-sizing: border-box;padding-bottom: 0.4em;background-color: white;}#sk-container-id-14 div.sk-label label {font-family: monospace;font-weight: bold;display: inline-block;line-height: 1.2em;}#sk-container-id-14 div.sk-label-container {text-align: center;}#sk-container-id-14 div.sk-container {/* jupyter's `normalize.less` sets `[hidden] { display: none; }` but bootstrap.min.css set `[hidden] { display: none !important; }` so we also need the `!important` here to be able to override the default hidden behavior on the sphinx rendered scikit-learn.org. See: https://github.com/scikit-learn/scikit-learn/issues/21755 */display: inline-block !important;position: relative;}#sk-container-id-14 div.sk-text-repr-fallback {display: none;}</style><div id=\"sk-container-id-14\" class=\"sk-top-container\"><div class=\"sk-text-repr-fallback\"><pre>Pipeline(steps=[(&#x27;columntransformer&#x27;,\n",
       "                 ColumnTransformer(remainder=&#x27;passthrough&#x27;,\n",
       "                                   transformers=[(&#x27;onehotencoder&#x27;,\n",
       "                                                  OneHotEncoder(categories=[array([&#x27;Audi A3&#x27;, &#x27;Audi Q3&#x27;, &#x27;Audi Q5&#x27;, &#x27;BMW 5&#x27;, &#x27;BMW X1&#x27;, &#x27;BMW X3&#x27;,\n",
       "       &#x27;Datsun Redi&#x27;, &#x27;Ford Ecosport&#x27;, &#x27;Ford Figo&#x27;, &#x27;Honda Amaze&#x27;,\n",
       "       &#x27;Honda Brio&#x27;, &#x27;Honda City&#x27;, &#x27;Honda Civic&#x27;, &#x27;Honda Jazz&#x27;,\n",
       "       &#x27;Honda WR-V&#x27;, &#x27;Hyundai Creta&#x27;, &#x27;Hyundai Elite&#x27;, &#x27;Hyundai Eon&#x27;,\n",
       "       &#x27;...\n",
       "       &#x27;ZX CVT PETROL&#x27;, &#x27;ZXI&#x27;, &#x27;ZXI +&#x27;, &#x27;ZXI 1.2&#x27;, &#x27;ZXI AMT&#x27;,\n",
       "       &#x27;ZXI OPT AMT&#x27;, &#x27;ZXI+&#x27;], dtype=object),\n",
       "                                                                            array([&#x27;Automatic&#x27;, &#x27;Manual&#x27;], dtype=object),\n",
       "                                                                            array([&#x27;1st Owner&#x27;, &#x27;2nd Owner&#x27;, &#x27;3rd Owner&#x27;], dtype=object),\n",
       "                                                                            array([&#x27;Diesel&#x27;, &#x27;Petrol&#x27;, &#x27;Petrol + CNG&#x27;], dtype=object)]),\n",
       "                                                  [&#x27;Name&#x27;, &#x27;Variant&#x27;,\n",
       "                                                   &#x27;Transmission&#x27;, &#x27;Owner_Type&#x27;,\n",
       "                                                   &#x27;Fuel&#x27;])])),\n",
       "                (&#x27;standardscaler&#x27;, StandardScaler(with_mean=False)),\n",
       "                (&#x27;linearregression&#x27;, LinearRegression())])</pre><b>In a Jupyter environment, please rerun this cell to show the HTML representation or trust the notebook. <br />On GitHub, the HTML representation is unable to render, please try loading this page with nbviewer.org.</b></div><div class=\"sk-container\" hidden><div class=\"sk-item sk-dashed-wrapped\"><div class=\"sk-label-container\"><div class=\"sk-label sk-toggleable\"><input class=\"sk-toggleable__control sk-hidden--visually\" id=\"sk-estimator-id-56\" type=\"checkbox\" ><label for=\"sk-estimator-id-56\" class=\"sk-toggleable__label sk-toggleable__label-arrow\">Pipeline</label><div class=\"sk-toggleable__content\"><pre>Pipeline(steps=[(&#x27;columntransformer&#x27;,\n",
       "                 ColumnTransformer(remainder=&#x27;passthrough&#x27;,\n",
       "                                   transformers=[(&#x27;onehotencoder&#x27;,\n",
       "                                                  OneHotEncoder(categories=[array([&#x27;Audi A3&#x27;, &#x27;Audi Q3&#x27;, &#x27;Audi Q5&#x27;, &#x27;BMW 5&#x27;, &#x27;BMW X1&#x27;, &#x27;BMW X3&#x27;,\n",
       "       &#x27;Datsun Redi&#x27;, &#x27;Ford Ecosport&#x27;, &#x27;Ford Figo&#x27;, &#x27;Honda Amaze&#x27;,\n",
       "       &#x27;Honda Brio&#x27;, &#x27;Honda City&#x27;, &#x27;Honda Civic&#x27;, &#x27;Honda Jazz&#x27;,\n",
       "       &#x27;Honda WR-V&#x27;, &#x27;Hyundai Creta&#x27;, &#x27;Hyundai Elite&#x27;, &#x27;Hyundai Eon&#x27;,\n",
       "       &#x27;...\n",
       "       &#x27;ZX CVT PETROL&#x27;, &#x27;ZXI&#x27;, &#x27;ZXI +&#x27;, &#x27;ZXI 1.2&#x27;, &#x27;ZXI AMT&#x27;,\n",
       "       &#x27;ZXI OPT AMT&#x27;, &#x27;ZXI+&#x27;], dtype=object),\n",
       "                                                                            array([&#x27;Automatic&#x27;, &#x27;Manual&#x27;], dtype=object),\n",
       "                                                                            array([&#x27;1st Owner&#x27;, &#x27;2nd Owner&#x27;, &#x27;3rd Owner&#x27;], dtype=object),\n",
       "                                                                            array([&#x27;Diesel&#x27;, &#x27;Petrol&#x27;, &#x27;Petrol + CNG&#x27;], dtype=object)]),\n",
       "                                                  [&#x27;Name&#x27;, &#x27;Variant&#x27;,\n",
       "                                                   &#x27;Transmission&#x27;, &#x27;Owner_Type&#x27;,\n",
       "                                                   &#x27;Fuel&#x27;])])),\n",
       "                (&#x27;standardscaler&#x27;, StandardScaler(with_mean=False)),\n",
       "                (&#x27;linearregression&#x27;, LinearRegression())])</pre></div></div></div><div class=\"sk-serial\"><div class=\"sk-item sk-dashed-wrapped\"><div class=\"sk-label-container\"><div class=\"sk-label sk-toggleable\"><input class=\"sk-toggleable__control sk-hidden--visually\" id=\"sk-estimator-id-57\" type=\"checkbox\" ><label for=\"sk-estimator-id-57\" class=\"sk-toggleable__label sk-toggleable__label-arrow\">columntransformer: ColumnTransformer</label><div class=\"sk-toggleable__content\"><pre>ColumnTransformer(remainder=&#x27;passthrough&#x27;,\n",
       "                  transformers=[(&#x27;onehotencoder&#x27;,\n",
       "                                 OneHotEncoder(categories=[array([&#x27;Audi A3&#x27;, &#x27;Audi Q3&#x27;, &#x27;Audi Q5&#x27;, &#x27;BMW 5&#x27;, &#x27;BMW X1&#x27;, &#x27;BMW X3&#x27;,\n",
       "       &#x27;Datsun Redi&#x27;, &#x27;Ford Ecosport&#x27;, &#x27;Ford Figo&#x27;, &#x27;Honda Amaze&#x27;,\n",
       "       &#x27;Honda Brio&#x27;, &#x27;Honda City&#x27;, &#x27;Honda Civic&#x27;, &#x27;Honda Jazz&#x27;,\n",
       "       &#x27;Honda WR-V&#x27;, &#x27;Hyundai Creta&#x27;, &#x27;Hyundai Elite&#x27;, &#x27;Hyundai Eon&#x27;,\n",
       "       &#x27;Hyundai GRAND&#x27;, &#x27;Hyundai Grand&#x27;, &#x27;Hyundai...\n",
       "       &#x27;ZDI Plus AMT&#x27;, &#x27;ZDI+ SHVS&#x27;, &#x27;ZETA 1.2 K12&#x27;, &#x27;ZETA 1.2 K12 AMT&#x27;,\n",
       "       &#x27;ZETA 1.2 K12 CVT&#x27;, &#x27;ZETA 1.3&#x27;, &#x27;ZETA DDIS 190&#x27;, &#x27;ZX CVT&#x27;,\n",
       "       &#x27;ZX CVT PETROL&#x27;, &#x27;ZXI&#x27;, &#x27;ZXI +&#x27;, &#x27;ZXI 1.2&#x27;, &#x27;ZXI AMT&#x27;,\n",
       "       &#x27;ZXI OPT AMT&#x27;, &#x27;ZXI+&#x27;], dtype=object),\n",
       "                                                           array([&#x27;Automatic&#x27;, &#x27;Manual&#x27;], dtype=object),\n",
       "                                                           array([&#x27;1st Owner&#x27;, &#x27;2nd Owner&#x27;, &#x27;3rd Owner&#x27;], dtype=object),\n",
       "                                                           array([&#x27;Diesel&#x27;, &#x27;Petrol&#x27;, &#x27;Petrol + CNG&#x27;], dtype=object)]),\n",
       "                                 [&#x27;Name&#x27;, &#x27;Variant&#x27;, &#x27;Transmission&#x27;,\n",
       "                                  &#x27;Owner_Type&#x27;, &#x27;Fuel&#x27;])])</pre></div></div></div><div class=\"sk-parallel\"><div class=\"sk-parallel-item\"><div class=\"sk-item\"><div class=\"sk-label-container\"><div class=\"sk-label sk-toggleable\"><input class=\"sk-toggleable__control sk-hidden--visually\" id=\"sk-estimator-id-58\" type=\"checkbox\" ><label for=\"sk-estimator-id-58\" class=\"sk-toggleable__label sk-toggleable__label-arrow\">onehotencoder</label><div class=\"sk-toggleable__content\"><pre>[&#x27;Name&#x27;, &#x27;Variant&#x27;, &#x27;Transmission&#x27;, &#x27;Owner_Type&#x27;, &#x27;Fuel&#x27;]</pre></div></div></div><div class=\"sk-serial\"><div class=\"sk-item\"><div class=\"sk-estimator sk-toggleable\"><input class=\"sk-toggleable__control sk-hidden--visually\" id=\"sk-estimator-id-59\" type=\"checkbox\" ><label for=\"sk-estimator-id-59\" class=\"sk-toggleable__label sk-toggleable__label-arrow\">OneHotEncoder</label><div class=\"sk-toggleable__content\"><pre>OneHotEncoder(categories=[array([&#x27;Audi A3&#x27;, &#x27;Audi Q3&#x27;, &#x27;Audi Q5&#x27;, &#x27;BMW 5&#x27;, &#x27;BMW X1&#x27;, &#x27;BMW X3&#x27;,\n",
       "       &#x27;Datsun Redi&#x27;, &#x27;Ford Ecosport&#x27;, &#x27;Ford Figo&#x27;, &#x27;Honda Amaze&#x27;,\n",
       "       &#x27;Honda Brio&#x27;, &#x27;Honda City&#x27;, &#x27;Honda Civic&#x27;, &#x27;Honda Jazz&#x27;,\n",
       "       &#x27;Honda WR-V&#x27;, &#x27;Hyundai Creta&#x27;, &#x27;Hyundai Elite&#x27;, &#x27;Hyundai Eon&#x27;,\n",
       "       &#x27;Hyundai GRAND&#x27;, &#x27;Hyundai Grand&#x27;, &#x27;Hyundai NEW&#x27;, &#x27;Hyundai New&#x27;,\n",
       "       &#x27;Hyundai Tucson&#x27;, &#x27;Hyundai VENUE&#x27;, &#x27;Hyundai Verna&#x27;,\n",
       "       &#x27;Hyundai X...\n",
       "       &#x27;XZA 1.2 REVOTRON&#x27;, &#x27;ZDI&#x27;, &#x27;ZDI PLUS&#x27;, &#x27;ZDI PLUS DUAL TONE&#x27;,\n",
       "       &#x27;ZDI Plus AMT&#x27;, &#x27;ZDI+ SHVS&#x27;, &#x27;ZETA 1.2 K12&#x27;, &#x27;ZETA 1.2 K12 AMT&#x27;,\n",
       "       &#x27;ZETA 1.2 K12 CVT&#x27;, &#x27;ZETA 1.3&#x27;, &#x27;ZETA DDIS 190&#x27;, &#x27;ZX CVT&#x27;,\n",
       "       &#x27;ZX CVT PETROL&#x27;, &#x27;ZXI&#x27;, &#x27;ZXI +&#x27;, &#x27;ZXI 1.2&#x27;, &#x27;ZXI AMT&#x27;,\n",
       "       &#x27;ZXI OPT AMT&#x27;, &#x27;ZXI+&#x27;], dtype=object),\n",
       "                          array([&#x27;Automatic&#x27;, &#x27;Manual&#x27;], dtype=object),\n",
       "                          array([&#x27;1st Owner&#x27;, &#x27;2nd Owner&#x27;, &#x27;3rd Owner&#x27;], dtype=object),\n",
       "                          array([&#x27;Diesel&#x27;, &#x27;Petrol&#x27;, &#x27;Petrol + CNG&#x27;], dtype=object)])</pre></div></div></div></div></div></div><div class=\"sk-parallel-item\"><div class=\"sk-item\"><div class=\"sk-label-container\"><div class=\"sk-label sk-toggleable\"><input class=\"sk-toggleable__control sk-hidden--visually\" id=\"sk-estimator-id-60\" type=\"checkbox\" ><label for=\"sk-estimator-id-60\" class=\"sk-toggleable__label sk-toggleable__label-arrow\">remainder</label><div class=\"sk-toggleable__content\"><pre></pre></div></div></div><div class=\"sk-serial\"><div class=\"sk-item\"><div class=\"sk-estimator sk-toggleable\"><input class=\"sk-toggleable__control sk-hidden--visually\" id=\"sk-estimator-id-61\" type=\"checkbox\" ><label for=\"sk-estimator-id-61\" class=\"sk-toggleable__label sk-toggleable__label-arrow\">passthrough</label><div class=\"sk-toggleable__content\"><pre>passthrough</pre></div></div></div></div></div></div></div></div><div class=\"sk-item\"><div class=\"sk-estimator sk-toggleable\"><input class=\"sk-toggleable__control sk-hidden--visually\" id=\"sk-estimator-id-62\" type=\"checkbox\" ><label for=\"sk-estimator-id-62\" class=\"sk-toggleable__label sk-toggleable__label-arrow\">StandardScaler</label><div class=\"sk-toggleable__content\"><pre>StandardScaler(with_mean=False)</pre></div></div></div><div class=\"sk-item\"><div class=\"sk-estimator sk-toggleable\"><input class=\"sk-toggleable__control sk-hidden--visually\" id=\"sk-estimator-id-63\" type=\"checkbox\" ><label for=\"sk-estimator-id-63\" class=\"sk-toggleable__label sk-toggleable__label-arrow\">LinearRegression</label><div class=\"sk-toggleable__content\"><pre>LinearRegression()</pre></div></div></div></div></div></div></div>"
      ],
      "text/plain": [
       "Pipeline(steps=[('columntransformer',\n",
       "                 ColumnTransformer(remainder='passthrough',\n",
       "                                   transformers=[('onehotencoder',\n",
       "                                                  OneHotEncoder(categories=[array(['Audi A3', 'Audi Q3', 'Audi Q5', 'BMW 5', 'BMW X1', 'BMW X3',\n",
       "       'Datsun Redi', 'Ford Ecosport', 'Ford Figo', 'Honda Amaze',\n",
       "       'Honda Brio', 'Honda City', 'Honda Civic', 'Honda Jazz',\n",
       "       'Honda WR-V', 'Hyundai Creta', 'Hyundai Elite', 'Hyundai Eon',\n",
       "       '...\n",
       "       'ZX CVT PETROL', 'ZXI', 'ZXI +', 'ZXI 1.2', 'ZXI AMT',\n",
       "       'ZXI OPT AMT', 'ZXI+'], dtype=object),\n",
       "                                                                            array(['Automatic', 'Manual'], dtype=object),\n",
       "                                                                            array(['1st Owner', '2nd Owner', '3rd Owner'], dtype=object),\n",
       "                                                                            array(['Diesel', 'Petrol', 'Petrol + CNG'], dtype=object)]),\n",
       "                                                  ['Name', 'Variant',\n",
       "                                                   'Transmission', 'Owner_Type',\n",
       "                                                   'Fuel'])])),\n",
       "                ('standardscaler', StandardScaler(with_mean=False)),\n",
       "                ('linearregression', LinearRegression())])"
      ]
     },
     "execution_count": 339,
     "metadata": {},
     "output_type": "execute_result"
    }
   ],
   "source": [
    "pipe = make_pipeline(column_trans, scaler, lr)\n",
    "pipe"
   ]
  },
  {
   "cell_type": "markdown",
   "id": "98c0d560",
   "metadata": {},
   "source": [
    "#### 7. Functions"
   ]
  },
  {
   "cell_type": "markdown",
   "id": "90a78801",
   "metadata": {},
   "source": [
    "##### 7.1 For converting big values into readable form"
   ]
  },
  {
   "cell_type": "code",
   "execution_count": 340,
   "id": "00db2edf",
   "metadata": {},
   "outputs": [],
   "source": [
    "def format_float(num):\n",
    "    return np.format_float_positional(round(num,2), trim='-')"
   ]
  },
  {
   "cell_type": "markdown",
   "id": "a9d2e103",
   "metadata": {},
   "source": [
    "##### 7.2. Returns Dataframe consisting all errors"
   ]
  },
  {
   "cell_type": "code",
   "execution_count": 341,
   "id": "98f2e82f",
   "metadata": {},
   "outputs": [],
   "source": [
    "def metrics(y_test, y_pred):\n",
    "    mae = mean_absolute_error(y_test, y_pred)\n",
    "    mse = mean_squared_error(y_test, y_pred)\n",
    "    rmse = np.sqrt(mse)\n",
    "    r2 = r2_score(y_test, y_pred)\n",
    "\n",
    "    dict_ = {\n",
    "        \"MAE\": [format_float(mae)],\n",
    "        \"MSE\": [format_float(mse)],\n",
    "        \"RMSE\": [format_float(rmse)],\n",
    "        \"R2\": [(r2)]\n",
    "    }\n",
    "\n",
    "    results = pd.DataFrame(dict_)\n",
    "    results.index = [\"Values\"]\n",
    "\n",
    "    return results"
   ]
  },
  {
   "cell_type": "markdown",
   "id": "30b35b36",
   "metadata": {},
   "source": [
    "##### 7.3. For Training model"
   ]
  },
  {
   "cell_type": "code",
   "execution_count": 342,
   "id": "53c10760",
   "metadata": {},
   "outputs": [],
   "source": [
    "X_train, x_test, Y_train, y_test = train_test_split(X, y, test_size=0.3, random_state=1)\n",
    "\n",
    "\n",
    "def train_model(X, y, transformer, scaler, model):\n",
    "    pipe = make_pipeline(transformer, scaler, model)\n",
    "    pipe.fit(X_train, Y_train)\n",
    "    y_pred = pipe.predict(x_test)\n",
    "    \n",
    "    return metrics(y_test,y_pred), pipe"
   ]
  },
  {
   "cell_type": "markdown",
   "id": "818d56f5",
   "metadata": {},
   "source": [
    "#### 8. Train"
   ]
  },
  {
   "cell_type": "code",
   "execution_count": 343,
   "id": "a9ca7469",
   "metadata": {},
   "outputs": [
    {
     "data": {
      "text/html": [
       "<div>\n",
       "<style scoped>\n",
       "    .dataframe tbody tr th:only-of-type {\n",
       "        vertical-align: middle;\n",
       "    }\n",
       "\n",
       "    .dataframe tbody tr th {\n",
       "        vertical-align: top;\n",
       "    }\n",
       "\n",
       "    .dataframe thead th {\n",
       "        text-align: right;\n",
       "    }\n",
       "</style>\n",
       "<table border=\"1\" class=\"dataframe\">\n",
       "  <thead>\n",
       "    <tr style=\"text-align: right;\">\n",
       "      <th></th>\n",
       "      <th>MAE</th>\n",
       "      <th>MSE</th>\n",
       "      <th>RMSE</th>\n",
       "      <th>R2</th>\n",
       "    </tr>\n",
       "  </thead>\n",
       "  <tbody>\n",
       "    <tr>\n",
       "      <th>Values</th>\n",
       "      <td>83164.58</td>\n",
       "      <td>22567218267.56</td>\n",
       "      <td>150223.89</td>\n",
       "      <td>0.802508</td>\n",
       "    </tr>\n",
       "  </tbody>\n",
       "</table>\n",
       "</div>"
      ],
      "text/plain": [
       "             MAE             MSE       RMSE        R2\n",
       "Values  83164.58  22567218267.56  150223.89  0.802508"
      ]
     },
     "execution_count": 343,
     "metadata": {},
     "output_type": "execute_result"
    }
   ],
   "source": [
    "metrics, pipe = train_model(X, y, column_trans, scaler, lr)\n",
    "metrics"
   ]
  },
  {
   "cell_type": "markdown",
   "id": "ce4ff539",
   "metadata": {},
   "source": [
    "#### 9. Dumping into pickle"
   ]
  },
  {
   "cell_type": "code",
   "execution_count": null,
   "id": "985efd87",
   "metadata": {},
   "outputs": [],
   "source": [
    "import pickle"
   ]
  },
  {
   "cell_type": "code",
   "execution_count": null,
   "id": "3a7ced5f",
   "metadata": {},
   "outputs": [],
   "source": [
    "data = {\"lr\": pipe, \"ridge\": ridgecv, \"lasso\": lassocv}\n",
    "\n",
    "pickle.dump(data,open('../pickle/LinearRegressionModel.pkl','wb'))"
   ]
  },
  {
   "cell_type": "markdown",
   "id": "47f12d82",
   "metadata": {},
   "source": [
    "#### 10. Prediction"
   ]
  },
  {
   "cell_type": "markdown",
   "id": "5ceaf2ca",
   "metadata": {},
   "source": [
    "##### 10.1. Input from User"
   ]
  },
  {
   "cell_type": "code",
   "execution_count": null,
   "id": "87264fca",
   "metadata": {},
   "outputs": [],
   "source": [
    "# User Input 1\n",
    "\n",
    "Name = \"Maruti Swift\"\n",
    "Variant = \"LXI\"\n",
    "Transmission = \"Manual\"\n",
    "km_driven = 10568\n",
    "Owner_Type = \"1st Owner\"\n",
    "Fuel = \"Petrol\"\n",
    "Age = 2"
   ]
  },
  {
   "cell_type": "code",
   "execution_count": null,
   "id": "2a7082ac",
   "metadata": {},
   "outputs": [],
   "source": [
    "# User Input 2\n",
    "\n",
    "Name = \"KIA SELTOS\"\n",
    "Variant = \"HTX 1.5 PETROL MT\"\n",
    "Transmission = \"Manual\"\n",
    "km_driven = 50000\n",
    "Owner_Type = \"1st Owner\"\n",
    "Fuel = \"Petrol\"\n",
    "Age = 5"
   ]
  },
  {
   "cell_type": "markdown",
   "id": "1dde51e1",
   "metadata": {},
   "source": [
    "##### 10.2. User Input to Dataframe"
   ]
  },
  {
   "cell_type": "code",
   "execution_count": null,
   "id": "57186b05",
   "metadata": {},
   "outputs": [],
   "source": [
    "dict_ = {\n",
    "            \"Name\": [Name],\n",
    "            \"Variant\": [Variant],\n",
    "            \"Transmission\": [Transmission],\n",
    "            \"km_driven\":[km_driven],\n",
    "            \"Owner_Type\": [Owner_Type],\n",
    "            \"Fuel\": [Fuel],\n",
    "            \"Age\": [Age]\n",
    "        }\n",
    "\n",
    "results = pd.DataFrame(dict_)"
   ]
  },
  {
   "cell_type": "markdown",
   "id": "4e258754",
   "metadata": {},
   "source": [
    "##### 10.3. Prediction Result"
   ]
  },
  {
   "cell_type": "code",
   "execution_count": null,
   "id": "76ba10f0",
   "metadata": {},
   "outputs": [
    {
     "name": "stdout",
     "output_type": "stream",
     "text": [
      "The Predicted value of Car is \u001b[1mRs.1271319.55\u001b[0m.\n"
     ]
    }
   ],
   "source": [
    "print(\"The Predicted value of Car is \\033[1mRs.{price:.2f}\\033[0m.\".format(price = pipe.predict(results)[0]))"
   ]
  },
  {
   "cell_type": "markdown",
   "id": "e57c30e7",
   "metadata": {},
   "source": [
    "#### 11. References"
   ]
  },
  {
   "cell_type": "markdown",
   "id": "24682ffe",
   "metadata": {},
   "source": [
    "https://towardsdatascience.com/ridge-and-lasso-regression-a-complete-guide-with-python-scikit-learn-e20e34bcbf0b\n",
    "\n",
    "https://www.geeksforgeeks.org/seaborn-lineplot-method-in-python/\n",
    "\n",
    "https://stackoverflow.com/questions/21572870/matplotlib-percent-label-position-in-pie-chart\n",
    "\n",
    "https://stackoverflow.com/questions/20681864/lasso-on-sklearn-does-not-converge\n",
    "\n",
    "https://machinelearninghd.com/ridgecv-regression-python/\n",
    "\n",
    "https://www.geeksforgeeks.org/convert-string-to-float-in-python/\n",
    "\n",
    "https://www.digitalocean.com/community/tutorials/python-convert-string-to-float\n",
    "\n",
    "https://www.w3schools.com/python/ref_func_round.asp\n",
    "\n",
    "https://stackoverflow.com/questions/52008548/python-running-into-x-test-y-test-fit-errors\n",
    "\n",
    "https://scikit-learn.org/stable/auto_examples/compose/plot_column_transformer_mixed_types.html\n",
    "\n",
    "https://www.kaggle.com/getting-started/146568\n",
    "\n",
    "https://github.com/scikit-learn/scikit-learn/blob/a24c8b46/sklearn/preprocessing/label.py#L39\n",
    "\n",
    "https://stackoverflow.com/questions/48929124/scikit-learn-how-to-compose-labelencoder-and-onehotencoder-with-a-pipeline\n",
    "\n",
    "https://scikit-learn.org/stable/modules/generated/sklearn.preprocessing.LabelEncoder.html\n",
    "\n",
    "https://towardsdatascience.com/scale-standardize-or-normalize-with-scikit-learn-6ccc7d176a02#:~:text=Use%20StandardScaler%20if%20you%20want,okay%20with%20transforming%20your%20data.\n",
    "\n",
    "https://towardsdatascience.com/what-and-why-behind-fit-transform-vs-transform-in-scikit-learn-78f915cf96fe\n",
    "\n",
    "https://analyticsindiamag.com/complete-guide-to-handling-categorical-data-using-scikit-learn/\n",
    "\n",
    "https://pbpython.com/categorical-encoding.html\n",
    "\n",
    "https://www.geeksforgeeks.org/get-unique-values-from-a-column-in-pandas-dataframe/\n",
    "\n",
    "https://sparkbyexamples.com/pandas/pandas-convert-column-to-int/\n",
    "\n",
    "https://www.geeksforgeeks.org/python-program-to-convert-a-list-to-string/\n",
    "\n",
    "https://www.geeksforgeeks.org/split-a-text-column-into-two-columns-in-pandas-dataframe/\n",
    "\n",
    "https://www.youtube.com/watch?v=VqKq78PVO9g\n",
    "\n",
    "https://scikit-learn.org/stable/auto_examples/miscellaneous/plot_pipeline_display.html#:~:text=The%20default%20configuration%20for%20displaying,set_config(display%3D'text')%20.\n",
    "\n",
    "https://scikit-learn.org/stable/modules/generated/sklearn.pipeline.Pipeline.html\n",
    "\n",
    "https://www.geeksforgeeks.org/what-is-the-difference-between-pipeline-and-make_pipeline-in-scikit/\n",
    "\n",
    "https://github.com/krishnaik06/Pipelines-Using-Sklearn/blob/master/SklearnPipeline.ipynb\n",
    "\n",
    "https://www.youtube.com/watch?v=w9IGkBfOoic\n",
    "\n",
    "https://github.com/rajtilakls2510/car_price_predictor/blob/master/Quikr%20Analysis.ipynb\n",
    "\n",
    "https://www.youtube.com/watch?v=iRCaMnR_bpA&t=144s"
   ]
  },
  {
   "cell_type": "code",
   "execution_count": null,
   "id": "7495ee04",
   "metadata": {},
   "outputs": [
    {
     "data": {
      "text/html": [
       "<div>\n",
       "<style scoped>\n",
       "    .dataframe tbody tr th:only-of-type {\n",
       "        vertical-align: middle;\n",
       "    }\n",
       "\n",
       "    .dataframe tbody tr th {\n",
       "        vertical-align: top;\n",
       "    }\n",
       "\n",
       "    .dataframe thead th {\n",
       "        text-align: right;\n",
       "    }\n",
       "</style>\n",
       "<table border=\"1\" class=\"dataframe\">\n",
       "  <thead>\n",
       "    <tr style=\"text-align: right;\">\n",
       "      <th></th>\n",
       "      <th>Name</th>\n",
       "      <th>Variant</th>\n",
       "      <th>Transmission</th>\n",
       "      <th>km_driven</th>\n",
       "      <th>Owner_Type</th>\n",
       "      <th>Fuel</th>\n",
       "      <th>Price</th>\n",
       "      <th>Age</th>\n",
       "    </tr>\n",
       "  </thead>\n",
       "  <tbody>\n",
       "    <tr>\n",
       "      <th>1</th>\n",
       "      <td>Maruti Swift</td>\n",
       "      <td>LXI</td>\n",
       "      <td>Manual</td>\n",
       "      <td>10568</td>\n",
       "      <td>1st Owner</td>\n",
       "      <td>Petrol</td>\n",
       "      <td>592499</td>\n",
       "      <td>2</td>\n",
       "    </tr>\n",
       "    <tr>\n",
       "      <th>2</th>\n",
       "      <td>Maruti Swift</td>\n",
       "      <td>LXI</td>\n",
       "      <td>Manual</td>\n",
       "      <td>27659</td>\n",
       "      <td>1st Owner</td>\n",
       "      <td>Petrol</td>\n",
       "      <td>533399</td>\n",
       "      <td>3</td>\n",
       "    </tr>\n",
       "    <tr>\n",
       "      <th>3</th>\n",
       "      <td>KIA SELTOS</td>\n",
       "      <td>HTX 1.5 PETROL MT</td>\n",
       "      <td>Manual</td>\n",
       "      <td>32799</td>\n",
       "      <td>1st Owner</td>\n",
       "      <td>Petrol</td>\n",
       "      <td>1383099</td>\n",
       "      <td>2</td>\n",
       "    </tr>\n",
       "    <tr>\n",
       "      <th>6</th>\n",
       "      <td>Hyundai i10</td>\n",
       "      <td>ERA 1.1 IRDE</td>\n",
       "      <td>Manual</td>\n",
       "      <td>37928</td>\n",
       "      <td>1st Owner</td>\n",
       "      <td>Petrol</td>\n",
       "      <td>271699</td>\n",
       "      <td>9</td>\n",
       "    </tr>\n",
       "    <tr>\n",
       "      <th>7</th>\n",
       "      <td>Honda City</td>\n",
       "      <td>VX MT PETROL</td>\n",
       "      <td>Manual</td>\n",
       "      <td>61168</td>\n",
       "      <td>2nd Owner</td>\n",
       "      <td>Petrol</td>\n",
       "      <td>658499</td>\n",
       "      <td>8</td>\n",
       "    </tr>\n",
       "  </tbody>\n",
       "</table>\n",
       "</div>"
      ],
      "text/plain": [
       "           Name            Variant Transmission  km_driven Owner_Type    Fuel  \\\n",
       "1  Maruti Swift                LXI       Manual      10568  1st Owner  Petrol   \n",
       "2  Maruti Swift                LXI       Manual      27659  1st Owner  Petrol   \n",
       "3    KIA SELTOS  HTX 1.5 PETROL MT       Manual      32799  1st Owner  Petrol   \n",
       "6   Hyundai i10       ERA 1.1 IRDE       Manual      37928  1st Owner  Petrol   \n",
       "7    Honda City       VX MT PETROL       Manual      61168  2nd Owner  Petrol   \n",
       "\n",
       "     Price  Age  \n",
       "1   592499    2  \n",
       "2   533399    3  \n",
       "3  1383099    2  \n",
       "6   271699    9  \n",
       "7   658499    8  "
      ]
     },
     "execution_count": 300,
     "metadata": {},
     "output_type": "execute_result"
    }
   ],
   "source": [
    "cars.head()"
   ]
  },
  {
   "cell_type": "code",
   "execution_count": null,
   "id": "d36cf1dc",
   "metadata": {},
   "outputs": [
    {
     "data": {
      "text/plain": [
       "array(['Petrol', 'Diesel', 'Petrol + CNG'], dtype=object)"
      ]
     },
     "execution_count": 301,
     "metadata": {},
     "output_type": "execute_result"
    }
   ],
   "source": [
    "cars[\"Fuel\"].unique()"
   ]
  },
  {
   "cell_type": "code",
   "execution_count": null,
   "id": "70f0b63c",
   "metadata": {},
   "outputs": [
    {
     "data": {
      "text/plain": [
       "['Hyundai Elite',\n",
       " 'Mahindra Kuv100',\n",
       " 'Tata Hexa',\n",
       " 'Honda WR-V',\n",
       " 'Maruti Baleno',\n",
       " 'Honda Brio',\n",
       " 'Mahindra XUV500',\n",
       " 'Hyundai Creta',\n",
       " 'Maruti Celerio',\n",
       " 'Honda Amaze',\n",
       " 'Nissan Micra',\n",
       " 'Tata Tiago',\n",
       " 'Maruti S',\n",
       " 'Maruti Ciaz',\n",
       " 'Maruti Vitara',\n",
       " 'Mahindra Thar',\n",
       " 'Renault Kwid',\n",
       " 'Hyundai Tucson',\n",
       " 'Tata ALTROZ',\n",
       " 'Tata NEXON',\n",
       " 'Renault Kiger',\n",
       " 'Mahindra Scorpio',\n",
       " 'Maruti A',\n",
       " 'Tata Safari',\n",
       " 'Toyota YARIS',\n",
       " 'Honda City',\n",
       " 'Jaguar XF',\n",
       " 'Hyundai GRAND',\n",
       " 'Hyundai VENUE',\n",
       " 'Hyundai i10',\n",
       " 'Maruti Alto',\n",
       " 'Toyota Innova',\n",
       " 'Honda Jazz',\n",
       " 'Datsun Redi',\n",
       " 'Audi Q3',\n",
       " 'BMW X1',\n",
       " 'Tata TIGOR',\n",
       " 'Maruti Ritz',\n",
       " 'Maruti Dzire',\n",
       " 'Mahindra XUV',\n",
       " 'Hyundai Xcent',\n",
       " 'Hyundai NEW',\n",
       " 'Maruti Ertiga',\n",
       " 'KIA SELTOS',\n",
       " 'Audi A3',\n",
       " 'Toyota Corolla',\n",
       " 'Jeep Compass',\n",
       " 'Toyota Glanza',\n",
       " 'Hyundai New',\n",
       " 'Volkswagen Ameo',\n",
       " 'Ford Ecosport',\n",
       " 'Mercedes Benz',\n",
       " 'Maruti New',\n",
       " 'MG HECTOR',\n",
       " 'Maruti IGNIS',\n",
       " 'Hyundai i20',\n",
       " 'Skoda Octavia',\n",
       " 'MG ASTOR',\n",
       " 'Hyundai Verna',\n",
       " 'Hyundai Eon',\n",
       " 'BMW X3',\n",
       " 'Hyundai Grand',\n",
       " 'Renault TRIBER',\n",
       " 'Honda Civic',\n",
       " 'Renault Duster',\n",
       " 'Maruti Swift',\n",
       " 'Ford Figo',\n",
       " 'Skoda Rapid',\n",
       " 'Maruti XL6',\n",
       " 'Maruti Wagon',\n",
       " 'Audi Q5',\n",
       " 'Volkswagen Polo',\n",
       " 'BMW 5',\n",
       " 'Toyota Etios',\n",
       " 'Toyota Fortuner',\n",
       " 'Mahindra KUV']"
      ]
     },
     "execution_count": 302,
     "metadata": {},
     "output_type": "execute_result"
    }
   ],
   "source": [
    "name = list(set(cars[\"Name\"]))\n",
    "name"
   ]
  },
  {
   "cell_type": "code",
   "execution_count": null,
   "id": "45651fcf",
   "metadata": {},
   "outputs": [
    {
     "data": {
      "text/plain": [
       "['Magna Executive Diesel',\n",
       " '1.5 AMBIENTE TDCI',\n",
       " 'FLUIDIC 1.6 SX VTVT OPT AT',\n",
       " 'GD',\n",
       " '2.0 TDI STYLE PLUS AT',\n",
       " '1.5 EMT I DTEC',\n",
       " 'MAGNA O 1.2',\n",
       " 'RXS 85 PS',\n",
       " 'FLUIDIC 1.6 SX VTVT',\n",
       " 'ALPHA 1.2 K12 AMT',\n",
       " 'S9',\n",
       " '2.0 LONGITUDE',\n",
       " 'S5',\n",
       " 'LXI CNG 1.0 L',\n",
       " 'MAGNA 1.2 KAPPA VTVT',\n",
       " 'SPORTZ 1.1 CRDI',\n",
       " 'DELTA 1.2 K12 AMT',\n",
       " 'V MT PETROL',\n",
       " 'A',\n",
       " '1.2 i-VTEC S MT',\n",
       " '1.6 SX AT CRDI',\n",
       " 'SIGMA 1.2 K12',\n",
       " 'MAGNA 1.2 KAPPA2',\n",
       " '1.6 CRDI SX + AT',\n",
       " 'CROSS VD',\n",
       " 'XDRIVE 20D',\n",
       " 'J MT',\n",
       " '1.4 E PLUS CRDI',\n",
       " '1.0 TURBO GDI SX+ AT',\n",
       " '85 PS RXL OPT',\n",
       " 'ALPHA SHVS',\n",
       " '1.5 TITANIUMTDCI OPT',\n",
       " 'XZ 1.2',\n",
       " 'S PETROL MT',\n",
       " 'HTK PLUS AT 1.5 DIESEL',\n",
       " 'ZX CVT PETROL',\n",
       " 'XM 1.2 REVOTRON',\n",
       " 'LXI CNG (O)',\n",
       " 'ZXI +',\n",
       " 'LXI CNG',\n",
       " 'ASTA 1.2 KAPPA VTVT',\n",
       " '2.0 TDI MT S EDITION',\n",
       " 'ZETA 1.2 K12 AMT',\n",
       " 'ASTA 1.4 CRDI',\n",
       " 'ZX CVT',\n",
       " 'XZ PLUS 1.2 REVOTRON',\n",
       " 'SPORTZ 1.2 AT',\n",
       " 'D 4D G',\n",
       " 'GT TSI 1.2 PETROL AT',\n",
       " 'ALPHA SHVS  MT',\n",
       " 'GTX + AT PETROL',\n",
       " 'GL',\n",
       " 'DELTA 1.2 K12',\n",
       " 'MAGNA PLUS',\n",
       " '1.4 SPORT PETROL',\n",
       " 'G SP',\n",
       " 'SPORTZ 1.2 KAPPA2',\n",
       " '1.6 SX CRDI',\n",
       " 'SHARP (O) 1.5 CVT IVORY',\n",
       " 'ZDI Plus AMT',\n",
       " 'VX CVT PETROL',\n",
       " 'SPORTZ (O) 1.2 AT VTVT',\n",
       " 'ALPHA 1.3 DDIS',\n",
       " 'ZXI',\n",
       " 'XV CVT',\n",
       " 'ZDI PLUS',\n",
       " '1.5 TITANIUM TI VCT AT',\n",
       " 'CRDE 4X4 BS IV',\n",
       " 'E 220 CDI ELEGANCE',\n",
       " '1.6 SX AT O',\n",
       " 'DELTA DDIS 190',\n",
       " 'SPORTZ (O) 1.4',\n",
       " 'SV MT DIESEL',\n",
       " 'VXI CNG',\n",
       " 'HTX 1.5 PETROL MT',\n",
       " '1.6 CRDI SX PLUS AUTO',\n",
       " 'SPORTZ 1.2 KAPPA VTVT',\n",
       " 'LXI OPT',\n",
       " '1.2 i-VTEC VX MT',\n",
       " 'T (O)',\n",
       " '1.0 RXT Opt AT',\n",
       " 'ALPHA 1.3',\n",
       " 'HTK PLUS 1.5 DIESEL',\n",
       " 'S10',\n",
       " '1.6 SX VTVT',\n",
       " 'G MT',\n",
       " '1.5 SX (O) AT',\n",
       " 'CLIMBER 1.0 AT',\n",
       " '1.4 S PLUS',\n",
       " 'LDI BS IV',\n",
       " 'VXI 1.2 BS IV',\n",
       " '2.0 LIMITED',\n",
       " 'XE DIESEL',\n",
       " '1.5 i-DTEC VX MT',\n",
       " '1.2 S',\n",
       " 'SUPER DIESEL',\n",
       " 'ASTA 1.1 CRDI',\n",
       " 'XZA 1.2 REVOTRON',\n",
       " '30 TDI PREMIUM PLUS',\n",
       " '2WD AT GL DIESEL',\n",
       " '1.1 ERA EXICUTIVE',\n",
       " 'VXI AGS',\n",
       " '1.2 VXMT I VTEC',\n",
       " 'DELTA 1.3 DDIS SHVS',\n",
       " 'ERA 1.1 IRDE',\n",
       " 'S CRDI',\n",
       " 'VDI',\n",
       " '1.1 MAGNA AMT',\n",
       " 'XZ+ 1.5',\n",
       " 'VDI OPT',\n",
       " 'ZXI OPT AMT',\n",
       " 'Varicor 400 XMA',\n",
       " 'G',\n",
       " 'SV MT PETROL',\n",
       " '1.2 TITANIUM PETROL',\n",
       " 'Varicor 400 XM',\n",
       " 'S MT PETROL',\n",
       " 'S MT 1.2 KAPPA',\n",
       " 'VXI',\n",
       " '3.0 AT 4X2',\n",
       " 'XMA 1.2',\n",
       " 'ASTA 1.2 (O) VTVT',\n",
       " '30 TDI MT S EDITION',\n",
       " '85 PS RXL',\n",
       " 'Magna 1.2 AT  VTVT',\n",
       " 'VXI 1.2L',\n",
       " '1.2 SAT I VTEC',\n",
       " '1.5 TREND TDCI',\n",
       " 'ASTA 1.1 MT',\n",
       " 'SPORTZ PETROL',\n",
       " 'S7 120 BHP 2WD',\n",
       " 'XE 1.2',\n",
       " '1.0 RXT Opt',\n",
       " 'STYLE 1.0TSI MT',\n",
       " 'VXI PLUS AGS',\n",
       " 'ASTA 1.2',\n",
       " 'J S',\n",
       " '520D LUXURY LINE',\n",
       " 'SPORTZ 1.2 VTVT',\n",
       " '2.0 TDI QUATTRO',\n",
       " 'SPORTZ 1.1',\n",
       " 'VX 1.2 CVT',\n",
       " '1.2 S AT',\n",
       " 'FLUIDIC 1.6 SX CRDI',\n",
       " 'MAGNA 1.2 VTVT',\n",
       " 'G CVT',\n",
       " 'ZDI',\n",
       " 'K2 6 STR',\n",
       " '1.2 ZX MT',\n",
       " 'LX D 4*4 MT HT',\n",
       " 'ZXI AMT',\n",
       " 'SIGMA 1.5 SHVS',\n",
       " 'SDRIVE 20D',\n",
       " '2.5 VX 8 STR BS IV',\n",
       " 'K8 5 STR',\n",
       " 'VX MT PETROL',\n",
       " 'S 1.2',\n",
       " 'MAGNA 1.1 IRDE2',\n",
       " 'HTK 1.5 PETROL',\n",
       " '1.2 EMT I VTEC',\n",
       " '1.5 W6 MT',\n",
       " 'SHARP 2.0 DIESEL',\n",
       " 'SPORTZ 1.4 CRDI',\n",
       " 'VX MT DIESEL',\n",
       " 'ZXI 1.2',\n",
       " 'ALPHA 1.3 DDIS SHVS',\n",
       " 'ERA 1.4 CRDI',\n",
       " '1.5 TITANIUM TI VCT',\n",
       " '1.5 TREND TI VCT',\n",
       " '85 PS RXE',\n",
       " 'VXI 1.0',\n",
       " 'FLUIDIC 1.6 VTVT SX AT',\n",
       " '35TDI PREMIUM',\n",
       " 'ZDI PLUS DUAL TONE',\n",
       " '1.6 VTVT SX AUTO',\n",
       " 'W8(O)',\n",
       " 'ZDI+ SHVS',\n",
       " 'W8 FWD AT',\n",
       " '35 TDI Quattro',\n",
       " 'VDI BS IV',\n",
       " 'J CVT',\n",
       " 'ALPHA DDIS 190',\n",
       " '1.6 S',\n",
       " 'ERA PLUS',\n",
       " 'MAGNA 1.2',\n",
       " 'ALPHA 1.5 MT VTVT SHVS',\n",
       " 'RXT',\n",
       " 'RXT 1.0 EASY-R  AT',\n",
       " 'XTA 1.2 PETROL',\n",
       " 'VXI PLUS',\n",
       " '1.0 LXI (O)',\n",
       " 'VDI (O) SHVS HYBIRD',\n",
       " 'ALPHA 1.2 K12',\n",
       " 'RXZ AMT 110 PS',\n",
       " '1.2 VX MT I VTEC',\n",
       " '2.2 DIESEL',\n",
       " 'ZXI+',\n",
       " '1.6 SX PLUS VTVT ANNIVERSARY EDITION',\n",
       " 'SHARP DCT PETROL',\n",
       " 'HTX+ AT 1.5 DIESEL',\n",
       " '2.0 TDI  PREMIUM',\n",
       " 'ZETA 1.3',\n",
       " 'VXI OPT',\n",
       " 'XZ 1.2 REVOTRON',\n",
       " 'LX  4WD AT CONVERTIBLE',\n",
       " 'ZETA 1.2 K12',\n",
       " 'ZETA 1.2 K12 CVT',\n",
       " 'VXI AMT',\n",
       " 'ZETA DDIS 190',\n",
       " '1.5 SIGMA SHVS',\n",
       " 'VXI (O) AMT',\n",
       " '1.2 V CVT I VTEC',\n",
       " 'DELTA 1.2 K12 AT',\n",
       " '1.0 RXZ',\n",
       " 'SPORTZ 1.2',\n",
       " 'XZ 1.2 REVOTRON OPT',\n",
       " '1.5 TDCI TITANIUM PLUS',\n",
       " 'XE 1.2 REVOTRON',\n",
       " 'RXL',\n",
       " 'RXT 1.0 AMT',\n",
       " '1.0 RXL',\n",
       " 'COMFORTLINE 1.2L PETROL',\n",
       " 'LXI',\n",
       " 'K8 6 STR',\n",
       " 'SPORTZ 1.4',\n",
       " '1.5TITANIUM TDCI',\n",
       " '1.2 SPORTS PLUS VTVT',\n",
       " 'VDI ABS',\n",
       " '1.4 S CRDI',\n",
       " '1.0 Lxi (o) cng',\n",
       " 'W8 FWD',\n",
       " '1.2 VX I-VTECH',\n",
       " 'G AT',\n",
       " 'XE 2.0 KRYOTEC',\n",
       " '1.2 S MT',\n",
       " 'Sportz(O) 1.2 MT',\n",
       " 'HIGHLINE PLUS DSG 1.5',\n",
       " 'MAGNA 1.4 CRDI',\n",
       " '1.0 AMBITION TSI AT',\n",
       " '1.5 TREND+ TDCI',\n",
       " 'VDI+ SHVS',\n",
       " '1.2 S (O) MT I VTEC',\n",
       " '1.5 VXMT I DTEC',\n",
       " 'ASTA 1.2 (O)',\n",
       " 'E MT DIESEL',\n",
       " 'Magna Executive 1.2',\n",
       " 'SX PETROL MT']"
      ]
     },
     "execution_count": 303,
     "metadata": {},
     "output_type": "execute_result"
    }
   ],
   "source": [
    "variant = list(set(cars[\"Variant\"]))\n",
    "variant"
   ]
  }
 ],
 "metadata": {
  "kernelspec": {
   "display_name": "Python 3.9.12 ('base')",
   "language": "python",
   "name": "python3"
  },
  "language_info": {
   "codemirror_mode": {
    "name": "ipython",
    "version": 3
   },
   "file_extension": ".py",
   "mimetype": "text/x-python",
   "name": "python",
   "nbconvert_exporter": "python",
   "pygments_lexer": "ipython3",
   "version": "3.9.12"
  },
  "vscode": {
   "interpreter": {
    "hash": "72b97491cdeb9bb3ac668fcced72ff373db005df824af2ab58d7a007fb3289ad"
   }
  }
 },
 "nbformat": 4,
 "nbformat_minor": 5
}
