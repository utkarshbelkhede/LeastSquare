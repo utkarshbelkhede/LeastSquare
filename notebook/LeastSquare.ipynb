{
 "cells": [
  {
   "attachments": {},
   "cell_type": "markdown",
   "id": "7ba24905",
   "metadata": {},
   "source": [
    "<a href=\"https://colab.research.google.com/github/utkarshbelkhede/LeastSquare/blob/master/notebook/LeastSquare.ipynb\" target=\"_parent\"><img src=\"https://colab.research.google.com/assets/colab-badge.svg\" alt=\"Open In Colab\"/></a>"
   ]
  },
  {
   "attachments": {},
   "cell_type": "markdown",
   "id": "7e93eae6",
   "metadata": {},
   "source": [
    "#### 1. Loading required Libraries"
   ]
  },
  {
   "cell_type": "code",
   "execution_count": 65,
   "id": "f5673b66",
   "metadata": {},
   "outputs": [],
   "source": [
    "import numpy as np               # Linear Algebra\n",
    "import pandas as pd              # Data Handling\n",
    "import seaborn as sns            # Visualization\n",
    "import matplotlib.pyplot as plt  # Visualization\n",
    "from datetime import date        # Use Year\n",
    "import warnings                  # For warnings\n",
    "warnings.filterwarnings('ignore')"
   ]
  },
  {
   "cell_type": "markdown",
   "id": "8b31fe9b",
   "metadata": {},
   "source": [
    "#### 2. Importing dataset into 'cars' dataframe"
   ]
  },
  {
   "cell_type": "code",
   "execution_count": 66,
   "id": "8f1a6bf2",
   "metadata": {},
   "outputs": [
    {
     "data": {
      "text/html": [
       "<div>\n",
       "<style scoped>\n",
       "    .dataframe tbody tr th:only-of-type {\n",
       "        vertical-align: middle;\n",
       "    }\n",
       "\n",
       "    .dataframe tbody tr th {\n",
       "        vertical-align: top;\n",
       "    }\n",
       "\n",
       "    .dataframe thead th {\n",
       "        text-align: right;\n",
       "    }\n",
       "</style>\n",
       "<table border=\"1\" class=\"dataframe\">\n",
       "  <thead>\n",
       "    <tr style=\"text-align: right;\">\n",
       "      <th></th>\n",
       "      <th>Title</th>\n",
       "      <th>cvakb</th>\n",
       "      <th>cvakb1</th>\n",
       "      <th>bvr0c</th>\n",
       "      <th>bvr0c2</th>\n",
       "      <th>bvr0c3</th>\n",
       "      <th>_7udzz</th>\n",
       "      <th>Unnamed: 7</th>\n",
       "      <th>Unnamed: 8</th>\n",
       "      <th>Unnamed: 9</th>\n",
       "      <th>Unnamed: 10</th>\n",
       "      <th>Unnamed: 11</th>\n",
       "      <th>Unnamed: 12</th>\n",
       "    </tr>\n",
       "  </thead>\n",
       "  <tbody>\n",
       "    <tr>\n",
       "      <th>0</th>\n",
       "      <td>2020 KIA SELTOS</td>\n",
       "      <td>GTX + AT PETROL Automatic</td>\n",
       "      <td>Automatic</td>\n",
       "      <td>8,241 km</td>\n",
       "      <td>1st Owner</td>\n",
       "      <td>Petrol</td>\n",
       "      <td>?18,95,199</td>\n",
       "      <td>NaN</td>\n",
       "      <td>NaN</td>\n",
       "      <td>NaN</td>\n",
       "      <td>NaN</td>\n",
       "      <td>NaN</td>\n",
       "      <td>NaN</td>\n",
       "    </tr>\n",
       "    <tr>\n",
       "      <th>1</th>\n",
       "      <td>2020 Maruti Swift</td>\n",
       "      <td>LXI Manual</td>\n",
       "      <td>Manual</td>\n",
       "      <td>10,568 km</td>\n",
       "      <td>1st Owner</td>\n",
       "      <td>Petrol</td>\n",
       "      <td>?5,92,499</td>\n",
       "      <td>NaN</td>\n",
       "      <td>NaN</td>\n",
       "      <td>NaN</td>\n",
       "      <td>NaN</td>\n",
       "      <td>NaN</td>\n",
       "      <td>NaN</td>\n",
       "    </tr>\n",
       "    <tr>\n",
       "      <th>2</th>\n",
       "      <td>2019 Maruti Swift</td>\n",
       "      <td>LXI Manual</td>\n",
       "      <td>Manual</td>\n",
       "      <td>27,659 km</td>\n",
       "      <td>1st Owner</td>\n",
       "      <td>Petrol</td>\n",
       "      <td>?5,33,399</td>\n",
       "      <td>NaN</td>\n",
       "      <td>NaN</td>\n",
       "      <td>NaN</td>\n",
       "      <td>NaN</td>\n",
       "      <td>NaN</td>\n",
       "      <td>NaN</td>\n",
       "    </tr>\n",
       "    <tr>\n",
       "      <th>3</th>\n",
       "      <td>2020 KIA SELTOS</td>\n",
       "      <td>HTX 1.5 PETROL MT Manual</td>\n",
       "      <td>Manual</td>\n",
       "      <td>32,799 km</td>\n",
       "      <td>1st Owner</td>\n",
       "      <td>Petrol</td>\n",
       "      <td>?13,83,099</td>\n",
       "      <td>NaN</td>\n",
       "      <td>NaN</td>\n",
       "      <td>NaN</td>\n",
       "      <td>NaN</td>\n",
       "      <td>NaN</td>\n",
       "      <td>NaN</td>\n",
       "    </tr>\n",
       "    <tr>\n",
       "      <th>4</th>\n",
       "      <td>2014 Mercedes Benz C Class</td>\n",
       "      <td>C 200 AVANTGARDE Automatic</td>\n",
       "      <td>Automatic</td>\n",
       "      <td>37,531 km</td>\n",
       "      <td>1st Owner</td>\n",
       "      <td>Petrol</td>\n",
       "      <td>?20,33,499</td>\n",
       "      <td>NaN</td>\n",
       "      <td>NaN</td>\n",
       "      <td>NaN</td>\n",
       "      <td>NaN</td>\n",
       "      <td>NaN</td>\n",
       "      <td>NaN</td>\n",
       "    </tr>\n",
       "  </tbody>\n",
       "</table>\n",
       "</div>"
      ],
      "text/plain": [
       "                        Title                       cvakb     cvakb1  \\\n",
       "0             2020 KIA SELTOS   GTX + AT PETROL Automatic  Automatic   \n",
       "1           2020 Maruti Swift                  LXI Manual     Manual   \n",
       "2           2019 Maruti Swift                  LXI Manual     Manual   \n",
       "3             2020 KIA SELTOS    HTX 1.5 PETROL MT Manual     Manual   \n",
       "4  2014 Mercedes Benz C Class  C 200 AVANTGARDE Automatic  Automatic   \n",
       "\n",
       "       bvr0c     bvr0c2  bvr0c3      _7udzz Unnamed: 7 Unnamed: 8 Unnamed: 9  \\\n",
       "0   8,241 km  1st Owner  Petrol  ?18,95,199        NaN        NaN        NaN   \n",
       "1  10,568 km  1st Owner  Petrol   ?5,92,499        NaN        NaN        NaN   \n",
       "2  27,659 km  1st Owner  Petrol   ?5,33,399        NaN        NaN        NaN   \n",
       "3  32,799 km  1st Owner  Petrol  ?13,83,099        NaN        NaN        NaN   \n",
       "4  37,531 km  1st Owner  Petrol  ?20,33,499        NaN        NaN        NaN   \n",
       "\n",
       "  Unnamed: 10 Unnamed: 11 Unnamed: 12  \n",
       "0         NaN         NaN         NaN  \n",
       "1         NaN         NaN         NaN  \n",
       "2         NaN         NaN         NaN  \n",
       "3         NaN         NaN         NaN  \n",
       "4         NaN         NaN         NaN  "
      ]
     },
     "execution_count": 66,
     "metadata": {},
     "output_type": "execute_result"
    }
   ],
   "source": [
    "cars = pd.read_csv(\"../datasets/Cars24.csv\")\n",
    "cars.head()"
   ]
  },
  {
   "cell_type": "markdown",
   "id": "d19168b6",
   "metadata": {},
   "source": [
    "#### 3. Feature Engineering"
   ]
  },
  {
   "cell_type": "code",
   "execution_count": 67,
   "id": "27ca9dd7",
   "metadata": {},
   "outputs": [],
   "source": [
    "# To Perform Regex Operation\n",
    "import re \n",
    "\n",
    "\n",
    "def find_number(text):\n",
    "    \"\"\"\n",
    "    Extracts integers from text. \n",
    "    Returns a string of Numbers.\n",
    "\n",
    "    Parameters :\n",
    "    -----------\n",
    "    text: string\n",
    "    \"\"\"\n",
    "\n",
    "    num = re.findall(r'[0-9]+',text)\n",
    "    return \"\".join(num)\n",
    "\n",
    "\n",
    "def feature_engineering(cars):\n",
    "    \"\"\"\n",
    "    Does Feature Engineering.\n",
    "    And Returns a Clean Dataframe.\n",
    "\n",
    "    Parameters :\n",
    "    -----------\n",
    "    cars: pandas.DataFrame - DataFrame on which you wish to perform Feature Engineering.\n",
    "    \"\"\"\n",
    "\n",
    "    # First seven columns are relevant\n",
    "    cars = cars.iloc[:,:7]\n",
    "\n",
    "    # Giving Proper names to features\n",
    "    cars.rename(columns = {'Title':'Name', 'cvakb':'Variant', 'cvakb1':'Transmission', 'bvr0c':'km_driven', 'bvr0c2':'Owner_Type', 'bvr0c3':'Fuel', '_7udzz':'Price'}, inplace = True)\n",
    "\n",
    "    # Extracting only numbers\n",
    "    cars[\"Price\"] = cars[\"Price\"].apply(lambda x: find_number(x))\n",
    "\n",
    "    # Extracting year of purchase from Name\n",
    "    cars['Year_Purchased'] = [' '.join(x.split(' ')[0:1]) for x in cars['Name']]\n",
    "\n",
    "    # Extracting name excluding year of purchase\n",
    "    cars['Company'] = [' '.join(x.split(' ')[1:2]) for x in cars['Name']]\n",
    "\n",
    "    cars['Car'] = [' '.join(x.split(' ')[2:]) for x in cars['Name']]\n",
    "\n",
    "    # Removing \"km\"\n",
    "    cars[\"km_driven\"] = cars[\"km_driven\"].str.split().str.slice(start=0,stop=1).str.join(' ')\n",
    "\n",
    "    # Extracting only numbers\n",
    "    cars[\"km_driven\"] = cars[\"km_driven\"].apply(lambda x: find_number(x))\n",
    "\n",
    "    # Removing Transmission type from the end of Variant\n",
    "    cars['Variant'] = [' '.join(x.split(' ')[:-1]) for x in cars['Variant']]\n",
    "\n",
    "    # Converting features to int\n",
    "    cars = cars.astype({\"km_driven\":\"int\",\"Price\":\"int\", \"Year_Purchased\":\"int\"})\n",
    "\n",
    "    # Deriving Age of Vehical from Year of Purchase\n",
    "    cars[\"Age\"] = date.today().year - cars[\"Year_Purchased\"]\n",
    "    cars.drop(['Year_Purchased', 'Name'], axis=1, inplace=True)\n",
    "\n",
    "    return cars"
   ]
  },
  {
   "cell_type": "code",
   "execution_count": 68,
   "metadata": {},
   "outputs": [
    {
     "data": {
      "text/html": [
       "<div>\n",
       "<style scoped>\n",
       "    .dataframe tbody tr th:only-of-type {\n",
       "        vertical-align: middle;\n",
       "    }\n",
       "\n",
       "    .dataframe tbody tr th {\n",
       "        vertical-align: top;\n",
       "    }\n",
       "\n",
       "    .dataframe thead th {\n",
       "        text-align: right;\n",
       "    }\n",
       "</style>\n",
       "<table border=\"1\" class=\"dataframe\">\n",
       "  <thead>\n",
       "    <tr style=\"text-align: right;\">\n",
       "      <th></th>\n",
       "      <th>Variant</th>\n",
       "      <th>Transmission</th>\n",
       "      <th>km_driven</th>\n",
       "      <th>Owner_Type</th>\n",
       "      <th>Fuel</th>\n",
       "      <th>Price</th>\n",
       "      <th>Company</th>\n",
       "      <th>Car</th>\n",
       "      <th>Age</th>\n",
       "    </tr>\n",
       "  </thead>\n",
       "  <tbody>\n",
       "    <tr>\n",
       "      <th>0</th>\n",
       "      <td>GTX + AT PETROL</td>\n",
       "      <td>Automatic</td>\n",
       "      <td>8241</td>\n",
       "      <td>1st Owner</td>\n",
       "      <td>Petrol</td>\n",
       "      <td>1895199</td>\n",
       "      <td>KIA</td>\n",
       "      <td>SELTOS</td>\n",
       "      <td>2</td>\n",
       "    </tr>\n",
       "    <tr>\n",
       "      <th>1</th>\n",
       "      <td>LXI</td>\n",
       "      <td>Manual</td>\n",
       "      <td>10568</td>\n",
       "      <td>1st Owner</td>\n",
       "      <td>Petrol</td>\n",
       "      <td>592499</td>\n",
       "      <td>Maruti</td>\n",
       "      <td>Swift</td>\n",
       "      <td>2</td>\n",
       "    </tr>\n",
       "    <tr>\n",
       "      <th>2</th>\n",
       "      <td>LXI</td>\n",
       "      <td>Manual</td>\n",
       "      <td>27659</td>\n",
       "      <td>1st Owner</td>\n",
       "      <td>Petrol</td>\n",
       "      <td>533399</td>\n",
       "      <td>Maruti</td>\n",
       "      <td>Swift</td>\n",
       "      <td>3</td>\n",
       "    </tr>\n",
       "    <tr>\n",
       "      <th>3</th>\n",
       "      <td>HTX 1.5 PETROL MT</td>\n",
       "      <td>Manual</td>\n",
       "      <td>32799</td>\n",
       "      <td>1st Owner</td>\n",
       "      <td>Petrol</td>\n",
       "      <td>1383099</td>\n",
       "      <td>KIA</td>\n",
       "      <td>SELTOS</td>\n",
       "      <td>2</td>\n",
       "    </tr>\n",
       "    <tr>\n",
       "      <th>4</th>\n",
       "      <td>C 200 AVANTGARDE</td>\n",
       "      <td>Automatic</td>\n",
       "      <td>37531</td>\n",
       "      <td>1st Owner</td>\n",
       "      <td>Petrol</td>\n",
       "      <td>2033499</td>\n",
       "      <td>Mercedes</td>\n",
       "      <td>Benz C Class</td>\n",
       "      <td>8</td>\n",
       "    </tr>\n",
       "    <tr>\n",
       "      <th>...</th>\n",
       "      <td>...</td>\n",
       "      <td>...</td>\n",
       "      <td>...</td>\n",
       "      <td>...</td>\n",
       "      <td>...</td>\n",
       "      <td>...</td>\n",
       "      <td>...</td>\n",
       "      <td>...</td>\n",
       "      <td>...</td>\n",
       "    </tr>\n",
       "    <tr>\n",
       "      <th>651</th>\n",
       "      <td>RXL EASY R 1.0 L</td>\n",
       "      <td>NaN</td>\n",
       "      <td>15795</td>\n",
       "      <td>1st Owner</td>\n",
       "      <td>Petrol</td>\n",
       "      <td>797799</td>\n",
       "      <td>Renault</td>\n",
       "      <td>Kiger</td>\n",
       "      <td>1</td>\n",
       "    </tr>\n",
       "    <tr>\n",
       "      <th>652</th>\n",
       "      <td>VXI OPT</td>\n",
       "      <td>Manual</td>\n",
       "      <td>48136</td>\n",
       "      <td>1st Owner</td>\n",
       "      <td>Petrol</td>\n",
       "      <td>372999</td>\n",
       "      <td>Maruti</td>\n",
       "      <td>Alto K10</td>\n",
       "      <td>5</td>\n",
       "    </tr>\n",
       "    <tr>\n",
       "      <th>653</th>\n",
       "      <td>MAGNA 1.1 IRDE2</td>\n",
       "      <td>Manual</td>\n",
       "      <td>45657</td>\n",
       "      <td>1st Owner</td>\n",
       "      <td>Petrol</td>\n",
       "      <td>350999</td>\n",
       "      <td>Hyundai</td>\n",
       "      <td>i10</td>\n",
       "      <td>7</td>\n",
       "    </tr>\n",
       "    <tr>\n",
       "      <th>654</th>\n",
       "      <td>XZ 1.2 REVOTRON</td>\n",
       "      <td>Manual</td>\n",
       "      <td>649</td>\n",
       "      <td>1st Owner</td>\n",
       "      <td>Petrol</td>\n",
       "      <td>731399</td>\n",
       "      <td>Tata</td>\n",
       "      <td>TIGOR</td>\n",
       "      <td>1</td>\n",
       "    </tr>\n",
       "    <tr>\n",
       "      <th>655</th>\n",
       "      <td>XE 1.2 REVOTRON</td>\n",
       "      <td>Manual</td>\n",
       "      <td>16179</td>\n",
       "      <td>1st Owner</td>\n",
       "      <td>Petrol</td>\n",
       "      <td>449499</td>\n",
       "      <td>Tata</td>\n",
       "      <td>Tiago</td>\n",
       "      <td>4</td>\n",
       "    </tr>\n",
       "  </tbody>\n",
       "</table>\n",
       "<p>656 rows × 9 columns</p>\n",
       "</div>"
      ],
      "text/plain": [
       "               Variant Transmission  km_driven Owner_Type    Fuel    Price  \\\n",
       "0      GTX + AT PETROL    Automatic       8241  1st Owner  Petrol  1895199   \n",
       "1                  LXI       Manual      10568  1st Owner  Petrol   592499   \n",
       "2                  LXI       Manual      27659  1st Owner  Petrol   533399   \n",
       "3    HTX 1.5 PETROL MT       Manual      32799  1st Owner  Petrol  1383099   \n",
       "4     C 200 AVANTGARDE    Automatic      37531  1st Owner  Petrol  2033499   \n",
       "..                 ...          ...        ...        ...     ...      ...   \n",
       "651   RXL EASY R 1.0 L          NaN      15795  1st Owner  Petrol   797799   \n",
       "652            VXI OPT       Manual      48136  1st Owner  Petrol   372999   \n",
       "653    MAGNA 1.1 IRDE2       Manual      45657  1st Owner  Petrol   350999   \n",
       "654    XZ 1.2 REVOTRON       Manual        649  1st Owner  Petrol   731399   \n",
       "655    XE 1.2 REVOTRON       Manual      16179  1st Owner  Petrol   449499   \n",
       "\n",
       "      Company           Car  Age  \n",
       "0         KIA        SELTOS    2  \n",
       "1      Maruti         Swift    2  \n",
       "2      Maruti         Swift    3  \n",
       "3         KIA        SELTOS    2  \n",
       "4    Mercedes  Benz C Class    8  \n",
       "..        ...           ...  ...  \n",
       "651   Renault         Kiger    1  \n",
       "652    Maruti      Alto K10    5  \n",
       "653   Hyundai           i10    7  \n",
       "654      Tata         TIGOR    1  \n",
       "655      Tata         Tiago    4  \n",
       "\n",
       "[656 rows x 9 columns]"
      ]
     },
     "execution_count": 68,
     "metadata": {},
     "output_type": "execute_result"
    }
   ],
   "source": [
    "cars = feature_engineering(cars)\n",
    "cars"
   ]
  },
  {
   "cell_type": "code",
   "execution_count": 69,
   "id": "ddfd9833",
   "metadata": {},
   "outputs": [
    {
     "data": {
      "text/html": [
       "<div>\n",
       "<style scoped>\n",
       "    .dataframe tbody tr th:only-of-type {\n",
       "        vertical-align: middle;\n",
       "    }\n",
       "\n",
       "    .dataframe tbody tr th {\n",
       "        vertical-align: top;\n",
       "    }\n",
       "\n",
       "    .dataframe thead th {\n",
       "        text-align: right;\n",
       "    }\n",
       "</style>\n",
       "<table border=\"1\" class=\"dataframe\">\n",
       "  <thead>\n",
       "    <tr style=\"text-align: right;\">\n",
       "      <th></th>\n",
       "      <th>Variant</th>\n",
       "      <th>Transmission</th>\n",
       "      <th>km_driven</th>\n",
       "      <th>Owner_Type</th>\n",
       "      <th>Fuel</th>\n",
       "      <th>Price</th>\n",
       "      <th>Company</th>\n",
       "      <th>Car</th>\n",
       "      <th>Age</th>\n",
       "    </tr>\n",
       "  </thead>\n",
       "  <tbody>\n",
       "    <tr>\n",
       "      <th>0</th>\n",
       "      <td>GTX + AT PETROL</td>\n",
       "      <td>Automatic</td>\n",
       "      <td>8241</td>\n",
       "      <td>1st Owner</td>\n",
       "      <td>Petrol</td>\n",
       "      <td>1895199</td>\n",
       "      <td>KIA</td>\n",
       "      <td>SELTOS</td>\n",
       "      <td>2</td>\n",
       "    </tr>\n",
       "    <tr>\n",
       "      <th>1</th>\n",
       "      <td>LXI</td>\n",
       "      <td>Manual</td>\n",
       "      <td>10568</td>\n",
       "      <td>1st Owner</td>\n",
       "      <td>Petrol</td>\n",
       "      <td>592499</td>\n",
       "      <td>Maruti</td>\n",
       "      <td>Swift</td>\n",
       "      <td>2</td>\n",
       "    </tr>\n",
       "    <tr>\n",
       "      <th>2</th>\n",
       "      <td>LXI</td>\n",
       "      <td>Manual</td>\n",
       "      <td>27659</td>\n",
       "      <td>1st Owner</td>\n",
       "      <td>Petrol</td>\n",
       "      <td>533399</td>\n",
       "      <td>Maruti</td>\n",
       "      <td>Swift</td>\n",
       "      <td>3</td>\n",
       "    </tr>\n",
       "    <tr>\n",
       "      <th>3</th>\n",
       "      <td>HTX 1.5 PETROL MT</td>\n",
       "      <td>Manual</td>\n",
       "      <td>32799</td>\n",
       "      <td>1st Owner</td>\n",
       "      <td>Petrol</td>\n",
       "      <td>1383099</td>\n",
       "      <td>KIA</td>\n",
       "      <td>SELTOS</td>\n",
       "      <td>2</td>\n",
       "    </tr>\n",
       "    <tr>\n",
       "      <th>4</th>\n",
       "      <td>C 200 AVANTGARDE</td>\n",
       "      <td>Automatic</td>\n",
       "      <td>37531</td>\n",
       "      <td>1st Owner</td>\n",
       "      <td>Petrol</td>\n",
       "      <td>2033499</td>\n",
       "      <td>Mercedes</td>\n",
       "      <td>Benz C Class</td>\n",
       "      <td>8</td>\n",
       "    </tr>\n",
       "  </tbody>\n",
       "</table>\n",
       "</div>"
      ],
      "text/plain": [
       "             Variant Transmission  km_driven Owner_Type    Fuel    Price  \\\n",
       "0    GTX + AT PETROL    Automatic       8241  1st Owner  Petrol  1895199   \n",
       "1                LXI       Manual      10568  1st Owner  Petrol   592499   \n",
       "2                LXI       Manual      27659  1st Owner  Petrol   533399   \n",
       "3  HTX 1.5 PETROL MT       Manual      32799  1st Owner  Petrol  1383099   \n",
       "4   C 200 AVANTGARDE    Automatic      37531  1st Owner  Petrol  2033499   \n",
       "\n",
       "    Company           Car  Age  \n",
       "0       KIA        SELTOS    2  \n",
       "1    Maruti         Swift    2  \n",
       "2    Maruti         Swift    3  \n",
       "3       KIA        SELTOS    2  \n",
       "4  Mercedes  Benz C Class    8  "
      ]
     },
     "execution_count": 69,
     "metadata": {},
     "output_type": "execute_result"
    }
   ],
   "source": [
    "cars.head()"
   ]
  },
  {
   "cell_type": "markdown",
   "id": "3dec43dd",
   "metadata": {},
   "source": [
    "#### 4. Description of Dataset"
   ]
  },
  {
   "cell_type": "markdown",
   "id": "5edea187",
   "metadata": {},
   "source": [
    "##### 4.1 Shape of Dataset"
   ]
  },
  {
   "cell_type": "code",
   "execution_count": 70,
   "id": "77f929f6",
   "metadata": {},
   "outputs": [
    {
     "name": "stdout",
     "output_type": "stream",
     "text": [
      "There are \u001b[1m 656 rows\\patterns \u001b[0m and \u001b[1m9 features\u001b[0m.\n"
     ]
    }
   ],
   "source": [
    "shape = cars.shape\n",
    "print(f\"There are \\033[1m {shape[0]} rows\\patterns \\033[0m and \\033[1m{shape[1]} features\\033[0m.\")"
   ]
  },
  {
   "cell_type": "markdown",
   "id": "28463486",
   "metadata": {},
   "source": [
    "##### 4.2 info"
   ]
  },
  {
   "cell_type": "code",
   "execution_count": 71,
   "id": "d1cd33ee",
   "metadata": {},
   "outputs": [
    {
     "name": "stdout",
     "output_type": "stream",
     "text": [
      "<class 'pandas.core.frame.DataFrame'>\n",
      "RangeIndex: 656 entries, 0 to 655\n",
      "Data columns (total 9 columns):\n",
      " #   Column        Non-Null Count  Dtype \n",
      "---  ------        --------------  ----- \n",
      " 0   Variant       656 non-null    object\n",
      " 1   Transmission  632 non-null    object\n",
      " 2   km_driven     656 non-null    int32 \n",
      " 3   Owner_Type    656 non-null    object\n",
      " 4   Fuel          656 non-null    object\n",
      " 5   Price         656 non-null    int32 \n",
      " 6   Company       656 non-null    object\n",
      " 7   Car           656 non-null    object\n",
      " 8   Age           656 non-null    int32 \n",
      "dtypes: int32(3), object(6)\n",
      "memory usage: 38.6+ KB\n"
     ]
    }
   ],
   "source": [
    "cars.info()"
   ]
  },
  {
   "cell_type": "markdown",
   "id": "c55f105e",
   "metadata": {},
   "source": [
    "##### 4.3 Missing Values for features"
   ]
  },
  {
   "cell_type": "code",
   "execution_count": 72,
   "id": "89159871",
   "metadata": {},
   "outputs": [
    {
     "data": {
      "text/plain": [
       "[['Transmission', 24]]"
      ]
     },
     "execution_count": 72,
     "metadata": {},
     "output_type": "execute_result"
    }
   ],
   "source": [
    "[[features,cars[features].isnull().sum()] for features in cars.columns if cars[features].isnull().sum()>0]"
   ]
  },
  {
   "cell_type": "markdown",
   "id": "918152da",
   "metadata": {},
   "source": [
    "##### 4.4 Heat Map for Missing Values"
   ]
  },
  {
   "cell_type": "code",
   "execution_count": 73,
   "id": "5ce4232c",
   "metadata": {},
   "outputs": [
    {
     "data": {
      "image/png": "[encoded data removed]",
      "text/plain": [
       "<Figure size 800x500 with 1 Axes>"
      ]
     },
     "metadata": {},
     "output_type": "display_data"
    }
   ],
   "source": [
    "fig = sns.set(rc={'figure.figsize': (8, 5)})\n",
    "plt.title(\"Heat Map for Missing Values\")\n",
    "sns.heatmap(cars.isnull(),yticklabels=False,cbar=False,cmap='viridis')\n",
    "plt.show()"
   ]
  },
  {
   "cell_type": "markdown",
   "id": "9cd0e7a6",
   "metadata": {},
   "source": [
    "##### 4.5 Dropping NA values"
   ]
  },
  {
   "cell_type": "code",
   "execution_count": 74,
   "id": "9c037006",
   "metadata": {},
   "outputs": [],
   "source": [
    "cars.dropna(inplace=True)"
   ]
  },
  {
   "cell_type": "markdown",
   "id": "f69b857a",
   "metadata": {},
   "source": [
    "Approximately, **3% values are Na**. Therefore, to simplify things, we dropped them."
   ]
  },
  {
   "attachments": {},
   "cell_type": "markdown",
   "id": "0bab230d",
   "metadata": {},
   "source": [
    "##### 4.6 Saving Clean Dataframe"
   ]
  },
  {
   "cell_type": "code",
   "execution_count": 75,
   "id": "2e76e721",
   "metadata": {},
   "outputs": [],
   "source": [
    "# For Further Use, saving the dataframe to csv\n",
    "cars.to_csv(\"../datasets/clean_car.csv\")"
   ]
  },
  {
   "cell_type": "markdown",
   "id": "5e24b2ee",
   "metadata": {},
   "source": [
    "#### 5. Exploratory Data Analysis"
   ]
  },
  {
   "cell_type": "markdown",
   "id": "b695f850",
   "metadata": {},
   "source": [
    "##### 5.1.1. Type of Owner and Number of Cars"
   ]
  },
  {
   "cell_type": "code",
   "execution_count": 76,
   "id": "a3b0f94f",
   "metadata": {},
   "outputs": [
    {
     "data": {
      "text/plain": [
       "1st Owner    504\n",
       "2nd Owner    123\n",
       "3rd Owner      5\n",
       "Name: Owner_Type, dtype: int64"
      ]
     },
     "execution_count": 76,
     "metadata": {},
     "output_type": "execute_result"
    }
   ],
   "source": [
    "cars['Owner_Type'].value_counts()"
   ]
  },
  {
   "cell_type": "markdown",
   "id": "74025c60",
   "metadata": {},
   "source": [
    "##### 5.1.2. Countplot Owner Type Vs Number of Cars"
   ]
  },
  {
   "cell_type": "code",
   "execution_count": 77,
   "id": "fab268b4",
   "metadata": {},
   "outputs": [
    {
     "data": {
      "image/png": "[encoded data removed]",
      "text/plain": [
       "<Figure size 1000x800 with 1 Axes>"
      ]
     },
     "metadata": {},
     "output_type": "display_data"
    }
   ],
   "source": [
    "fig = sns.set(rc={'figure.figsize': (10, 8)})\n",
    "plt.title(\"Countplot Owner Type Vs Number of Cars\")\n",
    "sns.countplot(x ='Owner_Type', data = cars)\n",
    "plt.show()"
   ]
  },
  {
   "cell_type": "markdown",
   "id": "028085d2",
   "metadata": {},
   "source": [
    "**Observation**\n",
    "\n",
    "**First Owned Cars** are **highest among all**."
   ]
  },
  {
   "cell_type": "markdown",
   "id": "5b639e93",
   "metadata": {},
   "source": [
    "##### 5.1.4. Pie Chart Type of Owner Vs Number of cars."
   ]
  },
  {
   "cell_type": "code",
   "execution_count": 78,
   "id": "f79bd03c",
   "metadata": {},
   "outputs": [
    {
     "data": {
      "image/png": "[encoded data removed]",
      "text/plain": [
       "<Figure size 1000x800 with 1 Axes>"
      ]
     },
     "metadata": {},
     "output_type": "display_data"
    }
   ],
   "source": [
    "fig = sns.set(rc={'figure.figsize': (10, 8)})\n",
    "plt.title(\"Type of Owner Vs Number of cars\")\n",
    "plt.pie(cars['Owner_Type'].value_counts(),labels=cars['Owner_Type'].unique(),pctdistance=1.1, labeldistance=1.2,autopct='%.2f')\n",
    "plt.show()"
   ]
  },
  {
   "cell_type": "markdown",
   "id": "c0dacfe4",
   "metadata": {},
   "source": [
    "**Observation**\n",
    "\n",
    "1. **79.75 %** of cars are **First Owned**.\n",
    "2. **19.46 %** of cars are **Second Owned**.\n",
    "3. **0.79 %** of cars are **Third Owned**."
   ]
  },
  {
   "cell_type": "markdown",
   "id": "4098722b",
   "metadata": {},
   "source": [
    "##### 5.2. Barplot Owner Type Vs Selling Price"
   ]
  },
  {
   "cell_type": "code",
   "execution_count": 79,
   "id": "f66b7300",
   "metadata": {},
   "outputs": [
    {
     "data": {
      "image/png": "[encoded data removed]",
      "text/plain": [
       "<Figure size 1000x800 with 1 Axes>"
      ]
     },
     "metadata": {},
     "output_type": "display_data"
    }
   ],
   "source": [
    "fig = sns.set(rc={'figure.figsize': (10, 8)})\n",
    "plt.title(\"Owner Type Vs Price\")\n",
    "sns.barplot(x='Owner_Type',y='Price',data=cars,palette='spring')\n",
    "plt.show()"
   ]
  },
  {
   "cell_type": "markdown",
   "id": "1a1629e6",
   "metadata": {},
   "source": [
    "**Observation**\n",
    "\n",
    "**First Owner cars** have **high average selling price**. \n",
    "\n",
    "As **number of owners** increases the **selling price** of car **decreases**."
   ]
  },
  {
   "cell_type": "markdown",
   "id": "48b5ba84",
   "metadata": {},
   "source": [
    "##### 5.3.1. Automatic Vs Manual"
   ]
  },
  {
   "cell_type": "code",
   "execution_count": 80,
   "id": "60da393d",
   "metadata": {},
   "outputs": [
    {
     "data": {
      "text/plain": [
       "array(['Automatic', 'Manual', 'AUTOMATIC'], dtype=object)"
      ]
     },
     "execution_count": 80,
     "metadata": {},
     "output_type": "execute_result"
    }
   ],
   "source": [
    "cars['Transmission'].unique()"
   ]
  },
  {
   "cell_type": "code",
   "execution_count": 81,
   "id": "3418c130",
   "metadata": {},
   "outputs": [],
   "source": [
    "cars['Transmission'] = np.where(cars['Transmission'] == 'AUTOMATIC', 'Automatic', cars['Transmission'])"
   ]
  },
  {
   "cell_type": "code",
   "execution_count": 82,
   "id": "b7c969b5",
   "metadata": {},
   "outputs": [
    {
     "data": {
      "text/plain": [
       "Manual       515\n",
       "Automatic    117\n",
       "Name: Transmission, dtype: int64"
      ]
     },
     "execution_count": 82,
     "metadata": {},
     "output_type": "execute_result"
    }
   ],
   "source": [
    "cars['Transmission'].value_counts()"
   ]
  },
  {
   "cell_type": "markdown",
   "id": "ec5203b4",
   "metadata": {},
   "source": [
    "##### 5.3.2. Countplot Transmission Vs Number of Cars"
   ]
  },
  {
   "cell_type": "code",
   "execution_count": 83,
   "id": "2dbb5f27",
   "metadata": {},
   "outputs": [
    {
     "data": {
      "image/png": "[encoded data removed]",
      "text/plain": [
       "<Figure size 1000x800 with 1 Axes>"
      ]
     },
     "metadata": {},
     "output_type": "display_data"
    }
   ],
   "source": [
    "fig = sns.set(rc={'figure.figsize': (10, 8)})\n",
    "plt.title(\"Transmission Vs Number of Cars\")\n",
    "sns.countplot(x ='Transmission', data = cars)\n",
    "plt.show()"
   ]
  },
  {
   "cell_type": "markdown",
   "id": "1ee3abc7",
   "metadata": {},
   "source": [
    "**Observation**\n",
    "\n",
    "Most of the cars are **Manual**."
   ]
  },
  {
   "cell_type": "markdown",
   "id": "d69a55a0",
   "metadata": {},
   "source": [
    "##### 5.4. Barplot Transmission Vs Selling Price"
   ]
  },
  {
   "cell_type": "code",
   "execution_count": 84,
   "id": "79b55c73",
   "metadata": {},
   "outputs": [
    {
     "data": {
      "image/png": "[encoded data removed]",
      "text/plain": [
       "<Figure size 1000x800 with 1 Axes>"
      ]
     },
     "metadata": {},
     "output_type": "display_data"
    }
   ],
   "source": [
    "fig = sns.set(rc={'figure.figsize': (10, 8)})\n",
    "plt.title(\"Transmission Vs Selling Price\")\n",
    "sns.barplot(x='Transmission',y='Price',data=cars,palette='spring')\n",
    "plt.show()"
   ]
  },
  {
   "cell_type": "markdown",
   "id": "117672fe",
   "metadata": {},
   "source": [
    "**Observation**\n",
    "\n",
    "Cars having **Automatic Transmission have high selling price**."
   ]
  },
  {
   "cell_type": "markdown",
   "id": "f23605ad",
   "metadata": {},
   "source": [
    "##### 5.5. Countplot Fuel Vs Number of Cars"
   ]
  },
  {
   "cell_type": "code",
   "execution_count": 85,
   "id": "7b1b8a0e",
   "metadata": {},
   "outputs": [
    {
     "data": {
      "image/png": "[encoded data removed]",
      "text/plain": [
       "<Figure size 1000x800 with 1 Axes>"
      ]
     },
     "metadata": {},
     "output_type": "display_data"
    }
   ],
   "source": [
    "fig = sns.set(rc={'figure.figsize': (10, 8)})\n",
    "plt.title(\"Fuel Vs Number of Cars\")\n",
    "sns.countplot(x ='Fuel', data = cars)\n",
    "plt.show()"
   ]
  },
  {
   "cell_type": "markdown",
   "id": "49d85670",
   "metadata": {},
   "source": [
    "**Observation**\n",
    "\n",
    "Most of the cars are **Petrol**."
   ]
  },
  {
   "cell_type": "markdown",
   "id": "51457ab9",
   "metadata": {},
   "source": [
    "##### 5.6. Barplot Fuel Vs Selling Price"
   ]
  },
  {
   "cell_type": "code",
   "execution_count": 86,
   "id": "6875283e",
   "metadata": {},
   "outputs": [
    {
     "data": {
      "image/png": "[encoded data removed]",
      "text/plain": [
       "<Figure size 1000x800 with 1 Axes>"
      ]
     },
     "metadata": {},
     "output_type": "display_data"
    }
   ],
   "source": [
    "fig = sns.set(rc={'figure.figsize': (10, 8)})\n",
    "plt.title(\"Fuel Vs Price\")\n",
    "sns.barplot(x='Fuel',y='Price',data=cars,palette='spring')\n",
    "plt.show()"
   ]
  },
  {
   "cell_type": "markdown",
   "id": "fc822d9e",
   "metadata": {},
   "source": [
    "**Observation**\n",
    "\n",
    "**Diesel cars** have **high average selling price**."
   ]
  },
  {
   "cell_type": "markdown",
   "id": "bf1d9a19",
   "metadata": {},
   "source": [
    "##### 5.7. Age Vs Price"
   ]
  },
  {
   "cell_type": "code",
   "execution_count": 87,
   "id": "4fe7d2f6",
   "metadata": {
    "scrolled": true
   },
   "outputs": [
    {
     "data": {
      "image/png": "[encoded data removed]",
      "text/plain": [
       "<Figure size 1500x1000 with 1 Axes>"
      ]
     },
     "metadata": {},
     "output_type": "display_data"
    }
   ],
   "source": [
    "fig = sns.set(rc={'figure.figsize': (15, 10)})\n",
    "plt.title(\"Fuel Vs Selling Price\")\n",
    "sns.barplot(x ='Age', y=\"Price\", data = cars ,palette='spring')\n",
    "plt.show()"
   ]
  },
  {
   "cell_type": "markdown",
   "id": "e0e1b794",
   "metadata": {},
   "source": [
    "**Observation**\n",
    "\n",
    "As the age of Vehical increases, Price Decreases."
   ]
  },
  {
   "attachments": {},
   "cell_type": "markdown",
   "id": "5389ec13",
   "metadata": {},
   "source": [
    "#### 6. Adjusting Target Value"
   ]
  },
  {
   "attachments": {},
   "cell_type": "markdown",
   "id": "d8763a4d",
   "metadata": {},
   "source": [
    "##### 6.1 Skewness"
   ]
  },
  {
   "cell_type": "code",
   "execution_count": 88,
   "id": "6d817a1a",
   "metadata": {},
   "outputs": [
    {
     "data": {
      "image/png": "[encoded data removed]",
      "text/plain": [
       "<Figure size 1000x500 with 1 Axes>"
      ]
     },
     "metadata": {},
     "output_type": "display_data"
    },
    {
     "name": "stdout",
     "output_type": "stream",
     "text": [
      "\u001b[1mMode\u001b[0m 525,199.00\n",
      "\u001b[1mMedian\u001b[0m 589,549.00\n",
      "\u001b[1mMean\u001b[0m 688,814.91\n"
     ]
    }
   ],
   "source": [
    "fig = sns.set(rc={'figure.figsize': (10, 5)})\n",
    "sns.histplot(cars['Price'])\n",
    "plt.show()\n",
    "\n",
    "print(f\"\\033[1mMode\\033[0m {cars['Price'].mode()[0]:,.2f}\")\n",
    "print(f\"\\033[1mMedian\\033[0m {cars['Price'].median():,.2f}\")\n",
    "print(f\"\\033[1mMean\\033[0m {cars['Price'].mean():,.2f}\")"
   ]
  },
  {
   "attachments": {},
   "cell_type": "markdown",
   "id": "6f74d3eb",
   "metadata": {},
   "source": [
    "**Observation**\n",
    "\n",
    "Positively Skewed"
   ]
  },
  {
   "attachments": {},
   "cell_type": "markdown",
   "id": "6e068d41",
   "metadata": {},
   "source": [
    "<center><img src=\"../images/Skewness.jpeg\" width=700px/></center>"
   ]
  },
  {
   "attachments": {},
   "cell_type": "markdown",
   "id": "5834da5e",
   "metadata": {},
   "source": [
    "##### 6.2 Outliers"
   ]
  },
  {
   "cell_type": "code",
   "execution_count": 89,
   "id": "d50a2384",
   "metadata": {},
   "outputs": [
    {
     "data": {
      "image/png": "[encoded data removed]",
      "text/plain": [
       "<Figure size 1000x200 with 1 Axes>"
      ]
     },
     "metadata": {},
     "output_type": "display_data"
    }
   ],
   "source": [
    "fig = sns.set(rc={'figure.figsize': (10, 2)})\n",
    "sns.boxplot(x=cars['Price'])\n",
    "plt.show()"
   ]
  },
  {
   "cell_type": "markdown",
   "id": "ce3a8e01",
   "metadata": {},
   "source": [
    "**Observation**\n",
    "\n",
    "As we can see, there are more than one outliers in the feature **Price**."
   ]
  },
  {
   "attachments": {},
   "cell_type": "markdown",
   "id": "ffbd25bf",
   "metadata": {},
   "source": [
    "<center><img src=\"../images/Boxplot.png\" width=700px/></center>"
   ]
  },
  {
   "cell_type": "code",
   "execution_count": 90,
   "id": "ebff9f4d",
   "metadata": {},
   "outputs": [
    {
     "data": {
      "text/html": [
       "<div>\n",
       "<style scoped>\n",
       "    .dataframe tbody tr th:only-of-type {\n",
       "        vertical-align: middle;\n",
       "    }\n",
       "\n",
       "    .dataframe tbody tr th {\n",
       "        vertical-align: top;\n",
       "    }\n",
       "\n",
       "    .dataframe thead th {\n",
       "        text-align: right;\n",
       "    }\n",
       "</style>\n",
       "<table border=\"1\" class=\"dataframe\">\n",
       "  <thead>\n",
       "    <tr style=\"text-align: right;\">\n",
       "      <th></th>\n",
       "      <th>Variant</th>\n",
       "      <th>Transmission</th>\n",
       "      <th>km_driven</th>\n",
       "      <th>Owner_Type</th>\n",
       "      <th>Fuel</th>\n",
       "      <th>Price</th>\n",
       "      <th>Company</th>\n",
       "      <th>Car</th>\n",
       "      <th>Age</th>\n",
       "      <th>zscore</th>\n",
       "    </tr>\n",
       "  </thead>\n",
       "  <tbody>\n",
       "    <tr>\n",
       "      <th>0</th>\n",
       "      <td>GTX + AT PETROL</td>\n",
       "      <td>Automatic</td>\n",
       "      <td>8241</td>\n",
       "      <td>1st Owner</td>\n",
       "      <td>Petrol</td>\n",
       "      <td>1895199</td>\n",
       "      <td>KIA</td>\n",
       "      <td>SELTOS</td>\n",
       "      <td>2</td>\n",
       "      <td>3.225112</td>\n",
       "    </tr>\n",
       "    <tr>\n",
       "      <th>1</th>\n",
       "      <td>LXI</td>\n",
       "      <td>Manual</td>\n",
       "      <td>10568</td>\n",
       "      <td>1st Owner</td>\n",
       "      <td>Petrol</td>\n",
       "      <td>592499</td>\n",
       "      <td>Maruti</td>\n",
       "      <td>Swift</td>\n",
       "      <td>2</td>\n",
       "      <td>-0.257488</td>\n",
       "    </tr>\n",
       "    <tr>\n",
       "      <th>2</th>\n",
       "      <td>LXI</td>\n",
       "      <td>Manual</td>\n",
       "      <td>27659</td>\n",
       "      <td>1st Owner</td>\n",
       "      <td>Petrol</td>\n",
       "      <td>533399</td>\n",
       "      <td>Maruti</td>\n",
       "      <td>Swift</td>\n",
       "      <td>3</td>\n",
       "      <td>-0.415484</td>\n",
       "    </tr>\n",
       "    <tr>\n",
       "      <th>3</th>\n",
       "      <td>HTX 1.5 PETROL MT</td>\n",
       "      <td>Manual</td>\n",
       "      <td>32799</td>\n",
       "      <td>1st Owner</td>\n",
       "      <td>Petrol</td>\n",
       "      <td>1383099</td>\n",
       "      <td>KIA</td>\n",
       "      <td>SELTOS</td>\n",
       "      <td>2</td>\n",
       "      <td>1.856079</td>\n",
       "    </tr>\n",
       "    <tr>\n",
       "      <th>4</th>\n",
       "      <td>C 200 AVANTGARDE</td>\n",
       "      <td>Automatic</td>\n",
       "      <td>37531</td>\n",
       "      <td>1st Owner</td>\n",
       "      <td>Petrol</td>\n",
       "      <td>2033499</td>\n",
       "      <td>Mercedes</td>\n",
       "      <td>Benz C Class</td>\n",
       "      <td>8</td>\n",
       "      <td>3.594840</td>\n",
       "    </tr>\n",
       "  </tbody>\n",
       "</table>\n",
       "</div>"
      ],
      "text/plain": [
       "             Variant Transmission  km_driven Owner_Type    Fuel    Price  \\\n",
       "0    GTX + AT PETROL    Automatic       8241  1st Owner  Petrol  1895199   \n",
       "1                LXI       Manual      10568  1st Owner  Petrol   592499   \n",
       "2                LXI       Manual      27659  1st Owner  Petrol   533399   \n",
       "3  HTX 1.5 PETROL MT       Manual      32799  1st Owner  Petrol  1383099   \n",
       "4   C 200 AVANTGARDE    Automatic      37531  1st Owner  Petrol  2033499   \n",
       "\n",
       "    Company           Car  Age    zscore  \n",
       "0       KIA        SELTOS    2  3.225112  \n",
       "1    Maruti         Swift    2 -0.257488  \n",
       "2    Maruti         Swift    3 -0.415484  \n",
       "3       KIA        SELTOS    2  1.856079  \n",
       "4  Mercedes  Benz C Class    8  3.594840  "
      ]
     },
     "execution_count": 90,
     "metadata": {},
     "output_type": "execute_result"
    }
   ],
   "source": [
    "cars['zscore'] = (cars['Price'] - cars['Price'].mean()) / cars['Price'].std()\n",
    "cars.head()"
   ]
  },
  {
   "cell_type": "code",
   "execution_count": 91,
   "id": "36c2b7b2",
   "metadata": {},
   "outputs": [
    {
     "data": {
      "text/html": [
       "<div>\n",
       "<style scoped>\n",
       "    .dataframe tbody tr th:only-of-type {\n",
       "        vertical-align: middle;\n",
       "    }\n",
       "\n",
       "    .dataframe tbody tr th {\n",
       "        vertical-align: top;\n",
       "    }\n",
       "\n",
       "    .dataframe thead th {\n",
       "        text-align: right;\n",
       "    }\n",
       "</style>\n",
       "<table border=\"1\" class=\"dataframe\">\n",
       "  <thead>\n",
       "    <tr style=\"text-align: right;\">\n",
       "      <th></th>\n",
       "      <th>Variant</th>\n",
       "      <th>Transmission</th>\n",
       "      <th>km_driven</th>\n",
       "      <th>Owner_Type</th>\n",
       "      <th>Fuel</th>\n",
       "      <th>Price</th>\n",
       "      <th>Company</th>\n",
       "      <th>Car</th>\n",
       "      <th>Age</th>\n",
       "      <th>zscore</th>\n",
       "    </tr>\n",
       "  </thead>\n",
       "  <tbody>\n",
       "    <tr>\n",
       "      <th>0</th>\n",
       "      <td>GTX + AT PETROL</td>\n",
       "      <td>Automatic</td>\n",
       "      <td>8241</td>\n",
       "      <td>1st Owner</td>\n",
       "      <td>Petrol</td>\n",
       "      <td>1895199</td>\n",
       "      <td>KIA</td>\n",
       "      <td>SELTOS</td>\n",
       "      <td>2</td>\n",
       "      <td>3.225112</td>\n",
       "    </tr>\n",
       "    <tr>\n",
       "      <th>4</th>\n",
       "      <td>C 200 AVANTGARDE</td>\n",
       "      <td>Automatic</td>\n",
       "      <td>37531</td>\n",
       "      <td>1st Owner</td>\n",
       "      <td>Petrol</td>\n",
       "      <td>2033499</td>\n",
       "      <td>Mercedes</td>\n",
       "      <td>Benz C Class</td>\n",
       "      <td>8</td>\n",
       "      <td>3.594840</td>\n",
       "    </tr>\n",
       "    <tr>\n",
       "      <th>34</th>\n",
       "      <td>SHARP HYBRID PETROL</td>\n",
       "      <td>Manual</td>\n",
       "      <td>12185</td>\n",
       "      <td>2nd Owner</td>\n",
       "      <td>Petrol</td>\n",
       "      <td>1848299</td>\n",
       "      <td>MG</td>\n",
       "      <td>HECTOR PLUS</td>\n",
       "      <td>2</td>\n",
       "      <td>3.099731</td>\n",
       "    </tr>\n",
       "    <tr>\n",
       "      <th>37</th>\n",
       "      <td>1.4  LONGITUDE (O) AT</td>\n",
       "      <td>Automatic</td>\n",
       "      <td>23327</td>\n",
       "      <td>1st Owner</td>\n",
       "      <td>Petrol</td>\n",
       "      <td>2012799</td>\n",
       "      <td>Jeep</td>\n",
       "      <td>Compass</td>\n",
       "      <td>3</td>\n",
       "      <td>3.539501</td>\n",
       "    </tr>\n",
       "    <tr>\n",
       "      <th>38</th>\n",
       "      <td>2.0 LIMITED</td>\n",
       "      <td>Manual</td>\n",
       "      <td>46860</td>\n",
       "      <td>1st Owner</td>\n",
       "      <td>Diesel</td>\n",
       "      <td>1941699</td>\n",
       "      <td>Jeep</td>\n",
       "      <td>Compass</td>\n",
       "      <td>3</td>\n",
       "      <td>3.349424</td>\n",
       "    </tr>\n",
       "  </tbody>\n",
       "</table>\n",
       "</div>"
      ],
      "text/plain": [
       "                  Variant Transmission  km_driven Owner_Type    Fuel    Price  \\\n",
       "0         GTX + AT PETROL    Automatic       8241  1st Owner  Petrol  1895199   \n",
       "4        C 200 AVANTGARDE    Automatic      37531  1st Owner  Petrol  2033499   \n",
       "34    SHARP HYBRID PETROL       Manual      12185  2nd Owner  Petrol  1848299   \n",
       "37  1.4  LONGITUDE (O) AT    Automatic      23327  1st Owner  Petrol  2012799   \n",
       "38            2.0 LIMITED       Manual      46860  1st Owner  Diesel  1941699   \n",
       "\n",
       "     Company           Car  Age    zscore  \n",
       "0        KIA        SELTOS    2  3.225112  \n",
       "4   Mercedes  Benz C Class    8  3.594840  \n",
       "34        MG   HECTOR PLUS    2  3.099731  \n",
       "37      Jeep       Compass    3  3.539501  \n",
       "38      Jeep       Compass    3  3.349424  "
      ]
     },
     "execution_count": 91,
     "metadata": {},
     "output_type": "execute_result"
    }
   ],
   "source": [
    "outliers = cars[(cars['zscore'] < -3) | (cars['zscore'] > 3)]\n",
    "outliers.head()"
   ]
  },
  {
   "cell_type": "code",
   "execution_count": 92,
   "id": "8b3e1bd9",
   "metadata": {},
   "outputs": [
    {
     "data": {
      "text/plain": [
       "(12, 10)"
      ]
     },
     "execution_count": 92,
     "metadata": {},
     "output_type": "execute_result"
    }
   ],
   "source": [
    "outliers.shape"
   ]
  },
  {
   "cell_type": "code",
   "execution_count": 93,
   "id": "9cdea307",
   "metadata": {},
   "outputs": [
    {
     "data": {
      "text/html": [
       "<div>\n",
       "<style scoped>\n",
       "    .dataframe tbody tr th:only-of-type {\n",
       "        vertical-align: middle;\n",
       "    }\n",
       "\n",
       "    .dataframe tbody tr th {\n",
       "        vertical-align: top;\n",
       "    }\n",
       "\n",
       "    .dataframe thead th {\n",
       "        text-align: right;\n",
       "    }\n",
       "</style>\n",
       "<table border=\"1\" class=\"dataframe\">\n",
       "  <thead>\n",
       "    <tr style=\"text-align: right;\">\n",
       "      <th></th>\n",
       "      <th>Variant</th>\n",
       "      <th>Transmission</th>\n",
       "      <th>km_driven</th>\n",
       "      <th>Owner_Type</th>\n",
       "      <th>Fuel</th>\n",
       "      <th>Price</th>\n",
       "      <th>Company</th>\n",
       "      <th>Car</th>\n",
       "      <th>Age</th>\n",
       "      <th>zscore</th>\n",
       "    </tr>\n",
       "  </thead>\n",
       "  <tbody>\n",
       "    <tr>\n",
       "      <th>1</th>\n",
       "      <td>LXI</td>\n",
       "      <td>Manual</td>\n",
       "      <td>10568</td>\n",
       "      <td>1st Owner</td>\n",
       "      <td>Petrol</td>\n",
       "      <td>592499</td>\n",
       "      <td>Maruti</td>\n",
       "      <td>Swift</td>\n",
       "      <td>2</td>\n",
       "      <td>-0.257488</td>\n",
       "    </tr>\n",
       "    <tr>\n",
       "      <th>2</th>\n",
       "      <td>LXI</td>\n",
       "      <td>Manual</td>\n",
       "      <td>27659</td>\n",
       "      <td>1st Owner</td>\n",
       "      <td>Petrol</td>\n",
       "      <td>533399</td>\n",
       "      <td>Maruti</td>\n",
       "      <td>Swift</td>\n",
       "      <td>3</td>\n",
       "      <td>-0.415484</td>\n",
       "    </tr>\n",
       "    <tr>\n",
       "      <th>3</th>\n",
       "      <td>HTX 1.5 PETROL MT</td>\n",
       "      <td>Manual</td>\n",
       "      <td>32799</td>\n",
       "      <td>1st Owner</td>\n",
       "      <td>Petrol</td>\n",
       "      <td>1383099</td>\n",
       "      <td>KIA</td>\n",
       "      <td>SELTOS</td>\n",
       "      <td>2</td>\n",
       "      <td>1.856079</td>\n",
       "    </tr>\n",
       "    <tr>\n",
       "      <th>6</th>\n",
       "      <td>ERA 1.1 IRDE</td>\n",
       "      <td>Manual</td>\n",
       "      <td>37928</td>\n",
       "      <td>1st Owner</td>\n",
       "      <td>Petrol</td>\n",
       "      <td>271699</td>\n",
       "      <td>Hyundai</td>\n",
       "      <td>i10</td>\n",
       "      <td>9</td>\n",
       "      <td>-1.115106</td>\n",
       "    </tr>\n",
       "    <tr>\n",
       "      <th>7</th>\n",
       "      <td>VX MT PETROL</td>\n",
       "      <td>Manual</td>\n",
       "      <td>61168</td>\n",
       "      <td>2nd Owner</td>\n",
       "      <td>Petrol</td>\n",
       "      <td>658499</td>\n",
       "      <td>Honda</td>\n",
       "      <td>City</td>\n",
       "      <td>8</td>\n",
       "      <td>-0.081046</td>\n",
       "    </tr>\n",
       "  </tbody>\n",
       "</table>\n",
       "</div>"
      ],
      "text/plain": [
       "             Variant Transmission  km_driven Owner_Type    Fuel    Price  \\\n",
       "1                LXI       Manual      10568  1st Owner  Petrol   592499   \n",
       "2                LXI       Manual      27659  1st Owner  Petrol   533399   \n",
       "3  HTX 1.5 PETROL MT       Manual      32799  1st Owner  Petrol  1383099   \n",
       "6       ERA 1.1 IRDE       Manual      37928  1st Owner  Petrol   271699   \n",
       "7       VX MT PETROL       Manual      61168  2nd Owner  Petrol   658499   \n",
       "\n",
       "   Company     Car  Age    zscore  \n",
       "1   Maruti   Swift    2 -0.257488  \n",
       "2   Maruti   Swift    3 -0.415484  \n",
       "3      KIA  SELTOS    2  1.856079  \n",
       "6  Hyundai     i10    9 -1.115106  \n",
       "7    Honda    City    8 -0.081046  "
      ]
     },
     "execution_count": 93,
     "metadata": {},
     "output_type": "execute_result"
    }
   ],
   "source": [
    "cars = cars[(cars['zscore'] > -3) & (cars['zscore'] < 3)]\n",
    "cars.head()"
   ]
  },
  {
   "cell_type": "code",
   "execution_count": 94,
   "id": "3bd79a30",
   "metadata": {},
   "outputs": [],
   "source": [
    "del cars[\"zscore\"]"
   ]
  },
  {
   "cell_type": "markdown",
   "id": "c01fb68a",
   "metadata": {},
   "source": [
    "##### 6.1. Splitting Data into X and y"
   ]
  },
  {
   "cell_type": "code",
   "execution_count": 95,
   "id": "a3d24c3a",
   "metadata": {},
   "outputs": [],
   "source": [
    "X = cars.drop(columns =['Price'])\n",
    "y = cars['Price']"
   ]
  },
  {
   "cell_type": "markdown",
   "id": "49b7698b",
   "metadata": {},
   "source": [
    "##### 6.2. Importing libraries for model fitting"
   ]
  },
  {
   "cell_type": "code",
   "execution_count": 96,
   "id": "aa935629",
   "metadata": {},
   "outputs": [],
   "source": [
    "from sklearn.model_selection import train_test_split\n",
    "from sklearn.preprocessing import OneHotEncoder\n",
    "from sklearn.compose import make_column_transformer\n",
    "from sklearn.preprocessing import StandardScaler\n",
    "from sklearn.pipeline import make_pipeline\n",
    "from sklearn.linear_model import LinearRegression, Ridge, Lasso\n",
    "from sklearn.metrics import r2_score, mean_squared_error, mean_absolute_error"
   ]
  },
  {
   "cell_type": "markdown",
   "id": "1a93f129",
   "metadata": {},
   "source": [
    "##### 6.3. Pipeline"
   ]
  },
  {
   "cell_type": "markdown",
   "id": "bee2538c",
   "metadata": {},
   "source": [
    "##### 6.3.1. One Hot Encoding"
   ]
  },
  {
   "cell_type": "code",
   "execution_count": 97,
   "id": "82164a21",
   "metadata": {},
   "outputs": [
    {
     "data": {
      "text/html": [
       "<style>#sk-container-id-3 {color: black;background-color: white;}#sk-container-id-3 pre{padding: 0;}#sk-container-id-3 div.sk-toggleable {background-color: white;}#sk-container-id-3 label.sk-toggleable__label {cursor: pointer;display: block;width: 100%;margin-bottom: 0;padding: 0.3em;box-sizing: border-box;text-align: center;}#sk-container-id-3 label.sk-toggleable__label-arrow:before {content: \"▸\";float: left;margin-right: 0.25em;color: #696969;}#sk-container-id-3 label.sk-toggleable__label-arrow:hover:before {color: black;}#sk-container-id-3 div.sk-estimator:hover label.sk-toggleable__label-arrow:before {color: black;}#sk-container-id-3 div.sk-toggleable__content {max-height: 0;max-width: 0;overflow: hidden;text-align: left;background-color: #f0f8ff;}#sk-container-id-3 div.sk-toggleable__content pre {margin: 0.2em;color: black;border-radius: 0.25em;background-color: #f0f8ff;}#sk-container-id-3 input.sk-toggleable__control:checked~div.sk-toggleable__content {max-height: 200px;max-width: 100%;overflow: auto;}#sk-container-id-3 input.sk-toggleable__control:checked~label.sk-toggleable__label-arrow:before {content: \"▾\";}#sk-container-id-3 div.sk-estimator input.sk-toggleable__control:checked~label.sk-toggleable__label {background-color: #d4ebff;}#sk-container-id-3 div.sk-label input.sk-toggleable__control:checked~label.sk-toggleable__label {background-color: #d4ebff;}#sk-container-id-3 input.sk-hidden--visually {border: 0;clip: rect(1px 1px 1px 1px);clip: rect(1px, 1px, 1px, 1px);height: 1px;margin: -1px;overflow: hidden;padding: 0;position: absolute;width: 1px;}#sk-container-id-3 div.sk-estimator {font-family: monospace;background-color: #f0f8ff;border: 1px dotted black;border-radius: 0.25em;box-sizing: border-box;margin-bottom: 0.5em;}#sk-container-id-3 div.sk-estimator:hover {background-color: #d4ebff;}#sk-container-id-3 div.sk-parallel-item::after {content: \"\";width: 100%;border-bottom: 1px solid gray;flex-grow: 1;}#sk-container-id-3 div.sk-label:hover label.sk-toggleable__label {background-color: #d4ebff;}#sk-container-id-3 div.sk-serial::before {content: \"\";position: absolute;border-left: 1px solid gray;box-sizing: border-box;top: 0;bottom: 0;left: 50%;z-index: 0;}#sk-container-id-3 div.sk-serial {display: flex;flex-direction: column;align-items: center;background-color: white;padding-right: 0.2em;padding-left: 0.2em;position: relative;}#sk-container-id-3 div.sk-item {position: relative;z-index: 1;}#sk-container-id-3 div.sk-parallel {display: flex;align-items: stretch;justify-content: center;background-color: white;position: relative;}#sk-container-id-3 div.sk-item::before, #sk-container-id-3 div.sk-parallel-item::before {content: \"\";position: absolute;border-left: 1px solid gray;box-sizing: border-box;top: 0;bottom: 0;left: 50%;z-index: -1;}#sk-container-id-3 div.sk-parallel-item {display: flex;flex-direction: column;z-index: 1;position: relative;background-color: white;}#sk-container-id-3 div.sk-parallel-item:first-child::after {align-self: flex-end;width: 50%;}#sk-container-id-3 div.sk-parallel-item:last-child::after {align-self: flex-start;width: 50%;}#sk-container-id-3 div.sk-parallel-item:only-child::after {width: 0;}#sk-container-id-3 div.sk-dashed-wrapped {border: 1px dashed gray;margin: 0 0.4em 0.5em 0.4em;box-sizing: border-box;padding-bottom: 0.4em;background-color: white;}#sk-container-id-3 div.sk-label label {font-family: monospace;font-weight: bold;display: inline-block;line-height: 1.2em;}#sk-container-id-3 div.sk-label-container {text-align: center;}#sk-container-id-3 div.sk-container {/* jupyter's `normalize.less` sets `[hidden] { display: none; }` but bootstrap.min.css set `[hidden] { display: none !important; }` so we also need the `!important` here to be able to override the default hidden behavior on the sphinx rendered scikit-learn.org. See: https://github.com/scikit-learn/scikit-learn/issues/21755 */display: inline-block !important;position: relative;}#sk-container-id-3 div.sk-text-repr-fallback {display: none;}</style><div id=\"sk-container-id-3\" class=\"sk-top-container\"><div class=\"sk-text-repr-fallback\"><pre>OneHotEncoder()</pre><b>In a Jupyter environment, please rerun this cell to show the HTML representation or trust the notebook. <br />On GitHub, the HTML representation is unable to render, please try loading this page with nbviewer.org.</b></div><div class=\"sk-container\" hidden><div class=\"sk-item\"><div class=\"sk-estimator sk-toggleable\"><input class=\"sk-toggleable__control sk-hidden--visually\" id=\"sk-estimator-id-10\" type=\"checkbox\" checked><label for=\"sk-estimator-id-10\" class=\"sk-toggleable__label sk-toggleable__label-arrow\">OneHotEncoder</label><div class=\"sk-toggleable__content\"><pre>OneHotEncoder()</pre></div></div></div></div></div>"
      ],
      "text/plain": [
       "OneHotEncoder()"
      ]
     },
     "execution_count": 97,
     "metadata": {},
     "output_type": "execute_result"
    }
   ],
   "source": [
    "ohe = OneHotEncoder()\n",
    "ohe.fit(X[['Company', 'Car','Variant','Transmission','Owner_Type','Fuel']])"
   ]
  },
  {
   "cell_type": "code",
   "execution_count": 98,
   "id": "2b88f61a",
   "metadata": {},
   "outputs": [],
   "source": [
    "column_trans = make_column_transformer(\n",
    "    (OneHotEncoder(categories=ohe.categories_),['Company', 'Car','Variant','Transmission','Owner_Type','Fuel']),\n",
    "    remainder='passthrough'\n",
    ")"
   ]
  },
  {
   "cell_type": "markdown",
   "id": "19f52698",
   "metadata": {},
   "source": [
    "##### 6.3.2. Standard Scaler"
   ]
  },
  {
   "cell_type": "code",
   "execution_count": 99,
   "id": "26e5f2aa",
   "metadata": {},
   "outputs": [],
   "source": [
    "scaler = StandardScaler(with_mean=False)"
   ]
  },
  {
   "cell_type": "markdown",
   "id": "5754dbc6",
   "metadata": {},
   "source": [
    "##### 6.3.3. Regression Models"
   ]
  },
  {
   "cell_type": "code",
   "execution_count": 100,
   "id": "d34ccb6f",
   "metadata": {},
   "outputs": [],
   "source": [
    "# Linear Regression\n",
    "lr = LinearRegression()\n",
    "\n",
    "# Alpha values\n",
    "alphas = [0.005, 0.05, 0.1, 0.3, 1, 3, 5, 10, 15, 30, 80]\n",
    "\n",
    "# Ridge and Lasso\n",
    "ridge = Ridge(alpha=0.001)\n",
    "lasso = Lasso(alpha=0.001)"
   ]
  },
  {
   "cell_type": "markdown",
   "id": "af0f8a9b",
   "metadata": {},
   "source": [
    "**Hyper Parameters**\n",
    "\n",
    "1. fit_intercept : bool, default=True\n",
    "If set to False, no intercept will be used in calculations.\n",
    "\n",
    "2. normalize : bool, default=False\n",
    "This parameter is ignored when fit_intercept is set to False. If True, the regressors X will be normalized before regression by subtracting the mean and dividing by the l2-norm. \n",
    "\n",
    "3. copy_X : bool, default=True\n",
    "If True, X will be copied; else, it may be overwritten.\n",
    "\n",
    "4. n_jobs : int, default=None\n",
    "The number of jobs to use for the computation. \n",
    "\n",
    "5. positive : bool, default=False\n",
    "When set to True, forces the coefficients to be positive. This option is only supported for dense arrays."
   ]
  },
  {
   "cell_type": "markdown",
   "id": "7e6dd5d8",
   "metadata": {},
   "source": [
    "##### 6.3.4. Pipeline Structure"
   ]
  },
  {
   "cell_type": "code",
   "execution_count": 101,
   "id": "d21b7736",
   "metadata": {},
   "outputs": [
    {
     "data": {
      "text/html": [
       "<style>#sk-container-id-4 {color: black;background-color: white;}#sk-container-id-4 pre{padding: 0;}#sk-container-id-4 div.sk-toggleable {background-color: white;}#sk-container-id-4 label.sk-toggleable__label {cursor: pointer;display: block;width: 100%;margin-bottom: 0;padding: 0.3em;box-sizing: border-box;text-align: center;}#sk-container-id-4 label.sk-toggleable__label-arrow:before {content: \"▸\";float: left;margin-right: 0.25em;color: #696969;}#sk-container-id-4 label.sk-toggleable__label-arrow:hover:before {color: black;}#sk-container-id-4 div.sk-estimator:hover label.sk-toggleable__label-arrow:before {color: black;}#sk-container-id-4 div.sk-toggleable__content {max-height: 0;max-width: 0;overflow: hidden;text-align: left;background-color: #f0f8ff;}#sk-container-id-4 div.sk-toggleable__content pre {margin: 0.2em;color: black;border-radius: 0.25em;background-color: #f0f8ff;}#sk-container-id-4 input.sk-toggleable__control:checked~div.sk-toggleable__content {max-height: 200px;max-width: 100%;overflow: auto;}#sk-container-id-4 input.sk-toggleable__control:checked~label.sk-toggleable__label-arrow:before {content: \"▾\";}#sk-container-id-4 div.sk-estimator input.sk-toggleable__control:checked~label.sk-toggleable__label {background-color: #d4ebff;}#sk-container-id-4 div.sk-label input.sk-toggleable__control:checked~label.sk-toggleable__label {background-color: #d4ebff;}#sk-container-id-4 input.sk-hidden--visually {border: 0;clip: rect(1px 1px 1px 1px);clip: rect(1px, 1px, 1px, 1px);height: 1px;margin: -1px;overflow: hidden;padding: 0;position: absolute;width: 1px;}#sk-container-id-4 div.sk-estimator {font-family: monospace;background-color: #f0f8ff;border: 1px dotted black;border-radius: 0.25em;box-sizing: border-box;margin-bottom: 0.5em;}#sk-container-id-4 div.sk-estimator:hover {background-color: #d4ebff;}#sk-container-id-4 div.sk-parallel-item::after {content: \"\";width: 100%;border-bottom: 1px solid gray;flex-grow: 1;}#sk-container-id-4 div.sk-label:hover label.sk-toggleable__label {background-color: #d4ebff;}#sk-container-id-4 div.sk-serial::before {content: \"\";position: absolute;border-left: 1px solid gray;box-sizing: border-box;top: 0;bottom: 0;left: 50%;z-index: 0;}#sk-container-id-4 div.sk-serial {display: flex;flex-direction: column;align-items: center;background-color: white;padding-right: 0.2em;padding-left: 0.2em;position: relative;}#sk-container-id-4 div.sk-item {position: relative;z-index: 1;}#sk-container-id-4 div.sk-parallel {display: flex;align-items: stretch;justify-content: center;background-color: white;position: relative;}#sk-container-id-4 div.sk-item::before, #sk-container-id-4 div.sk-parallel-item::before {content: \"\";position: absolute;border-left: 1px solid gray;box-sizing: border-box;top: 0;bottom: 0;left: 50%;z-index: -1;}#sk-container-id-4 div.sk-parallel-item {display: flex;flex-direction: column;z-index: 1;position: relative;background-color: white;}#sk-container-id-4 div.sk-parallel-item:first-child::after {align-self: flex-end;width: 50%;}#sk-container-id-4 div.sk-parallel-item:last-child::after {align-self: flex-start;width: 50%;}#sk-container-id-4 div.sk-parallel-item:only-child::after {width: 0;}#sk-container-id-4 div.sk-dashed-wrapped {border: 1px dashed gray;margin: 0 0.4em 0.5em 0.4em;box-sizing: border-box;padding-bottom: 0.4em;background-color: white;}#sk-container-id-4 div.sk-label label {font-family: monospace;font-weight: bold;display: inline-block;line-height: 1.2em;}#sk-container-id-4 div.sk-label-container {text-align: center;}#sk-container-id-4 div.sk-container {/* jupyter's `normalize.less` sets `[hidden] { display: none; }` but bootstrap.min.css set `[hidden] { display: none !important; }` so we also need the `!important` here to be able to override the default hidden behavior on the sphinx rendered scikit-learn.org. See: https://github.com/scikit-learn/scikit-learn/issues/21755 */display: inline-block !important;position: relative;}#sk-container-id-4 div.sk-text-repr-fallback {display: none;}</style><div id=\"sk-container-id-4\" class=\"sk-top-container\"><div class=\"sk-text-repr-fallback\"><pre>Pipeline(steps=[(&#x27;columntransformer&#x27;,\n",
       "                 ColumnTransformer(remainder=&#x27;passthrough&#x27;,\n",
       "                                   transformers=[(&#x27;onehotencoder&#x27;,\n",
       "                                                  OneHotEncoder(categories=[array([&#x27;Audi&#x27;, &#x27;BMW&#x27;, &#x27;Datsun&#x27;, &#x27;Ford&#x27;, &#x27;Honda&#x27;, &#x27;Hyundai&#x27;, &#x27;Jaguar&#x27;,\n",
       "       &#x27;Jeep&#x27;, &#x27;KIA&#x27;, &#x27;MG&#x27;, &#x27;Mahindra&#x27;, &#x27;Maruti&#x27;, &#x27;Mercedes&#x27;, &#x27;Nissan&#x27;,\n",
       "       &#x27;Renault&#x27;, &#x27;Skoda&#x27;, &#x27;Tata&#x27;, &#x27;Toyota&#x27;, &#x27;Volkswagen&#x27;], dtype=object),\n",
       "                                                                            array([&#x27;5 Series&#x27;, &#x27;A Star&#x27;, &#x27;A3&#x27;, &#x27;...\n",
       "       &#x27;ZX CVT PETROL&#x27;, &#x27;ZXI&#x27;, &#x27;ZXI +&#x27;, &#x27;ZXI 1.2&#x27;, &#x27;ZXI AMT&#x27;,\n",
       "       &#x27;ZXI OPT AMT&#x27;, &#x27;ZXI+&#x27;], dtype=object),\n",
       "                                                                            array([&#x27;Automatic&#x27;, &#x27;Manual&#x27;], dtype=object),\n",
       "                                                                            array([&#x27;1st Owner&#x27;, &#x27;2nd Owner&#x27;, &#x27;3rd Owner&#x27;], dtype=object),\n",
       "                                                                            array([&#x27;Diesel&#x27;, &#x27;Petrol&#x27;, &#x27;Petrol + CNG&#x27;], dtype=object)]),\n",
       "                                                  [&#x27;Company&#x27;, &#x27;Car&#x27;, &#x27;Variant&#x27;,\n",
       "                                                   &#x27;Transmission&#x27;, &#x27;Owner_Type&#x27;,\n",
       "                                                   &#x27;Fuel&#x27;])])),\n",
       "                (&#x27;standardscaler&#x27;, StandardScaler(with_mean=False)),\n",
       "                (&#x27;linearregression&#x27;, LinearRegression())])</pre><b>In a Jupyter environment, please rerun this cell to show the HTML representation or trust the notebook. <br />On GitHub, the HTML representation is unable to render, please try loading this page with nbviewer.org.</b></div><div class=\"sk-container\" hidden><div class=\"sk-item sk-dashed-wrapped\"><div class=\"sk-label-container\"><div class=\"sk-label sk-toggleable\"><input class=\"sk-toggleable__control sk-hidden--visually\" id=\"sk-estimator-id-11\" type=\"checkbox\" ><label for=\"sk-estimator-id-11\" class=\"sk-toggleable__label sk-toggleable__label-arrow\">Pipeline</label><div class=\"sk-toggleable__content\"><pre>Pipeline(steps=[(&#x27;columntransformer&#x27;,\n",
       "                 ColumnTransformer(remainder=&#x27;passthrough&#x27;,\n",
       "                                   transformers=[(&#x27;onehotencoder&#x27;,\n",
       "                                                  OneHotEncoder(categories=[array([&#x27;Audi&#x27;, &#x27;BMW&#x27;, &#x27;Datsun&#x27;, &#x27;Ford&#x27;, &#x27;Honda&#x27;, &#x27;Hyundai&#x27;, &#x27;Jaguar&#x27;,\n",
       "       &#x27;Jeep&#x27;, &#x27;KIA&#x27;, &#x27;MG&#x27;, &#x27;Mahindra&#x27;, &#x27;Maruti&#x27;, &#x27;Mercedes&#x27;, &#x27;Nissan&#x27;,\n",
       "       &#x27;Renault&#x27;, &#x27;Skoda&#x27;, &#x27;Tata&#x27;, &#x27;Toyota&#x27;, &#x27;Volkswagen&#x27;], dtype=object),\n",
       "                                                                            array([&#x27;5 Series&#x27;, &#x27;A Star&#x27;, &#x27;A3&#x27;, &#x27;...\n",
       "       &#x27;ZX CVT PETROL&#x27;, &#x27;ZXI&#x27;, &#x27;ZXI +&#x27;, &#x27;ZXI 1.2&#x27;, &#x27;ZXI AMT&#x27;,\n",
       "       &#x27;ZXI OPT AMT&#x27;, &#x27;ZXI+&#x27;], dtype=object),\n",
       "                                                                            array([&#x27;Automatic&#x27;, &#x27;Manual&#x27;], dtype=object),\n",
       "                                                                            array([&#x27;1st Owner&#x27;, &#x27;2nd Owner&#x27;, &#x27;3rd Owner&#x27;], dtype=object),\n",
       "                                                                            array([&#x27;Diesel&#x27;, &#x27;Petrol&#x27;, &#x27;Petrol + CNG&#x27;], dtype=object)]),\n",
       "                                                  [&#x27;Company&#x27;, &#x27;Car&#x27;, &#x27;Variant&#x27;,\n",
       "                                                   &#x27;Transmission&#x27;, &#x27;Owner_Type&#x27;,\n",
       "                                                   &#x27;Fuel&#x27;])])),\n",
       "                (&#x27;standardscaler&#x27;, StandardScaler(with_mean=False)),\n",
       "                (&#x27;linearregression&#x27;, LinearRegression())])</pre></div></div></div><div class=\"sk-serial\"><div class=\"sk-item sk-dashed-wrapped\"><div class=\"sk-label-container\"><div class=\"sk-label sk-toggleable\"><input class=\"sk-toggleable__control sk-hidden--visually\" id=\"sk-estimator-id-12\" type=\"checkbox\" ><label for=\"sk-estimator-id-12\" class=\"sk-toggleable__label sk-toggleable__label-arrow\">columntransformer: ColumnTransformer</label><div class=\"sk-toggleable__content\"><pre>ColumnTransformer(remainder=&#x27;passthrough&#x27;,\n",
       "                  transformers=[(&#x27;onehotencoder&#x27;,\n",
       "                                 OneHotEncoder(categories=[array([&#x27;Audi&#x27;, &#x27;BMW&#x27;, &#x27;Datsun&#x27;, &#x27;Ford&#x27;, &#x27;Honda&#x27;, &#x27;Hyundai&#x27;, &#x27;Jaguar&#x27;,\n",
       "       &#x27;Jeep&#x27;, &#x27;KIA&#x27;, &#x27;MG&#x27;, &#x27;Mahindra&#x27;, &#x27;Maruti&#x27;, &#x27;Mercedes&#x27;, &#x27;Nissan&#x27;,\n",
       "       &#x27;Renault&#x27;, &#x27;Skoda&#x27;, &#x27;Tata&#x27;, &#x27;Toyota&#x27;, &#x27;Volkswagen&#x27;], dtype=object),\n",
       "                                                           array([&#x27;5 Series&#x27;, &#x27;A Star&#x27;, &#x27;A3&#x27;, &#x27;ALTROZ&#x27;, &#x27;ASTOR&#x27;, &#x27;Alto&#x27;, &#x27;Alto 800&#x27;,\n",
       "       &#x27;Alt...\n",
       "       &#x27;ZDI Plus AMT&#x27;, &#x27;ZDI+ SHVS&#x27;, &#x27;ZETA 1.2 K12&#x27;, &#x27;ZETA 1.2 K12 AMT&#x27;,\n",
       "       &#x27;ZETA 1.2 K12 CVT&#x27;, &#x27;ZETA 1.3&#x27;, &#x27;ZETA DDIS 190&#x27;, &#x27;ZX CVT&#x27;,\n",
       "       &#x27;ZX CVT PETROL&#x27;, &#x27;ZXI&#x27;, &#x27;ZXI +&#x27;, &#x27;ZXI 1.2&#x27;, &#x27;ZXI AMT&#x27;,\n",
       "       &#x27;ZXI OPT AMT&#x27;, &#x27;ZXI+&#x27;], dtype=object),\n",
       "                                                           array([&#x27;Automatic&#x27;, &#x27;Manual&#x27;], dtype=object),\n",
       "                                                           array([&#x27;1st Owner&#x27;, &#x27;2nd Owner&#x27;, &#x27;3rd Owner&#x27;], dtype=object),\n",
       "                                                           array([&#x27;Diesel&#x27;, &#x27;Petrol&#x27;, &#x27;Petrol + CNG&#x27;], dtype=object)]),\n",
       "                                 [&#x27;Company&#x27;, &#x27;Car&#x27;, &#x27;Variant&#x27;, &#x27;Transmission&#x27;,\n",
       "                                  &#x27;Owner_Type&#x27;, &#x27;Fuel&#x27;])])</pre></div></div></div><div class=\"sk-parallel\"><div class=\"sk-parallel-item\"><div class=\"sk-item\"><div class=\"sk-label-container\"><div class=\"sk-label sk-toggleable\"><input class=\"sk-toggleable__control sk-hidden--visually\" id=\"sk-estimator-id-13\" type=\"checkbox\" ><label for=\"sk-estimator-id-13\" class=\"sk-toggleable__label sk-toggleable__label-arrow\">onehotencoder</label><div class=\"sk-toggleable__content\"><pre>[&#x27;Company&#x27;, &#x27;Car&#x27;, &#x27;Variant&#x27;, &#x27;Transmission&#x27;, &#x27;Owner_Type&#x27;, &#x27;Fuel&#x27;]</pre></div></div></div><div class=\"sk-serial\"><div class=\"sk-item\"><div class=\"sk-estimator sk-toggleable\"><input class=\"sk-toggleable__control sk-hidden--visually\" id=\"sk-estimator-id-14\" type=\"checkbox\" ><label for=\"sk-estimator-id-14\" class=\"sk-toggleable__label sk-toggleable__label-arrow\">OneHotEncoder</label><div class=\"sk-toggleable__content\"><pre>OneHotEncoder(categories=[array([&#x27;Audi&#x27;, &#x27;BMW&#x27;, &#x27;Datsun&#x27;, &#x27;Ford&#x27;, &#x27;Honda&#x27;, &#x27;Hyundai&#x27;, &#x27;Jaguar&#x27;,\n",
       "       &#x27;Jeep&#x27;, &#x27;KIA&#x27;, &#x27;MG&#x27;, &#x27;Mahindra&#x27;, &#x27;Maruti&#x27;, &#x27;Mercedes&#x27;, &#x27;Nissan&#x27;,\n",
       "       &#x27;Renault&#x27;, &#x27;Skoda&#x27;, &#x27;Tata&#x27;, &#x27;Toyota&#x27;, &#x27;Volkswagen&#x27;], dtype=object),\n",
       "                          array([&#x27;5 Series&#x27;, &#x27;A Star&#x27;, &#x27;A3&#x27;, &#x27;ALTROZ&#x27;, &#x27;ASTOR&#x27;, &#x27;Alto&#x27;, &#x27;Alto 800&#x27;,\n",
       "       &#x27;Alto K10&#x27;, &#x27;Amaze&#x27;, &#x27;Ameo&#x27;, &#x27;Baleno&#x27;, &#x27;Benz E Class&#x27;, &#x27;Brio&#x27;,\n",
       "       &#x27;Celerio&#x27;, &#x27;Ciaz&#x27;, &#x27;City&#x27;...\n",
       "       &#x27;XZA 1.2 REVOTRON&#x27;, &#x27;ZDI&#x27;, &#x27;ZDI PLUS&#x27;, &#x27;ZDI PLUS DUAL TONE&#x27;,\n",
       "       &#x27;ZDI Plus AMT&#x27;, &#x27;ZDI+ SHVS&#x27;, &#x27;ZETA 1.2 K12&#x27;, &#x27;ZETA 1.2 K12 AMT&#x27;,\n",
       "       &#x27;ZETA 1.2 K12 CVT&#x27;, &#x27;ZETA 1.3&#x27;, &#x27;ZETA DDIS 190&#x27;, &#x27;ZX CVT&#x27;,\n",
       "       &#x27;ZX CVT PETROL&#x27;, &#x27;ZXI&#x27;, &#x27;ZXI +&#x27;, &#x27;ZXI 1.2&#x27;, &#x27;ZXI AMT&#x27;,\n",
       "       &#x27;ZXI OPT AMT&#x27;, &#x27;ZXI+&#x27;], dtype=object),\n",
       "                          array([&#x27;Automatic&#x27;, &#x27;Manual&#x27;], dtype=object),\n",
       "                          array([&#x27;1st Owner&#x27;, &#x27;2nd Owner&#x27;, &#x27;3rd Owner&#x27;], dtype=object),\n",
       "                          array([&#x27;Diesel&#x27;, &#x27;Petrol&#x27;, &#x27;Petrol + CNG&#x27;], dtype=object)])</pre></div></div></div></div></div></div><div class=\"sk-parallel-item\"><div class=\"sk-item\"><div class=\"sk-label-container\"><div class=\"sk-label sk-toggleable\"><input class=\"sk-toggleable__control sk-hidden--visually\" id=\"sk-estimator-id-15\" type=\"checkbox\" ><label for=\"sk-estimator-id-15\" class=\"sk-toggleable__label sk-toggleable__label-arrow\">remainder</label><div class=\"sk-toggleable__content\"><pre></pre></div></div></div><div class=\"sk-serial\"><div class=\"sk-item\"><div class=\"sk-estimator sk-toggleable\"><input class=\"sk-toggleable__control sk-hidden--visually\" id=\"sk-estimator-id-16\" type=\"checkbox\" ><label for=\"sk-estimator-id-16\" class=\"sk-toggleable__label sk-toggleable__label-arrow\">passthrough</label><div class=\"sk-toggleable__content\"><pre>passthrough</pre></div></div></div></div></div></div></div></div><div class=\"sk-item\"><div class=\"sk-estimator sk-toggleable\"><input class=\"sk-toggleable__control sk-hidden--visually\" id=\"sk-estimator-id-17\" type=\"checkbox\" ><label for=\"sk-estimator-id-17\" class=\"sk-toggleable__label sk-toggleable__label-arrow\">StandardScaler</label><div class=\"sk-toggleable__content\"><pre>StandardScaler(with_mean=False)</pre></div></div></div><div class=\"sk-item\"><div class=\"sk-estimator sk-toggleable\"><input class=\"sk-toggleable__control sk-hidden--visually\" id=\"sk-estimator-id-18\" type=\"checkbox\" ><label for=\"sk-estimator-id-18\" class=\"sk-toggleable__label sk-toggleable__label-arrow\">LinearRegression</label><div class=\"sk-toggleable__content\"><pre>LinearRegression()</pre></div></div></div></div></div></div></div>"
      ],
      "text/plain": [
       "Pipeline(steps=[('columntransformer',\n",
       "                 ColumnTransformer(remainder='passthrough',\n",
       "                                   transformers=[('onehotencoder',\n",
       "                                                  OneHotEncoder(categories=[array(['Audi', 'BMW', 'Datsun', 'Ford', 'Honda', 'Hyundai', 'Jaguar',\n",
       "       'Jeep', 'KIA', 'MG', 'Mahindra', 'Maruti', 'Mercedes', 'Nissan',\n",
       "       'Renault', 'Skoda', 'Tata', 'Toyota', 'Volkswagen'], dtype=object),\n",
       "                                                                            array(['5 Series', 'A Star', 'A3', '...\n",
       "       'ZX CVT PETROL', 'ZXI', 'ZXI +', 'ZXI 1.2', 'ZXI AMT',\n",
       "       'ZXI OPT AMT', 'ZXI+'], dtype=object),\n",
       "                                                                            array(['Automatic', 'Manual'], dtype=object),\n",
       "                                                                            array(['1st Owner', '2nd Owner', '3rd Owner'], dtype=object),\n",
       "                                                                            array(['Diesel', 'Petrol', 'Petrol + CNG'], dtype=object)]),\n",
       "                                                  ['Company', 'Car', 'Variant',\n",
       "                                                   'Transmission', 'Owner_Type',\n",
       "                                                   'Fuel'])])),\n",
       "                ('standardscaler', StandardScaler(with_mean=False)),\n",
       "                ('linearregression', LinearRegression())])"
      ]
     },
     "execution_count": 101,
     "metadata": {},
     "output_type": "execute_result"
    }
   ],
   "source": [
    "pipe = make_pipeline(column_trans, scaler, lr)\n",
    "pipe"
   ]
  },
  {
   "cell_type": "markdown",
   "id": "98c0d560",
   "metadata": {},
   "source": [
    "#### 7. Functions"
   ]
  },
  {
   "cell_type": "markdown",
   "id": "90a78801",
   "metadata": {},
   "source": [
    "##### 7.1 For converting big values into readable form"
   ]
  },
  {
   "cell_type": "code",
   "execution_count": 102,
   "id": "00db2edf",
   "metadata": {},
   "outputs": [],
   "source": [
    "def format_float(num):\n",
    "    \"\"\"\n",
    "    Returns a readable values from big values.\n",
    "\n",
    "    Parameters :\n",
    "    -----------\n",
    "    num: float - Big values.\n",
    "    \"\"\"\n",
    "    return np.format_float_positional(round(num,2), trim='-')"
   ]
  },
  {
   "cell_type": "markdown",
   "id": "a9d2e103",
   "metadata": {},
   "source": [
    "##### 7.2. Returns Dataframe consisting all errors"
   ]
  },
  {
   "cell_type": "code",
   "execution_count": 103,
   "id": "98f2e82f",
   "metadata": {},
   "outputs": [],
   "source": [
    "def metrics(y_test, y_pred, X_train):\n",
    "    \"\"\"\n",
    "    Returns a Dataframe containing MAE, MSE, RMSE, R2, Adj R2.\n",
    "\n",
    "    Parameters :\n",
    "    -----------\n",
    "    y_test: pandas.Series - Target Test values.\n",
    "    y_pred: pandas.Series - Target Predicted values.\n",
    "    X_train: pandas.Series - Input Train values.\n",
    "    \"\"\"\n",
    "\n",
    "    mae = mean_absolute_error(y_test, y_pred)\n",
    "    mse = mean_squared_error(y_test, y_pred)\n",
    "    rmse = np.sqrt(mse)\n",
    "    r2 = r2_score(y_test, y_pred)\n",
    "    \n",
    "    # Number of rows\n",
    "    n = len(X_train)\n",
    "\n",
    "    # Number of Independent Features\n",
    "    k = len(X_train.columns)\n",
    "\n",
    "    adj_r2 = 1- ((1-r2) * (n-1)/(n-k-1))\n",
    "\n",
    "    dict_ = {\n",
    "        \"MAE\": [format_float(mae)],\n",
    "        \"MSE\": [format_float(mse)],\n",
    "        \"RMSE\": [format_float(rmse)],\n",
    "        \"R2\": [(r2)],\n",
    "        \"Adjusted-R2\": [(adj_r2)]\n",
    "    }\n",
    "\n",
    "    results = pd.DataFrame(dict_)\n",
    "    results.index = [\"Values\"]\n",
    "\n",
    "    return results"
   ]
  },
  {
   "cell_type": "markdown",
   "id": "30b35b36",
   "metadata": {},
   "source": [
    "##### 7.3. For Training model"
   ]
  },
  {
   "cell_type": "code",
   "execution_count": 104,
   "id": "53c10760",
   "metadata": {},
   "outputs": [],
   "source": [
    "def train_model(X, y, transformer, scaler, model):\n",
    "    \"\"\"\n",
    "    Does,\n",
    "    1. OneHotEncoding\n",
    "    2. Scaling\n",
    "    3. Model Fitting\n",
    "\n",
    "    Returns a Dataframe containing MAE, MSE, RMSE, R2, Adj R2.\n",
    "\n",
    "    Parameters :\n",
    "    -----------\n",
    "    X: pandas.Series - Independent Features.\n",
    "    y: pandas.Series - Dependent Features.\n",
    "    transformer: Column Transformer.\n",
    "    scaler: Scaler.\n",
    "    model: ML Model\n",
    "    \"\"\"\n",
    "\n",
    "    pipe = make_pipeline(transformer, scaler, model)\n",
    "    X_train, x_test, Y_train, y_test = train_test_split(X, y, test_size=0.3, random_state=1)\n",
    "    pipe.fit(X_train, Y_train)\n",
    "    y_pred = pipe.predict(x_test)\n",
    "    \n",
    "    return metrics(y_test, y_pred, X_train), pipe"
   ]
  },
  {
   "cell_type": "markdown",
   "id": "818d56f5",
   "metadata": {},
   "source": [
    "#### 8. Train"
   ]
  },
  {
   "cell_type": "code",
   "execution_count": 105,
   "id": "a9ca7469",
   "metadata": {},
   "outputs": [
    {
     "data": {
      "text/html": [
       "<div>\n",
       "<style scoped>\n",
       "    .dataframe tbody tr th:only-of-type {\n",
       "        vertical-align: middle;\n",
       "    }\n",
       "\n",
       "    .dataframe tbody tr th {\n",
       "        vertical-align: top;\n",
       "    }\n",
       "\n",
       "    .dataframe thead th {\n",
       "        text-align: right;\n",
       "    }\n",
       "</style>\n",
       "<table border=\"1\" class=\"dataframe\">\n",
       "  <thead>\n",
       "    <tr style=\"text-align: right;\">\n",
       "      <th></th>\n",
       "      <th>MAE</th>\n",
       "      <th>MSE</th>\n",
       "      <th>RMSE</th>\n",
       "      <th>R2</th>\n",
       "      <th>Adjusted-R2</th>\n",
       "    </tr>\n",
       "  </thead>\n",
       "  <tbody>\n",
       "    <tr>\n",
       "      <th>Values</th>\n",
       "      <td>79954.22</td>\n",
       "      <td>20448093126.03</td>\n",
       "      <td>142996.83</td>\n",
       "      <td>0.821053</td>\n",
       "      <td>0.817685</td>\n",
       "    </tr>\n",
       "  </tbody>\n",
       "</table>\n",
       "</div>"
      ],
      "text/plain": [
       "             MAE             MSE       RMSE        R2  Adjusted-R2\n",
       "Values  79954.22  20448093126.03  142996.83  0.821053     0.817685"
      ]
     },
     "execution_count": 105,
     "metadata": {},
     "output_type": "execute_result"
    }
   ],
   "source": [
    "metrics_df, lr = train_model(X, y, column_trans, scaler, lr)\n",
    "metrics_df"
   ]
  },
  {
   "cell_type": "code",
   "execution_count": 106,
   "id": "10c16bea",
   "metadata": {},
   "outputs": [
    {
     "data": {
      "text/html": [
       "<div>\n",
       "<style scoped>\n",
       "    .dataframe tbody tr th:only-of-type {\n",
       "        vertical-align: middle;\n",
       "    }\n",
       "\n",
       "    .dataframe tbody tr th {\n",
       "        vertical-align: top;\n",
       "    }\n",
       "\n",
       "    .dataframe thead th {\n",
       "        text-align: right;\n",
       "    }\n",
       "</style>\n",
       "<table border=\"1\" class=\"dataframe\">\n",
       "  <thead>\n",
       "    <tr style=\"text-align: right;\">\n",
       "      <th></th>\n",
       "      <th>MAE</th>\n",
       "      <th>MSE</th>\n",
       "      <th>RMSE</th>\n",
       "      <th>R2</th>\n",
       "      <th>Adjusted-R2</th>\n",
       "    </tr>\n",
       "  </thead>\n",
       "  <tbody>\n",
       "    <tr>\n",
       "      <th>Values</th>\n",
       "      <td>79943.23</td>\n",
       "      <td>20444852105.25</td>\n",
       "      <td>142985.5</td>\n",
       "      <td>0.821081</td>\n",
       "      <td>0.817714</td>\n",
       "    </tr>\n",
       "  </tbody>\n",
       "</table>\n",
       "</div>"
      ],
      "text/plain": [
       "             MAE             MSE      RMSE        R2  Adjusted-R2\n",
       "Values  79943.23  20444852105.25  142985.5  0.821081     0.817714"
      ]
     },
     "execution_count": 106,
     "metadata": {},
     "output_type": "execute_result"
    }
   ],
   "source": [
    "ridge = Ridge(alpha=0.001)\n",
    "\n",
    "metrics_df, ridge = train_model(X, y, column_trans, scaler, ridge)\n",
    "metrics_df"
   ]
  },
  {
   "cell_type": "code",
   "execution_count": 107,
   "id": "28826b10",
   "metadata": {},
   "outputs": [
    {
     "data": {
      "text/html": [
       "<div>\n",
       "<style scoped>\n",
       "    .dataframe tbody tr th:only-of-type {\n",
       "        vertical-align: middle;\n",
       "    }\n",
       "\n",
       "    .dataframe tbody tr th {\n",
       "        vertical-align: top;\n",
       "    }\n",
       "\n",
       "    .dataframe thead th {\n",
       "        text-align: right;\n",
       "    }\n",
       "</style>\n",
       "<table border=\"1\" class=\"dataframe\">\n",
       "  <thead>\n",
       "    <tr style=\"text-align: right;\">\n",
       "      <th></th>\n",
       "      <th>MAE</th>\n",
       "      <th>MSE</th>\n",
       "      <th>RMSE</th>\n",
       "      <th>R2</th>\n",
       "      <th>Adjusted-R2</th>\n",
       "    </tr>\n",
       "  </thead>\n",
       "  <tbody>\n",
       "    <tr>\n",
       "      <th>Values</th>\n",
       "      <td>85421.97</td>\n",
       "      <td>26567600515.8</td>\n",
       "      <td>162995.71</td>\n",
       "      <td>0.7675</td>\n",
       "      <td>0.763123</td>\n",
       "    </tr>\n",
       "  </tbody>\n",
       "</table>\n",
       "</div>"
      ],
      "text/plain": [
       "             MAE            MSE       RMSE      R2  Adjusted-R2\n",
       "Values  85421.97  26567600515.8  162995.71  0.7675     0.763123"
      ]
     },
     "execution_count": 107,
     "metadata": {},
     "output_type": "execute_result"
    }
   ],
   "source": [
    "lasso = Lasso(alpha=0.001, tol=1e-2)\n",
    "\n",
    "metrics_df, lasso = train_model(X, y, column_trans, scaler, lasso)\n",
    "metrics_df"
   ]
  },
  {
   "cell_type": "markdown",
   "id": "ce4ff539",
   "metadata": {},
   "source": [
    "#### 9. Dumping into pickle"
   ]
  },
  {
   "cell_type": "code",
   "execution_count": 108,
   "id": "985efd87",
   "metadata": {},
   "outputs": [],
   "source": [
    "import pickle"
   ]
  },
  {
   "cell_type": "code",
   "execution_count": 109,
   "id": "3a7ced5f",
   "metadata": {},
   "outputs": [],
   "source": [
    "data = {\"lr\": lr, \"ridge\": ridge, \"lasso\": lasso}\n",
    "\n",
    "pickle.dump(data,open('../pickle/LinearRegressionModel.pkl','wb'))"
   ]
  },
  {
   "cell_type": "markdown",
   "id": "47f12d82",
   "metadata": {},
   "source": [
    "#### 10. Prediction"
   ]
  },
  {
   "cell_type": "markdown",
   "id": "5ceaf2ca",
   "metadata": {},
   "source": [
    "##### 10.1. Input from User"
   ]
  },
  {
   "cell_type": "code",
   "execution_count": 110,
   "id": "87264fca",
   "metadata": {},
   "outputs": [],
   "source": [
    "# User Input 1\n",
    "\n",
    "Company = \"Maruti\"\n",
    "Car = \"Swift\"\n",
    "Variant = \"LXI\"\n",
    "Transmission = \"Manual\"\n",
    "km_driven = 10568\n",
    "Owner_Type = \"1st Owner\"\n",
    "Fuel = \"Petrol\"\n",
    "Age = 2"
   ]
  },
  {
   "cell_type": "code",
   "execution_count": 111,
   "id": "ae2e607a",
   "metadata": {},
   "outputs": [
    {
     "data": {
      "text/plain": [
       "['Maruti',\n",
       " 'KIA',\n",
       " 'Hyundai',\n",
       " 'Honda',\n",
       " 'MG',\n",
       " 'Renault',\n",
       " 'Jaguar',\n",
       " 'Tata',\n",
       " 'Jeep',\n",
       " 'Datsun',\n",
       " 'Nissan',\n",
       " 'Volkswagen',\n",
       " 'BMW',\n",
       " 'Mahindra',\n",
       " 'Ford',\n",
       " 'Toyota',\n",
       " 'Skoda',\n",
       " 'Audi',\n",
       " 'Mercedes']"
      ]
     },
     "execution_count": 111,
     "metadata": {},
     "output_type": "execute_result"
    }
   ],
   "source": [
    "cars[\"Company\"].unique().tolist()"
   ]
  },
  {
   "cell_type": "code",
   "execution_count": 112,
   "id": "1c3cb64d",
   "metadata": {},
   "outputs": [
    {
     "data": {
      "text/plain": [
       "['Swift',\n",
       " 'Dzire',\n",
       " 'Baleno',\n",
       " 'Alto 800',\n",
       " 'Alto',\n",
       " 'Celerio',\n",
       " 'Wagon R 1.0',\n",
       " 'IGNIS',\n",
       " 'Alto K10',\n",
       " 'Vitara Brezza',\n",
       " 'New  Wagon-R',\n",
       " 'S PRESSO',\n",
       " 'Ciaz',\n",
       " 'S Cross',\n",
       " 'XL6',\n",
       " 'Ritz',\n",
       " 'Swift Dzire',\n",
       " 'Ertiga',\n",
       " 'A Star']"
      ]
     },
     "execution_count": 112,
     "metadata": {},
     "output_type": "execute_result"
    }
   ],
   "source": [
    "cars[cars[\"Company\"] == \"Maruti\"][\"Car\"].unique().tolist()"
   ]
  },
  {
   "cell_type": "code",
   "execution_count": 113,
   "id": "a11cdfcd",
   "metadata": {},
   "outputs": [
    {
     "data": {
      "text/plain": [
       "['LXI',\n",
       " 'ZXI',\n",
       " 'VXI',\n",
       " 'VXI AMT',\n",
       " 'VDI ABS',\n",
       " 'LXI OPT',\n",
       " 'ZDI',\n",
       " 'ZXI+',\n",
       " 'LDI BS IV',\n",
       " 'VDI']"
      ]
     },
     "execution_count": 113,
     "metadata": {},
     "output_type": "execute_result"
    }
   ],
   "source": [
    "cars[(cars[\"Company\"] == \"Maruti\") & (cars[\"Car\"] == \"Swift\")][\"Variant\"].unique().tolist()"
   ]
  },
  {
   "cell_type": "code",
   "execution_count": 122,
   "id": "f8fb81a7",
   "metadata": {},
   "outputs": [
    {
     "data": {
      "text/plain": [
       "['Manual']"
      ]
     },
     "execution_count": 122,
     "metadata": {},
     "output_type": "execute_result"
    }
   ],
   "source": [
    "cars[(cars[\"Company\"] == \"Maruti\") & (cars[\"Car\"] == \"Swift\") & (cars[\"Variant\"] == \"LXI\")][\"Transmission\"].unique().tolist()"
   ]
  },
  {
   "cell_type": "code",
   "execution_count": 125,
   "id": "53f79515",
   "metadata": {},
   "outputs": [
    {
     "data": {
      "text/plain": [
       "array(['Manual', 'Automatic'], dtype=object)"
      ]
     },
     "execution_count": 125,
     "metadata": {},
     "output_type": "execute_result"
    }
   ],
   "source": [
    "cars.Transmission.unique()"
   ]
  },
  {
   "cell_type": "code",
   "execution_count": 114,
   "id": "2a7082ac",
   "metadata": {},
   "outputs": [],
   "source": [
    "# User Input 2\n",
    "\n",
    "Company = \"KIA\"\n",
    "Car = \"SELTOS\"\n",
    "Variant = \"HTX 1.5 PETROL MT\"\n",
    "Transmission = \"Manual\"\n",
    "km_driven = 50000\n",
    "Owner_Type = \"1st Owner\"\n",
    "Fuel = \"Petrol\"\n",
    "Age = 5"
   ]
  },
  {
   "cell_type": "markdown",
   "id": "1dde51e1",
   "metadata": {},
   "source": [
    "##### 10.2. User Input to Dataframe"
   ]
  },
  {
   "cell_type": "code",
   "execution_count": 115,
   "id": "57186b05",
   "metadata": {},
   "outputs": [],
   "source": [
    "dict_ = {\n",
    "            \"Company\": [Company],\n",
    "            \"Car\": [Car],\n",
    "            \"Variant\": [Variant],\n",
    "            \"Transmission\": [Transmission],\n",
    "            \"km_driven\":[km_driven],\n",
    "            \"Owner_Type\": [Owner_Type],\n",
    "            \"Fuel\": [Fuel],\n",
    "            \"Age\": [Age]\n",
    "        }\n",
    "\n",
    "results = pd.DataFrame(dict_)"
   ]
  },
  {
   "cell_type": "markdown",
   "id": "4e258754",
   "metadata": {},
   "source": [
    "##### 10.3. Prediction Result"
   ]
  },
  {
   "cell_type": "markdown",
   "id": "a45e956e",
   "metadata": {},
   "source": [
    "Prediction Using Linear Regression"
   ]
  },
  {
   "cell_type": "code",
   "execution_count": 116,
   "id": "76ba10f0",
   "metadata": {},
   "outputs": [
    {
     "name": "stdout",
     "output_type": "stream",
     "text": [
      "The Predicted value of Car is \u001b[1mRs.1264217.37\u001b[0m.\n"
     ]
    }
   ],
   "source": [
    "print(\"The Predicted value of Car is \\033[1mRs.{price:.2f}\\033[0m.\".format(price = lr.predict(results)[0]))"
   ]
  },
  {
   "cell_type": "markdown",
   "id": "4f6cb537",
   "metadata": {},
   "source": [
    "Prediction Using Ridge Regression"
   ]
  },
  {
   "cell_type": "code",
   "execution_count": 117,
   "id": "368e4acf",
   "metadata": {},
   "outputs": [
    {
     "name": "stdout",
     "output_type": "stream",
     "text": [
      "The Predicted value of Car is \u001b[1mRs.1264215.74\u001b[0m.\n"
     ]
    }
   ],
   "source": [
    "print(\"The Predicted value of Car is \\033[1mRs.{price:.2f}\\033[0m.\".format(price = ridge.predict(results)[0]))"
   ]
  },
  {
   "cell_type": "markdown",
   "id": "a404f113",
   "metadata": {},
   "source": [
    "Prediction Using Lasso Regression"
   ]
  },
  {
   "cell_type": "code",
   "execution_count": 118,
   "id": "6e8a20fa",
   "metadata": {},
   "outputs": [
    {
     "name": "stdout",
     "output_type": "stream",
     "text": [
      "The Predicted value of Car is \u001b[1mRs.1268125.17\u001b[0m.\n"
     ]
    }
   ],
   "source": [
    "print(\"The Predicted value of Car is \\033[1mRs.{price:.2f}\\033[0m.\".format(price = lasso.predict(results)[0]))"
   ]
  },
  {
   "cell_type": "markdown",
   "id": "e57c30e7",
   "metadata": {},
   "source": [
    "#### 11. References"
   ]
  },
  {
   "cell_type": "markdown",
   "id": "24682ffe",
   "metadata": {},
   "source": [
    "https://towardsdatascience.com/ridge-and-lasso-regression-a-complete-guide-with-python-scikit-learn-e20e34bcbf0b\n",
    "\n",
    "https://www.geeksforgeeks.org/seaborn-lineplot-method-in-python/\n",
    "\n",
    "https://stackoverflow.com/questions/21572870/matplotlib-percent-label-position-in-pie-chart\n",
    "\n",
    "https://stackoverflow.com/questions/20681864/lasso-on-sklearn-does-not-converge\n",
    "\n",
    "https://machinelearninghd.com/ridgecv-regression-python/\n",
    "\n",
    "https://www.geeksforgeeks.org/convert-string-to-float-in-python/\n",
    "\n",
    "https://www.digitalocean.com/community/tutorials/python-convert-string-to-float\n",
    "\n",
    "https://www.w3schools.com/python/ref_func_round.asp\n",
    "\n",
    "https://stackoverflow.com/questions/52008548/python-running-into-x-test-y-test-fit-errors\n",
    "\n",
    "https://scikit-learn.org/stable/auto_examples/compose/plot_column_transformer_mixed_types.html\n",
    "\n",
    "https://www.kaggle.com/getting-started/146568\n",
    "\n",
    "https://github.com/scikit-learn/scikit-learn/blob/a24c8b46/sklearn/preprocessing/label.py#L39\n",
    "\n",
    "https://stackoverflow.com/questions/48929124/scikit-learn-how-to-compose-labelencoder-and-onehotencoder-with-a-pipeline\n",
    "\n",
    "https://scikit-learn.org/stable/modules/generated/sklearn.preprocessing.LabelEncoder.html\n",
    "\n",
    "https://towardsdatascience.com/scale-standardize-or-normalize-with-scikit-learn-6ccc7d176a02#:~:text=Use%20StandardScaler%20if%20you%20want,okay%20with%20transforming%20your%20data.\n",
    "\n",
    "https://towardsdatascience.com/what-and-why-behind-fit-transform-vs-transform-in-scikit-learn-78f915cf96fe\n",
    "\n",
    "https://analyticsindiamag.com/complete-guide-to-handling-categorical-data-using-scikit-learn/\n",
    "\n",
    "https://pbpython.com/categorical-encoding.html\n",
    "\n",
    "https://www.geeksforgeeks.org/get-unique-values-from-a-column-in-pandas-dataframe/\n",
    "\n",
    "https://sparkbyexamples.com/pandas/pandas-convert-column-to-int/\n",
    "\n",
    "https://www.geeksforgeeks.org/python-program-to-convert-a-list-to-string/\n",
    "\n",
    "https://www.geeksforgeeks.org/split-a-text-column-into-two-columns-in-pandas-dataframe/\n",
    "\n",
    "https://www.youtube.com/watch?v=VqKq78PVO9g\n",
    "\n",
    "https://scikit-learn.org/stable/auto_examples/miscellaneous/plot_pipeline_display.html#:~:text=The%20default%20configuration%20for%20displaying,set_config(display%3D'text')%20.\n",
    "\n",
    "https://scikit-learn.org/stable/modules/generated/sklearn.pipeline.Pipeline.html\n",
    "\n",
    "https://www.geeksforgeeks.org/what-is-the-difference-between-pipeline-and-make_pipeline-in-scikit/\n",
    "\n",
    "https://github.com/krishnaik06/Pipelines-Using-Sklearn/blob/master/SklearnPipeline.ipynb\n",
    "\n",
    "https://www.youtube.com/watch?v=w9IGkBfOoic\n",
    "\n",
    "https://github.com/rajtilakls2510/car_price_predictor/blob/master/Quikr%20Analysis.ipynb\n",
    "\n",
    "https://www.youtube.com/watch?v=iRCaMnR_bpA&t=144s"
   ]
  },
  {
   "cell_type": "markdown",
   "id": "2a5b4723",
   "metadata": {},
   "source": [
    "### Practice"
   ]
  },
  {
   "cell_type": "code",
   "execution_count": 119,
   "id": "7495ee04",
   "metadata": {},
   "outputs": [
    {
     "data": {
      "text/html": [
       "<div>\n",
       "<style scoped>\n",
       "    .dataframe tbody tr th:only-of-type {\n",
       "        vertical-align: middle;\n",
       "    }\n",
       "\n",
       "    .dataframe tbody tr th {\n",
       "        vertical-align: top;\n",
       "    }\n",
       "\n",
       "    .dataframe thead th {\n",
       "        text-align: right;\n",
       "    }\n",
       "</style>\n",
       "<table border=\"1\" class=\"dataframe\">\n",
       "  <thead>\n",
       "    <tr style=\"text-align: right;\">\n",
       "      <th></th>\n",
       "      <th>Variant</th>\n",
       "      <th>Transmission</th>\n",
       "      <th>km_driven</th>\n",
       "      <th>Owner_Type</th>\n",
       "      <th>Fuel</th>\n",
       "      <th>Price</th>\n",
       "      <th>Company</th>\n",
       "      <th>Car</th>\n",
       "      <th>Age</th>\n",
       "    </tr>\n",
       "  </thead>\n",
       "  <tbody>\n",
       "    <tr>\n",
       "      <th>1</th>\n",
       "      <td>LXI</td>\n",
       "      <td>Manual</td>\n",
       "      <td>10568</td>\n",
       "      <td>1st Owner</td>\n",
       "      <td>Petrol</td>\n",
       "      <td>592499</td>\n",
       "      <td>Maruti</td>\n",
       "      <td>Swift</td>\n",
       "      <td>2</td>\n",
       "    </tr>\n",
       "    <tr>\n",
       "      <th>2</th>\n",
       "      <td>LXI</td>\n",
       "      <td>Manual</td>\n",
       "      <td>27659</td>\n",
       "      <td>1st Owner</td>\n",
       "      <td>Petrol</td>\n",
       "      <td>533399</td>\n",
       "      <td>Maruti</td>\n",
       "      <td>Swift</td>\n",
       "      <td>3</td>\n",
       "    </tr>\n",
       "    <tr>\n",
       "      <th>3</th>\n",
       "      <td>HTX 1.5 PETROL MT</td>\n",
       "      <td>Manual</td>\n",
       "      <td>32799</td>\n",
       "      <td>1st Owner</td>\n",
       "      <td>Petrol</td>\n",
       "      <td>1383099</td>\n",
       "      <td>KIA</td>\n",
       "      <td>SELTOS</td>\n",
       "      <td>2</td>\n",
       "    </tr>\n",
       "    <tr>\n",
       "      <th>6</th>\n",
       "      <td>ERA 1.1 IRDE</td>\n",
       "      <td>Manual</td>\n",
       "      <td>37928</td>\n",
       "      <td>1st Owner</td>\n",
       "      <td>Petrol</td>\n",
       "      <td>271699</td>\n",
       "      <td>Hyundai</td>\n",
       "      <td>i10</td>\n",
       "      <td>9</td>\n",
       "    </tr>\n",
       "    <tr>\n",
       "      <th>7</th>\n",
       "      <td>VX MT PETROL</td>\n",
       "      <td>Manual</td>\n",
       "      <td>61168</td>\n",
       "      <td>2nd Owner</td>\n",
       "      <td>Petrol</td>\n",
       "      <td>658499</td>\n",
       "      <td>Honda</td>\n",
       "      <td>City</td>\n",
       "      <td>8</td>\n",
       "    </tr>\n",
       "  </tbody>\n",
       "</table>\n",
       "</div>"
      ],
      "text/plain": [
       "             Variant Transmission  km_driven Owner_Type    Fuel    Price  \\\n",
       "1                LXI       Manual      10568  1st Owner  Petrol   592499   \n",
       "2                LXI       Manual      27659  1st Owner  Petrol   533399   \n",
       "3  HTX 1.5 PETROL MT       Manual      32799  1st Owner  Petrol  1383099   \n",
       "6       ERA 1.1 IRDE       Manual      37928  1st Owner  Petrol   271699   \n",
       "7       VX MT PETROL       Manual      61168  2nd Owner  Petrol   658499   \n",
       "\n",
       "   Company     Car  Age  \n",
       "1   Maruti   Swift    2  \n",
       "2   Maruti   Swift    3  \n",
       "3      KIA  SELTOS    2  \n",
       "6  Hyundai     i10    9  \n",
       "7    Honda    City    8  "
      ]
     },
     "execution_count": 119,
     "metadata": {},
     "output_type": "execute_result"
    }
   ],
   "source": [
    "cars.head()"
   ]
  },
  {
   "cell_type": "code",
   "execution_count": 120,
   "id": "d36cf1dc",
   "metadata": {},
   "outputs": [
    {
     "data": {
      "text/plain": [
       "array(['Petrol', 'Diesel', 'Petrol + CNG'], dtype=object)"
      ]
     },
     "execution_count": 120,
     "metadata": {},
     "output_type": "execute_result"
    }
   ],
   "source": [
    "cars[\"Fuel\"].unique()"
   ]
  },
  {
   "cell_type": "code",
   "execution_count": 121,
   "id": "70f0b63c",
   "metadata": {},
   "outputs": [
    {
     "ename": "KeyError",
     "evalue": "'Name'",
     "output_type": "error",
     "traceback": [
      "\u001b[1;31m---------------------------------------------------------------------------\u001b[0m",
      "\u001b[1;31mKeyError\u001b[0m                                  Traceback (most recent call last)",
      "File \u001b[1;32mc:\\Users\\utkar\\anaconda3\\envs\\leastsquare\\lib\\site-packages\\pandas\\core\\indexes\\base.py:3803\u001b[0m, in \u001b[0;36mIndex.get_loc\u001b[1;34m(self, key, method, tolerance)\u001b[0m\n\u001b[0;32m   3802\u001b[0m \u001b[39mtry\u001b[39;00m:\n\u001b[1;32m-> 3803\u001b[0m     \u001b[39mreturn\u001b[39;00m \u001b[39mself\u001b[39;49m\u001b[39m.\u001b[39;49m_engine\u001b[39m.\u001b[39;49mget_loc(casted_key)\n\u001b[0;32m   3804\u001b[0m \u001b[39mexcept\u001b[39;00m \u001b[39mKeyError\u001b[39;00m \u001b[39mas\u001b[39;00m err:\n",
      "File \u001b[1;32mc:\\Users\\utkar\\anaconda3\\envs\\leastsquare\\lib\\site-packages\\pandas\\_libs\\index.pyx:138\u001b[0m, in \u001b[0;36mpandas._libs.index.IndexEngine.get_loc\u001b[1;34m()\u001b[0m\n",
      "File \u001b[1;32mc:\\Users\\utkar\\anaconda3\\envs\\leastsquare\\lib\\site-packages\\pandas\\_libs\\index.pyx:165\u001b[0m, in \u001b[0;36mpandas._libs.index.IndexEngine.get_loc\u001b[1;34m()\u001b[0m\n",
      "File \u001b[1;32mpandas\\_libs\\hashtable_class_helper.pxi:5745\u001b[0m, in \u001b[0;36mpandas._libs.hashtable.PyObjectHashTable.get_item\u001b[1;34m()\u001b[0m\n",
      "File \u001b[1;32mpandas\\_libs\\hashtable_class_helper.pxi:5753\u001b[0m, in \u001b[0;36mpandas._libs.hashtable.PyObjectHashTable.get_item\u001b[1;34m()\u001b[0m\n",
      "\u001b[1;31mKeyError\u001b[0m: 'Name'",
      "\nThe above exception was the direct cause of the following exception:\n",
      "\u001b[1;31mKeyError\u001b[0m                                  Traceback (most recent call last)",
      "Cell \u001b[1;32mIn[121], line 1\u001b[0m\n\u001b[1;32m----> 1\u001b[0m name \u001b[39m=\u001b[39m \u001b[39mlist\u001b[39m(\u001b[39mset\u001b[39m(cars[\u001b[39m\"\u001b[39;49m\u001b[39mName\u001b[39;49m\u001b[39m\"\u001b[39;49m]))\n\u001b[0;32m      2\u001b[0m name\n",
      "File \u001b[1;32mc:\\Users\\utkar\\anaconda3\\envs\\leastsquare\\lib\\site-packages\\pandas\\core\\frame.py:3805\u001b[0m, in \u001b[0;36mDataFrame.__getitem__\u001b[1;34m(self, key)\u001b[0m\n\u001b[0;32m   3803\u001b[0m \u001b[39mif\u001b[39;00m \u001b[39mself\u001b[39m\u001b[39m.\u001b[39mcolumns\u001b[39m.\u001b[39mnlevels \u001b[39m>\u001b[39m \u001b[39m1\u001b[39m:\n\u001b[0;32m   3804\u001b[0m     \u001b[39mreturn\u001b[39;00m \u001b[39mself\u001b[39m\u001b[39m.\u001b[39m_getitem_multilevel(key)\n\u001b[1;32m-> 3805\u001b[0m indexer \u001b[39m=\u001b[39m \u001b[39mself\u001b[39;49m\u001b[39m.\u001b[39;49mcolumns\u001b[39m.\u001b[39;49mget_loc(key)\n\u001b[0;32m   3806\u001b[0m \u001b[39mif\u001b[39;00m is_integer(indexer):\n\u001b[0;32m   3807\u001b[0m     indexer \u001b[39m=\u001b[39m [indexer]\n",
      "File \u001b[1;32mc:\\Users\\utkar\\anaconda3\\envs\\leastsquare\\lib\\site-packages\\pandas\\core\\indexes\\base.py:3805\u001b[0m, in \u001b[0;36mIndex.get_loc\u001b[1;34m(self, key, method, tolerance)\u001b[0m\n\u001b[0;32m   3803\u001b[0m     \u001b[39mreturn\u001b[39;00m \u001b[39mself\u001b[39m\u001b[39m.\u001b[39m_engine\u001b[39m.\u001b[39mget_loc(casted_key)\n\u001b[0;32m   3804\u001b[0m \u001b[39mexcept\u001b[39;00m \u001b[39mKeyError\u001b[39;00m \u001b[39mas\u001b[39;00m err:\n\u001b[1;32m-> 3805\u001b[0m     \u001b[39mraise\u001b[39;00m \u001b[39mKeyError\u001b[39;00m(key) \u001b[39mfrom\u001b[39;00m \u001b[39merr\u001b[39;00m\n\u001b[0;32m   3806\u001b[0m \u001b[39mexcept\u001b[39;00m \u001b[39mTypeError\u001b[39;00m:\n\u001b[0;32m   3807\u001b[0m     \u001b[39m# If we have a listlike key, _check_indexing_error will raise\u001b[39;00m\n\u001b[0;32m   3808\u001b[0m     \u001b[39m#  InvalidIndexError. Otherwise we fall through and re-raise\u001b[39;00m\n\u001b[0;32m   3809\u001b[0m     \u001b[39m#  the TypeError.\u001b[39;00m\n\u001b[0;32m   3810\u001b[0m     \u001b[39mself\u001b[39m\u001b[39m.\u001b[39m_check_indexing_error(key)\n",
      "\u001b[1;31mKeyError\u001b[0m: 'Name'"
     ]
    }
   ],
   "source": [
    "name = list(set(cars[\"Name\"]))\n",
    "name"
   ]
  },
  {
   "cell_type": "code",
   "execution_count": null,
   "id": "45651fcf",
   "metadata": {},
   "outputs": [
    {
     "data": {
      "text/plain": [
       "['1.5 TREND TI VCT',\n",
       " 'VXI PLUS AGS',\n",
       " '2.0 TDI STYLE PLUS AT',\n",
       " 'ZDI PLUS',\n",
       " 'STYLE 1.0TSI MT',\n",
       " 'RXT 1.0 AMT',\n",
       " 'FLUIDIC 1.6 VTVT SX AT',\n",
       " 'LXI CNG',\n",
       " 'SV MT DIESEL',\n",
       " '1.6 CRDI SX + AT',\n",
       " 'ALPHA SHVS',\n",
       " '2.0 TDI MT S EDITION',\n",
       " 'DELTA DDIS 190',\n",
       " 'ZETA DDIS 190',\n",
       " 'K2 6 STR',\n",
       " '1.5 TREND TDCI',\n",
       " '1.2 SAT I VTEC',\n",
       " 'G MT',\n",
       " 'LXI CNG 1.0 L',\n",
       " 'K8 6 STR',\n",
       " '1.5 VXMT I DTEC',\n",
       " 'LX D 4*4 MT HT',\n",
       " 'VDI ABS',\n",
       " 'T (O)',\n",
       " 'VDI BS IV',\n",
       " 'FLUIDIC 1.6 SX VTVT OPT AT',\n",
       " 'ZX CVT PETROL',\n",
       " 'ZETA 1.3',\n",
       " 'VDI OPT',\n",
       " 'LX  4WD AT CONVERTIBLE',\n",
       " 'S CRDI',\n",
       " 'D 4D G',\n",
       " 'XZA 1.2 REVOTRON',\n",
       " 'VX CVT PETROL',\n",
       " '1.5 i-DTEC VX MT',\n",
       " 'SPORTZ 1.1 CRDI',\n",
       " '1.6 S',\n",
       " 'LDI BS IV',\n",
       " 'RXZ AMT 110 PS',\n",
       " '1.0 LXI (O)',\n",
       " 'XE 1.2',\n",
       " '1.0 RXL',\n",
       " 'VX 1.2 CVT',\n",
       " 'SIGMA 1.2 K12',\n",
       " 'DELTA 1.3 DDIS SHVS',\n",
       " '1.0 RXT Opt',\n",
       " '1.2 VX I-VTECH',\n",
       " 'SIGMA 1.5 SHVS',\n",
       " 'CRDE 4X4 BS IV',\n",
       " 'LXI CNG (O)',\n",
       " 'ALPHA 1.3 DDIS SHVS',\n",
       " 'XZ 1.2 REVOTRON OPT',\n",
       " '1.2 TITANIUM PETROL',\n",
       " 'ZETA 1.2 K12',\n",
       " 'E MT DIESEL',\n",
       " 'ZETA 1.2 K12 CVT',\n",
       " '1.2 S MT',\n",
       " 'J S',\n",
       " 'DELTA 1.2 K12 AT',\n",
       " 'SHARP (O) 1.5 CVT IVORY',\n",
       " 'S10',\n",
       " '1.5 SX (O) AT',\n",
       " 'XZ+ 1.5',\n",
       " 'RXT 1.0 EASY-R  AT',\n",
       " 'SPORTZ 1.4',\n",
       " '1.6 VTVT SX AUTO',\n",
       " 'XZ PLUS 1.2 REVOTRON',\n",
       " 'W8 FWD',\n",
       " 'ASTA 1.2 (O) VTVT',\n",
       " 'FLUIDIC 1.6 SX VTVT',\n",
       " '1.5TITANIUM TDCI',\n",
       " 'VDI+ SHVS',\n",
       " 'XV CVT',\n",
       " 'ZX CVT',\n",
       " 'VXI',\n",
       " 'ZXI 1.2',\n",
       " 'LXI OPT',\n",
       " 'SUPER DIESEL',\n",
       " 'VX MT PETROL',\n",
       " 'ASTA 1.2',\n",
       " 'S9',\n",
       " 'ZDI+ SHVS',\n",
       " 'ALPHA 1.3 DDIS',\n",
       " '1.1 MAGNA AMT',\n",
       " 'MAGNA 1.2 VTVT',\n",
       " 'HTX 1.5 PETROL MT',\n",
       " 'GT TSI 1.2 PETROL AT',\n",
       " 'GL',\n",
       " 'ALPHA 1.2 K12 AMT',\n",
       " 'ZETA 1.2 K12 AMT',\n",
       " '2.0 LONGITUDE',\n",
       " '1.5 EMT I DTEC',\n",
       " 'VXI (O) AMT',\n",
       " '1.0 TURBO GDI SX+ AT',\n",
       " '1.2 SPORTS PLUS VTVT',\n",
       " 'GTX + AT PETROL',\n",
       " '1.0 RXZ',\n",
       " 'ASTA 1.4 CRDI',\n",
       " '35TDI PREMIUM',\n",
       " '1.5 TITANIUMTDCI OPT',\n",
       " 'SPORTZ (O) 1.2 AT VTVT',\n",
       " 'ASTA 1.2 KAPPA VTVT',\n",
       " 'ALPHA DDIS 190',\n",
       " 'Magna 1.2 AT  VTVT',\n",
       " 'J MT',\n",
       " '1.6 SX VTVT',\n",
       " '1.2 S AT',\n",
       " 'RXT',\n",
       " 'SDRIVE 20D',\n",
       " 'LXI',\n",
       " 'E 220 CDI ELEGANCE',\n",
       " 'ERA PLUS',\n",
       " '2.2 DIESEL',\n",
       " 'HIGHLINE PLUS DSG 1.5',\n",
       " 'DELTA 1.2 K12',\n",
       " 'SPORTZ 1.2 VTVT',\n",
       " 'CLIMBER 1.0 AT',\n",
       " 'SX PETROL MT',\n",
       " 'W8(O)',\n",
       " 'XE 1.2 REVOTRON',\n",
       " 'SPORTZ 1.1',\n",
       " '1.4 S CRDI',\n",
       " 'ERA 1.1 IRDE',\n",
       " '85 PS RXE',\n",
       " 'G',\n",
       " 'MAGNA 1.2',\n",
       " '520D LUXURY LINE',\n",
       " 'ASTA 1.2 (O)',\n",
       " 'COMFORTLINE 1.2L PETROL',\n",
       " 'VXI OPT',\n",
       " 'XZ 1.2',\n",
       " '1.6 SX AT CRDI',\n",
       " '1.5 TDCI TITANIUM PLUS',\n",
       " 'ALPHA SHVS  MT',\n",
       " 'VXI AGS',\n",
       " '1.2 S',\n",
       " '1.6 SX CRDI',\n",
       " 'ALPHA 1.2 K12',\n",
       " '30 TDI MT S EDITION',\n",
       " 'W8 FWD AT',\n",
       " 'ZDI',\n",
       " 'SHARP DCT PETROL',\n",
       " '2.0 TDI  PREMIUM',\n",
       " 'RXL',\n",
       " '1.2 VX MT I VTEC',\n",
       " 'G SP',\n",
       " '2.5 VX 8 STR BS IV',\n",
       " '1.4 S PLUS',\n",
       " '1.0 RXT Opt AT',\n",
       " 'VXI PLUS',\n",
       " '1.1 ERA EXICUTIVE',\n",
       " '1.2 ZX MT',\n",
       " 'ASTA 1.1 CRDI',\n",
       " 'K8 5 STR',\n",
       " 'XDRIVE 20D',\n",
       " 'ZXI AMT',\n",
       " 'VXI AMT',\n",
       " 'Varicor 400 XMA',\n",
       " 'VXI 1.2 BS IV',\n",
       " 'MAGNA 1.1 IRDE2',\n",
       " 'SPORTZ 1.2 AT',\n",
       " 'VXI 1.0',\n",
       " 'VXI CNG',\n",
       " '1.6 SX PLUS VTVT ANNIVERSARY EDITION',\n",
       " '2WD AT GL DIESEL',\n",
       " 'FLUIDIC 1.6 SX CRDI',\n",
       " 'ZDI Plus AMT',\n",
       " '1.5 TREND+ TDCI',\n",
       " 'J CVT',\n",
       " '3.0 AT 4X2',\n",
       " '1.2 V CVT I VTEC',\n",
       " 'ZXI +',\n",
       " 'SV MT PETROL',\n",
       " 'SPORTZ 1.2 KAPPA2',\n",
       " 'ZXI',\n",
       " 'MAGNA 1.2 KAPPA VTVT',\n",
       " '1.2 VXMT I VTEC',\n",
       " 'XTA 1.2 PETROL',\n",
       " '85 PS RXL',\n",
       " 'CROSS VD',\n",
       " 'S MT PETROL',\n",
       " '1.0 Lxi (o) cng',\n",
       " 'HTK PLUS 1.5 DIESEL',\n",
       " '1.2 i-VTEC VX MT',\n",
       " 'ALPHA 1.3',\n",
       " '2.0 LIMITED',\n",
       " 'MAGNA 1.4 CRDI',\n",
       " 'VX MT DIESEL',\n",
       " '1.5 SIGMA SHVS',\n",
       " '35 TDI Quattro',\n",
       " 'MAGNA O 1.2',\n",
       " 'ASTA 1.1 MT',\n",
       " 'G AT',\n",
       " 'VDI (O) SHVS HYBIRD',\n",
       " '1.4 E PLUS CRDI',\n",
       " '1.2 i-VTEC S MT',\n",
       " '2.0 TDI QUATTRO',\n",
       " 'SPORTZ 1.2',\n",
       " 'ALPHA 1.5 MT VTVT SHVS',\n",
       " 'VDI',\n",
       " '1.0 AMBITION TSI AT',\n",
       " 'S MT 1.2 KAPPA',\n",
       " '1.5 AMBIENTE TDCI',\n",
       " 'MAGNA 1.2 KAPPA2',\n",
       " 'SPORTZ PETROL',\n",
       " 'ZXI+',\n",
       " 'S7 120 BHP 2WD',\n",
       " '1.5 W6 MT',\n",
       " 'ERA 1.4 CRDI',\n",
       " 'SPORTZ 1.4 CRDI',\n",
       " '1.4 SPORT PETROL',\n",
       " 'Magna Executive 1.2',\n",
       " 'HTK PLUS AT 1.5 DIESEL',\n",
       " '1.2 S (O) MT I VTEC',\n",
       " '1.6 SX AT O',\n",
       " 'A',\n",
       " '30 TDI PREMIUM PLUS',\n",
       " 'S 1.2',\n",
       " 'S5',\n",
       " 'HTX+ AT 1.5 DIESEL',\n",
       " 'DELTA 1.2 K12 AMT',\n",
       " 'S PETROL MT',\n",
       " 'MAGNA PLUS',\n",
       " 'XE 2.0 KRYOTEC',\n",
       " 'XMA 1.2',\n",
       " 'SHARP 2.0 DIESEL',\n",
       " 'VXI 1.2L',\n",
       " 'V MT PETROL',\n",
       " '85 PS RXL OPT',\n",
       " 'Sportz(O) 1.2 MT',\n",
       " 'ZDI PLUS DUAL TONE',\n",
       " '1.5 TITANIUM TI VCT',\n",
       " 'Varicor 400 XM',\n",
       " 'RXS 85 PS',\n",
       " 'XM 1.2 REVOTRON',\n",
       " 'GD',\n",
       " '1.5 TITANIUM TI VCT AT',\n",
       " 'SPORTZ 1.2 KAPPA VTVT',\n",
       " 'ZXI OPT AMT',\n",
       " '1.2 EMT I VTEC',\n",
       " '1.6 CRDI SX PLUS AUTO',\n",
       " 'HTK 1.5 PETROL',\n",
       " 'XE DIESEL',\n",
       " 'G CVT',\n",
       " 'SPORTZ (O) 1.4',\n",
       " 'Magna Executive Diesel',\n",
       " 'XZ 1.2 REVOTRON']"
      ]
     },
     "execution_count": 363,
     "metadata": {},
     "output_type": "execute_result"
    }
   ],
   "source": [
    "variant = list(set(cars[\"Variant\"]))\n",
    "variant"
   ]
  }
 ],
 "metadata": {
  "kernelspec": {
   "display_name": "Python 3.7.15 ('leastsquare')",
   "language": "python",
   "name": "python3"
  },
  "language_info": {
   "codemirror_mode": {
    "name": "ipython",
    "version": 3
   },
   "file_extension": ".py",
   "mimetype": "text/x-python",
   "name": "python",
   "nbconvert_exporter": "python",
   "pygments_lexer": "ipython3",
   "version": "3.10.8"
  },
  "vscode": {
   "interpreter": {
    "hash": "b37d3adf64e87a3db5d6b44a39ff9188a49bf30df9e3056d8ae5a35fd976f4e8"
   }
  }
 },
 "nbformat": 4,
 "nbformat_minor": 5
}
