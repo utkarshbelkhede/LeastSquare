{
  "cells": [
    {
      "cell_type": "markdown",
      "metadata": {
        "id": "view-in-github",
        "colab_type": "text"
      },
      "source": [
        "<a href=\"https://colab.research.google.com/github/utkarshbelkhede/LeastSquare/blob/master/notebook/Regression_using_ANN_Cars24.ipynb\" target=\"_parent\"><img src=\"https://colab.research.google.com/assets/colab-badge.svg\" alt=\"Open In Colab\"/></a>"
      ]
    },
    {
      "cell_type": "markdown",
      "metadata": {
        "id": "R_Cn8dsH0ouz"
      },
      "source": [
        "**Author**: UTKARSH GAUTAM BELKHEDE\n",
        "\n",
        "Fergusson College, Pune\n",
        "\n",
        "[Github](https://github.com/utkarshbelkhede) | [LinkedIn](https://www.linkedin.com/in/utkarshbelkhede/)\n",
        "\n"
      ],
      "id": "R_Cn8dsH0ouz"
    },
    {
      "cell_type": "markdown",
      "metadata": {
        "id": "879cfe26"
      },
      "source": [
        "#### 1. Loading required Libraries"
      ],
      "id": "879cfe26"
    },
    {
      "cell_type": "code",
      "execution_count": 5,
      "metadata": {
        "id": "f5673b66"
      },
      "outputs": [],
      "source": [
        "import numpy as np               # Linear Algebra\n",
        "import pandas as pd              # Data Handling\n",
        "import seaborn as sns            # Visualization\n",
        "import matplotlib.pyplot as plt  # Visualization\n",
        "from datetime import date        # Used for Year\n",
        "import warnings                  # For warnings\n",
        "warnings.filterwarnings('ignore')"
      ],
      "id": "f5673b66"
    },
    {
      "cell_type": "markdown",
      "metadata": {
        "id": "8b31fe9b"
      },
      "source": [
        "#### 2. Importing dataset into 'cars' dataframe"
      ],
      "id": "8b31fe9b"
    },
    {
      "cell_type": "code",
      "execution_count": 7,
      "metadata": {
        "colab": {
          "base_uri": "https://localhost:8080/",
          "height": 372
        },
        "id": "8f1a6bf2",
        "outputId": "b1b19c48-9e68-4498-8f6a-a8d52a891905"
      },
      "outputs": [
        {
          "output_type": "execute_result",
          "data": {
            "text/plain": [
              "                        Title                       cvakb     cvakb1  \\\n",
              "0             2020 KIA SELTOS   GTX + AT PETROL Automatic  Automatic   \n",
              "1           2020 Maruti Swift                  LXI Manual     Manual   \n",
              "2           2019 Maruti Swift                  LXI Manual     Manual   \n",
              "3             2020 KIA SELTOS    HTX 1.5 PETROL MT Manual     Manual   \n",
              "4  2014 Mercedes Benz C Class  C 200 AVANTGARDE Automatic  Automatic   \n",
              "\n",
              "       bvr0c     bvr0c2  bvr0c3      _7udzz Unnamed: 7 Unnamed: 8 Unnamed: 9  \\\n",
              "0   8,241 km  1st Owner  Petrol  ?18,95,199        NaN        NaN        NaN   \n",
              "1  10,568 km  1st Owner  Petrol   ?5,92,499        NaN        NaN        NaN   \n",
              "2  27,659 km  1st Owner  Petrol   ?5,33,399        NaN        NaN        NaN   \n",
              "3  32,799 km  1st Owner  Petrol  ?13,83,099        NaN        NaN        NaN   \n",
              "4  37,531 km  1st Owner  Petrol  ?20,33,499        NaN        NaN        NaN   \n",
              "\n",
              "  Unnamed: 10 Unnamed: 11 Unnamed: 12  \n",
              "0         NaN         NaN         NaN  \n",
              "1         NaN         NaN         NaN  \n",
              "2         NaN         NaN         NaN  \n",
              "3         NaN         NaN         NaN  \n",
              "4         NaN         NaN         NaN  "
            ],
            "text/html": [
              "\n",
              "  <div id=\"df-c948699d-9bc1-46e6-b32e-609113197903\">\n",
              "    <div class=\"colab-df-container\">\n",
              "      <div>\n",
              "<style scoped>\n",
              "    .dataframe tbody tr th:only-of-type {\n",
              "        vertical-align: middle;\n",
              "    }\n",
              "\n",
              "    .dataframe tbody tr th {\n",
              "        vertical-align: top;\n",
              "    }\n",
              "\n",
              "    .dataframe thead th {\n",
              "        text-align: right;\n",
              "    }\n",
              "</style>\n",
              "<table border=\"1\" class=\"dataframe\">\n",
              "  <thead>\n",
              "    <tr style=\"text-align: right;\">\n",
              "      <th></th>\n",
              "      <th>Title</th>\n",
              "      <th>cvakb</th>\n",
              "      <th>cvakb1</th>\n",
              "      <th>bvr0c</th>\n",
              "      <th>bvr0c2</th>\n",
              "      <th>bvr0c3</th>\n",
              "      <th>_7udzz</th>\n",
              "      <th>Unnamed: 7</th>\n",
              "      <th>Unnamed: 8</th>\n",
              "      <th>Unnamed: 9</th>\n",
              "      <th>Unnamed: 10</th>\n",
              "      <th>Unnamed: 11</th>\n",
              "      <th>Unnamed: 12</th>\n",
              "    </tr>\n",
              "  </thead>\n",
              "  <tbody>\n",
              "    <tr>\n",
              "      <th>0</th>\n",
              "      <td>2020 KIA SELTOS</td>\n",
              "      <td>GTX + AT PETROL Automatic</td>\n",
              "      <td>Automatic</td>\n",
              "      <td>8,241 km</td>\n",
              "      <td>1st Owner</td>\n",
              "      <td>Petrol</td>\n",
              "      <td>?18,95,199</td>\n",
              "      <td>NaN</td>\n",
              "      <td>NaN</td>\n",
              "      <td>NaN</td>\n",
              "      <td>NaN</td>\n",
              "      <td>NaN</td>\n",
              "      <td>NaN</td>\n",
              "    </tr>\n",
              "    <tr>\n",
              "      <th>1</th>\n",
              "      <td>2020 Maruti Swift</td>\n",
              "      <td>LXI Manual</td>\n",
              "      <td>Manual</td>\n",
              "      <td>10,568 km</td>\n",
              "      <td>1st Owner</td>\n",
              "      <td>Petrol</td>\n",
              "      <td>?5,92,499</td>\n",
              "      <td>NaN</td>\n",
              "      <td>NaN</td>\n",
              "      <td>NaN</td>\n",
              "      <td>NaN</td>\n",
              "      <td>NaN</td>\n",
              "      <td>NaN</td>\n",
              "    </tr>\n",
              "    <tr>\n",
              "      <th>2</th>\n",
              "      <td>2019 Maruti Swift</td>\n",
              "      <td>LXI Manual</td>\n",
              "      <td>Manual</td>\n",
              "      <td>27,659 km</td>\n",
              "      <td>1st Owner</td>\n",
              "      <td>Petrol</td>\n",
              "      <td>?5,33,399</td>\n",
              "      <td>NaN</td>\n",
              "      <td>NaN</td>\n",
              "      <td>NaN</td>\n",
              "      <td>NaN</td>\n",
              "      <td>NaN</td>\n",
              "      <td>NaN</td>\n",
              "    </tr>\n",
              "    <tr>\n",
              "      <th>3</th>\n",
              "      <td>2020 KIA SELTOS</td>\n",
              "      <td>HTX 1.5 PETROL MT Manual</td>\n",
              "      <td>Manual</td>\n",
              "      <td>32,799 km</td>\n",
              "      <td>1st Owner</td>\n",
              "      <td>Petrol</td>\n",
              "      <td>?13,83,099</td>\n",
              "      <td>NaN</td>\n",
              "      <td>NaN</td>\n",
              "      <td>NaN</td>\n",
              "      <td>NaN</td>\n",
              "      <td>NaN</td>\n",
              "      <td>NaN</td>\n",
              "    </tr>\n",
              "    <tr>\n",
              "      <th>4</th>\n",
              "      <td>2014 Mercedes Benz C Class</td>\n",
              "      <td>C 200 AVANTGARDE Automatic</td>\n",
              "      <td>Automatic</td>\n",
              "      <td>37,531 km</td>\n",
              "      <td>1st Owner</td>\n",
              "      <td>Petrol</td>\n",
              "      <td>?20,33,499</td>\n",
              "      <td>NaN</td>\n",
              "      <td>NaN</td>\n",
              "      <td>NaN</td>\n",
              "      <td>NaN</td>\n",
              "      <td>NaN</td>\n",
              "      <td>NaN</td>\n",
              "    </tr>\n",
              "  </tbody>\n",
              "</table>\n",
              "</div>\n",
              "      <button class=\"colab-df-convert\" onclick=\"convertToInteractive('df-c948699d-9bc1-46e6-b32e-609113197903')\"\n",
              "              title=\"Convert this dataframe to an interactive table.\"\n",
              "              style=\"display:none;\">\n",
              "        \n",
              "  <svg xmlns=\"http://www.w3.org/2000/svg\" height=\"24px\"viewBox=\"0 0 24 24\"\n",
              "       width=\"24px\">\n",
              "    <path d=\"M0 0h24v24H0V0z\" fill=\"none\"/>\n",
              "    <path d=\"M18.56 5.44l.94 2.06.94-2.06 2.06-.94-2.06-.94-.94-2.06-.94 2.06-2.06.94zm-11 1L8.5 8.5l.94-2.06 2.06-.94-2.06-.94L8.5 2.5l-.94 2.06-2.06.94zm10 10l.94 2.06.94-2.06 2.06-.94-2.06-.94-.94-2.06-.94 2.06-2.06.94z\"/><path d=\"M17.41 7.96l-1.37-1.37c-.4-.4-.92-.59-1.43-.59-.52 0-1.04.2-1.43.59L10.3 9.45l-7.72 7.72c-.78.78-.78 2.05 0 2.83L4 21.41c.39.39.9.59 1.41.59.51 0 1.02-.2 1.41-.59l7.78-7.78 2.81-2.81c.8-.78.8-2.07 0-2.86zM5.41 20L4 18.59l7.72-7.72 1.47 1.35L5.41 20z\"/>\n",
              "  </svg>\n",
              "      </button>\n",
              "      \n",
              "  <style>\n",
              "    .colab-df-container {\n",
              "      display:flex;\n",
              "      flex-wrap:wrap;\n",
              "      gap: 12px;\n",
              "    }\n",
              "\n",
              "    .colab-df-convert {\n",
              "      background-color: #E8F0FE;\n",
              "      border: none;\n",
              "      border-radius: 50%;\n",
              "      cursor: pointer;\n",
              "      display: none;\n",
              "      fill: #1967D2;\n",
              "      height: 32px;\n",
              "      padding: 0 0 0 0;\n",
              "      width: 32px;\n",
              "    }\n",
              "\n",
              "    .colab-df-convert:hover {\n",
              "      background-color: #E2EBFA;\n",
              "      box-shadow: 0px 1px 2px rgba(60, 64, 67, 0.3), 0px 1px 3px 1px rgba(60, 64, 67, 0.15);\n",
              "      fill: #174EA6;\n",
              "    }\n",
              "\n",
              "    [theme=dark] .colab-df-convert {\n",
              "      background-color: #3B4455;\n",
              "      fill: #D2E3FC;\n",
              "    }\n",
              "\n",
              "    [theme=dark] .colab-df-convert:hover {\n",
              "      background-color: #434B5C;\n",
              "      box-shadow: 0px 1px 3px 1px rgba(0, 0, 0, 0.15);\n",
              "      filter: drop-shadow(0px 1px 2px rgba(0, 0, 0, 0.3));\n",
              "      fill: #FFFFFF;\n",
              "    }\n",
              "  </style>\n",
              "\n",
              "      <script>\n",
              "        const buttonEl =\n",
              "          document.querySelector('#df-c948699d-9bc1-46e6-b32e-609113197903 button.colab-df-convert');\n",
              "        buttonEl.style.display =\n",
              "          google.colab.kernel.accessAllowed ? 'block' : 'none';\n",
              "\n",
              "        async function convertToInteractive(key) {\n",
              "          const element = document.querySelector('#df-c948699d-9bc1-46e6-b32e-609113197903');\n",
              "          const dataTable =\n",
              "            await google.colab.kernel.invokeFunction('convertToInteractive',\n",
              "                                                     [key], {});\n",
              "          if (!dataTable) return;\n",
              "\n",
              "          const docLinkHtml = 'Like what you see? Visit the ' +\n",
              "            '<a target=\"_blank\" href=https://colab.research.google.com/notebooks/data_table.ipynb>data table notebook</a>'\n",
              "            + ' to learn more about interactive tables.';\n",
              "          element.innerHTML = '';\n",
              "          dataTable['output_type'] = 'display_data';\n",
              "          await google.colab.output.renderOutput(dataTable, element);\n",
              "          const docLink = document.createElement('div');\n",
              "          docLink.innerHTML = docLinkHtml;\n",
              "          element.appendChild(docLink);\n",
              "        }\n",
              "      </script>\n",
              "    </div>\n",
              "  </div>\n",
              "  "
            ]
          },
          "metadata": {},
          "execution_count": 7
        }
      ],
      "source": [
        "cars = pd.read_csv(\"https://raw.githubusercontent.com/utkarshbelkhede/LeastSquare/master/datasets/Cars24.csv\")\n",
        "cars.head()"
      ],
      "id": "8f1a6bf2"
    },
    {
      "cell_type": "markdown",
      "metadata": {
        "id": "d19168b6"
      },
      "source": [
        "#### 3. Feature Engineering"
      ],
      "id": "d19168b6"
    },
    {
      "cell_type": "code",
      "execution_count": null,
      "metadata": {
        "id": "27ca9dd7"
      },
      "outputs": [],
      "source": [
        "# To Perform Regex Operation\n",
        "import re \n",
        "\n",
        "# Will return string containing numbers\n",
        "def find_number(text):\n",
        "    num = re.findall(r'[0-9]+',text)\n",
        "    return \"\".join(num)\n",
        "\n",
        "# For Feature Engineering\n",
        "def feature_engineering(cars):\n",
        "    # First seven columns are relevant\n",
        "    cars = cars.iloc[:,:7]\n",
        "\n",
        "    # Giving Proper names to features\n",
        "    cars.rename(columns = {'Title':'Name', 'cvakb':'Variant', 'cvakb1':'Transmission', 'bvr0c':'km_driven', 'bvr0c2':'Owner_Type', 'bvr0c3':'Fuel', '_7udzz':'Price'}, inplace = True)\n",
        "\n",
        "    # Extracting only numbers\n",
        "    cars[\"Price\"] = cars[\"Price\"].apply(lambda x: find_number(x))\n",
        "\n",
        "    # Extracting year of purchase from Name\n",
        "    cars[\"Year_Purchased\"] = cars[\"Name\"].str.split().str.slice(start=0,stop=1).str.join(' ')\n",
        "\n",
        "    # Extracting name excluding year of purchase\n",
        "    cars[\"Name\"] = cars[\"Name\"].str.split().str.slice(start=1,stop=3).str.join(' ')\n",
        "\n",
        "    # Removing \"km\"\n",
        "    cars[\"km_driven\"] = cars[\"km_driven\"].str.split().str.slice(start=0,stop=1).str.join(' ')\n",
        "\n",
        "    # Extracting only numbers\n",
        "    cars[\"km_driven\"] = cars[\"km_driven\"].apply(lambda x: find_number(x))\n",
        "\n",
        "    # Removing Transmission type from the end of Variant\n",
        "    cars[\"Variant\"] = cars[\"Variant\"].str.rsplit(' ',1).str[0]\n",
        "\n",
        "    # Converting features to int\n",
        "    cars = cars.astype({\"km_driven\":\"int\",\"Price\":\"int\", \"Year_Purchased\":\"int\"})\n",
        "\n",
        "    # Deriving Age of Vehical from Year of Purchase\n",
        "    cars[\"Age\"] = date.today().year - cars[\"Year_Purchased\"]\n",
        "    cars.drop(['Year_Purchased'], axis=1, inplace=True)\n",
        "\n",
        "    return cars"
      ],
      "id": "27ca9dd7"
    },
    {
      "cell_type": "code",
      "execution_count": null,
      "metadata": {
        "id": "zfXLTBxPdz8Q"
      },
      "outputs": [],
      "source": [
        "cars = feature_engineering(cars)"
      ],
      "id": "zfXLTBxPdz8Q"
    },
    {
      "cell_type": "code",
      "execution_count": null,
      "metadata": {
        "colab": {
          "base_uri": "https://localhost:8080/",
          "height": 357
        },
        "id": "ddfd9833",
        "outputId": "d4353bdc-9d02-48fa-b49f-62d70ff93e70"
      },
      "outputs": [
        {
          "output_type": "execute_result",
          "data": {
            "text/plain": [
              "            Name            Variant Transmission  km_driven Owner_Type  \\\n",
              "0     KIA SELTOS    GTX + AT PETROL    Automatic       8241  1st Owner   \n",
              "1   Maruti Swift                LXI       Manual      10568  1st Owner   \n",
              "2   Maruti Swift                LXI       Manual      27659  1st Owner   \n",
              "3     KIA SELTOS  HTX 1.5 PETROL MT       Manual      32799  1st Owner   \n",
              "4  Mercedes Benz   C 200 AVANTGARDE    Automatic      37531  1st Owner   \n",
              "\n",
              "     Fuel    Price  Age  \n",
              "0  Petrol  1895199    2  \n",
              "1  Petrol   592499    2  \n",
              "2  Petrol   533399    3  \n",
              "3  Petrol  1383099    2  \n",
              "4  Petrol  2033499    8  "
            ],
            "text/html": [
              "\n",
              "  <div id=\"df-4434b3b7-5a48-4b1b-863c-4aaff16e22ec\">\n",
              "    <div class=\"colab-df-container\">\n",
              "      <div>\n",
              "<style scoped>\n",
              "    .dataframe tbody tr th:only-of-type {\n",
              "        vertical-align: middle;\n",
              "    }\n",
              "\n",
              "    .dataframe tbody tr th {\n",
              "        vertical-align: top;\n",
              "    }\n",
              "\n",
              "    .dataframe thead th {\n",
              "        text-align: right;\n",
              "    }\n",
              "</style>\n",
              "<table border=\"1\" class=\"dataframe\">\n",
              "  <thead>\n",
              "    <tr style=\"text-align: right;\">\n",
              "      <th></th>\n",
              "      <th>Name</th>\n",
              "      <th>Variant</th>\n",
              "      <th>Transmission</th>\n",
              "      <th>km_driven</th>\n",
              "      <th>Owner_Type</th>\n",
              "      <th>Fuel</th>\n",
              "      <th>Price</th>\n",
              "      <th>Age</th>\n",
              "    </tr>\n",
              "  </thead>\n",
              "  <tbody>\n",
              "    <tr>\n",
              "      <th>0</th>\n",
              "      <td>KIA SELTOS</td>\n",
              "      <td>GTX + AT PETROL</td>\n",
              "      <td>Automatic</td>\n",
              "      <td>8241</td>\n",
              "      <td>1st Owner</td>\n",
              "      <td>Petrol</td>\n",
              "      <td>1895199</td>\n",
              "      <td>2</td>\n",
              "    </tr>\n",
              "    <tr>\n",
              "      <th>1</th>\n",
              "      <td>Maruti Swift</td>\n",
              "      <td>LXI</td>\n",
              "      <td>Manual</td>\n",
              "      <td>10568</td>\n",
              "      <td>1st Owner</td>\n",
              "      <td>Petrol</td>\n",
              "      <td>592499</td>\n",
              "      <td>2</td>\n",
              "    </tr>\n",
              "    <tr>\n",
              "      <th>2</th>\n",
              "      <td>Maruti Swift</td>\n",
              "      <td>LXI</td>\n",
              "      <td>Manual</td>\n",
              "      <td>27659</td>\n",
              "      <td>1st Owner</td>\n",
              "      <td>Petrol</td>\n",
              "      <td>533399</td>\n",
              "      <td>3</td>\n",
              "    </tr>\n",
              "    <tr>\n",
              "      <th>3</th>\n",
              "      <td>KIA SELTOS</td>\n",
              "      <td>HTX 1.5 PETROL MT</td>\n",
              "      <td>Manual</td>\n",
              "      <td>32799</td>\n",
              "      <td>1st Owner</td>\n",
              "      <td>Petrol</td>\n",
              "      <td>1383099</td>\n",
              "      <td>2</td>\n",
              "    </tr>\n",
              "    <tr>\n",
              "      <th>4</th>\n",
              "      <td>Mercedes Benz</td>\n",
              "      <td>C 200 AVANTGARDE</td>\n",
              "      <td>Automatic</td>\n",
              "      <td>37531</td>\n",
              "      <td>1st Owner</td>\n",
              "      <td>Petrol</td>\n",
              "      <td>2033499</td>\n",
              "      <td>8</td>\n",
              "    </tr>\n",
              "  </tbody>\n",
              "</table>\n",
              "</div>\n",
              "      <button class=\"colab-df-convert\" onclick=\"convertToInteractive('df-4434b3b7-5a48-4b1b-863c-4aaff16e22ec')\"\n",
              "              title=\"Convert this dataframe to an interactive table.\"\n",
              "              style=\"display:none;\">\n",
              "        \n",
              "  <svg xmlns=\"http://www.w3.org/2000/svg\" height=\"24px\"viewBox=\"0 0 24 24\"\n",
              "       width=\"24px\">\n",
              "    <path d=\"M0 0h24v24H0V0z\" fill=\"none\"/>\n",
              "    <path d=\"M18.56 5.44l.94 2.06.94-2.06 2.06-.94-2.06-.94-.94-2.06-.94 2.06-2.06.94zm-11 1L8.5 8.5l.94-2.06 2.06-.94-2.06-.94L8.5 2.5l-.94 2.06-2.06.94zm10 10l.94 2.06.94-2.06 2.06-.94-2.06-.94-.94-2.06-.94 2.06-2.06.94z\"/><path d=\"M17.41 7.96l-1.37-1.37c-.4-.4-.92-.59-1.43-.59-.52 0-1.04.2-1.43.59L10.3 9.45l-7.72 7.72c-.78.78-.78 2.05 0 2.83L4 21.41c.39.39.9.59 1.41.59.51 0 1.02-.2 1.41-.59l7.78-7.78 2.81-2.81c.8-.78.8-2.07 0-2.86zM5.41 20L4 18.59l7.72-7.72 1.47 1.35L5.41 20z\"/>\n",
              "  </svg>\n",
              "      </button>\n",
              "      \n",
              "  <style>\n",
              "    .colab-df-container {\n",
              "      display:flex;\n",
              "      flex-wrap:wrap;\n",
              "      gap: 12px;\n",
              "    }\n",
              "\n",
              "    .colab-df-convert {\n",
              "      background-color: #E8F0FE;\n",
              "      border: none;\n",
              "      border-radius: 50%;\n",
              "      cursor: pointer;\n",
              "      display: none;\n",
              "      fill: #1967D2;\n",
              "      height: 32px;\n",
              "      padding: 0 0 0 0;\n",
              "      width: 32px;\n",
              "    }\n",
              "\n",
              "    .colab-df-convert:hover {\n",
              "      background-color: #E2EBFA;\n",
              "      box-shadow: 0px 1px 2px rgba(60, 64, 67, 0.3), 0px 1px 3px 1px rgba(60, 64, 67, 0.15);\n",
              "      fill: #174EA6;\n",
              "    }\n",
              "\n",
              "    [theme=dark] .colab-df-convert {\n",
              "      background-color: #3B4455;\n",
              "      fill: #D2E3FC;\n",
              "    }\n",
              "\n",
              "    [theme=dark] .colab-df-convert:hover {\n",
              "      background-color: #434B5C;\n",
              "      box-shadow: 0px 1px 3px 1px rgba(0, 0, 0, 0.15);\n",
              "      filter: drop-shadow(0px 1px 2px rgba(0, 0, 0, 0.3));\n",
              "      fill: #FFFFFF;\n",
              "    }\n",
              "  </style>\n",
              "\n",
              "      <script>\n",
              "        const buttonEl =\n",
              "          document.querySelector('#df-4434b3b7-5a48-4b1b-863c-4aaff16e22ec button.colab-df-convert');\n",
              "        buttonEl.style.display =\n",
              "          google.colab.kernel.accessAllowed ? 'block' : 'none';\n",
              "\n",
              "        async function convertToInteractive(key) {\n",
              "          const element = document.querySelector('#df-4434b3b7-5a48-4b1b-863c-4aaff16e22ec');\n",
              "          const dataTable =\n",
              "            await google.colab.kernel.invokeFunction('convertToInteractive',\n",
              "                                                     [key], {});\n",
              "          if (!dataTable) return;\n",
              "\n",
              "          const docLinkHtml = 'Like what you see? Visit the ' +\n",
              "            '<a target=\"_blank\" href=https://colab.research.google.com/notebooks/data_table.ipynb>data table notebook</a>'\n",
              "            + ' to learn more about interactive tables.';\n",
              "          element.innerHTML = '';\n",
              "          dataTable['output_type'] = 'display_data';\n",
              "          await google.colab.output.renderOutput(dataTable, element);\n",
              "          const docLink = document.createElement('div');\n",
              "          docLink.innerHTML = docLinkHtml;\n",
              "          element.appendChild(docLink);\n",
              "        }\n",
              "      </script>\n",
              "    </div>\n",
              "  </div>\n",
              "  "
            ]
          },
          "metadata": {},
          "execution_count": 152
        }
      ],
      "source": [
        "cars.head()"
      ],
      "id": "ddfd9833"
    },
    {
      "cell_type": "markdown",
      "metadata": {
        "id": "3dec43dd"
      },
      "source": [
        "#### 4. Description of Dataset"
      ],
      "id": "3dec43dd"
    },
    {
      "cell_type": "markdown",
      "metadata": {
        "id": "5edea187"
      },
      "source": [
        "##### 4.1 Shape of Dataset"
      ],
      "id": "5edea187"
    },
    {
      "cell_type": "code",
      "execution_count": null,
      "metadata": {
        "colab": {
          "base_uri": "https://localhost:8080/"
        },
        "id": "77f929f6",
        "outputId": "7f5afbd9-340a-4aa4-9d8e-c61d570e91f8"
      },
      "outputs": [
        {
          "output_type": "stream",
          "name": "stdout",
          "text": [
            "There are \u001b[1m 656 rows\\patterns \u001b[0m and \u001b[1m8 features\u001b[0m.\n"
          ]
        }
      ],
      "source": [
        "shape = cars.shape\n",
        "print(f\"There are \\033[1m {shape[0]} rows\\patterns \\033[0m and \\033[1m{shape[1]} features\\033[0m.\")"
      ],
      "id": "77f929f6"
    },
    {
      "cell_type": "markdown",
      "metadata": {
        "id": "28463486"
      },
      "source": [
        "##### 4.2 info"
      ],
      "id": "28463486"
    },
    {
      "cell_type": "code",
      "execution_count": null,
      "metadata": {
        "colab": {
          "base_uri": "https://localhost:8080/"
        },
        "id": "d1cd33ee",
        "outputId": "ab9dc5a3-93a4-4d6d-a5fe-65355ca8fb30"
      },
      "outputs": [
        {
          "output_type": "stream",
          "name": "stdout",
          "text": [
            "<class 'pandas.core.frame.DataFrame'>\n",
            "RangeIndex: 656 entries, 0 to 655\n",
            "Data columns (total 8 columns):\n",
            " #   Column        Non-Null Count  Dtype \n",
            "---  ------        --------------  ----- \n",
            " 0   Name          656 non-null    object\n",
            " 1   Variant       656 non-null    object\n",
            " 2   Transmission  632 non-null    object\n",
            " 3   km_driven     656 non-null    int64 \n",
            " 4   Owner_Type    656 non-null    object\n",
            " 5   Fuel          656 non-null    object\n",
            " 6   Price         656 non-null    int64 \n",
            " 7   Age           656 non-null    int64 \n",
            "dtypes: int64(3), object(5)\n",
            "memory usage: 41.1+ KB\n"
          ]
        }
      ],
      "source": [
        "cars.info()"
      ],
      "id": "d1cd33ee"
    },
    {
      "cell_type": "markdown",
      "metadata": {
        "id": "c55f105e"
      },
      "source": [
        "##### 4.3 Missing Values for features"
      ],
      "id": "c55f105e"
    },
    {
      "cell_type": "code",
      "execution_count": null,
      "metadata": {
        "colab": {
          "base_uri": "https://localhost:8080/"
        },
        "id": "89159871",
        "outputId": "7278b50a-78a8-4d72-e2a0-db434715265d"
      },
      "outputs": [
        {
          "output_type": "execute_result",
          "data": {
            "text/plain": [
              "[['Transmission', 24]]"
            ]
          },
          "metadata": {},
          "execution_count": 155
        }
      ],
      "source": [
        "[[features,cars[features].isnull().sum()] for features in cars.columns if cars[features].isnull().sum()>0]"
      ],
      "id": "89159871"
    },
    {
      "cell_type": "markdown",
      "metadata": {
        "id": "918152da"
      },
      "source": [
        "##### 4.4 Heat Map for Missing Values"
      ],
      "id": "918152da"
    },
    {
      "cell_type": "code",
      "execution_count": null,
      "metadata": {
        "colab": {
          "base_uri": "https://localhost:8080/",
          "height": 286
        },
        "id": "5ce4232c",
        "outputId": "384ef7a2-2855-4516-ad99-9ba8781b22a6"
      },
      "outputs": [
        {
          "output_type": "display_data",
          "data": {
            "text/plain": [
              "<Figure size 576x360 with 1 Axes>"
            ],
            "image/png": "[encoded data removed]"
          },
          "metadata": {}
        }
      ],
      "source": [
        "fig = sns.set(rc={'figure.figsize': (8, 5)})\n",
        "plt.title(\"Heat Map for Missing Values\")\n",
        "sns.heatmap(cars.isnull(),yticklabels=False,cbar=False,cmap='viridis')\n",
        "plt.show()"
      ],
      "id": "5ce4232c"
    },
    {
      "cell_type": "markdown",
      "metadata": {
        "id": "9cd0e7a6"
      },
      "source": [
        "##### 4.5 Dropping NA values"
      ],
      "id": "9cd0e7a6"
    },
    {
      "cell_type": "code",
      "execution_count": null,
      "metadata": {
        "id": "9c037006"
      },
      "outputs": [],
      "source": [
        "cars.dropna(inplace=True)"
      ],
      "id": "9c037006"
    },
    {
      "cell_type": "markdown",
      "metadata": {
        "id": "f69b857a"
      },
      "source": [
        "Approximately, **3% values are Na**. Therefore, to simplify things, we dropped them."
      ],
      "id": "f69b857a"
    },
    {
      "cell_type": "markdown",
      "metadata": {
        "id": "5e24b2ee"
      },
      "source": [
        "#### 5. Exploratory Data Analysis"
      ],
      "id": "5e24b2ee"
    },
    {
      "cell_type": "markdown",
      "metadata": {
        "id": "b695f850"
      },
      "source": [
        "##### 5.1.1. Type of Owner and Number of Cars"
      ],
      "id": "b695f850"
    },
    {
      "cell_type": "code",
      "execution_count": null,
      "metadata": {
        "colab": {
          "base_uri": "https://localhost:8080/"
        },
        "id": "a3b0f94f",
        "outputId": "bd3629bd-f0cd-445d-f7b8-3e2867b2e5d9"
      },
      "outputs": [
        {
          "output_type": "execute_result",
          "data": {
            "text/plain": [
              "1st Owner    504\n",
              "2nd Owner    123\n",
              "3rd Owner      5\n",
              "Name: Owner_Type, dtype: int64"
            ]
          },
          "metadata": {},
          "execution_count": 158
        }
      ],
      "source": [
        "cars['Owner_Type'].value_counts()"
      ],
      "id": "a3b0f94f"
    },
    {
      "cell_type": "markdown",
      "metadata": {
        "id": "74025c60"
      },
      "source": [
        "##### 5.1.2. Countplot Owner Type Vs Number of Cars"
      ],
      "id": "74025c60"
    },
    {
      "cell_type": "code",
      "execution_count": null,
      "metadata": {
        "colab": {
          "base_uri": "https://localhost:8080/"
        },
        "id": "fab268b4",
        "outputId": "e5c114b2-3ed2-4a1d-ad29-9af5326eb86f"
      },
      "outputs": [
        {
          "output_type": "display_data",
          "data": {
            "text/plain": [
              "<Figure size 720x576 with 1 Axes>"
            ],
            "image/png": "[encoded data removed]"
          },
          "metadata": {}
        }
      ],
      "source": [
        "fig = sns.set(rc={'figure.figsize': (10, 8)})\n",
        "plt.title(\"Countplot Owner Type Vs Number of Cars\")\n",
        "sns.countplot(x ='Owner_Type', data = cars)\n",
        "plt.show()"
      ],
      "id": "fab268b4"
    },
    {
      "cell_type": "markdown",
      "metadata": {
        "id": "028085d2"
      },
      "source": [
        "**Observation**\n",
        "\n",
        "**First Owned Cars** are **highest among all**."
      ],
      "id": "028085d2"
    },
    {
      "cell_type": "markdown",
      "metadata": {
        "id": "5b639e93"
      },
      "source": [
        "##### 5.1.4. Pie Chart Type of Owner Vs Number of cars."
      ],
      "id": "5b639e93"
    },
    {
      "cell_type": "code",
      "execution_count": null,
      "metadata": {
        "colab": {
          "base_uri": "https://localhost:8080/"
        },
        "id": "f79bd03c",
        "outputId": "09e927f6-083a-4836-8c94-004e1783e838"
      },
      "outputs": [
        {
          "output_type": "display_data",
          "data": {
            "text/plain": [
              "<Figure size 720x576 with 1 Axes>"
            ],
            "image/png": "[encoded data removed]"
          },
          "metadata": {}
        }
      ],
      "source": [
        "fig = sns.set(rc={'figure.figsize': (10, 8)})\n",
        "plt.title(\"Type of Owner Vs Number of cars\")\n",
        "plt.pie(cars['Owner_Type'].value_counts(),labels=cars['Owner_Type'].unique(),pctdistance=1.1, labeldistance=1.2,autopct='%.2f')\n",
        "plt.show()"
      ],
      "id": "f79bd03c"
    },
    {
      "cell_type": "markdown",
      "metadata": {
        "id": "c0dacfe4"
      },
      "source": [
        "**Observation**\n",
        "\n",
        "1. **79.75 %** of cars are **First Owned**.\n",
        "2. **19.46 %** of cars are **Second Owned**.\n",
        "3. **0.79 %** of cars are **Third Owned**."
      ],
      "id": "c0dacfe4"
    },
    {
      "cell_type": "markdown",
      "metadata": {
        "id": "4098722b"
      },
      "source": [
        "##### 5.2. Barplot Owner Type Vs Selling Price"
      ],
      "id": "4098722b"
    },
    {
      "cell_type": "code",
      "execution_count": null,
      "metadata": {
        "colab": {
          "base_uri": "https://localhost:8080/"
        },
        "id": "f66b7300",
        "outputId": "b68bed31-a2b2-43bb-d64e-fd379100d623"
      },
      "outputs": [
        {
          "output_type": "display_data",
          "data": {
            "text/plain": [
              "<Figure size 720x576 with 1 Axes>"
            ],
            "image/png": "[encoded data removed]"
          },
          "metadata": {}
        }
      ],
      "source": [
        "fig = sns.set(rc={'figure.figsize': (10, 8)})\n",
        "plt.title(\"Owner Type Vs Price\")\n",
        "sns.barplot(x='Owner_Type',y='Price',data=cars,palette='spring')\n",
        "plt.show()"
      ],
      "id": "f66b7300"
    },
    {
      "cell_type": "markdown",
      "metadata": {
        "id": "1a1629e6"
      },
      "source": [
        "**Observation**\n",
        "\n",
        "**First Owner cars** have **high average selling price**. \n",
        "\n",
        "As **number of owners** increases the **selling price** of car **decreases**."
      ],
      "id": "1a1629e6"
    },
    {
      "cell_type": "markdown",
      "metadata": {
        "id": "48b5ba84"
      },
      "source": [
        "##### 5.3.1. Automatic Vs Manual"
      ],
      "id": "48b5ba84"
    },
    {
      "cell_type": "code",
      "execution_count": null,
      "metadata": {
        "colab": {
          "base_uri": "https://localhost:8080/"
        },
        "id": "60da393d",
        "outputId": "c5c89925-7bbf-46e6-9457-430392964ae1"
      },
      "outputs": [
        {
          "output_type": "execute_result",
          "data": {
            "text/plain": [
              "array(['Automatic', 'Manual', 'AUTOMATIC'], dtype=object)"
            ]
          },
          "metadata": {},
          "execution_count": 162
        }
      ],
      "source": [
        "cars['Transmission'].unique()"
      ],
      "id": "60da393d"
    },
    {
      "cell_type": "code",
      "execution_count": null,
      "metadata": {
        "id": "3418c130"
      },
      "outputs": [],
      "source": [
        "cars['Transmission'] = np.where(cars['Transmission'] == 'AUTOMATIC', 'Automatic', cars['Transmission'])"
      ],
      "id": "3418c130"
    },
    {
      "cell_type": "code",
      "execution_count": null,
      "metadata": {
        "colab": {
          "base_uri": "https://localhost:8080/"
        },
        "id": "b7c969b5",
        "outputId": "657d887f-e54a-4cf9-a83e-1ece349ee568"
      },
      "outputs": [
        {
          "output_type": "execute_result",
          "data": {
            "text/plain": [
              "Manual       515\n",
              "Automatic    117\n",
              "Name: Transmission, dtype: int64"
            ]
          },
          "metadata": {},
          "execution_count": 164
        }
      ],
      "source": [
        "cars['Transmission'].value_counts()"
      ],
      "id": "b7c969b5"
    },
    {
      "cell_type": "markdown",
      "metadata": {
        "id": "ec5203b4"
      },
      "source": [
        "##### 5.3.2. Countplot Transmission Vs Number of Cars"
      ],
      "id": "ec5203b4"
    },
    {
      "cell_type": "code",
      "execution_count": null,
      "metadata": {
        "colab": {
          "base_uri": "https://localhost:8080/"
        },
        "id": "2dbb5f27",
        "outputId": "550d6521-096b-4be5-8d95-8932b16caf43"
      },
      "outputs": [
        {
          "output_type": "display_data",
          "data": {
            "text/plain": [
              "<Figure size 720x576 with 1 Axes>"
            ],
            "image/png": "[encoded data removed]"
          },
          "metadata": {}
        }
      ],
      "source": [
        "fig = sns.set(rc={'figure.figsize': (10, 8)})\n",
        "plt.title(\"Transmission Vs Number of Cars\")\n",
        "sns.countplot(x ='Transmission', data = cars)\n",
        "plt.show()"
      ],
      "id": "2dbb5f27"
    },
    {
      "cell_type": "markdown",
      "metadata": {
        "id": "1ee3abc7"
      },
      "source": [
        "**Observation**\n",
        "\n",
        "Most of the cars are **Manual**."
      ],
      "id": "1ee3abc7"
    },
    {
      "cell_type": "markdown",
      "metadata": {
        "id": "d69a55a0"
      },
      "source": [
        "##### 5.4. Barplot Transmission Vs Selling Price"
      ],
      "id": "d69a55a0"
    },
    {
      "cell_type": "code",
      "execution_count": null,
      "metadata": {
        "colab": {
          "base_uri": "https://localhost:8080/"
        },
        "id": "79b55c73",
        "outputId": "9b5373cb-54f0-4da5-eb58-5ce366b48a7f"
      },
      "outputs": [
        {
          "output_type": "display_data",
          "data": {
            "text/plain": [
              "<Figure size 720x576 with 1 Axes>"
            ],
            "image/png": "[encoded data removed]"
          },
          "metadata": {}
        }
      ],
      "source": [
        "fig = sns.set(rc={'figure.figsize': (10, 8)})\n",
        "plt.title(\"Transmission Vs Selling Price\")\n",
        "sns.barplot(x='Transmission',y='Price',data=cars,palette='spring')\n",
        "plt.show()"
      ],
      "id": "79b55c73"
    },
    {
      "cell_type": "markdown",
      "metadata": {
        "id": "117672fe"
      },
      "source": [
        "**Observation**\n",
        "\n",
        "Cars having **Automatic Transmission have high selling price**."
      ],
      "id": "117672fe"
    },
    {
      "cell_type": "markdown",
      "metadata": {
        "id": "f23605ad"
      },
      "source": [
        "##### 5.5. Countplot Fuel Vs Number of Cars"
      ],
      "id": "f23605ad"
    },
    {
      "cell_type": "code",
      "execution_count": null,
      "metadata": {
        "colab": {
          "base_uri": "https://localhost:8080/"
        },
        "id": "7b1b8a0e",
        "outputId": "b7c3d0f1-eb7c-432a-ac38-33f2d4735cf4"
      },
      "outputs": [
        {
          "output_type": "display_data",
          "data": {
            "text/plain": [
              "<Figure size 720x576 with 1 Axes>"
            ],
            "image/png": "[encoded data removed]"
          },
          "metadata": {}
        }
      ],
      "source": [
        "fig = sns.set(rc={'figure.figsize': (10, 8)})\n",
        "plt.title(\"Fuel Vs Number of Cars\")\n",
        "sns.countplot(x ='Fuel', data = cars)\n",
        "plt.show()"
      ],
      "id": "7b1b8a0e"
    },
    {
      "cell_type": "markdown",
      "metadata": {
        "id": "49d85670"
      },
      "source": [
        "**Observation**\n",
        "\n",
        "Most of the cars are **Petrol**."
      ],
      "id": "49d85670"
    },
    {
      "cell_type": "markdown",
      "metadata": {
        "id": "51457ab9"
      },
      "source": [
        "##### 5.6. Barplot Fuel Vs Selling Price"
      ],
      "id": "51457ab9"
    },
    {
      "cell_type": "code",
      "execution_count": null,
      "metadata": {
        "colab": {
          "base_uri": "https://localhost:8080/"
        },
        "id": "6875283e",
        "outputId": "5aa7fd6f-70b2-4cb5-c5d2-b30b39a700e9"
      },
      "outputs": [
        {
          "output_type": "display_data",
          "data": {
            "text/plain": [
              "<Figure size 720x576 with 1 Axes>"
            ],
            "image/png": "[encoded data removed]"
          },
          "metadata": {}
        }
      ],
      "source": [
        "fig = sns.set(rc={'figure.figsize': (10, 8)})\n",
        "plt.title(\"Fuel Vs Price\")\n",
        "sns.barplot(x='Fuel',y='Price',data=cars,palette='spring')\n",
        "plt.show()"
      ],
      "id": "6875283e"
    },
    {
      "cell_type": "markdown",
      "metadata": {
        "id": "fc822d9e"
      },
      "source": [
        "**Observation**\n",
        "\n",
        "**Diesel cars** have **high average selling price**."
      ],
      "id": "fc822d9e"
    },
    {
      "cell_type": "markdown",
      "metadata": {
        "id": "bf1d9a19"
      },
      "source": [
        "##### 5.7. Age Vs Price"
      ],
      "id": "bf1d9a19"
    },
    {
      "cell_type": "code",
      "execution_count": null,
      "metadata": {
        "colab": {
          "base_uri": "https://localhost:8080/"
        },
        "id": "4fe7d2f6",
        "outputId": "a7a3f913-c635-4d9a-addf-db4a5a30259f",
        "scrolled": true
      },
      "outputs": [
        {
          "output_type": "display_data",
          "data": {
            "text/plain": [
              "<Figure size 1080x720 with 1 Axes>"
            ],
            "image/png": "[encoded data removed]"
          },
          "metadata": {}
        }
      ],
      "source": [
        "fig = sns.set(rc={'figure.figsize': (15, 10)})\n",
        "plt.title(\"Fuel Vs Selling Price\")\n",
        "sns.barplot(x ='Age', y=\"Price\", data = cars ,palette='spring')\n",
        "plt.show()"
      ],
      "id": "4fe7d2f6"
    },
    {
      "cell_type": "markdown",
      "metadata": {
        "id": "e0e1b794"
      },
      "source": [
        "**Observation**\n",
        "\n",
        "As the age of Vehical increases, Price Decreases."
      ],
      "id": "e0e1b794"
    },
    {
      "cell_type": "markdown",
      "metadata": {
        "id": "5389ec13"
      },
      "source": [
        "#### 6. Model Fitting"
      ],
      "id": "5389ec13"
    },
    {
      "cell_type": "markdown",
      "metadata": {
        "id": "d8763a4d"
      },
      "source": [
        "##### 6.1 Outliers\n",
        "\n",
        "Before, fitting any model we need to analyse outliers in the dataset."
      ],
      "id": "d8763a4d"
    },
    {
      "cell_type": "code",
      "execution_count": null,
      "metadata": {
        "colab": {
          "base_uri": "https://localhost:8080/",
          "height": 187
        },
        "id": "6d817a1a",
        "outputId": "387a4971-14e9-437d-a5f6-3a911dc46017"
      },
      "outputs": [
        {
          "output_type": "display_data",
          "data": {
            "text/plain": [
              "<Figure size 720x360 with 1 Axes>"
            ],
            "image/png": "[encoded data removed]"
          },
          "metadata": {}
        }
      ],
      "source": [
        "fig = sns.set(rc={'figure.figsize': (10, 5)})\n",
        "sns.histplot(cars['Price'])\n",
        "# plt.hist(cars['Price'], bins=20, rwidth=0.8)\n",
        "plt.show()"
      ],
      "id": "6d817a1a"
    },
    {
      "cell_type": "code",
      "execution_count": null,
      "metadata": {
        "colab": {
          "base_uri": "https://localhost:8080/",
          "height": 107
        },
        "id": "d50a2384",
        "outputId": "dfe657e7-2f64-4620-c67e-f8395079785b"
      },
      "outputs": [
        {
          "output_type": "display_data",
          "data": {
            "text/plain": [
              "<Figure size 720x144 with 1 Axes>"
            ],
            "image/png": "[encoded data removed]"
          },
          "metadata": {}
        }
      ],
      "source": [
        "fig = sns.set(rc={'figure.figsize': (10, 2)})\n",
        "sns.boxplot(cars['Price'])\n",
        "plt.show()"
      ],
      "id": "d50a2384"
    },
    {
      "cell_type": "markdown",
      "metadata": {
        "id": "ce3a8e01"
      },
      "source": [
        "**Observation**\n",
        "\n",
        "As we can see, there are more than one outliers in the feature **Price**."
      ],
      "id": "ce3a8e01"
    },
    {
      "cell_type": "code",
      "execution_count": null,
      "metadata": {
        "colab": {
          "base_uri": "https://localhost:8080/",
          "height": 357
        },
        "id": "ebff9f4d",
        "outputId": "982306ae-70cd-4ddd-b136-65adae2e23ab"
      },
      "outputs": [
        {
          "output_type": "execute_result",
          "data": {
            "text/plain": [
              "            Name            Variant Transmission  km_driven Owner_Type  \\\n",
              "0     KIA SELTOS    GTX + AT PETROL    Automatic       8241  1st Owner   \n",
              "1   Maruti Swift                LXI       Manual      10568  1st Owner   \n",
              "2   Maruti Swift                LXI       Manual      27659  1st Owner   \n",
              "3     KIA SELTOS  HTX 1.5 PETROL MT       Manual      32799  1st Owner   \n",
              "4  Mercedes Benz   C 200 AVANTGARDE    Automatic      37531  1st Owner   \n",
              "\n",
              "     Fuel    Price  Age    zscore  \n",
              "0  Petrol  1895199    2  3.225112  \n",
              "1  Petrol   592499    2 -0.257488  \n",
              "2  Petrol   533399    3 -0.415484  \n",
              "3  Petrol  1383099    2  1.856079  \n",
              "4  Petrol  2033499    8  3.594840  "
            ],
            "text/html": [
              "\n",
              "  <div id=\"df-25906ed5-34b7-45ad-8f3f-26f198f96237\">\n",
              "    <div class=\"colab-df-container\">\n",
              "      <div>\n",
              "<style scoped>\n",
              "    .dataframe tbody tr th:only-of-type {\n",
              "        vertical-align: middle;\n",
              "    }\n",
              "\n",
              "    .dataframe tbody tr th {\n",
              "        vertical-align: top;\n",
              "    }\n",
              "\n",
              "    .dataframe thead th {\n",
              "        text-align: right;\n",
              "    }\n",
              "</style>\n",
              "<table border=\"1\" class=\"dataframe\">\n",
              "  <thead>\n",
              "    <tr style=\"text-align: right;\">\n",
              "      <th></th>\n",
              "      <th>Name</th>\n",
              "      <th>Variant</th>\n",
              "      <th>Transmission</th>\n",
              "      <th>km_driven</th>\n",
              "      <th>Owner_Type</th>\n",
              "      <th>Fuel</th>\n",
              "      <th>Price</th>\n",
              "      <th>Age</th>\n",
              "      <th>zscore</th>\n",
              "    </tr>\n",
              "  </thead>\n",
              "  <tbody>\n",
              "    <tr>\n",
              "      <th>0</th>\n",
              "      <td>KIA SELTOS</td>\n",
              "      <td>GTX + AT PETROL</td>\n",
              "      <td>Automatic</td>\n",
              "      <td>8241</td>\n",
              "      <td>1st Owner</td>\n",
              "      <td>Petrol</td>\n",
              "      <td>1895199</td>\n",
              "      <td>2</td>\n",
              "      <td>3.225112</td>\n",
              "    </tr>\n",
              "    <tr>\n",
              "      <th>1</th>\n",
              "      <td>Maruti Swift</td>\n",
              "      <td>LXI</td>\n",
              "      <td>Manual</td>\n",
              "      <td>10568</td>\n",
              "      <td>1st Owner</td>\n",
              "      <td>Petrol</td>\n",
              "      <td>592499</td>\n",
              "      <td>2</td>\n",
              "      <td>-0.257488</td>\n",
              "    </tr>\n",
              "    <tr>\n",
              "      <th>2</th>\n",
              "      <td>Maruti Swift</td>\n",
              "      <td>LXI</td>\n",
              "      <td>Manual</td>\n",
              "      <td>27659</td>\n",
              "      <td>1st Owner</td>\n",
              "      <td>Petrol</td>\n",
              "      <td>533399</td>\n",
              "      <td>3</td>\n",
              "      <td>-0.415484</td>\n",
              "    </tr>\n",
              "    <tr>\n",
              "      <th>3</th>\n",
              "      <td>KIA SELTOS</td>\n",
              "      <td>HTX 1.5 PETROL MT</td>\n",
              "      <td>Manual</td>\n",
              "      <td>32799</td>\n",
              "      <td>1st Owner</td>\n",
              "      <td>Petrol</td>\n",
              "      <td>1383099</td>\n",
              "      <td>2</td>\n",
              "      <td>1.856079</td>\n",
              "    </tr>\n",
              "    <tr>\n",
              "      <th>4</th>\n",
              "      <td>Mercedes Benz</td>\n",
              "      <td>C 200 AVANTGARDE</td>\n",
              "      <td>Automatic</td>\n",
              "      <td>37531</td>\n",
              "      <td>1st Owner</td>\n",
              "      <td>Petrol</td>\n",
              "      <td>2033499</td>\n",
              "      <td>8</td>\n",
              "      <td>3.594840</td>\n",
              "    </tr>\n",
              "  </tbody>\n",
              "</table>\n",
              "</div>\n",
              "      <button class=\"colab-df-convert\" onclick=\"convertToInteractive('df-25906ed5-34b7-45ad-8f3f-26f198f96237')\"\n",
              "              title=\"Convert this dataframe to an interactive table.\"\n",
              "              style=\"display:none;\">\n",
              "        \n",
              "  <svg xmlns=\"http://www.w3.org/2000/svg\" height=\"24px\"viewBox=\"0 0 24 24\"\n",
              "       width=\"24px\">\n",
              "    <path d=\"M0 0h24v24H0V0z\" fill=\"none\"/>\n",
              "    <path d=\"M18.56 5.44l.94 2.06.94-2.06 2.06-.94-2.06-.94-.94-2.06-.94 2.06-2.06.94zm-11 1L8.5 8.5l.94-2.06 2.06-.94-2.06-.94L8.5 2.5l-.94 2.06-2.06.94zm10 10l.94 2.06.94-2.06 2.06-.94-2.06-.94-.94-2.06-.94 2.06-2.06.94z\"/><path d=\"M17.41 7.96l-1.37-1.37c-.4-.4-.92-.59-1.43-.59-.52 0-1.04.2-1.43.59L10.3 9.45l-7.72 7.72c-.78.78-.78 2.05 0 2.83L4 21.41c.39.39.9.59 1.41.59.51 0 1.02-.2 1.41-.59l7.78-7.78 2.81-2.81c.8-.78.8-2.07 0-2.86zM5.41 20L4 18.59l7.72-7.72 1.47 1.35L5.41 20z\"/>\n",
              "  </svg>\n",
              "      </button>\n",
              "      \n",
              "  <style>\n",
              "    .colab-df-container {\n",
              "      display:flex;\n",
              "      flex-wrap:wrap;\n",
              "      gap: 12px;\n",
              "    }\n",
              "\n",
              "    .colab-df-convert {\n",
              "      background-color: #E8F0FE;\n",
              "      border: none;\n",
              "      border-radius: 50%;\n",
              "      cursor: pointer;\n",
              "      display: none;\n",
              "      fill: #1967D2;\n",
              "      height: 32px;\n",
              "      padding: 0 0 0 0;\n",
              "      width: 32px;\n",
              "    }\n",
              "\n",
              "    .colab-df-convert:hover {\n",
              "      background-color: #E2EBFA;\n",
              "      box-shadow: 0px 1px 2px rgba(60, 64, 67, 0.3), 0px 1px 3px 1px rgba(60, 64, 67, 0.15);\n",
              "      fill: #174EA6;\n",
              "    }\n",
              "\n",
              "    [theme=dark] .colab-df-convert {\n",
              "      background-color: #3B4455;\n",
              "      fill: #D2E3FC;\n",
              "    }\n",
              "\n",
              "    [theme=dark] .colab-df-convert:hover {\n",
              "      background-color: #434B5C;\n",
              "      box-shadow: 0px 1px 3px 1px rgba(0, 0, 0, 0.15);\n",
              "      filter: drop-shadow(0px 1px 2px rgba(0, 0, 0, 0.3));\n",
              "      fill: #FFFFFF;\n",
              "    }\n",
              "  </style>\n",
              "\n",
              "      <script>\n",
              "        const buttonEl =\n",
              "          document.querySelector('#df-25906ed5-34b7-45ad-8f3f-26f198f96237 button.colab-df-convert');\n",
              "        buttonEl.style.display =\n",
              "          google.colab.kernel.accessAllowed ? 'block' : 'none';\n",
              "\n",
              "        async function convertToInteractive(key) {\n",
              "          const element = document.querySelector('#df-25906ed5-34b7-45ad-8f3f-26f198f96237');\n",
              "          const dataTable =\n",
              "            await google.colab.kernel.invokeFunction('convertToInteractive',\n",
              "                                                     [key], {});\n",
              "          if (!dataTable) return;\n",
              "\n",
              "          const docLinkHtml = 'Like what you see? Visit the ' +\n",
              "            '<a target=\"_blank\" href=https://colab.research.google.com/notebooks/data_table.ipynb>data table notebook</a>'\n",
              "            + ' to learn more about interactive tables.';\n",
              "          element.innerHTML = '';\n",
              "          dataTable['output_type'] = 'display_data';\n",
              "          await google.colab.output.renderOutput(dataTable, element);\n",
              "          const docLink = document.createElement('div');\n",
              "          docLink.innerHTML = docLinkHtml;\n",
              "          element.appendChild(docLink);\n",
              "        }\n",
              "      </script>\n",
              "    </div>\n",
              "  </div>\n",
              "  "
            ]
          },
          "metadata": {},
          "execution_count": 172
        }
      ],
      "source": [
        "cars['zscore'] = (cars['Price'] - cars['Price'].mean()) / cars['Price'].std()\n",
        "cars.head()"
      ],
      "id": "ebff9f4d"
    },
    {
      "cell_type": "code",
      "execution_count": null,
      "metadata": {
        "colab": {
          "base_uri": "https://localhost:8080/",
          "height": 392
        },
        "id": "36c2b7b2",
        "outputId": "0894dbf7-1c59-4172-90aa-8b49c8f954a4"
      },
      "outputs": [
        {
          "output_type": "execute_result",
          "data": {
            "text/plain": [
              "             Name                Variant Transmission  km_driven Owner_Type  \\\n",
              "0      KIA SELTOS        GTX + AT PETROL    Automatic       8241  1st Owner   \n",
              "4   Mercedes Benz       C 200 AVANTGARDE    Automatic      37531  1st Owner   \n",
              "34      MG HECTOR    SHARP HYBRID PETROL       Manual      12185  2nd Owner   \n",
              "37   Jeep Compass  1.4  LONGITUDE (O) AT    Automatic      23327  1st Owner   \n",
              "38   Jeep Compass            2.0 LIMITED       Manual      46860  1st Owner   \n",
              "\n",
              "      Fuel    Price  Age    zscore  \n",
              "0   Petrol  1895199    2  3.225112  \n",
              "4   Petrol  2033499    8  3.594840  \n",
              "34  Petrol  1848299    2  3.099731  \n",
              "37  Petrol  2012799    3  3.539501  \n",
              "38  Diesel  1941699    3  3.349424  "
            ],
            "text/html": [
              "\n",
              "  <div id=\"df-18637edb-6905-439c-b81b-1b1a75ccceff\">\n",
              "    <div class=\"colab-df-container\">\n",
              "      <div>\n",
              "<style scoped>\n",
              "    .dataframe tbody tr th:only-of-type {\n",
              "        vertical-align: middle;\n",
              "    }\n",
              "\n",
              "    .dataframe tbody tr th {\n",
              "        vertical-align: top;\n",
              "    }\n",
              "\n",
              "    .dataframe thead th {\n",
              "        text-align: right;\n",
              "    }\n",
              "</style>\n",
              "<table border=\"1\" class=\"dataframe\">\n",
              "  <thead>\n",
              "    <tr style=\"text-align: right;\">\n",
              "      <th></th>\n",
              "      <th>Name</th>\n",
              "      <th>Variant</th>\n",
              "      <th>Transmission</th>\n",
              "      <th>km_driven</th>\n",
              "      <th>Owner_Type</th>\n",
              "      <th>Fuel</th>\n",
              "      <th>Price</th>\n",
              "      <th>Age</th>\n",
              "      <th>zscore</th>\n",
              "    </tr>\n",
              "  </thead>\n",
              "  <tbody>\n",
              "    <tr>\n",
              "      <th>0</th>\n",
              "      <td>KIA SELTOS</td>\n",
              "      <td>GTX + AT PETROL</td>\n",
              "      <td>Automatic</td>\n",
              "      <td>8241</td>\n",
              "      <td>1st Owner</td>\n",
              "      <td>Petrol</td>\n",
              "      <td>1895199</td>\n",
              "      <td>2</td>\n",
              "      <td>3.225112</td>\n",
              "    </tr>\n",
              "    <tr>\n",
              "      <th>4</th>\n",
              "      <td>Mercedes Benz</td>\n",
              "      <td>C 200 AVANTGARDE</td>\n",
              "      <td>Automatic</td>\n",
              "      <td>37531</td>\n",
              "      <td>1st Owner</td>\n",
              "      <td>Petrol</td>\n",
              "      <td>2033499</td>\n",
              "      <td>8</td>\n",
              "      <td>3.594840</td>\n",
              "    </tr>\n",
              "    <tr>\n",
              "      <th>34</th>\n",
              "      <td>MG HECTOR</td>\n",
              "      <td>SHARP HYBRID PETROL</td>\n",
              "      <td>Manual</td>\n",
              "      <td>12185</td>\n",
              "      <td>2nd Owner</td>\n",
              "      <td>Petrol</td>\n",
              "      <td>1848299</td>\n",
              "      <td>2</td>\n",
              "      <td>3.099731</td>\n",
              "    </tr>\n",
              "    <tr>\n",
              "      <th>37</th>\n",
              "      <td>Jeep Compass</td>\n",
              "      <td>1.4  LONGITUDE (O) AT</td>\n",
              "      <td>Automatic</td>\n",
              "      <td>23327</td>\n",
              "      <td>1st Owner</td>\n",
              "      <td>Petrol</td>\n",
              "      <td>2012799</td>\n",
              "      <td>3</td>\n",
              "      <td>3.539501</td>\n",
              "    </tr>\n",
              "    <tr>\n",
              "      <th>38</th>\n",
              "      <td>Jeep Compass</td>\n",
              "      <td>2.0 LIMITED</td>\n",
              "      <td>Manual</td>\n",
              "      <td>46860</td>\n",
              "      <td>1st Owner</td>\n",
              "      <td>Diesel</td>\n",
              "      <td>1941699</td>\n",
              "      <td>3</td>\n",
              "      <td>3.349424</td>\n",
              "    </tr>\n",
              "  </tbody>\n",
              "</table>\n",
              "</div>\n",
              "      <button class=\"colab-df-convert\" onclick=\"convertToInteractive('df-18637edb-6905-439c-b81b-1b1a75ccceff')\"\n",
              "              title=\"Convert this dataframe to an interactive table.\"\n",
              "              style=\"display:none;\">\n",
              "        \n",
              "  <svg xmlns=\"http://www.w3.org/2000/svg\" height=\"24px\"viewBox=\"0 0 24 24\"\n",
              "       width=\"24px\">\n",
              "    <path d=\"M0 0h24v24H0V0z\" fill=\"none\"/>\n",
              "    <path d=\"M18.56 5.44l.94 2.06.94-2.06 2.06-.94-2.06-.94-.94-2.06-.94 2.06-2.06.94zm-11 1L8.5 8.5l.94-2.06 2.06-.94-2.06-.94L8.5 2.5l-.94 2.06-2.06.94zm10 10l.94 2.06.94-2.06 2.06-.94-2.06-.94-.94-2.06-.94 2.06-2.06.94z\"/><path d=\"M17.41 7.96l-1.37-1.37c-.4-.4-.92-.59-1.43-.59-.52 0-1.04.2-1.43.59L10.3 9.45l-7.72 7.72c-.78.78-.78 2.05 0 2.83L4 21.41c.39.39.9.59 1.41.59.51 0 1.02-.2 1.41-.59l7.78-7.78 2.81-2.81c.8-.78.8-2.07 0-2.86zM5.41 20L4 18.59l7.72-7.72 1.47 1.35L5.41 20z\"/>\n",
              "  </svg>\n",
              "      </button>\n",
              "      \n",
              "  <style>\n",
              "    .colab-df-container {\n",
              "      display:flex;\n",
              "      flex-wrap:wrap;\n",
              "      gap: 12px;\n",
              "    }\n",
              "\n",
              "    .colab-df-convert {\n",
              "      background-color: #E8F0FE;\n",
              "      border: none;\n",
              "      border-radius: 50%;\n",
              "      cursor: pointer;\n",
              "      display: none;\n",
              "      fill: #1967D2;\n",
              "      height: 32px;\n",
              "      padding: 0 0 0 0;\n",
              "      width: 32px;\n",
              "    }\n",
              "\n",
              "    .colab-df-convert:hover {\n",
              "      background-color: #E2EBFA;\n",
              "      box-shadow: 0px 1px 2px rgba(60, 64, 67, 0.3), 0px 1px 3px 1px rgba(60, 64, 67, 0.15);\n",
              "      fill: #174EA6;\n",
              "    }\n",
              "\n",
              "    [theme=dark] .colab-df-convert {\n",
              "      background-color: #3B4455;\n",
              "      fill: #D2E3FC;\n",
              "    }\n",
              "\n",
              "    [theme=dark] .colab-df-convert:hover {\n",
              "      background-color: #434B5C;\n",
              "      box-shadow: 0px 1px 3px 1px rgba(0, 0, 0, 0.15);\n",
              "      filter: drop-shadow(0px 1px 2px rgba(0, 0, 0, 0.3));\n",
              "      fill: #FFFFFF;\n",
              "    }\n",
              "  </style>\n",
              "\n",
              "      <script>\n",
              "        const buttonEl =\n",
              "          document.querySelector('#df-18637edb-6905-439c-b81b-1b1a75ccceff button.colab-df-convert');\n",
              "        buttonEl.style.display =\n",
              "          google.colab.kernel.accessAllowed ? 'block' : 'none';\n",
              "\n",
              "        async function convertToInteractive(key) {\n",
              "          const element = document.querySelector('#df-18637edb-6905-439c-b81b-1b1a75ccceff');\n",
              "          const dataTable =\n",
              "            await google.colab.kernel.invokeFunction('convertToInteractive',\n",
              "                                                     [key], {});\n",
              "          if (!dataTable) return;\n",
              "\n",
              "          const docLinkHtml = 'Like what you see? Visit the ' +\n",
              "            '<a target=\"_blank\" href=https://colab.research.google.com/notebooks/data_table.ipynb>data table notebook</a>'\n",
              "            + ' to learn more about interactive tables.';\n",
              "          element.innerHTML = '';\n",
              "          dataTable['output_type'] = 'display_data';\n",
              "          await google.colab.output.renderOutput(dataTable, element);\n",
              "          const docLink = document.createElement('div');\n",
              "          docLink.innerHTML = docLinkHtml;\n",
              "          element.appendChild(docLink);\n",
              "        }\n",
              "      </script>\n",
              "    </div>\n",
              "  </div>\n",
              "  "
            ]
          },
          "metadata": {},
          "execution_count": 173
        }
      ],
      "source": [
        "outliers = cars[(cars['zscore'] < -3) | (cars['zscore'] > 3)]\n",
        "outliers.head()"
      ],
      "id": "36c2b7b2"
    },
    {
      "cell_type": "code",
      "execution_count": null,
      "metadata": {
        "colab": {
          "base_uri": "https://localhost:8080/"
        },
        "id": "8b3e1bd9",
        "outputId": "dbd81ff6-7697-4d73-841d-6b356742a416"
      },
      "outputs": [
        {
          "output_type": "execute_result",
          "data": {
            "text/plain": [
              "(12, 9)"
            ]
          },
          "metadata": {},
          "execution_count": 174
        }
      ],
      "source": [
        "outliers.shape"
      ],
      "id": "8b3e1bd9"
    },
    {
      "cell_type": "code",
      "execution_count": null,
      "metadata": {
        "colab": {
          "base_uri": "https://localhost:8080/",
          "height": 374
        },
        "id": "9cdea307",
        "outputId": "5ac94999-0b24-44dd-a20e-44ef7def86ce"
      },
      "outputs": [
        {
          "output_type": "execute_result",
          "data": {
            "text/plain": [
              "           Name            Variant Transmission  km_driven Owner_Type    Fuel  \\\n",
              "1  Maruti Swift                LXI       Manual      10568  1st Owner  Petrol   \n",
              "2  Maruti Swift                LXI       Manual      27659  1st Owner  Petrol   \n",
              "3    KIA SELTOS  HTX 1.5 PETROL MT       Manual      32799  1st Owner  Petrol   \n",
              "6   Hyundai i10       ERA 1.1 IRDE       Manual      37928  1st Owner  Petrol   \n",
              "7    Honda City       VX MT PETROL       Manual      61168  2nd Owner  Petrol   \n",
              "\n",
              "     Price  Age    zscore  \n",
              "1   592499    2 -0.257488  \n",
              "2   533399    3 -0.415484  \n",
              "3  1383099    2  1.856079  \n",
              "6   271699    9 -1.115106  \n",
              "7   658499    8 -0.081046  "
            ],
            "text/html": [
              "\n",
              "  <div id=\"df-190301f3-85d6-44af-985b-9a3592c2b5d8\">\n",
              "    <div class=\"colab-df-container\">\n",
              "      <div>\n",
              "<style scoped>\n",
              "    .dataframe tbody tr th:only-of-type {\n",
              "        vertical-align: middle;\n",
              "    }\n",
              "\n",
              "    .dataframe tbody tr th {\n",
              "        vertical-align: top;\n",
              "    }\n",
              "\n",
              "    .dataframe thead th {\n",
              "        text-align: right;\n",
              "    }\n",
              "</style>\n",
              "<table border=\"1\" class=\"dataframe\">\n",
              "  <thead>\n",
              "    <tr style=\"text-align: right;\">\n",
              "      <th></th>\n",
              "      <th>Name</th>\n",
              "      <th>Variant</th>\n",
              "      <th>Transmission</th>\n",
              "      <th>km_driven</th>\n",
              "      <th>Owner_Type</th>\n",
              "      <th>Fuel</th>\n",
              "      <th>Price</th>\n",
              "      <th>Age</th>\n",
              "      <th>zscore</th>\n",
              "    </tr>\n",
              "  </thead>\n",
              "  <tbody>\n",
              "    <tr>\n",
              "      <th>1</th>\n",
              "      <td>Maruti Swift</td>\n",
              "      <td>LXI</td>\n",
              "      <td>Manual</td>\n",
              "      <td>10568</td>\n",
              "      <td>1st Owner</td>\n",
              "      <td>Petrol</td>\n",
              "      <td>592499</td>\n",
              "      <td>2</td>\n",
              "      <td>-0.257488</td>\n",
              "    </tr>\n",
              "    <tr>\n",
              "      <th>2</th>\n",
              "      <td>Maruti Swift</td>\n",
              "      <td>LXI</td>\n",
              "      <td>Manual</td>\n",
              "      <td>27659</td>\n",
              "      <td>1st Owner</td>\n",
              "      <td>Petrol</td>\n",
              "      <td>533399</td>\n",
              "      <td>3</td>\n",
              "      <td>-0.415484</td>\n",
              "    </tr>\n",
              "    <tr>\n",
              "      <th>3</th>\n",
              "      <td>KIA SELTOS</td>\n",
              "      <td>HTX 1.5 PETROL MT</td>\n",
              "      <td>Manual</td>\n",
              "      <td>32799</td>\n",
              "      <td>1st Owner</td>\n",
              "      <td>Petrol</td>\n",
              "      <td>1383099</td>\n",
              "      <td>2</td>\n",
              "      <td>1.856079</td>\n",
              "    </tr>\n",
              "    <tr>\n",
              "      <th>6</th>\n",
              "      <td>Hyundai i10</td>\n",
              "      <td>ERA 1.1 IRDE</td>\n",
              "      <td>Manual</td>\n",
              "      <td>37928</td>\n",
              "      <td>1st Owner</td>\n",
              "      <td>Petrol</td>\n",
              "      <td>271699</td>\n",
              "      <td>9</td>\n",
              "      <td>-1.115106</td>\n",
              "    </tr>\n",
              "    <tr>\n",
              "      <th>7</th>\n",
              "      <td>Honda City</td>\n",
              "      <td>VX MT PETROL</td>\n",
              "      <td>Manual</td>\n",
              "      <td>61168</td>\n",
              "      <td>2nd Owner</td>\n",
              "      <td>Petrol</td>\n",
              "      <td>658499</td>\n",
              "      <td>8</td>\n",
              "      <td>-0.081046</td>\n",
              "    </tr>\n",
              "  </tbody>\n",
              "</table>\n",
              "</div>\n",
              "      <button class=\"colab-df-convert\" onclick=\"convertToInteractive('df-190301f3-85d6-44af-985b-9a3592c2b5d8')\"\n",
              "              title=\"Convert this dataframe to an interactive table.\"\n",
              "              style=\"display:none;\">\n",
              "        \n",
              "  <svg xmlns=\"http://www.w3.org/2000/svg\" height=\"24px\"viewBox=\"0 0 24 24\"\n",
              "       width=\"24px\">\n",
              "    <path d=\"M0 0h24v24H0V0z\" fill=\"none\"/>\n",
              "    <path d=\"M18.56 5.44l.94 2.06.94-2.06 2.06-.94-2.06-.94-.94-2.06-.94 2.06-2.06.94zm-11 1L8.5 8.5l.94-2.06 2.06-.94-2.06-.94L8.5 2.5l-.94 2.06-2.06.94zm10 10l.94 2.06.94-2.06 2.06-.94-2.06-.94-.94-2.06-.94 2.06-2.06.94z\"/><path d=\"M17.41 7.96l-1.37-1.37c-.4-.4-.92-.59-1.43-.59-.52 0-1.04.2-1.43.59L10.3 9.45l-7.72 7.72c-.78.78-.78 2.05 0 2.83L4 21.41c.39.39.9.59 1.41.59.51 0 1.02-.2 1.41-.59l7.78-7.78 2.81-2.81c.8-.78.8-2.07 0-2.86zM5.41 20L4 18.59l7.72-7.72 1.47 1.35L5.41 20z\"/>\n",
              "  </svg>\n",
              "      </button>\n",
              "      \n",
              "  <style>\n",
              "    .colab-df-container {\n",
              "      display:flex;\n",
              "      flex-wrap:wrap;\n",
              "      gap: 12px;\n",
              "    }\n",
              "\n",
              "    .colab-df-convert {\n",
              "      background-color: #E8F0FE;\n",
              "      border: none;\n",
              "      border-radius: 50%;\n",
              "      cursor: pointer;\n",
              "      display: none;\n",
              "      fill: #1967D2;\n",
              "      height: 32px;\n",
              "      padding: 0 0 0 0;\n",
              "      width: 32px;\n",
              "    }\n",
              "\n",
              "    .colab-df-convert:hover {\n",
              "      background-color: #E2EBFA;\n",
              "      box-shadow: 0px 1px 2px rgba(60, 64, 67, 0.3), 0px 1px 3px 1px rgba(60, 64, 67, 0.15);\n",
              "      fill: #174EA6;\n",
              "    }\n",
              "\n",
              "    [theme=dark] .colab-df-convert {\n",
              "      background-color: #3B4455;\n",
              "      fill: #D2E3FC;\n",
              "    }\n",
              "\n",
              "    [theme=dark] .colab-df-convert:hover {\n",
              "      background-color: #434B5C;\n",
              "      box-shadow: 0px 1px 3px 1px rgba(0, 0, 0, 0.15);\n",
              "      filter: drop-shadow(0px 1px 2px rgba(0, 0, 0, 0.3));\n",
              "      fill: #FFFFFF;\n",
              "    }\n",
              "  </style>\n",
              "\n",
              "      <script>\n",
              "        const buttonEl =\n",
              "          document.querySelector('#df-190301f3-85d6-44af-985b-9a3592c2b5d8 button.colab-df-convert');\n",
              "        buttonEl.style.display =\n",
              "          google.colab.kernel.accessAllowed ? 'block' : 'none';\n",
              "\n",
              "        async function convertToInteractive(key) {\n",
              "          const element = document.querySelector('#df-190301f3-85d6-44af-985b-9a3592c2b5d8');\n",
              "          const dataTable =\n",
              "            await google.colab.kernel.invokeFunction('convertToInteractive',\n",
              "                                                     [key], {});\n",
              "          if (!dataTable) return;\n",
              "\n",
              "          const docLinkHtml = 'Like what you see? Visit the ' +\n",
              "            '<a target=\"_blank\" href=https://colab.research.google.com/notebooks/data_table.ipynb>data table notebook</a>'\n",
              "            + ' to learn more about interactive tables.';\n",
              "          element.innerHTML = '';\n",
              "          dataTable['output_type'] = 'display_data';\n",
              "          await google.colab.output.renderOutput(dataTable, element);\n",
              "          const docLink = document.createElement('div');\n",
              "          docLink.innerHTML = docLinkHtml;\n",
              "          element.appendChild(docLink);\n",
              "        }\n",
              "      </script>\n",
              "    </div>\n",
              "  </div>\n",
              "  "
            ]
          },
          "metadata": {},
          "execution_count": 175
        }
      ],
      "source": [
        "cars = cars[(cars['zscore'] > -3) & (cars['zscore'] < 3)]\n",
        "cars.head()"
      ],
      "id": "9cdea307"
    },
    {
      "cell_type": "code",
      "execution_count": null,
      "metadata": {
        "id": "3bd79a30"
      },
      "outputs": [],
      "source": [
        "del cars[\"zscore\"]"
      ],
      "id": "3bd79a30"
    },
    {
      "cell_type": "markdown",
      "metadata": {
        "id": "bee2538c"
      },
      "source": [
        "##### 6.2. One Hot Encoding"
      ],
      "id": "bee2538c"
    },
    {
      "cell_type": "code",
      "execution_count": null,
      "metadata": {
        "id": "3RII-AsXfqPY"
      },
      "outputs": [],
      "source": [
        "cars = pd.get_dummies(data=cars, columns=['Name','Variant','Transmission','Owner_Type','Fuel'])"
      ],
      "id": "3RII-AsXfqPY"
    },
    {
      "cell_type": "markdown",
      "metadata": {
        "id": "c01fb68a"
      },
      "source": [
        "##### 6.3. Splitting Data into X and y"
      ],
      "id": "c01fb68a"
    },
    {
      "cell_type": "code",
      "execution_count": null,
      "metadata": {
        "id": "a3d24c3a"
      },
      "outputs": [],
      "source": [
        "X = cars.drop(columns =['Price'])\n",
        "y = cars['Price']"
      ],
      "id": "a3d24c3a"
    },
    {
      "cell_type": "code",
      "execution_count": null,
      "metadata": {
        "id": "2uARg3vLhIvi"
      },
      "outputs": [],
      "source": [
        "from sklearn.model_selection import train_test_split\n",
        "\n",
        "X_train, X_test, y_train, y_test = train_test_split(X, y, test_size=0.3, random_state=1)"
      ],
      "id": "2uARg3vLhIvi"
    },
    {
      "cell_type": "code",
      "execution_count": null,
      "metadata": {
        "colab": {
          "base_uri": "https://localhost:8080/"
        },
        "id": "vJe7QyzUntgL",
        "outputId": "b09e6c41-16fc-477e-834e-b2e6e7454793"
      },
      "outputs": [
        {
          "output_type": "stream",
          "name": "stdout",
          "text": [
            "X-Train: 333\n"
          ]
        }
      ],
      "source": [
        "print(\"X-Train:\", X_train.shape[1])"
      ],
      "id": "vJe7QyzUntgL"
    },
    {
      "cell_type": "markdown",
      "metadata": {
        "id": "19f52698"
      },
      "source": [
        "##### 6.4. Standard Scaler"
      ],
      "id": "19f52698"
    },
    {
      "cell_type": "code",
      "execution_count": null,
      "metadata": {
        "id": "Fof0_rb-gVsR"
      },
      "outputs": [],
      "source": [
        "from sklearn.preprocessing import StandardScaler\n",
        "\n",
        "scaler = StandardScaler(with_mean=False)"
      ],
      "id": "Fof0_rb-gVsR"
    },
    {
      "cell_type": "code",
      "source": [
        "X_train.loc[:,['km_driven', 'Age']] = scaler.fit_transform(X_train.loc[:,['km_driven', 'Age']].to_numpy())\n",
        "X_train.loc[:,['km_driven', 'Age']].head()"
      ],
      "metadata": {
        "colab": {
          "base_uri": "https://localhost:8080/",
          "height": 206
        },
        "id": "uDpjVkvGMEK8",
        "outputId": "4f3e669c-50ff-4f99-88dd-83c30e78f065"
      },
      "id": "uDpjVkvGMEK8",
      "execution_count": null,
      "outputs": [
        {
          "output_type": "execute_result",
          "data": {
            "text/plain": [
              "     km_driven       Age\n",
              "72    1.109006  3.638405\n",
              "202   1.949730  1.212802\n",
              "436   2.857826  2.021336\n",
              "56    0.555307  0.808534\n",
              "289   0.286440  0.808534"
            ],
            "text/html": [
              "\n",
              "  <div id=\"df-3c6e1703-1c09-4e10-bc93-356c56a36623\">\n",
              "    <div class=\"colab-df-container\">\n",
              "      <div>\n",
              "<style scoped>\n",
              "    .dataframe tbody tr th:only-of-type {\n",
              "        vertical-align: middle;\n",
              "    }\n",
              "\n",
              "    .dataframe tbody tr th {\n",
              "        vertical-align: top;\n",
              "    }\n",
              "\n",
              "    .dataframe thead th {\n",
              "        text-align: right;\n",
              "    }\n",
              "</style>\n",
              "<table border=\"1\" class=\"dataframe\">\n",
              "  <thead>\n",
              "    <tr style=\"text-align: right;\">\n",
              "      <th></th>\n",
              "      <th>km_driven</th>\n",
              "      <th>Age</th>\n",
              "    </tr>\n",
              "  </thead>\n",
              "  <tbody>\n",
              "    <tr>\n",
              "      <th>72</th>\n",
              "      <td>1.109006</td>\n",
              "      <td>3.638405</td>\n",
              "    </tr>\n",
              "    <tr>\n",
              "      <th>202</th>\n",
              "      <td>1.949730</td>\n",
              "      <td>1.212802</td>\n",
              "    </tr>\n",
              "    <tr>\n",
              "      <th>436</th>\n",
              "      <td>2.857826</td>\n",
              "      <td>2.021336</td>\n",
              "    </tr>\n",
              "    <tr>\n",
              "      <th>56</th>\n",
              "      <td>0.555307</td>\n",
              "      <td>0.808534</td>\n",
              "    </tr>\n",
              "    <tr>\n",
              "      <th>289</th>\n",
              "      <td>0.286440</td>\n",
              "      <td>0.808534</td>\n",
              "    </tr>\n",
              "  </tbody>\n",
              "</table>\n",
              "</div>\n",
              "      <button class=\"colab-df-convert\" onclick=\"convertToInteractive('df-3c6e1703-1c09-4e10-bc93-356c56a36623')\"\n",
              "              title=\"Convert this dataframe to an interactive table.\"\n",
              "              style=\"display:none;\">\n",
              "        \n",
              "  <svg xmlns=\"http://www.w3.org/2000/svg\" height=\"24px\"viewBox=\"0 0 24 24\"\n",
              "       width=\"24px\">\n",
              "    <path d=\"M0 0h24v24H0V0z\" fill=\"none\"/>\n",
              "    <path d=\"M18.56 5.44l.94 2.06.94-2.06 2.06-.94-2.06-.94-.94-2.06-.94 2.06-2.06.94zm-11 1L8.5 8.5l.94-2.06 2.06-.94-2.06-.94L8.5 2.5l-.94 2.06-2.06.94zm10 10l.94 2.06.94-2.06 2.06-.94-2.06-.94-.94-2.06-.94 2.06-2.06.94z\"/><path d=\"M17.41 7.96l-1.37-1.37c-.4-.4-.92-.59-1.43-.59-.52 0-1.04.2-1.43.59L10.3 9.45l-7.72 7.72c-.78.78-.78 2.05 0 2.83L4 21.41c.39.39.9.59 1.41.59.51 0 1.02-.2 1.41-.59l7.78-7.78 2.81-2.81c.8-.78.8-2.07 0-2.86zM5.41 20L4 18.59l7.72-7.72 1.47 1.35L5.41 20z\"/>\n",
              "  </svg>\n",
              "      </button>\n",
              "      \n",
              "  <style>\n",
              "    .colab-df-container {\n",
              "      display:flex;\n",
              "      flex-wrap:wrap;\n",
              "      gap: 12px;\n",
              "    }\n",
              "\n",
              "    .colab-df-convert {\n",
              "      background-color: #E8F0FE;\n",
              "      border: none;\n",
              "      border-radius: 50%;\n",
              "      cursor: pointer;\n",
              "      display: none;\n",
              "      fill: #1967D2;\n",
              "      height: 32px;\n",
              "      padding: 0 0 0 0;\n",
              "      width: 32px;\n",
              "    }\n",
              "\n",
              "    .colab-df-convert:hover {\n",
              "      background-color: #E2EBFA;\n",
              "      box-shadow: 0px 1px 2px rgba(60, 64, 67, 0.3), 0px 1px 3px 1px rgba(60, 64, 67, 0.15);\n",
              "      fill: #174EA6;\n",
              "    }\n",
              "\n",
              "    [theme=dark] .colab-df-convert {\n",
              "      background-color: #3B4455;\n",
              "      fill: #D2E3FC;\n",
              "    }\n",
              "\n",
              "    [theme=dark] .colab-df-convert:hover {\n",
              "      background-color: #434B5C;\n",
              "      box-shadow: 0px 1px 3px 1px rgba(0, 0, 0, 0.15);\n",
              "      filter: drop-shadow(0px 1px 2px rgba(0, 0, 0, 0.3));\n",
              "      fill: #FFFFFF;\n",
              "    }\n",
              "  </style>\n",
              "\n",
              "      <script>\n",
              "        const buttonEl =\n",
              "          document.querySelector('#df-3c6e1703-1c09-4e10-bc93-356c56a36623 button.colab-df-convert');\n",
              "        buttonEl.style.display =\n",
              "          google.colab.kernel.accessAllowed ? 'block' : 'none';\n",
              "\n",
              "        async function convertToInteractive(key) {\n",
              "          const element = document.querySelector('#df-3c6e1703-1c09-4e10-bc93-356c56a36623');\n",
              "          const dataTable =\n",
              "            await google.colab.kernel.invokeFunction('convertToInteractive',\n",
              "                                                     [key], {});\n",
              "          if (!dataTable) return;\n",
              "\n",
              "          const docLinkHtml = 'Like what you see? Visit the ' +\n",
              "            '<a target=\"_blank\" href=https://colab.research.google.com/notebooks/data_table.ipynb>data table notebook</a>'\n",
              "            + ' to learn more about interactive tables.';\n",
              "          element.innerHTML = '';\n",
              "          dataTable['output_type'] = 'display_data';\n",
              "          await google.colab.output.renderOutput(dataTable, element);\n",
              "          const docLink = document.createElement('div');\n",
              "          docLink.innerHTML = docLinkHtml;\n",
              "          element.appendChild(docLink);\n",
              "        }\n",
              "      </script>\n",
              "    </div>\n",
              "  </div>\n",
              "  "
            ]
          },
          "metadata": {},
          "execution_count": 182
        }
      ]
    },
    {
      "cell_type": "code",
      "execution_count": null,
      "metadata": {
        "colab": {
          "base_uri": "https://localhost:8080/",
          "height": 206
        },
        "id": "a3qoZuQ3nOmk",
        "outputId": "103b482c-b7f8-4d60-f5e5-486d9c2a3940"
      },
      "outputs": [
        {
          "output_type": "execute_result",
          "data": {
            "text/plain": [
              "     km_driven       Age\n",
              "344   1.663180  1.212802\n",
              "183   1.839685  1.212802\n",
              "223   1.673520  1.212802\n",
              "319   1.096657  0.404267\n",
              "29    1.619520  5.255474"
            ],
            "text/html": [
              "\n",
              "  <div id=\"df-da8c46e4-360b-4533-8950-bde7177fc172\">\n",
              "    <div class=\"colab-df-container\">\n",
              "      <div>\n",
              "<style scoped>\n",
              "    .dataframe tbody tr th:only-of-type {\n",
              "        vertical-align: middle;\n",
              "    }\n",
              "\n",
              "    .dataframe tbody tr th {\n",
              "        vertical-align: top;\n",
              "    }\n",
              "\n",
              "    .dataframe thead th {\n",
              "        text-align: right;\n",
              "    }\n",
              "</style>\n",
              "<table border=\"1\" class=\"dataframe\">\n",
              "  <thead>\n",
              "    <tr style=\"text-align: right;\">\n",
              "      <th></th>\n",
              "      <th>km_driven</th>\n",
              "      <th>Age</th>\n",
              "    </tr>\n",
              "  </thead>\n",
              "  <tbody>\n",
              "    <tr>\n",
              "      <th>344</th>\n",
              "      <td>1.663180</td>\n",
              "      <td>1.212802</td>\n",
              "    </tr>\n",
              "    <tr>\n",
              "      <th>183</th>\n",
              "      <td>1.839685</td>\n",
              "      <td>1.212802</td>\n",
              "    </tr>\n",
              "    <tr>\n",
              "      <th>223</th>\n",
              "      <td>1.673520</td>\n",
              "      <td>1.212802</td>\n",
              "    </tr>\n",
              "    <tr>\n",
              "      <th>319</th>\n",
              "      <td>1.096657</td>\n",
              "      <td>0.404267</td>\n",
              "    </tr>\n",
              "    <tr>\n",
              "      <th>29</th>\n",
              "      <td>1.619520</td>\n",
              "      <td>5.255474</td>\n",
              "    </tr>\n",
              "  </tbody>\n",
              "</table>\n",
              "</div>\n",
              "      <button class=\"colab-df-convert\" onclick=\"convertToInteractive('df-da8c46e4-360b-4533-8950-bde7177fc172')\"\n",
              "              title=\"Convert this dataframe to an interactive table.\"\n",
              "              style=\"display:none;\">\n",
              "        \n",
              "  <svg xmlns=\"http://www.w3.org/2000/svg\" height=\"24px\"viewBox=\"0 0 24 24\"\n",
              "       width=\"24px\">\n",
              "    <path d=\"M0 0h24v24H0V0z\" fill=\"none\"/>\n",
              "    <path d=\"M18.56 5.44l.94 2.06.94-2.06 2.06-.94-2.06-.94-.94-2.06-.94 2.06-2.06.94zm-11 1L8.5 8.5l.94-2.06 2.06-.94-2.06-.94L8.5 2.5l-.94 2.06-2.06.94zm10 10l.94 2.06.94-2.06 2.06-.94-2.06-.94-.94-2.06-.94 2.06-2.06.94z\"/><path d=\"M17.41 7.96l-1.37-1.37c-.4-.4-.92-.59-1.43-.59-.52 0-1.04.2-1.43.59L10.3 9.45l-7.72 7.72c-.78.78-.78 2.05 0 2.83L4 21.41c.39.39.9.59 1.41.59.51 0 1.02-.2 1.41-.59l7.78-7.78 2.81-2.81c.8-.78.8-2.07 0-2.86zM5.41 20L4 18.59l7.72-7.72 1.47 1.35L5.41 20z\"/>\n",
              "  </svg>\n",
              "      </button>\n",
              "      \n",
              "  <style>\n",
              "    .colab-df-container {\n",
              "      display:flex;\n",
              "      flex-wrap:wrap;\n",
              "      gap: 12px;\n",
              "    }\n",
              "\n",
              "    .colab-df-convert {\n",
              "      background-color: #E8F0FE;\n",
              "      border: none;\n",
              "      border-radius: 50%;\n",
              "      cursor: pointer;\n",
              "      display: none;\n",
              "      fill: #1967D2;\n",
              "      height: 32px;\n",
              "      padding: 0 0 0 0;\n",
              "      width: 32px;\n",
              "    }\n",
              "\n",
              "    .colab-df-convert:hover {\n",
              "      background-color: #E2EBFA;\n",
              "      box-shadow: 0px 1px 2px rgba(60, 64, 67, 0.3), 0px 1px 3px 1px rgba(60, 64, 67, 0.15);\n",
              "      fill: #174EA6;\n",
              "    }\n",
              "\n",
              "    [theme=dark] .colab-df-convert {\n",
              "      background-color: #3B4455;\n",
              "      fill: #D2E3FC;\n",
              "    }\n",
              "\n",
              "    [theme=dark] .colab-df-convert:hover {\n",
              "      background-color: #434B5C;\n",
              "      box-shadow: 0px 1px 3px 1px rgba(0, 0, 0, 0.15);\n",
              "      filter: drop-shadow(0px 1px 2px rgba(0, 0, 0, 0.3));\n",
              "      fill: #FFFFFF;\n",
              "    }\n",
              "  </style>\n",
              "\n",
              "      <script>\n",
              "        const buttonEl =\n",
              "          document.querySelector('#df-da8c46e4-360b-4533-8950-bde7177fc172 button.colab-df-convert');\n",
              "        buttonEl.style.display =\n",
              "          google.colab.kernel.accessAllowed ? 'block' : 'none';\n",
              "\n",
              "        async function convertToInteractive(key) {\n",
              "          const element = document.querySelector('#df-da8c46e4-360b-4533-8950-bde7177fc172');\n",
              "          const dataTable =\n",
              "            await google.colab.kernel.invokeFunction('convertToInteractive',\n",
              "                                                     [key], {});\n",
              "          if (!dataTable) return;\n",
              "\n",
              "          const docLinkHtml = 'Like what you see? Visit the ' +\n",
              "            '<a target=\"_blank\" href=https://colab.research.google.com/notebooks/data_table.ipynb>data table notebook</a>'\n",
              "            + ' to learn more about interactive tables.';\n",
              "          element.innerHTML = '';\n",
              "          dataTable['output_type'] = 'display_data';\n",
              "          await google.colab.output.renderOutput(dataTable, element);\n",
              "          const docLink = document.createElement('div');\n",
              "          docLink.innerHTML = docLinkHtml;\n",
              "          element.appendChild(docLink);\n",
              "        }\n",
              "      </script>\n",
              "    </div>\n",
              "  </div>\n",
              "  "
            ]
          },
          "metadata": {},
          "execution_count": 183
        }
      ],
      "source": [
        "X_test.loc[:,['km_driven', 'Age']] = scaler.transform(X_test.loc[:,['km_driven', 'Age']].to_numpy())\n",
        "X_test.loc[:,['km_driven', 'Age']].head()"
      ],
      "id": "a3qoZuQ3nOmk"
    },
    {
      "cell_type": "markdown",
      "source": [
        "##### 6.5. Define Base Model"
      ],
      "metadata": {
        "id": "UOIx870mM0sG"
      },
      "id": "UOIx870mM0sG"
    },
    {
      "cell_type": "code",
      "source": [
        "from keras.wrappers.scikit_learn import KerasRegressor\n",
        "from keras.models import Sequential\n",
        "from keras.layers import Dense"
      ],
      "metadata": {
        "id": "sxDOOfiuNK78"
      },
      "id": "sxDOOfiuNK78",
      "execution_count": null,
      "outputs": []
    },
    {
      "cell_type": "code",
      "execution_count": null,
      "metadata": {
        "id": "VV2zYKmdrVp5"
      },
      "outputs": [],
      "source": [
        "def baseline_model():\n",
        "    # create model\n",
        "    model = Sequential()\n",
        "    \n",
        "    model.add(Dense(900, input_dim=333, activation='relu'))\n",
        "\n",
        "    model.add(Dense(500, activation='relu'))\n",
        "    \n",
        "    model.add(Dense(333, activation='relu'))\n",
        "    \n",
        "    model.add(Dense(1))\n",
        "    \n",
        "    # Compile model\n",
        "    model.compile(loss='mean_squared_error', optimizer='adam')\n",
        "    return model"
      ],
      "id": "VV2zYKmdrVp5"
    },
    {
      "cell_type": "code",
      "execution_count": null,
      "metadata": {
        "id": "N1MkqqOmrhxy"
      },
      "outputs": [],
      "source": [
        "estimator = KerasRegressor(build_fn=baseline_model, epochs=100, batch_size=3, verbose=1)"
      ],
      "id": "N1MkqqOmrhxy"
    },
    {
      "cell_type": "markdown",
      "source": [
        "##### 6.6. Training"
      ],
      "metadata": {
        "id": "tAZrTtVScUYm"
      },
      "id": "tAZrTtVScUYm"
    },
    {
      "cell_type": "code",
      "execution_count": null,
      "metadata": {
        "colab": {
          "base_uri": "https://localhost:8080/"
        },
        "id": "mwjv88wern3N",
        "outputId": "da8b6e3e-f910-42a1-de4c-26ca886f7dd4"
      },
      "outputs": [
        {
          "output_type": "stream",
          "name": "stdout",
          "text": [
            "Epoch 1/100\n",
            "145/145 [==============================] - 1s 6ms/step - loss: 433301487616.0000\n",
            "Epoch 2/100\n",
            "145/145 [==============================] - 1s 8ms/step - loss: 145232445440.0000\n",
            "Epoch 3/100\n",
            "145/145 [==============================] - 1s 7ms/step - loss: 112209215488.0000\n",
            "Epoch 4/100\n",
            "145/145 [==============================] - 1s 7ms/step - loss: 82445754368.0000\n",
            "Epoch 5/100\n",
            "145/145 [==============================] - 1s 7ms/step - loss: 54228082688.0000\n",
            "Epoch 6/100\n",
            "145/145 [==============================] - 1s 7ms/step - loss: 34780426240.0000\n",
            "Epoch 7/100\n",
            "145/145 [==============================] - 1s 7ms/step - loss: 23943108608.0000\n",
            "Epoch 8/100\n",
            "145/145 [==============================] - 1s 7ms/step - loss: 16783575040.0000\n",
            "Epoch 9/100\n",
            "145/145 [==============================] - 1s 6ms/step - loss: 11834734592.0000\n",
            "Epoch 10/100\n",
            "145/145 [==============================] - 1s 7ms/step - loss: 8773384192.0000\n",
            "Epoch 11/100\n",
            "145/145 [==============================] - 1s 7ms/step - loss: 6916880896.0000\n",
            "Epoch 12/100\n",
            "145/145 [==============================] - 1s 7ms/step - loss: 5081877504.0000\n",
            "Epoch 13/100\n",
            "145/145 [==============================] - 1s 7ms/step - loss: 4165021184.0000\n",
            "Epoch 14/100\n",
            "145/145 [==============================] - 1s 6ms/step - loss: 3565797120.0000\n",
            "Epoch 15/100\n",
            "145/145 [==============================] - 1s 7ms/step - loss: 2687472384.0000\n",
            "Epoch 16/100\n",
            "145/145 [==============================] - 1s 4ms/step - loss: 2206102528.0000\n",
            "Epoch 17/100\n",
            "145/145 [==============================] - 1s 4ms/step - loss: 1869589504.0000\n",
            "Epoch 18/100\n",
            "145/145 [==============================] - 1s 4ms/step - loss: 1504306560.0000\n",
            "Epoch 19/100\n",
            "145/145 [==============================] - 1s 4ms/step - loss: 1344236416.0000\n",
            "Epoch 20/100\n",
            "145/145 [==============================] - 1s 4ms/step - loss: 1151894912.0000\n",
            "Epoch 21/100\n",
            "145/145 [==============================] - 1s 4ms/step - loss: 977041664.0000\n",
            "Epoch 22/100\n",
            "145/145 [==============================] - 1s 4ms/step - loss: 920858880.0000\n",
            "Epoch 23/100\n",
            "145/145 [==============================] - 1s 4ms/step - loss: 819145792.0000\n",
            "Epoch 24/100\n",
            "145/145 [==============================] - 1s 4ms/step - loss: 749683584.0000\n",
            "Epoch 25/100\n",
            "145/145 [==============================] - 1s 4ms/step - loss: 755937536.0000\n",
            "Epoch 26/100\n",
            "145/145 [==============================] - 1s 4ms/step - loss: 729548928.0000\n",
            "Epoch 27/100\n",
            "145/145 [==============================] - 1s 4ms/step - loss: 709926848.0000\n",
            "Epoch 28/100\n",
            "145/145 [==============================] - 1s 4ms/step - loss: 667495168.0000\n",
            "Epoch 29/100\n",
            "145/145 [==============================] - 1s 4ms/step - loss: 684063680.0000\n",
            "Epoch 30/100\n",
            "145/145 [==============================] - 1s 4ms/step - loss: 695398464.0000\n",
            "Epoch 31/100\n",
            "145/145 [==============================] - 1s 4ms/step - loss: 713471424.0000\n",
            "Epoch 32/100\n",
            "145/145 [==============================] - 1s 4ms/step - loss: 698144640.0000\n",
            "Epoch 33/100\n",
            "145/145 [==============================] - 1s 4ms/step - loss: 731966208.0000\n",
            "Epoch 34/100\n",
            "145/145 [==============================] - 1s 4ms/step - loss: 751847360.0000\n",
            "Epoch 35/100\n",
            "145/145 [==============================] - 1s 4ms/step - loss: 668319232.0000\n",
            "Epoch 36/100\n",
            "145/145 [==============================] - 1s 4ms/step - loss: 668933504.0000\n",
            "Epoch 37/100\n",
            "145/145 [==============================] - 1s 4ms/step - loss: 665715520.0000\n",
            "Epoch 38/100\n",
            "145/145 [==============================] - 1s 4ms/step - loss: 734148480.0000\n",
            "Epoch 39/100\n",
            "145/145 [==============================] - 1s 6ms/step - loss: 679755776.0000\n",
            "Epoch 40/100\n",
            "145/145 [==============================] - 1s 4ms/step - loss: 703003904.0000\n",
            "Epoch 41/100\n",
            "145/145 [==============================] - 1s 4ms/step - loss: 739798848.0000\n",
            "Epoch 42/100\n",
            "145/145 [==============================] - 1s 4ms/step - loss: 793971264.0000\n",
            "Epoch 43/100\n",
            "145/145 [==============================] - 1s 4ms/step - loss: 700655360.0000\n",
            "Epoch 44/100\n",
            "145/145 [==============================] - 1s 5ms/step - loss: 624265536.0000\n",
            "Epoch 45/100\n",
            "145/145 [==============================] - 1s 7ms/step - loss: 664233152.0000\n",
            "Epoch 46/100\n",
            "145/145 [==============================] - 1s 7ms/step - loss: 620603648.0000\n",
            "Epoch 47/100\n",
            "145/145 [==============================] - 1s 7ms/step - loss: 740164416.0000\n",
            "Epoch 48/100\n",
            "145/145 [==============================] - 1s 8ms/step - loss: 716051008.0000\n",
            "Epoch 49/100\n",
            "145/145 [==============================] - 1s 6ms/step - loss: 719494016.0000\n",
            "Epoch 50/100\n",
            "145/145 [==============================] - 1s 7ms/step - loss: 659495552.0000\n",
            "Epoch 51/100\n",
            "145/145 [==============================] - 1s 7ms/step - loss: 634646528.0000\n",
            "Epoch 52/100\n",
            "145/145 [==============================] - 1s 7ms/step - loss: 730534016.0000\n",
            "Epoch 53/100\n",
            "145/145 [==============================] - 1s 7ms/step - loss: 621167680.0000\n",
            "Epoch 54/100\n",
            "145/145 [==============================] - 1s 7ms/step - loss: 630787648.0000\n",
            "Epoch 55/100\n",
            "145/145 [==============================] - 1s 7ms/step - loss: 667388480.0000\n",
            "Epoch 56/100\n",
            "145/145 [==============================] - 1s 7ms/step - loss: 668071424.0000\n",
            "Epoch 57/100\n",
            "145/145 [==============================] - 1s 7ms/step - loss: 628290752.0000\n",
            "Epoch 58/100\n",
            "145/145 [==============================] - 1s 5ms/step - loss: 589555392.0000\n",
            "Epoch 59/100\n",
            "145/145 [==============================] - 1s 4ms/step - loss: 666500736.0000\n",
            "Epoch 60/100\n",
            "145/145 [==============================] - 1s 4ms/step - loss: 700288384.0000\n",
            "Epoch 61/100\n",
            "145/145 [==============================] - 1s 4ms/step - loss: 672292096.0000\n",
            "Epoch 62/100\n",
            "145/145 [==============================] - 1s 4ms/step - loss: 671844736.0000\n",
            "Epoch 63/100\n",
            "145/145 [==============================] - 1s 5ms/step - loss: 566545024.0000\n",
            "Epoch 64/100\n",
            "145/145 [==============================] - 1s 4ms/step - loss: 636350208.0000\n",
            "Epoch 65/100\n",
            "145/145 [==============================] - 1s 4ms/step - loss: 672491648.0000\n",
            "Epoch 66/100\n",
            "145/145 [==============================] - 1s 4ms/step - loss: 618913920.0000\n",
            "Epoch 67/100\n",
            "145/145 [==============================] - 1s 4ms/step - loss: 683954688.0000\n",
            "Epoch 68/100\n",
            "145/145 [==============================] - 1s 4ms/step - loss: 595824640.0000\n",
            "Epoch 69/100\n",
            "145/145 [==============================] - 1s 4ms/step - loss: 581540672.0000\n",
            "Epoch 70/100\n",
            "145/145 [==============================] - 1s 4ms/step - loss: 712229568.0000\n",
            "Epoch 71/100\n",
            "145/145 [==============================] - 1s 4ms/step - loss: 677438848.0000\n",
            "Epoch 72/100\n",
            "145/145 [==============================] - 1s 4ms/step - loss: 629484160.0000\n",
            "Epoch 73/100\n",
            "145/145 [==============================] - 1s 4ms/step - loss: 616994944.0000\n",
            "Epoch 74/100\n",
            "145/145 [==============================] - 1s 4ms/step - loss: 670143488.0000\n",
            "Epoch 75/100\n",
            "145/145 [==============================] - 1s 4ms/step - loss: 568354752.0000\n",
            "Epoch 76/100\n",
            "145/145 [==============================] - 1s 4ms/step - loss: 554987776.0000\n",
            "Epoch 77/100\n",
            "145/145 [==============================] - 1s 4ms/step - loss: 611392768.0000\n",
            "Epoch 78/100\n",
            "145/145 [==============================] - 1s 4ms/step - loss: 592993600.0000\n",
            "Epoch 79/100\n",
            "145/145 [==============================] - 1s 4ms/step - loss: 735549952.0000\n",
            "Epoch 80/100\n",
            "145/145 [==============================] - 1s 4ms/step - loss: 638397248.0000\n",
            "Epoch 81/100\n",
            "145/145 [==============================] - 1s 4ms/step - loss: 573876288.0000\n",
            "Epoch 82/100\n",
            "145/145 [==============================] - 1s 4ms/step - loss: 556124480.0000\n",
            "Epoch 83/100\n",
            "145/145 [==============================] - 1s 4ms/step - loss: 609644672.0000\n",
            "Epoch 84/100\n",
            "145/145 [==============================] - 1s 4ms/step - loss: 646561088.0000\n",
            "Epoch 85/100\n",
            "145/145 [==============================] - 1s 4ms/step - loss: 598953280.0000\n",
            "Epoch 86/100\n",
            "145/145 [==============================] - 1s 4ms/step - loss: 577715136.0000\n",
            "Epoch 87/100\n",
            "145/145 [==============================] - 1s 4ms/step - loss: 680809728.0000\n",
            "Epoch 88/100\n",
            "145/145 [==============================] - 1s 4ms/step - loss: 628750976.0000\n",
            "Epoch 89/100\n",
            "145/145 [==============================] - 1s 4ms/step - loss: 621044160.0000\n",
            "Epoch 90/100\n",
            "145/145 [==============================] - 1s 4ms/step - loss: 613444864.0000\n",
            "Epoch 91/100\n",
            "145/145 [==============================] - 1s 4ms/step - loss: 571776320.0000\n",
            "Epoch 92/100\n",
            "145/145 [==============================] - 1s 4ms/step - loss: 532119200.0000\n",
            "Epoch 93/100\n",
            "145/145 [==============================] - 1s 4ms/step - loss: 499858464.0000\n",
            "Epoch 94/100\n",
            "145/145 [==============================] - 1s 4ms/step - loss: 528356416.0000\n",
            "Epoch 95/100\n",
            "145/145 [==============================] - 1s 4ms/step - loss: 558970240.0000\n",
            "Epoch 96/100\n",
            "145/145 [==============================] - 1s 4ms/step - loss: 523307200.0000\n",
            "Epoch 97/100\n",
            "145/145 [==============================] - 1s 4ms/step - loss: 559941952.0000\n",
            "Epoch 98/100\n",
            "145/145 [==============================] - 1s 4ms/step - loss: 562490112.0000\n",
            "Epoch 99/100\n",
            "145/145 [==============================] - 1s 4ms/step - loss: 515740160.0000\n",
            "Epoch 100/100\n",
            "145/145 [==============================] - 1s 4ms/step - loss: 519280000.0000\n"
          ]
        }
      ],
      "source": [
        "history = estimator.fit(X_train,y_train)"
      ],
      "id": "mwjv88wern3N"
    },
    {
      "cell_type": "markdown",
      "source": [
        "##### 6.7. Model Evaluation"
      ],
      "metadata": {
        "id": "AwEsj9ZCceOo"
      },
      "id": "AwEsj9ZCceOo"
    },
    {
      "cell_type": "code",
      "execution_count": null,
      "metadata": {
        "colab": {
          "base_uri": "https://localhost:8080/",
          "height": 110
        },
        "id": "8sAenTEYtKpq",
        "outputId": "8e1b5e82-adb3-49b9-b026-168d87b50b2a"
      },
      "outputs": [
        {
          "output_type": "display_data",
          "data": {
            "text/plain": [
              "<Figure size 720x144 with 1 Axes>"
            ],
            "image/png": "[encoded data removed]"
          },
          "metadata": {}
        }
      ],
      "source": [
        "# Plot training & validation loss values\n",
        "plt.plot(history.history['loss'])\n",
        "\n",
        "plt.title('Model loss')\n",
        "plt.ylabel('Loss')\n",
        "plt.xlabel('Epoch')\n",
        "plt.legend(['Train', 'Test'], loc='upper left')\n",
        "plt.show()"
      ],
      "id": "8sAenTEYtKpq"
    },
    {
      "cell_type": "code",
      "execution_count": null,
      "metadata": {
        "colab": {
          "base_uri": "https://localhost:8080/"
        },
        "id": "szHeuoLRoSCc",
        "outputId": "935eb57f-e27f-49e2-efff-169b5c8b3b05"
      },
      "outputs": [
        {
          "output_type": "stream",
          "name": "stdout",
          "text": [
            "62/62 [==============================] - 0s 1ms/step\n"
          ]
        }
      ],
      "source": [
        "from sklearn.metrics import accuracy_score\n",
        "\n",
        "prediction = estimator.predict(X_test)"
      ],
      "id": "szHeuoLRoSCc"
    },
    {
      "cell_type": "code",
      "execution_count": null,
      "metadata": {
        "id": "L4S_azvntewH"
      },
      "outputs": [],
      "source": [
        "train_error =  np.abs(y_test - prediction)\n",
        "mean_error = np.mean(train_error)\n",
        "min_error = np.min(train_error)\n",
        "max_error = np.max(train_error)\n",
        "std_error = np.std(train_error)"
      ],
      "id": "L4S_azvntewH"
    },
    {
      "cell_type": "code",
      "execution_count": null,
      "metadata": {
        "colab": {
          "base_uri": "https://localhost:8080/"
        },
        "id": "D8mfVwoMtjuy",
        "outputId": "86a07466-f9fd-4543-9b7f-7ef2af1d277e"
      },
      "outputs": [
        {
          "output_type": "stream",
          "name": "stdout",
          "text": [
            "std_error:  91010.73838994428\n",
            "mean_error:  72898.32123655915\n",
            "min_error:  433.6875\n",
            "max_error:  447785.6875\n"
          ]
        }
      ],
      "source": [
        "print(\"std_error: \", std_error)\n",
        "print(\"mean_error: \", mean_error)\n",
        "print(\"min_error: \", min_error)\n",
        "print(\"max_error: \", max_error)"
      ],
      "id": "D8mfVwoMtjuy"
    },
    {
      "cell_type": "code",
      "execution_count": null,
      "metadata": {
        "colab": {
          "base_uri": "https://localhost:8080/"
        },
        "id": "rrc_wdlyu3TU",
        "outputId": "f49670c7-c537-425a-f7ab-85a36def9768"
      },
      "outputs": [
        {
          "output_type": "stream",
          "name": "stdout",
          "text": [
            "r_square score(Test Dataset):  0.8810078780494828\n",
            "145/145 [==============================] - 0s 1ms/step\n",
            "r_square score (Train Dataset):  0.9932173546131043\n"
          ]
        }
      ],
      "source": [
        "from sklearn.metrics import r2_score\n",
        "print(\"r_square score(Test Dataset): \", r2_score(y_test,prediction))\n",
        "\n",
        "train_prediction = estimator.predict(X_train)\n",
        "print(\"r_square score (Train Dataset): \", r2_score(y_train,train_prediction))"
      ],
      "id": "rrc_wdlyu3TU"
    }
  ],
  "metadata": {
    "colab": {
      "provenance": [],
      "collapsed_sections": [
        "d19168b6",
        "3dec43dd",
        "5e24b2ee",
        "d8763a4d",
        "bee2538c",
        "c01fb68a",
        "19f52698",
        "UOIx870mM0sG",
        "tAZrTtVScUYm",
        "AwEsj9ZCceOo"
      ],
      "include_colab_link": true
    },
    "kernelspec": {
      "display_name": "Python 3.9.12 ('base')",
      "language": "python",
      "name": "python3"
    },
    "language_info": {
      "codemirror_mode": {
        "name": "ipython",
        "version": 3
      },
      "file_extension": ".py",
      "mimetype": "text/x-python",
      "name": "python",
      "nbconvert_exporter": "python",
      "pygments_lexer": "ipython3",
      "version": "3.9.12"
    },
    "vscode": {
      "interpreter": {
        "hash": "72b97491cdeb9bb3ac668fcced72ff373db005df824af2ab58d7a007fb3289ad"
      }
    }
  },
  "nbformat": 4,
  "nbformat_minor": 5
}